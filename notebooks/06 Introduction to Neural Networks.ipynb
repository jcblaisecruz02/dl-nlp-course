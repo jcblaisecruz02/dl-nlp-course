{
 "cells": [
  {
   "cell_type": "markdown",
   "metadata": {
    "colab_type": "text",
    "id": "y54K2IajJAEB"
   },
   "source": [
    "# 06 - Introduction to Neural Networks\n",
    "Prepared by Jan Christian Blaise Cruz\n",
    "\n",
    "DLSU Machine Learning Group"
   ]
  },
  {
   "cell_type": "code",
   "execution_count": null,
   "metadata": {
    "colab": {},
    "colab_type": "code",
    "id": "DUjG6JvnTqRY"
   },
   "outputs": [],
   "source": [
    "import numpy as np\n",
    "import matplotlib.pyplot as plt\n",
    "\n",
    "from tqdm import tqdm\n",
    "from sklearn.model_selection import train_test_split\n",
    "from sklearn.datasets import fetch_openml\n",
    "\n",
    "np.random.seed(42)\n",
    "%matplotlib inline"
   ]
  },
  {
   "cell_type": "markdown",
   "metadata": {
    "colab_type": "text",
    "id": "X9inNeJD6BSf"
   },
   "source": [
    "# The MNIST Dataset"
   ]
  },
  {
   "cell_type": "markdown",
   "metadata": {
    "colab_type": "text",
    "id": "RblDZdT_BV9U"
   },
   "source": [
    "First, we fetch the original MNIST dataset. This will take a while to load."
   ]
  },
  {
   "cell_type": "code",
   "execution_count": null,
   "metadata": {
    "colab": {},
    "colab_type": "code",
    "id": "Fti7ca8hVDc4"
   },
   "outputs": [],
   "source": [
    "mnist = fetch_openml('mnist_784')"
   ]
  },
  {
   "cell_type": "markdown",
   "metadata": {
    "colab_type": "text",
    "id": "4wt1Z6YFBaJv"
   },
   "source": [
    "The dataset has 70k samples of handwritten numbers. Each number is an image that's 28x28 pixels. If you flatten the image into one vector, you get a vector of size 784."
   ]
  },
  {
   "cell_type": "code",
   "execution_count": null,
   "metadata": {
    "colab": {
     "base_uri": "https://localhost:8080/",
     "height": 54
    },
    "colab_type": "code",
    "id": "6ZZxR5RL7C2n",
    "outputId": "048e6e21-ad85-4c66-a0a2-fe12a4fadb82"
   },
   "outputs": [
    {
     "data": {
      "text/plain": [
       "(70000, 784)"
      ]
     },
     "execution_count": 3,
     "metadata": {
      "tags": []
     },
     "output_type": "execute_result"
    }
   ],
   "source": [
    "mnist.data.shape"
   ]
  },
  {
   "cell_type": "markdown",
   "metadata": {
    "colab_type": "text",
    "id": "FnEV6-urBo1W"
   },
   "source": [
    "We can reshape a data sample into its original shape."
   ]
  },
  {
   "cell_type": "code",
   "execution_count": null,
   "metadata": {
    "colab": {
     "base_uri": "https://localhost:8080/",
     "height": 54
    },
    "colab_type": "code",
    "id": "nMHQq_sd7I_U",
    "outputId": "00b3f24a-641a-4812-896b-1e9a9a16e2cd"
   },
   "outputs": [
    {
     "data": {
      "text/plain": [
       "(28, 28)"
      ]
     },
     "execution_count": 4,
     "metadata": {
      "tags": []
     },
     "output_type": "execute_result"
    }
   ],
   "source": [
    "mnist.data[0].reshape(28, 28).shape"
   ]
  },
  {
   "cell_type": "markdown",
   "metadata": {
    "colab_type": "text",
    "id": "IsHN3VjABr6Y"
   },
   "source": [
    "Let's plot some samples."
   ]
  },
  {
   "cell_type": "code",
   "execution_count": null,
   "metadata": {
    "colab": {
     "base_uri": "https://localhost:8080/",
     "height": 247
    },
    "colab_type": "code",
    "id": "r98SIF-37K69",
    "outputId": "ca246644-fb7b-4d6b-87b0-9277ecc5929a"
   },
   "outputs": [
    {
     "data": {
      "image/png": "[encoded data removed]",
      "text/plain": [
       "<Figure size 432x288 with 10 Axes>"
      ]
     },
     "metadata": {
      "tags": []
     },
     "output_type": "display_data"
    }
   ],
   "source": [
    "fig, ax = plt.subplots(2, 5)\n",
    "ax = ax.flatten()\n",
    "for i in range(10):\n",
    "    ax[i].imshow(mnist.data[i].reshape(28, 28), cmap='gray')"
   ]
  },
  {
   "cell_type": "markdown",
   "metadata": {
    "colab_type": "text",
    "id": "SZZTXAV2Bub7"
   },
   "source": [
    "The correct labels for these numbers are the following."
   ]
  },
  {
   "cell_type": "code",
   "execution_count": null,
   "metadata": {
    "colab": {
     "base_uri": "https://localhost:8080/",
     "height": 54
    },
    "colab_type": "code",
    "id": "IpvCtzOw7MAX",
    "outputId": "a291d28c-9687-4a9c-f234-bcc249334048"
   },
   "outputs": [
    {
     "data": {
      "text/plain": [
       "array(['5', '0', '4', '1', '9', '2', '1', '3', '1', '4'], dtype=object)"
      ]
     },
     "execution_count": 6,
     "metadata": {
      "tags": []
     },
     "output_type": "execute_result"
    }
   ],
   "source": [
    "mnist.target[:10]"
   ]
  },
  {
   "cell_type": "markdown",
   "metadata": {
    "colab_type": "text",
    "id": "asihMx7gBxpj"
   },
   "source": [
    "As always, we first split into training and testing sets. We cast the data into floats to preserve memory, and the targets into integers since they're currently strings."
   ]
  },
  {
   "cell_type": "code",
   "execution_count": null,
   "metadata": {
    "colab": {
     "base_uri": "https://localhost:8080/",
     "height": 54
    },
    "colab_type": "code",
    "id": "pPB7dMPx7C_S",
    "outputId": "bc7d926e-9d31-4f59-d48e-0acec0e59b45"
   },
   "outputs": [
    {
     "data": {
      "text/plain": [
       "((52500, 784), (17500, 784), (52500,), (17500,))"
      ]
     },
     "execution_count": 7,
     "metadata": {
      "tags": []
     },
     "output_type": "execute_result"
    }
   ],
   "source": [
    "# Split the dataset\n",
    "X_train, X_test, y_train, y_test = train_test_split(mnist.data.astype(np.float32), \n",
    "                                                    mnist.target.astype(np.int), \n",
    "                                                    random_state=42)\n",
    "\n",
    "X_train.shape, X_test.shape, y_train.shape, y_test.shape"
   ]
  },
  {
   "cell_type": "markdown",
   "metadata": {
    "colab_type": "text",
    "id": "Mqbv_78T6Dkm"
   },
   "source": [
    "# Minibatch Training"
   ]
  },
  {
   "cell_type": "markdown",
   "metadata": {
    "colab_type": "text",
    "id": "48JTkvD2B4zL"
   },
   "source": [
    "From this point, we will implement *Minibatch* stochastic gradient descent. Minibatching refers to dividing a training set into multiple small batches, then iterating over these batches every epoch. Since we apply gradient descent per batch, we essentially allow the model more room to \"learn\" by giving it multiple batches instead of feeding it the entire dataset at once.\n",
    "\n",
    "This function yields a random batch from given inputs and targets."
   ]
  },
  {
   "cell_type": "code",
   "execution_count": null,
   "metadata": {
    "colab": {},
    "colab_type": "code",
    "id": "FMaOsSfAvme9"
   },
   "outputs": [],
   "source": [
    "def batchify(inputs, targets, batch_size):\n",
    "    indices = np.random.permutation(len(inputs))\n",
    "\n",
    "    for start_idx in range(0, len(inputs) - batch_size + 1, batch_size):\n",
    "        batch = indices[start_idx:start_idx + batch_size]\n",
    "        yield inputs[batch], targets[batch]"
   ]
  },
  {
   "cell_type": "markdown",
   "metadata": {
    "colab_type": "text",
    "id": "OUmjGCVdCQQq"
   },
   "source": [
    "Let's create dataloaders for the training and testing sets so we can iterate over them."
   ]
  },
  {
   "cell_type": "code",
   "execution_count": null,
   "metadata": {
    "colab": {},
    "colab_type": "code",
    "id": "nGc6E3O0vmhS"
   },
   "outputs": [],
   "source": [
    "bs = 32\n",
    "\n",
    "train_loader = [b for b in batchify(X_train, y_train, bs)]\n",
    "test_loader = [b for b in batchify(X_test, y_test, bs)]"
   ]
  },
  {
   "cell_type": "markdown",
   "metadata": {
    "colab_type": "text",
    "id": "jh2NUBoXCULc"
   },
   "source": [
    "We can check the first batch in a loader."
   ]
  },
  {
   "cell_type": "code",
   "execution_count": null,
   "metadata": {
    "colab": {
     "base_uri": "https://localhost:8080/",
     "height": 54
    },
    "colab_type": "code",
    "id": "p5VlBhup0PMJ",
    "outputId": "b622d804-a270-43e5-eb22-a51cdef6a44e"
   },
   "outputs": [
    {
     "name": "stdout",
     "output_type": "stream",
     "text": [
      "(32, 784) (32,)\n"
     ]
    }
   ],
   "source": [
    "x, y = train_loader[0]\n",
    "print(x.shape, y.shape)"
   ]
  },
  {
   "cell_type": "code",
   "execution_count": null,
   "metadata": {
    "colab": {
     "base_uri": "https://localhost:8080/",
     "height": 71
    },
    "colab_type": "code",
    "id": "GJp8GCwEgXAG",
    "outputId": "aec2ca24-fdd6-49b6-f252-6dc95dc76e85"
   },
   "outputs": [
    {
     "data": {
      "text/plain": [
       "array([2, 7, 8, 3, 0, 8, 9, 9, 7, 4, 2, 4, 7, 9, 2, 4, 5, 7, 9, 2, 2, 3,\n",
       "       6, 7, 9, 2, 8, 7, 4, 1, 9, 3])"
      ]
     },
     "execution_count": 14,
     "metadata": {
      "tags": []
     },
     "output_type": "execute_result"
    }
   ],
   "source": [
    "y"
   ]
  },
  {
   "cell_type": "markdown",
   "metadata": {
    "colab_type": "text",
    "id": "LlL76uJ66Ffy"
   },
   "source": [
    "# Basic Neural Networks"
   ]
  },
  {
   "cell_type": "markdown",
   "metadata": {
    "colab_type": "text",
    "id": "jGVKDn9WCbcB"
   },
   "source": [
    "Let's implement a class for a neural network layer.\n",
    "\n",
    "We include the weights and biases of the layer and give it functions for forward and backward propagation.\n",
    "\n",
    "Forward propagation is straightforward. We apply a matrix multiplication then return the pre activation. We do not include the activation function within the class so we can do with the pre activations as we please.\n",
    "\n",
    "Backward propagation, while a little more involved, is also quite simple. We compute for the weighted errors (new deltas), then get the gradients by applying a dot product with the activations of the previous layer.\n",
    "\n",
    "We then apply a gradient descent step and return the new delta errors so we can pass this to the previous layer in the chain while backpropagating."
   ]
  },
  {
   "cell_type": "code",
   "execution_count": null,
   "metadata": {
    "colab": {},
    "colab_type": "code",
    "id": "f8jIjZO8UkAX"
   },
   "outputs": [],
   "source": [
    "class Linear:\n",
    "    def __init__(self, input_dim, output_dim, learning_rate=3e-4):\n",
    "        self.learning_rate = learning_rate\n",
    "        self.weights = np.random.randn(input_dim, output_dim) * 0.01\n",
    "        self.biases = np.zeros(output_dim)\n",
    "        \n",
    "    def forward(self, activations):\n",
    "        return np.matmul(activations, self.weights) + self.biases\n",
    "      \n",
    "    def backward(self, grad_activations, delta):\n",
    "        # Compute weighted errors\n",
    "        new_delta = np.dot(delta, np.transpose(self.weights))\n",
    "\n",
    "        # Dot product with gradient of activations\n",
    "        grad_weights = np.transpose(np.dot(np.transpose(delta), grad_activations))\n",
    "        grad_biases = np.sum(delta, axis=0)\n",
    "        \n",
    "        # Update weights\n",
    "        self.weights = self.weights - self.learning_rate * grad_weights\n",
    "        self.biases = self.biases - self.learning_rate * grad_biases\n",
    "        \n",
    "        return new_delta"
   ]
  },
  {
   "cell_type": "markdown",
   "metadata": {
    "colab_type": "text",
    "id": "2P0vOHPYDkNL"
   },
   "source": [
    "We implement only one activation function, which is the rectified linear unit. The structure follows the structure of our linear layer."
   ]
  },
  {
   "cell_type": "code",
   "execution_count": null,
   "metadata": {
    "colab": {},
    "colab_type": "code",
    "id": "-zfvVYqCU2E3"
   },
   "outputs": [],
   "source": [
    "class ReLU:\n",
    "    def __init__(self):\n",
    "        pass\n",
    "    \n",
    "    def forward(self, x):\n",
    "        return np.maximum(0, x)\n",
    "\n",
    "    def backward(self, grad_activations, delta):\n",
    "        relu_grad = grad_activations > 0\n",
    "        new_delta = delta * relu_grad \n",
    "        \n",
    "        return new_delta"
   ]
  },
  {
   "cell_type": "markdown",
   "metadata": {
    "colab_type": "text",
    "id": "r0VqhLd2Duvf"
   },
   "source": [
    "We can test out getting the pre activations using our linear layer."
   ]
  },
  {
   "cell_type": "code",
   "execution_count": null,
   "metadata": {
    "colab": {
     "base_uri": "https://localhost:8080/",
     "height": 272
    },
    "colab_type": "code",
    "id": "nSr2uu3W0ijn",
    "outputId": "478b3b00-2d45-47bb-fc4c-dd7e54cdb356"
   },
   "outputs": [
    {
     "name": "stdout",
     "output_type": "stream",
     "text": [
      "(32, 128)\n",
      "[[ 14.69895215  -5.61666568  -3.37829084 ...  12.41353805   0.59881915\n",
      "   16.86491563]\n",
      " [ 16.00085381 -15.25398307  -0.17245634 ... -36.91130359 -23.10192512\n",
      "  -11.97116324]\n",
      " [ -9.83528596 -30.70019511 -11.91590519 ...   3.92389971  -4.05055383\n",
      "   12.99285493]\n",
      " ...\n",
      " [ 24.08741678 -15.22455756  22.05522407 ... -14.21536057  19.9951475\n",
      "   11.62332957]\n",
      " [ -6.27261123  35.85141086   1.938583   ...  -5.74902129  -4.25501623\n",
      "   21.33150014]\n",
      " [  8.64883446 -28.72850325 -16.14439628 ...  15.24779078  21.82864814\n",
      "    6.29347996]]\n"
     ]
    }
   ],
   "source": [
    "fc1 = Linear(784, 128)\n",
    "relu = ReLU()\n",
    "\n",
    "z = fc1.forward(x)\n",
    "print(z.shape)\n",
    "print(z)"
   ]
  },
  {
   "cell_type": "markdown",
   "metadata": {
    "colab_type": "text",
    "id": "BrOyr92gDyV8"
   },
   "source": [
    "And as expected, applying a relu will bound our pre activations between 0 and infinity."
   ]
  },
  {
   "cell_type": "code",
   "execution_count": null,
   "metadata": {
    "colab": {
     "base_uri": "https://localhost:8080/",
     "height": 272
    },
    "colab_type": "code",
    "id": "moI3JcjA0il3",
    "outputId": "853905e4-cc9b-4304-be19-b799d135ade3"
   },
   "outputs": [
    {
     "name": "stdout",
     "output_type": "stream",
     "text": [
      "(32, 128)\n",
      "[[14.69895215  0.          0.         ... 12.41353805  0.59881915\n",
      "  16.86491563]\n",
      " [16.00085381  0.          0.         ...  0.          0.\n",
      "   0.        ]\n",
      " [ 0.          0.          0.         ...  3.92389971  0.\n",
      "  12.99285493]\n",
      " ...\n",
      " [24.08741678  0.         22.05522407 ...  0.         19.9951475\n",
      "  11.62332957]\n",
      " [ 0.         35.85141086  1.938583   ...  0.          0.\n",
      "  21.33150014]\n",
      " [ 8.64883446  0.          0.         ... 15.24779078 21.82864814\n",
      "   6.29347996]]\n"
     ]
    }
   ],
   "source": [
    "a = relu.forward(z)\n",
    "\n",
    "print(a.shape)\n",
    "print(a)"
   ]
  },
  {
   "cell_type": "markdown",
   "metadata": {
    "colab_type": "text",
    "id": "EoYdblsK6IcK"
   },
   "source": [
    "# Softmax Cross Entropy"
   ]
  },
  {
   "cell_type": "markdown",
   "metadata": {
    "colab_type": "text",
    "id": "P19PLjXMD3F0"
   },
   "source": [
    "As for softmax, we do not implement it as a layer, but instead we incorporate it into our loss function. It is convention that we leave the final pre activations untouched so that we can use them should we need to (for example, chaining to another neural network or layer).\n",
    "\n",
    "Anyhow, we implement a cross entropy loss function like this. Since we're handling multiple labels, we take the predicted logits for each correct label, then compute for the entropy. We introduce an epsilon value to prevent the logarithm from encountering a zero.\n",
    "\n"
   ]
  },
  {
   "cell_type": "code",
   "execution_count": null,
   "metadata": {
    "colab": {},
    "colab_type": "code",
    "id": "MXQv2u7TU7Dk"
   },
   "outputs": [],
   "source": [
    "def cross_entropy_loss(logits, y):\n",
    "    # Get activations for correct answers (softmax), then compute cross-entropy \n",
    "    logits_for_labels = logits[np.arange(len(logits)), y]\n",
    "    entropy = -logits_for_labels + np.log(np.sum(np.exp(logits) + 1e-18, axis=-1))\n",
    "    \n",
    "    return np.mean(entropy)"
   ]
  },
  {
   "cell_type": "markdown",
   "metadata": {
    "colab_type": "text",
    "id": "NDRCRVP-Ee7W"
   },
   "source": [
    "Likewise, we need to implement a version of the loss function for backpropagation. \n",
    "\n",
    "We subtract the softmaxed logits with the correct answers (which are expanded into a one-hot vector). This is our initial delta error."
   ]
  },
  {
   "cell_type": "code",
   "execution_count": null,
   "metadata": {
    "colab": {},
    "colab_type": "code",
    "id": "ma0Kr7s06MeV"
   },
   "outputs": [],
   "source": [
    "def grad_cross_entropy_loss(logits, y):\n",
    "    # One-hot encode the correct answers\n",
    "    one_hot = np.zeros_like(logits)\n",
    "    one_hot[np.arange(len(logits)), y] = 1\n",
    "    \n",
    "    # Get the softmax\n",
    "    softmax = np.exp(logits) / np.exp(logits).sum(axis=-1, keepdims=True)\n",
    "    \n",
    "    # Initial delta is the output - correct answer. Divide to get the mean.\n",
    "    delta = (softmax - one_hot) / logits.shape[0]\n",
    "    return delta"
   ]
  },
  {
   "cell_type": "markdown",
   "metadata": {
    "colab_type": "text",
    "id": "TOTe-1VK6NHD"
   },
   "source": [
    "# Foward and Backpropagation"
   ]
  },
  {
   "cell_type": "markdown",
   "metadata": {
    "colab_type": "text",
    "id": "EPHw1_2nEuQt"
   },
   "source": [
    "Let's write convenience functions for forward and back propagation.\n",
    "\n",
    "Forward propagation is simple. We apply the forward function for all layers in our network, which is a list of layers."
   ]
  },
  {
   "cell_type": "code",
   "execution_count": null,
   "metadata": {
    "colab": {},
    "colab_type": "code",
    "id": "qFPUeCVUVNfd"
   },
   "outputs": [],
   "source": [
    "def forwardprop(network, x):\n",
    "    activations = []\n",
    "\n",
    "    # Pass through first layer\n",
    "    out = network[0].forward(x)\n",
    "    activations.append(out)\n",
    "\n",
    "    # Forward prop through all layers 1 to L\n",
    "    for i in range(1, len(network)):\n",
    "        out = network[i].forward(out)\n",
    "        activations.append(out)\n",
    "        \n",
    "    return activations"
   ]
  },
  {
   "cell_type": "markdown",
   "metadata": {
    "colab_type": "text",
    "id": "6tpwj1RBE2dI"
   },
   "source": [
    "For backprop, we iterate from the last layer. Each layer and the activations of the previous layer are used."
   ]
  },
  {
   "cell_type": "code",
   "execution_count": null,
   "metadata": {
    "colab": {},
    "colab_type": "code",
    "id": "gJlSyz_K1lC4"
   },
   "outputs": [],
   "source": [
    "def backprop(network, logits, y):\n",
    "    # Calculate the loss and initial delta\n",
    "    loss = cross_entropy_loss(logits, y)\n",
    "    delta = grad_cross_entropy_loss(logits, y)\n",
    "\n",
    "    # Propagate delta backwards\n",
    "    for i in range(1, len(network))[::-1]:\n",
    "        delta = network[i].backward(activations[i - 1], delta)\n",
    "\n",
    "    return loss"
   ]
  },
  {
   "cell_type": "markdown",
   "metadata": {
    "colab_type": "text",
    "id": "UNf43Ek2E7hD"
   },
   "source": [
    "We also implement an accuracy function for convenience."
   ]
  },
  {
   "cell_type": "code",
   "execution_count": null,
   "metadata": {
    "colab": {},
    "colab_type": "code",
    "id": "x7jc2DIz19eP"
   },
   "outputs": [],
   "source": [
    "def accuracy(logits, y):\n",
    "    return np.sum(np.argmax(logits, 1) == y) / len(y)"
   ]
  },
  {
   "cell_type": "markdown",
   "metadata": {
    "colab_type": "text",
    "id": "hgdNdugjE-SR"
   },
   "source": [
    "Let's instantiate a simple one hidden layer network."
   ]
  },
  {
   "cell_type": "code",
   "execution_count": null,
   "metadata": {
    "colab": {},
    "colab_type": "code",
    "id": "EwnJ8yc2VhBE"
   },
   "outputs": [],
   "source": [
    "network = [\n",
    "    Linear(784, 128),\n",
    "    ReLU(),\n",
    "    Linear(128, 10),\n",
    "]"
   ]
  },
  {
   "cell_type": "markdown",
   "metadata": {
    "colab_type": "text",
    "id": "zKJGsrCxFCKg"
   },
   "source": [
    "Then sample a batch from the dataset."
   ]
  },
  {
   "cell_type": "code",
   "execution_count": null,
   "metadata": {
    "colab": {},
    "colab_type": "code",
    "id": "Bc_JSFxX2i0u"
   },
   "outputs": [],
   "source": [
    "x, y = train_loader[0]"
   ]
  },
  {
   "cell_type": "markdown",
   "metadata": {
    "colab_type": "text",
    "id": "K2QxaljMFEoR"
   },
   "source": [
    "This gives us one run of forward and back propagation (with one step of gradient descent)"
   ]
  },
  {
   "cell_type": "code",
   "execution_count": null,
   "metadata": {
    "colab": {
     "base_uri": "https://localhost:8080/",
     "height": 71
    },
    "colab_type": "code",
    "id": "r8ueduzHVhkR",
    "outputId": "d4156049-bba6-4465-f057-893f01881e0a"
   },
   "outputs": [
    {
     "name": "stdout",
     "output_type": "stream",
     "text": [
      "Shape of logits: (32, 10)\n",
      "Loss 3.5702 | Accuracy 18.75%\n"
     ]
    }
   ],
   "source": [
    "# Forward Propagation\n",
    "activations = forwardprop(network, x)\n",
    "logits = activations[-1]\n",
    "print(\"Shape of logits:\", logits.shape)\n",
    "\n",
    "# Backpropagation\n",
    "loss = backprop(network, logits, y)\n",
    "acc = accuracy(logits, y)\n",
    "print(\"Loss {:.4f} | Accuracy {:.2f}%\".format(loss, acc * 100))"
   ]
  },
  {
   "cell_type": "markdown",
   "metadata": {
    "colab_type": "text",
    "id": "WZTeJzNmFJWw"
   },
   "source": [
    "Another forward and backward pass shows us that our network is improving as the loss is going down."
   ]
  },
  {
   "cell_type": "code",
   "execution_count": null,
   "metadata": {
    "colab": {
     "base_uri": "https://localhost:8080/",
     "height": 71
    },
    "colab_type": "code",
    "id": "KdF9cHdP7rUo",
    "outputId": "59c70247-db96-45db-ea2a-1c6cfcca5707"
   },
   "outputs": [
    {
     "name": "stdout",
     "output_type": "stream",
     "text": [
      "Shape of logits: (32, 10)\n",
      "Loss 2.5923 | Accuracy 28.12%\n"
     ]
    }
   ],
   "source": [
    "# Forward Propagation\n",
    "activations = forwardprop(network, x)\n",
    "logits = activations[-1]\n",
    "print(\"Shape of logits:\", logits.shape)\n",
    "\n",
    "# Backpropagation\n",
    "loss = backprop(network, logits, y)\n",
    "acc = accuracy(logits, y)\n",
    "print(\"Loss {:.4f} | Accuracy {:.2f}%\".format(loss, acc * 100))"
   ]
  },
  {
   "cell_type": "markdown",
   "metadata": {
    "colab_type": "text",
    "id": "TI4eZ5Xu6QB_"
   },
   "source": [
    "# Putting it all Together"
   ]
  },
  {
   "cell_type": "markdown",
   "metadata": {
    "colab_type": "text",
    "id": "N5zu7B-8FNbh"
   },
   "source": [
    "Let's reinstantiate our neural network and set a learning rate."
   ]
  },
  {
   "cell_type": "code",
   "execution_count": null,
   "metadata": {
    "colab": {},
    "colab_type": "code",
    "id": "xYEFcq_GgI-o"
   },
   "outputs": [],
   "source": [
    "network = [\n",
    "    Linear(784, 128, learning_rate=3e-5),\n",
    "    ReLU(),\n",
    "    Linear(128, 10, learning_rate=3e-5),\n",
    "]"
   ]
  },
  {
   "cell_type": "markdown",
   "metadata": {
    "colab_type": "text",
    "id": "pWgercG7FQPv"
   },
   "source": [
    "We then train for 10 epochs. We iterate through each minibatch. For each minibatch, we perform forward and backward propagation, including one step of gradient descent to update our parameters. We log our loss and average per batch. We then take the average of the losses and accuracies."
   ]
  },
  {
   "cell_type": "code",
   "execution_count": null,
   "metadata": {
    "colab": {
     "base_uri": "https://localhost:8080/",
     "height": 699
    },
    "colab_type": "code",
    "id": "q5EQ-wcbnAPB",
    "outputId": "d9539c03-6c2b-48cb-b17c-9ee71927bba0"
   },
   "outputs": [
    {
     "name": "stderr",
     "output_type": "stream",
     "text": [
      "100%|██████████| 1640/1640 [00:01<00:00, 1226.51it/s]\n",
      "100%|██████████| 546/546 [00:00<00:00, 1729.08it/s]\n",
      "  8%|▊         | 130/1640 [00:00<00:01, 1298.57it/s]"
     ]
    },
    {
     "name": "stdout",
     "output_type": "stream",
     "text": [
      "\n",
      "Epoch   1 | Train Loss 1.1660 | Test Loss 0.7475 | Train Acc 63.60% | Test Acc 77.91%\n"
     ]
    },
    {
     "name": "stderr",
     "output_type": "stream",
     "text": [
      "100%|██████████| 1640/1640 [00:01<00:00, 1175.50it/s]\n",
      "100%|██████████| 546/546 [00:00<00:00, 1746.40it/s]\n",
      "  7%|▋         | 117/1640 [00:00<00:01, 1165.95it/s]"
     ]
    },
    {
     "name": "stdout",
     "output_type": "stream",
     "text": [
      "\n",
      "Epoch   2 | Train Loss 0.6588 | Test Loss 0.6145 | Train Acc 80.25% | Test Acc 81.79%\n"
     ]
    },
    {
     "name": "stderr",
     "output_type": "stream",
     "text": [
      "100%|██████████| 1640/1640 [00:01<00:00, 1219.39it/s]\n",
      "100%|██████████| 546/546 [00:00<00:00, 1719.55it/s]\n",
      "  8%|▊         | 130/1640 [00:00<00:01, 1299.76it/s]"
     ]
    },
    {
     "name": "stdout",
     "output_type": "stream",
     "text": [
      "\n",
      "Epoch   3 | Train Loss 0.5745 | Test Loss 0.5594 | Train Acc 82.83% | Test Acc 83.48%\n"
     ]
    },
    {
     "name": "stderr",
     "output_type": "stream",
     "text": [
      "100%|██████████| 1640/1640 [00:01<00:00, 1235.74it/s]\n",
      "100%|██████████| 546/546 [00:00<00:00, 1741.71it/s]\n",
      "  8%|▊         | 130/1640 [00:00<00:01, 1293.08it/s]"
     ]
    },
    {
     "name": "stdout",
     "output_type": "stream",
     "text": [
      "\n",
      "Epoch   4 | Train Loss 0.5326 | Test Loss 0.5275 | Train Acc 84.12% | Test Acc 84.55%\n"
     ]
    },
    {
     "name": "stderr",
     "output_type": "stream",
     "text": [
      "100%|██████████| 1640/1640 [00:01<00:00, 1218.18it/s]\n",
      "100%|██████████| 546/546 [00:00<00:00, 1714.64it/s]\n",
      "  8%|▊         | 130/1640 [00:00<00:01, 1292.31it/s]"
     ]
    },
    {
     "name": "stdout",
     "output_type": "stream",
     "text": [
      "\n",
      "Epoch   5 | Train Loss 0.5062 | Test Loss 0.5061 | Train Acc 84.87% | Test Acc 85.13%\n"
     ]
    },
    {
     "name": "stderr",
     "output_type": "stream",
     "text": [
      "100%|██████████| 1640/1640 [00:01<00:00, 1206.64it/s]\n",
      "100%|██████████| 546/546 [00:00<00:00, 1685.96it/s]\n",
      "  8%|▊         | 129/1640 [00:00<00:01, 1283.80it/s]"
     ]
    },
    {
     "name": "stdout",
     "output_type": "stream",
     "text": [
      "\n",
      "Epoch   6 | Train Loss 0.4876 | Test Loss 0.4906 | Train Acc 85.43% | Test Acc 85.53%\n"
     ]
    },
    {
     "name": "stderr",
     "output_type": "stream",
     "text": [
      "100%|██████████| 1640/1640 [00:01<00:00, 1224.46it/s]\n",
      "100%|██████████| 546/546 [00:00<00:00, 1729.68it/s]\n",
      "  7%|▋         | 120/1640 [00:00<00:01, 1195.71it/s]"
     ]
    },
    {
     "name": "stdout",
     "output_type": "stream",
     "text": [
      "\n",
      "Epoch   7 | Train Loss 0.4737 | Test Loss 0.4787 | Train Acc 85.84% | Test Acc 85.90%\n"
     ]
    },
    {
     "name": "stderr",
     "output_type": "stream",
     "text": [
      "100%|██████████| 1640/1640 [00:01<00:00, 1224.66it/s]\n",
      "100%|██████████| 546/546 [00:00<00:00, 1497.61it/s]\n",
      "  7%|▋         | 119/1640 [00:00<00:01, 1184.80it/s]"
     ]
    },
    {
     "name": "stdout",
     "output_type": "stream",
     "text": [
      "\n",
      "Epoch   8 | Train Loss 0.4627 | Test Loss 0.4692 | Train Acc 86.14% | Test Acc 86.23%\n"
     ]
    },
    {
     "name": "stderr",
     "output_type": "stream",
     "text": [
      "100%|██████████| 1640/1640 [00:01<00:00, 1220.76it/s]\n",
      "100%|██████████| 546/546 [00:00<00:00, 1743.57it/s]\n",
      "  8%|▊         | 128/1640 [00:00<00:01, 1271.18it/s]"
     ]
    },
    {
     "name": "stdout",
     "output_type": "stream",
     "text": [
      "\n",
      "Epoch   9 | Train Loss 0.4538 | Test Loss 0.4615 | Train Acc 86.39% | Test Acc 86.33%\n"
     ]
    },
    {
     "name": "stderr",
     "output_type": "stream",
     "text": [
      "100%|██████████| 1640/1640 [00:01<00:00, 1225.86it/s]\n",
      "100%|██████████| 546/546 [00:00<00:00, 1719.16it/s]"
     ]
    },
    {
     "name": "stdout",
     "output_type": "stream",
     "text": [
      "\n",
      "Epoch  10 | Train Loss 0.4464 | Test Loss 0.4551 | Train Acc 86.63% | Test Acc 86.57%\n"
     ]
    },
    {
     "name": "stderr",
     "output_type": "stream",
     "text": [
      "\n"
     ]
    }
   ],
   "source": [
    "epochs = 10\n",
    "\n",
    "for e in range(1, epochs + 1):\n",
    "    # Training Loop\n",
    "    train_loss = 0\n",
    "    train_acc = 0\n",
    "    for batch in tqdm(train_loader):\n",
    "        x, y = batch\n",
    "\n",
    "        activations = forwardprop(network, x)\n",
    "        logits = activations[-1]\n",
    "        loss = backprop(network, logits, y)\n",
    "        acc = accuracy(logits, y)\n",
    "\n",
    "        train_loss += loss\n",
    "        train_acc += acc\n",
    "    train_loss /= len(train_loader)\n",
    "    train_acc /= len(train_loader)\n",
    "\n",
    "    # Testing Loop\n",
    "    test_loss = 0\n",
    "    test_acc = 0\n",
    "    for batch in tqdm(test_loader):\n",
    "        x, y = batch\n",
    "\n",
    "        activations = forwardprop(network, x)\n",
    "        logits = activations[-1]\n",
    "        loss = cross_entropy_loss(logits, y)\n",
    "        acc = accuracy(logits, y)\n",
    "\n",
    "        test_loss += loss\n",
    "        test_acc += acc\n",
    "    test_loss /= len(test_loader)\n",
    "    test_acc /= len(test_loader)\n",
    "\n",
    "    print(\"\\nEpoch {:3d} | Train Loss {:.4f} | Test Loss {:.4f} | Train Acc {:.2f}% | Test Acc {:.2f}%\".format(e, train_loss, test_loss, train_acc * 100, test_acc * 100))"
   ]
  },
  {
   "cell_type": "markdown",
   "metadata": {
    "colab_type": "text",
    "id": "OL-ea3wlFe9P"
   },
   "source": [
    "We can test some predictions after we train."
   ]
  },
  {
   "cell_type": "code",
   "execution_count": null,
   "metadata": {
    "colab": {},
    "colab_type": "code",
    "id": "oNy0KwzG48w2"
   },
   "outputs": [],
   "source": [
    "x, y = test_loader[0]\n",
    "\n",
    "activations = forwardprop(network, x)\n",
    "logits = activations[-1]"
   ]
  },
  {
   "cell_type": "markdown",
   "metadata": {
    "colab_type": "text",
    "id": "wEEC7wNPFgqp"
   },
   "source": [
    "Here are the predicted numbers."
   ]
  },
  {
   "cell_type": "code",
   "execution_count": null,
   "metadata": {
    "colab": {
     "base_uri": "https://localhost:8080/",
     "height": 71
    },
    "colab_type": "code",
    "id": "Nhj4g5t45022",
    "outputId": "810e2220-891e-45ea-bccf-100b0121acf1"
   },
   "outputs": [
    {
     "data": {
      "text/plain": [
       "array([1, 2, 4, 9, 2, 1, 7, 0, 3, 0, 6, 3, 1, 1, 5, 7, 1, 1, 6, 7, 4, 4,\n",
       "       1, 5, 1, 5, 3, 9, 5, 7, 3, 5])"
      ]
     },
     "execution_count": 31,
     "metadata": {
      "tags": []
     },
     "output_type": "execute_result"
    }
   ],
   "source": [
    "np.argmax(logits, 1)"
   ]
  },
  {
   "cell_type": "markdown",
   "metadata": {
    "colab_type": "text",
    "id": "jrjjctJbFiQL"
   },
   "source": [
    "And here are the correct labels."
   ]
  },
  {
   "cell_type": "code",
   "execution_count": null,
   "metadata": {
    "colab": {
     "base_uri": "https://localhost:8080/",
     "height": 71
    },
    "colab_type": "code",
    "id": "IhpfVK-v51SG",
    "outputId": "9c0277b1-1c18-4e74-e81a-691cd1fbd0ea"
   },
   "outputs": [
    {
     "data": {
      "text/plain": [
       "array([8, 2, 4, 9, 2, 1, 7, 0, 5, 0, 6, 3, 1, 8, 5, 7, 1, 2, 6, 7, 7, 4,\n",
       "       1, 5, 1, 9, 3, 9, 5, 7, 3, 8])"
      ]
     },
     "execution_count": 32,
     "metadata": {
      "tags": []
     },
     "output_type": "execute_result"
    }
   ],
   "source": [
    "y"
   ]
  },
  {
   "cell_type": "markdown",
   "metadata": {
    "colab_type": "text",
    "id": "4y7QRGnG9Ld2"
   },
   "source": [
    "# From Numpy to PyTorch"
   ]
  },
  {
   "cell_type": "markdown",
   "metadata": {
    "colab_type": "text",
    "id": "2tv06OUAFm2I"
   },
   "source": [
    "*Adapted from the PyTorch Tutorials*\n",
    "\n",
    "While Numpy works well as a linear algebra library, we are starting to see its limits. For one, it is tedious to create larger and more complicated neural networks because we have to take note of each and every activation per layer, then handle backpropagation likewise.\n",
    "\n",
    "Here's a simple one hidden layer neural network that fits random toy data. We train for 500 epochs using simple MSE loss."
   ]
  },
  {
   "cell_type": "code",
   "execution_count": null,
   "metadata": {
    "colab": {
     "base_uri": "https://localhost:8080/",
     "height": 203
    },
    "colab_type": "code",
    "id": "puDeiUWM54tl",
    "outputId": "a136a7d5-88a5-4f9f-dbca-9fd80ab41fa9"
   },
   "outputs": [
    {
     "name": "stdout",
     "output_type": "stream",
     "text": [
      "Epoch  50 | Loss 207636.1345\n",
      "Epoch 100 | Loss 53474.6256\n",
      "Epoch 150 | Loss 18069.1752\n",
      "Epoch 200 | Loss 7089.4898\n",
      "Epoch 250 | Loss 3061.2206\n",
      "Epoch 300 | Loss 1408.1601\n",
      "Epoch 350 | Loss 678.4998\n",
      "Epoch 400 | Loss 338.8360\n",
      "Epoch 450 | Loss 174.0719\n",
      "Epoch 500 | Loss 91.5951\n"
     ]
    }
   ],
   "source": [
    "np.random.seed(42)\n",
    "\n",
    "bs, input_dim, hidden_dim, output_dim = 32, 100, 128, 10\n",
    "\n",
    "# Create random input and output data\n",
    "x = np.random.randn(bs, input_dim)\n",
    "y = np.random.randn(bs, output_dim)\n",
    "\n",
    "# Randomly initialize weights\n",
    "theta_l1 = np.random.randn(input_dim, hidden_dim)\n",
    "theta_l2 = np.random.randn(hidden_dim, output_dim)\n",
    "\n",
    "learning_rate = 1e-6\n",
    "epochs = 500\n",
    "\n",
    "for e in range(1, epochs + 1):\n",
    "    # Forward propagation\n",
    "    z_l1 = x.dot(theta_l1)\n",
    "    a_l1 = np.maximum(z_l1, 0)\n",
    "    y_pred = a_l1.dot(theta_l2)\n",
    "\n",
    "    # Compute for loss\n",
    "    loss = np.square(y_pred - y).sum()\n",
    "    if e % 50 == 0:\n",
    "        print(\"Epoch {:3d} | Loss {:.4f}\".format(e, loss))\n",
    "\n",
    "    # Back propagation\n",
    "    grad_y_pred = 2.0 * (y_pred - y)\n",
    "    grad_theta_l2 = a_l1.T.dot(grad_y_pred)\n",
    "    grad_a_l1 = grad_y_pred.dot(theta_l2.T)\n",
    "    grad_z_l1 = grad_a_l1.copy()\n",
    "    grad_z_l1[z_l1 < 0] = 0\n",
    "    grad_theta_l1 = x.T.dot(grad_z_l1)\n",
    "\n",
    "    # Update weights\n",
    "    theta_l1 -= learning_rate * grad_theta_l1\n",
    "    theta_l2 -= learning_rate * grad_theta_l2"
   ]
  },
  {
   "cell_type": "markdown",
   "metadata": {
    "colab_type": "text",
    "id": "4rW8kXxOF5Yv"
   },
   "source": [
    "To improve upon this, we will use **PyTorch**.\n",
    "\n",
    "PyTorch is a neural networks library that essentially works like Numpy on steroids. Like numpy, it has linear algebra capabilities."
   ]
  },
  {
   "cell_type": "code",
   "execution_count": null,
   "metadata": {
    "colab": {},
    "colab_type": "code",
    "id": "zrQCKbbABr8E"
   },
   "outputs": [],
   "source": [
    "import torch"
   ]
  },
  {
   "cell_type": "markdown",
   "metadata": {
    "colab_type": "text",
    "id": "SnkaP3YHGHwF"
   },
   "source": [
    "Here is the same example as the one above, but using PyTorch tensors."
   ]
  },
  {
   "cell_type": "code",
   "execution_count": null,
   "metadata": {
    "colab": {
     "base_uri": "https://localhost:8080/",
     "height": 203
    },
    "colab_type": "code",
    "id": "aon6XveV9tHE",
    "outputId": "743e3024-626b-4c9d-acf1-4370e1fc3faf"
   },
   "outputs": [
    {
     "name": "stdout",
     "output_type": "stream",
     "text": [
      "Epoch  50 | Loss 182762.8906\n",
      "Epoch 100 | Loss 43167.3906\n",
      "Epoch 150 | Loss 13680.2207\n",
      "Epoch 200 | Loss 5027.7749\n",
      "Epoch 250 | Loss 2028.1030\n",
      "Epoch 300 | Loss 874.4384\n",
      "Epoch 350 | Loss 396.3244\n",
      "Epoch 400 | Loss 186.7557\n",
      "Epoch 450 | Loss 90.7950\n",
      "Epoch 500 | Loss 45.2445\n"
     ]
    }
   ],
   "source": [
    "torch.manual_seed(42)\n",
    "\n",
    "bs, input_dim, hidden_dim, output_dim = 32, 100, 128, 10\n",
    "\n",
    "# Create random input and output data\n",
    "x = torch.randn(bs, input_dim)\n",
    "y = torch.randn(bs, output_dim)\n",
    "\n",
    "# Randomly initialize weights\n",
    "theta_l1 = torch.randn(input_dim, hidden_dim)\n",
    "theta_l2 = torch.randn(hidden_dim, output_dim)\n",
    "\n",
    "learning_rate = 1e-6\n",
    "epochs = 500\n",
    "\n",
    "for e in range(1, epochs + 1):\n",
    "    # Forward propagation\n",
    "    z_l1 = x.mm(theta_l1)\n",
    "    a_l1 = z_l1.clamp(min=0)\n",
    "    y_pred = a_l1.mm(theta_l2)\n",
    "\n",
    "    # Compute for loss\n",
    "    loss = (y_pred - y).pow(2).sum().item()\n",
    "    if e % 50 == 0:\n",
    "        print(\"Epoch {:3d} | Loss {:.4f}\".format(e, loss))\n",
    "\n",
    "    # Back propagation\n",
    "    grad_y_pred = 2.0 * (y_pred - y)\n",
    "    grad_theta_l2 = a_l1.t().mm(grad_y_pred)\n",
    "    grad_a_l1 = grad_y_pred.mm(theta_l2.t())\n",
    "    grad_z_l1 = grad_a_l1.clone()\n",
    "    grad_z_l1[z_l1 < 0] = 0\n",
    "    grad_theta_l1 = x.t().mm(grad_z_l1)\n",
    "\n",
    "    # Update weights\n",
    "    theta_l1 -= learning_rate * grad_theta_l1\n",
    "    theta_l2 -= learning_rate * grad_theta_l2"
   ]
  },
  {
   "cell_type": "markdown",
   "metadata": {
    "colab_type": "text",
    "id": "ygK5IhhQGMEP"
   },
   "source": [
    "The main advantage of using PyTorch is that it has an **autodiff** engine. When we mark a tensor with ```requires_grad=True```, we are telling PyTorch to record all the operations that the tensor undergoes. This creates a computational graph in the background that records the operational history.\n",
    "\n",
    "Instead of manually taking note of every single activation and gradient ourselves, we can let PyTorch do this for us. When we reach our loss value, we can have PyTorch automatically backprop from that point, giving us the gradients with respect to the tensors we marked as  ```requires_grad=True```."
   ]
  },
  {
   "cell_type": "code",
   "execution_count": null,
   "metadata": {
    "colab": {
     "base_uri": "https://localhost:8080/",
     "height": 203
    },
    "colab_type": "code",
    "id": "pFJn_7GjA-OD",
    "outputId": "120b3ba8-c61d-471d-c0ee-6b327205cdcb"
   },
   "outputs": [
    {
     "name": "stdout",
     "output_type": "stream",
     "text": [
      "Epoch  50 | Loss 182762.8906\n",
      "Epoch 100 | Loss 43167.3906\n",
      "Epoch 150 | Loss 13680.2207\n",
      "Epoch 200 | Loss 5027.7749\n",
      "Epoch 250 | Loss 2028.1030\n",
      "Epoch 300 | Loss 874.4384\n",
      "Epoch 350 | Loss 396.3244\n",
      "Epoch 400 | Loss 186.7557\n",
      "Epoch 450 | Loss 90.7950\n",
      "Epoch 500 | Loss 45.2445\n"
     ]
    }
   ],
   "source": [
    "torch.manual_seed(42)\n",
    "\n",
    "bs, input_dim, hidden_dim, output_dim = 32, 100, 128, 10\n",
    "\n",
    "# Create random input and output data\n",
    "x = torch.randn(bs, input_dim)\n",
    "y = torch.randn(bs, output_dim)\n",
    "\n",
    "# Randomly initialize weights\n",
    "theta_l1 = torch.randn(input_dim, hidden_dim, requires_grad=True)\n",
    "theta_l2 = torch.randn(hidden_dim, output_dim, requires_grad=True)\n",
    "\n",
    "learning_rate = 1e-6\n",
    "epochs = 500\n",
    "\n",
    "for e in range(1, epochs + 1):\n",
    "    # Forward propagation, chain all the operations\n",
    "    y_pred = x.mm(theta_l1).clamp(min=0).mm(theta_l2)\n",
    "\n",
    "    # Compute for loss\n",
    "    loss = (y_pred - y).pow(2).sum()\n",
    "    if e % 50 == 0:\n",
    "        print(\"Epoch {:3d} | Loss {:.4f}\".format(e, loss))\n",
    "\n",
    "    # Backpropagation\n",
    "    loss.backward()\n",
    "\n",
    "    # Update the weights\n",
    "    with torch.no_grad():\n",
    "        theta_l1 -= learning_rate * theta_l1.grad\n",
    "        theta_l2 -= learning_rate * theta_l2.grad\n",
    "\n",
    "        # Zero-out gradients\n",
    "        theta_l1.grad.zero_()\n",
    "        theta_l2.grad.zero_()"
   ]
  },
  {
   "cell_type": "markdown",
   "metadata": {
    "colab_type": "text",
    "id": "lKxH0Fd1G3zn"
   },
   "source": [
    "In combination with an autodiff engine, PyTorch also has a neural networks toolkit called ```torch.nn```. This includes wrappers for many different neural network layers."
   ]
  },
  {
   "cell_type": "code",
   "execution_count": null,
   "metadata": {
    "colab": {},
    "colab_type": "code",
    "id": "I7tPIBMu9rfI"
   },
   "outputs": [],
   "source": [
    "import torch.nn as nn"
   ]
  },
  {
   "cell_type": "markdown",
   "metadata": {
    "colab_type": "text",
    "id": "ULQEqP9HHF29"
   },
   "source": [
    "Instead of manually creating theta parameters and operations, we can instantiate a model with one hidden layer using the neural networks toolkit.\n",
    "\n",
    "This submodule also includes many widely-used loss functions.\n",
    "\n",
    "Let's instantiate the same network using the toolkit and add a loss function that we can use. For forward propagation, we only have to call our model as a function to get our activations."
   ]
  },
  {
   "cell_type": "code",
   "execution_count": null,
   "metadata": {
    "colab": {
     "base_uri": "https://localhost:8080/",
     "height": 203
    },
    "colab_type": "code",
    "id": "dh65JQfACEg8",
    "outputId": "b302b641-34b3-44ea-be2b-6c3897bb6f94"
   },
   "outputs": [
    {
     "name": "stdout",
     "output_type": "stream",
     "text": [
      "Epoch  50 | Loss 178.6263\n",
      "Epoch 100 | Loss 89.6067\n",
      "Epoch 150 | Loss 41.4231\n",
      "Epoch 200 | Loss 19.0851\n",
      "Epoch 250 | Loss 9.0797\n",
      "Epoch 300 | Loss 4.4719\n",
      "Epoch 350 | Loss 2.2714\n",
      "Epoch 400 | Loss 1.1820\n",
      "Epoch 450 | Loss 0.6270\n",
      "Epoch 500 | Loss 0.3390\n"
     ]
    }
   ],
   "source": [
    "torch.manual_seed(42)\n",
    "\n",
    "bs, input_dim, hidden_dim, output_dim = 32, 100, 128, 10\n",
    "\n",
    "# Create random input and output data\n",
    "x = torch.randn(bs, input_dim)\n",
    "y = torch.randn(bs, output_dim)\n",
    "\n",
    "# Initialize layers and a loss function\n",
    "model = nn.Sequential(\n",
    "    nn.Linear(input_dim, hidden_dim),\n",
    "    nn.ReLU(),\n",
    "    nn.Linear(hidden_dim, output_dim)\n",
    ")\n",
    "criterion = nn.MSELoss(reduction=\"sum\")\n",
    "\n",
    "learning_rate = 1e-4\n",
    "epochs = 500\n",
    "\n",
    "for e in range(1, epochs + 1):\n",
    "    # Forward propagation\n",
    "    y_pred = model(x)\n",
    "\n",
    "    # Compute for loss\n",
    "    loss = criterion(y_pred, y)\n",
    "    if e % 50 == 0:\n",
    "        print(\"Epoch {:3d} | Loss {:.4f}\".format(e, loss))\n",
    "\n",
    "    # Zero-out the gradients then backpropagate\n",
    "    model.zero_grad()\n",
    "    loss.backward()\n",
    "\n",
    "    # Update the weights\n",
    "    with torch.no_grad():\n",
    "        for param in model.parameters():\n",
    "            param -= learning_rate * param.grad"
   ]
  },
  {
   "cell_type": "markdown",
   "metadata": {
    "colab_type": "text",
    "id": "58G9qAObHW1S"
   },
   "source": [
    "The last component is the optimizers submodule, which contains implementations of many different optimizers, such as gradient descent."
   ]
  },
  {
   "cell_type": "code",
   "execution_count": null,
   "metadata": {
    "colab": {},
    "colab_type": "code",
    "id": "gYI2RlNo-VsE"
   },
   "outputs": [],
   "source": [
    "import torch.optim as optim"
   ]
  },
  {
   "cell_type": "markdown",
   "metadata": {
    "colab_type": "text",
    "id": "Qe1zXVzVHdJi"
   },
   "source": [
    "Here is the same example, but with an optimizer handling all the gradient descent upkeep. We instantiate a gradient descent optimizer and we pass the parameter list of our model. This tells the optimizer which parameters to update during every step of gradient descent.\n"
   ]
  },
  {
   "cell_type": "code",
   "execution_count": null,
   "metadata": {
    "colab": {
     "base_uri": "https://localhost:8080/",
     "height": 203
    },
    "colab_type": "code",
    "id": "SPfYZvsX-n6k",
    "outputId": "65e91d6a-892a-4e7c-e8fd-de6e23eab559"
   },
   "outputs": [
    {
     "name": "stdout",
     "output_type": "stream",
     "text": [
      "Epoch  50 | Loss 178.6263\n",
      "Epoch 100 | Loss 89.6067\n",
      "Epoch 150 | Loss 41.4231\n",
      "Epoch 200 | Loss 19.0851\n",
      "Epoch 250 | Loss 9.0797\n",
      "Epoch 300 | Loss 4.4719\n",
      "Epoch 350 | Loss 2.2714\n",
      "Epoch 400 | Loss 1.1820\n",
      "Epoch 450 | Loss 0.6270\n",
      "Epoch 500 | Loss 0.3390\n"
     ]
    }
   ],
   "source": [
    "torch.manual_seed(42)\n",
    "\n",
    "bs, input_dim, hidden_dim, output_dim = 32, 100, 128, 10\n",
    "\n",
    "# Create random input and output data\n",
    "x = torch.randn(bs, input_dim)\n",
    "y = torch.randn(bs, output_dim)\n",
    "\n",
    "# Initialize layers and a loss function\n",
    "model = nn.Sequential(\n",
    "    nn.Linear(input_dim, hidden_dim),\n",
    "    nn.ReLU(),\n",
    "    nn.Linear(hidden_dim, output_dim)\n",
    ")\n",
    "criterion = nn.MSELoss(reduction=\"sum\")\n",
    "optimizer = optim.SGD(model.parameters(), lr=1e-4)\n",
    "\n",
    "epochs = 500\n",
    "for e in range(1, epochs + 1):\n",
    "    # Forward propagation\n",
    "    y_pred = model(x)\n",
    "\n",
    "    # Compute for loss\n",
    "    loss = criterion(y_pred, y)\n",
    "    if e % 50 == 0:\n",
    "        print(\"Epoch {:3d} | Loss {:.4f}\".format(e, loss))\n",
    "\n",
    "    # Zero-out the gradients, backpropagate, then update\n",
    "    optimizer.zero_grad()\n",
    "    loss.backward()\n",
    "    optimizer.step()"
   ]
  },
  {
   "cell_type": "markdown",
   "metadata": {
    "colab_type": "text",
    "id": "RmpS4vltHiNN"
   },
   "source": [
    "Finally, we can create custom modules using PyTorch. This is the most common way that we create advanced neural networks in PyTorch.\n",
    "\n",
    "Here is our neural network as a module. We only have to add the layers as members and the module will keep track of the necessary parameters. We also have to implement a forward function."
   ]
  },
  {
   "cell_type": "code",
   "execution_count": null,
   "metadata": {
    "colab": {},
    "colab_type": "code",
    "id": "ULLXgeiY_DBZ"
   },
   "outputs": [],
   "source": [
    "class MultilayerPerceptron(nn.Module):\n",
    "    def __init__(self, input_dim, hidden_dim, output_dim):\n",
    "        super(MultilayerPerceptron, self).__init__()\n",
    "        self.fc1 = nn.Linear(input_dim, hidden_dim)\n",
    "        self.fc2 = nn.Linear(hidden_dim, output_dim)\n",
    "\n",
    "    def forward(self, x):\n",
    "        out = self.fc1(x)\n",
    "        out = torch.relu(out)\n",
    "        out = self.fc2(out)\n",
    "        return out"
   ]
  },
  {
   "cell_type": "markdown",
   "metadata": {
    "colab_type": "text",
    "id": "q4ApP7tRH0Oq"
   },
   "source": [
    "We can instantiate the model and use it like a sequential model, but with more flexibility."
   ]
  },
  {
   "cell_type": "code",
   "execution_count": null,
   "metadata": {
    "colab": {
     "base_uri": "https://localhost:8080/",
     "height": 203
    },
    "colab_type": "code",
    "id": "0HVKQfp7-4MC",
    "outputId": "47914bc9-d45c-4c7c-bcc2-81830d0718af"
   },
   "outputs": [
    {
     "name": "stdout",
     "output_type": "stream",
     "text": [
      "Epoch  50 | Loss 178.6263\n",
      "Epoch 100 | Loss 89.6067\n",
      "Epoch 150 | Loss 41.4231\n",
      "Epoch 200 | Loss 19.0851\n",
      "Epoch 250 | Loss 9.0797\n",
      "Epoch 300 | Loss 4.4719\n",
      "Epoch 350 | Loss 2.2714\n",
      "Epoch 400 | Loss 1.1820\n",
      "Epoch 450 | Loss 0.6270\n",
      "Epoch 500 | Loss 0.3390\n"
     ]
    }
   ],
   "source": [
    "torch.manual_seed(42)\n",
    "\n",
    "bs, input_dim, hidden_dim, output_dim = 32, 100, 128, 10\n",
    "\n",
    "# Create random input and output data\n",
    "x = torch.randn(bs, input_dim)\n",
    "y = torch.randn(bs, output_dim)\n",
    "\n",
    "# Initialize layers and a loss function\n",
    "model = MultilayerPerceptron(input_dim, hidden_dim, output_dim)\n",
    "criterion = nn.MSELoss(reduction=\"sum\")\n",
    "optimizer = optim.SGD(model.parameters(), lr=1e-4)\n",
    "\n",
    "epochs = 500\n",
    "for e in range(1, epochs + 1):\n",
    "    # Forward propagation\n",
    "    y_pred = model(x)\n",
    "\n",
    "    # Compute for loss\n",
    "    loss = criterion(y_pred, y)\n",
    "    if e % 50 == 0:\n",
    "        print(\"Epoch {:3d} | Loss {:.4f}\".format(e, loss))\n",
    "\n",
    "    # Zero-out the gradients, backpropagate, then update\n",
    "    optimizer.zero_grad()\n",
    "    loss.backward()\n",
    "    optimizer.step()"
   ]
  },
  {
   "cell_type": "markdown",
   "metadata": {
    "colab_type": "text",
    "id": "1JuNOupl_z3B"
   },
   "source": [
    "# MNIST in PyTorch"
   ]
  },
  {
   "cell_type": "markdown",
   "metadata": {
    "colab_type": "text",
    "id": "yIz_ktSgH-SZ"
   },
   "source": [
    "Let's train a neural network for the MNIST dataset using PyTorch.\n",
    "\n",
    "First, we resplit the data, then convert the numpy arrays into PyTorch tensors."
   ]
  },
  {
   "cell_type": "code",
   "execution_count": null,
   "metadata": {
    "colab": {
     "base_uri": "https://localhost:8080/",
     "height": 104
    },
    "colab_type": "code",
    "id": "4arbEze6_Xgu",
    "outputId": "9fbf29ac-7424-4ce7-b437-7cc015cc8ecd"
   },
   "outputs": [
    {
     "data": {
      "text/plain": [
       "(torch.Size([52500, 784]),\n",
       " torch.Size([17500, 784]),\n",
       " torch.Size([52500]),\n",
       " torch.Size([17500]))"
      ]
     },
     "execution_count": 43,
     "metadata": {
      "tags": []
     },
     "output_type": "execute_result"
    }
   ],
   "source": [
    "# Split the dataset\n",
    "X_train, X_test, y_train, y_test = train_test_split(mnist.data.astype(np.float32), \n",
    "                                                    mnist.target.astype(np.int), \n",
    "                                                    random_state=42)\n",
    "\n",
    "# Convert to PyTorch tensors\n",
    "X_train = torch.from_numpy(X_train)\n",
    "X_test  = torch.from_numpy(X_test)\n",
    "y_train = torch.from_numpy(y_train)\n",
    "y_test  = torch.from_numpy(y_test)\n",
    "\n",
    "X_train.shape, X_test.shape, y_train.shape, y_test.shape"
   ]
  },
  {
   "cell_type": "markdown",
   "metadata": {
    "colab_type": "text",
    "id": "dxjIfIK0IEpp"
   },
   "source": [
    "We import the data utilities submodule."
   ]
  },
  {
   "cell_type": "code",
   "execution_count": null,
   "metadata": {
    "colab": {},
    "colab_type": "code",
    "id": "fLmrv2vSADb1"
   },
   "outputs": [],
   "source": [
    "import torch.utils.data as data_utils"
   ]
  },
  {
   "cell_type": "markdown",
   "metadata": {
    "colab_type": "text",
    "id": "lKa7UFq6IG_f"
   },
   "source": [
    "This submodule allows easy batching. There are many ways to implement custom dataloaders for minibatching, but here is the simplest way."
   ]
  },
  {
   "cell_type": "code",
   "execution_count": null,
   "metadata": {
    "colab": {},
    "colab_type": "code",
    "id": "rKJy-a7n_4WT"
   },
   "outputs": [],
   "source": [
    "# Dataloading\n",
    "bs = 32\n",
    "\n",
    "# Create tensor datasets\n",
    "train_data = data_utils.TensorDataset(X_train, y_train)\n",
    "test_data  = data_utils.TensorDataset(X_test,  y_test)\n",
    "\n",
    "# Pass the datasets and a batch size to create a loader\n",
    "train_loader = data_utils.DataLoader(train_data, batch_size=bs)\n",
    "test_loader  = data_utils.DataLoader(test_data,  batch_size=bs)"
   ]
  },
  {
   "cell_type": "markdown",
   "metadata": {
    "colab_type": "text",
    "id": "gv3BWQ1eIRZE"
   },
   "source": [
    "This functions the same way as a generator."
   ]
  },
  {
   "cell_type": "code",
   "execution_count": null,
   "metadata": {
    "colab": {
     "base_uri": "https://localhost:8080/",
     "height": 71
    },
    "colab_type": "code",
    "id": "xE1LkedJACHN",
    "outputId": "fc947a80-27af-4893-fbbc-9d9eac658b33"
   },
   "outputs": [
    {
     "name": "stdout",
     "output_type": "stream",
     "text": [
      "torch.Size([32, 784]) torch.Size([32])\n",
      "1641\n"
     ]
    }
   ],
   "source": [
    "train_list = [b for b in train_loader]\n",
    "\n",
    "x, y = train_list[0]\n",
    "print(x.shape, y.shape)\n",
    "print(len(train_list))"
   ]
  },
  {
   "cell_type": "markdown",
   "metadata": {
    "colab_type": "text",
    "id": "oeFUimJmIURM"
   },
   "source": [
    "Here is the first batch."
   ]
  },
  {
   "cell_type": "code",
   "execution_count": null,
   "metadata": {
    "colab": {
     "base_uri": "https://localhost:8080/",
     "height": 186
    },
    "colab_type": "code",
    "id": "bVFdWjoRAKXV",
    "outputId": "686db1e3-35ec-4330-e5a9-b1568e4b4eff"
   },
   "outputs": [
    {
     "name": "stdout",
     "output_type": "stream",
     "text": [
      "tensor([[0., 0., 0.,  ..., 0., 0., 0.],\n",
      "        [0., 0., 0.,  ..., 0., 0., 0.],\n",
      "        [0., 0., 0.,  ..., 0., 0., 0.],\n",
      "        ...,\n",
      "        [0., 0., 0.,  ..., 0., 0., 0.],\n",
      "        [0., 0., 0.,  ..., 0., 0., 0.],\n",
      "        [0., 0., 0.,  ..., 0., 0., 0.]])\n",
      "tensor([3, 2, 8, 2, 3, 0, 3, 9, 9, 7, 3, 9, 5, 8, 7, 3, 1, 0, 3, 8, 7, 0, 8, 4,\n",
      "        1, 1, 0, 1, 0, 7, 0, 3])\n"
     ]
    }
   ],
   "source": [
    "print(x)\n",
    "print(y)"
   ]
  },
  {
   "cell_type": "markdown",
   "metadata": {
    "colab_type": "text",
    "id": "V58NAKm8IVhb"
   },
   "source": [
    "Let's write our model again as a module."
   ]
  },
  {
   "cell_type": "code",
   "execution_count": null,
   "metadata": {
    "colab": {},
    "colab_type": "code",
    "id": "4aSDW3PVAMOJ"
   },
   "outputs": [],
   "source": [
    "#architecture\n",
    "\n",
    "class MultilayerPerceptron(nn.Module):\n",
    "    def __init__(self, input_dim, hidden_dim, output_dim):\n",
    "        super(MultilayerPerceptron, self).__init__()\n",
    "        self.fc1 = nn.Linear(input_dim, hidden_dim)\n",
    "        self.fc2 = nn.Linear(hidden_dim, output_dim)\n",
    "\n",
    "    def forward(self, x):\n",
    "        out = self.fc1(x)\n",
    "        out = torch.relu(out)\n",
    "        out = self.fc2(out)\n",
    "        return out"
   ]
  },
  {
   "cell_type": "markdown",
   "metadata": {
    "colab_type": "text",
    "id": "UqOxXX3cIZKF"
   },
   "source": [
    "And write a new accuracy helper function the works with PyTorch."
   ]
  },
  {
   "cell_type": "code",
   "execution_count": null,
   "metadata": {
    "colab": {},
    "colab_type": "code",
    "id": "VuE5fbZWAVRe"
   },
   "outputs": [],
   "source": [
    "def accuracy(y_pred, y):\n",
    "    return torch.sum(torch.max(y_pred, 1)[1] == y).item() / len(y)"
   ]
  },
  {
   "cell_type": "markdown",
   "metadata": {
    "colab_type": "text",
    "id": "9t25US1nIceI"
   },
   "source": [
    "We instantiate a model, a loss function, and an optimizer."
   ]
  },
  {
   "cell_type": "code",
   "execution_count": null,
   "metadata": {
    "colab": {},
    "colab_type": "code",
    "id": "I5LGtli4AX44"
   },
   "outputs": [],
   "source": [
    "model = MultilayerPerceptron(input_dim=784, hidden_dim=128, output_dim=10)\n",
    "criterion = nn.CrossEntropyLoss()\n",
    "optimizer = optim.SGD(model.parameters(), lr=6e-5)"
   ]
  },
  {
   "cell_type": "markdown",
   "metadata": {
    "colab_type": "text",
    "id": "S8-CUpnhIpUj"
   },
   "source": [
    "Then we train for 10 epochs again."
   ]
  },
  {
   "cell_type": "code",
   "execution_count": null,
   "metadata": {
    "colab": {
     "base_uri": "https://localhost:8080/",
     "height": 699
    },
    "colab_type": "code",
    "id": "86Jc2Bc2AZaz",
    "outputId": "0e3cb865-9162-4705-b7b7-01db0df7067f"
   },
   "outputs": [
    {
     "name": "stderr",
     "output_type": "stream",
     "text": [
      "100%|██████████| 1641/1641 [00:02<00:00, 724.82it/s]\n",
      "100%|██████████| 547/547 [00:00<00:00, 1637.44it/s]\n",
      "  5%|▍         | 75/1641 [00:00<00:02, 743.83it/s]"
     ]
    },
    {
     "name": "stdout",
     "output_type": "stream",
     "text": [
      "\n",
      "Epoch   1 | Train Loss 1.6859 | Test Loss 0.8272 | Train Acc 79.85% | Test Acc 86.86%\n"
     ]
    },
    {
     "name": "stderr",
     "output_type": "stream",
     "text": [
      "100%|██████████| 1641/1641 [00:02<00:00, 737.75it/s]\n",
      "100%|██████████| 547/547 [00:00<00:00, 1671.26it/s]\n",
      "  5%|▍         | 75/1641 [00:00<00:02, 748.25it/s]"
     ]
    },
    {
     "name": "stdout",
     "output_type": "stream",
     "text": [
      "\n",
      "Epoch   2 | Train Loss 0.6125 | Test Loss 0.5884 | Train Acc 88.75% | Test Acc 89.15%\n"
     ]
    },
    {
     "name": "stderr",
     "output_type": "stream",
     "text": [
      "100%|██████████| 1641/1641 [00:02<00:00, 754.46it/s]\n",
      "100%|██████████| 547/547 [00:00<00:00, 1677.58it/s]\n",
      "  5%|▍         | 76/1641 [00:00<00:02, 754.81it/s]"
     ]
    },
    {
     "name": "stdout",
     "output_type": "stream",
     "text": [
      "\n",
      "Epoch   3 | Train Loss 0.4395 | Test Loss 0.4819 | Train Acc 90.88% | Test Acc 90.39%\n"
     ]
    },
    {
     "name": "stderr",
     "output_type": "stream",
     "text": [
      "100%|██████████| 1641/1641 [00:02<00:00, 748.51it/s]\n",
      "100%|██████████| 547/547 [00:00<00:00, 1601.24it/s]\n",
      "  5%|▍         | 75/1641 [00:00<00:02, 744.31it/s]"
     ]
    },
    {
     "name": "stdout",
     "output_type": "stream",
     "text": [
      "\n",
      "Epoch   4 | Train Loss 0.3496 | Test Loss 0.4205 | Train Acc 92.18% | Test Acc 91.23%\n"
     ]
    },
    {
     "name": "stderr",
     "output_type": "stream",
     "text": [
      "100%|██████████| 1641/1641 [00:02<00:00, 737.62it/s]\n",
      "100%|██████████| 547/547 [00:00<00:00, 1651.85it/s]\n",
      "  4%|▍         | 71/1641 [00:00<00:02, 703.75it/s]"
     ]
    },
    {
     "name": "stdout",
     "output_type": "stream",
     "text": [
      "\n",
      "Epoch   5 | Train Loss 0.2936 | Test Loss 0.3788 | Train Acc 93.21% | Test Acc 91.90%\n"
     ]
    },
    {
     "name": "stderr",
     "output_type": "stream",
     "text": [
      "100%|██████████| 1641/1641 [00:02<00:00, 746.59it/s]\n",
      "100%|██████████| 547/547 [00:00<00:00, 1671.67it/s]\n",
      "  5%|▍         | 76/1641 [00:00<00:02, 753.75it/s]"
     ]
    },
    {
     "name": "stdout",
     "output_type": "stream",
     "text": [
      "\n",
      "Epoch   6 | Train Loss 0.2550 | Test Loss 0.3497 | Train Acc 93.89% | Test Acc 92.51%\n"
     ]
    },
    {
     "name": "stderr",
     "output_type": "stream",
     "text": [
      "100%|██████████| 1641/1641 [00:02<00:00, 744.28it/s]\n",
      "100%|██████████| 547/547 [00:00<00:00, 1650.77it/s]\n",
      "  4%|▍         | 73/1641 [00:00<00:02, 724.42it/s]"
     ]
    },
    {
     "name": "stdout",
     "output_type": "stream",
     "text": [
      "\n",
      "Epoch   7 | Train Loss 0.2260 | Test Loss 0.3286 | Train Acc 94.45% | Test Acc 92.91%\n"
     ]
    },
    {
     "name": "stderr",
     "output_type": "stream",
     "text": [
      "100%|██████████| 1641/1641 [00:02<00:00, 734.83it/s]\n",
      "100%|██████████| 547/547 [00:00<00:00, 1610.40it/s]\n",
      "  5%|▍         | 78/1641 [00:00<00:02, 779.78it/s]"
     ]
    },
    {
     "name": "stdout",
     "output_type": "stream",
     "text": [
      "\n",
      "Epoch   8 | Train Loss 0.2037 | Test Loss 0.3123 | Train Acc 94.88% | Test Acc 93.10%\n"
     ]
    },
    {
     "name": "stderr",
     "output_type": "stream",
     "text": [
      "100%|██████████| 1641/1641 [00:02<00:00, 737.39it/s]\n",
      "100%|██████████| 547/547 [00:00<00:00, 1601.65it/s]\n",
      "  5%|▍         | 76/1641 [00:00<00:02, 752.37it/s]"
     ]
    },
    {
     "name": "stdout",
     "output_type": "stream",
     "text": [
      "\n",
      "Epoch   9 | Train Loss 0.1859 | Test Loss 0.2998 | Train Acc 95.22% | Test Acc 93.32%\n"
     ]
    },
    {
     "name": "stderr",
     "output_type": "stream",
     "text": [
      "100%|██████████| 1641/1641 [00:02<00:00, 743.78it/s]\n",
      "100%|██████████| 547/547 [00:00<00:00, 1486.30it/s]"
     ]
    },
    {
     "name": "stdout",
     "output_type": "stream",
     "text": [
      "\n",
      "Epoch  10 | Train Loss 0.1712 | Test Loss 0.2893 | Train Acc 95.54% | Test Acc 93.51%\n"
     ]
    },
    {
     "name": "stderr",
     "output_type": "stream",
     "text": [
      "\n"
     ]
    }
   ],
   "source": [
    "epochs = 10\n",
    "\n",
    "for e in range(1, epochs + 1):\n",
    "    train_loss = 0\n",
    "    train_acc = 0\n",
    "    for batch in tqdm(train_loader):\n",
    "        x, y = batch\n",
    "        y_pred = model(x)\n",
    "        loss = criterion(y_pred, y)\n",
    "\n",
    "        optimizer.zero_grad()\n",
    "        loss.backward()\n",
    "        optimizer.step()\n",
    "\n",
    "        train_loss += loss.item()\n",
    "        train_acc += accuracy(y_pred, y)\n",
    "    train_loss /= len(train_loader)\n",
    "    train_acc /= len(train_loader)\n",
    "\n",
    "    test_loss = 0\n",
    "    test_acc = 0\n",
    "    for batch in tqdm(test_loader):\n",
    "        x, y = batch\n",
    "        with torch.no_grad():\n",
    "            y_pred = model(x)\n",
    "            loss = criterion(y_pred, y)\n",
    "        \n",
    "        test_loss += loss.item()\n",
    "        test_acc += accuracy(y_pred, y)\n",
    "    test_loss /= len(test_loader)\n",
    "    test_acc /= len(test_loader)\n",
    "\n",
    "    print(\"\\nEpoch {:3d} | Train Loss {:.4f} | Test Loss {:.4f} | Train Acc {:.2f}% | Test Acc {:.2f}%\".format(e, train_loss, test_loss, train_acc * 100, test_acc * 100))"
   ]
  },
  {
   "cell_type": "markdown",
   "metadata": {
    "colab_type": "text",
    "id": "YV21A7nQIsOh"
   },
   "source": [
    "We can test a sample batch of test data."
   ]
  },
  {
   "cell_type": "code",
   "execution_count": null,
   "metadata": {
    "colab": {
     "base_uri": "https://localhost:8080/",
     "height": 54
    },
    "colab_type": "code",
    "id": "kippptogAceY",
    "outputId": "2c8a6ba7-5742-45d6-83e1-32e8fb0a3d1d"
   },
   "outputs": [
    {
     "name": "stdout",
     "output_type": "stream",
     "text": [
      "Loss 0.3389 | Accuracy 90.62%\n"
     ]
    }
   ],
   "source": [
    "x, y = train_list[10]\n",
    "\n",
    "y_pred = model(x)\n",
    "loss = criterion(y_pred, y)\n",
    "acc = accuracy(y_pred, y)\n",
    "\n",
    "print(\"Loss {:.4f} | Accuracy {:.2f}%\".format(loss.item(), acc * 100))"
   ]
  },
  {
   "cell_type": "markdown",
   "metadata": {
    "colab_type": "text",
    "id": "vdPKVJOXItQa"
   },
   "source": [
    "Here are the network's predictions."
   ]
  },
  {
   "cell_type": "code",
   "execution_count": null,
   "metadata": {
    "colab": {
     "base_uri": "https://localhost:8080/",
     "height": 71
    },
    "colab_type": "code",
    "id": "suOjFOkgAmlQ",
    "outputId": "fe54fa13-89ae-420d-8d71-f6dd8816861a"
   },
   "outputs": [
    {
     "data": {
      "text/plain": [
       "tensor([1, 7, 6, 0, 1, 0, 9, 5, 7, 9, 3, 0, 8, 6, 1, 3, 3, 7, 7, 9, 0, 0, 9, 3,\n",
       "        7, 7, 9, 3, 6, 7, 7, 5])"
      ]
     },
     "execution_count": 53,
     "metadata": {
      "tags": []
     },
     "output_type": "execute_result"
    }
   ],
   "source": [
    "torch.max(y_pred, 1)[1]"
   ]
  },
  {
   "cell_type": "markdown",
   "metadata": {
    "colab_type": "text",
    "id": "E--gJNkQIynJ"
   },
   "source": [
    "And the correct labels for each data sample."
   ]
  },
  {
   "cell_type": "code",
   "execution_count": null,
   "metadata": {
    "colab": {
     "base_uri": "https://localhost:8080/",
     "height": 71
    },
    "colab_type": "code",
    "id": "TkqzVmbwAvUy",
    "outputId": "03e76636-5031-4ebb-8250-ac6e5f4df4d1"
   },
   "outputs": [
    {
     "data": {
      "text/plain": [
       "tensor([1, 7, 6, 0, 1, 0, 9, 5, 7, 9, 5, 0, 8, 6, 1, 3, 3, 7, 7, 4, 0, 0, 9, 3,\n",
       "        7, 7, 9, 3, 6, 7, 7, 3])"
      ]
     },
     "execution_count": 54,
     "metadata": {
      "tags": []
     },
     "output_type": "execute_result"
    }
   ],
   "source": [
    "y"
   ]
  },
  {
   "cell_type": "code",
   "execution_count": null,
   "metadata": {
    "colab": {},
    "colab_type": "code",
    "id": "nONgrDO3AwgE"
   },
   "outputs": [],
   "source": []
  }
 ],
 "metadata": {
  "colab": {
   "collapsed_sections": [],
   "name": "07 - Introduction to Neural Networks",
   "provenance": []
  },
  "kernelspec": {
   "display_name": "Python 3",
   "language": "python",
   "name": "python3"
  },
  "language_info": {
   "codemirror_mode": {
    "name": "ipython",
    "version": 3
   },
   "file_extension": ".py",
   "mimetype": "text/x-python",
   "name": "python",
   "nbconvert_exporter": "python",
   "pygments_lexer": "ipython3",
   "version": "3.7.0"
  }
 },
 "nbformat": 4,
 "nbformat_minor": 4
}
