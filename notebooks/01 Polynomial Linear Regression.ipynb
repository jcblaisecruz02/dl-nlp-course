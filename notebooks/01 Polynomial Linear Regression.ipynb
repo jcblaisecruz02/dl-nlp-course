{
 "cells": [
  {
   "cell_type": "markdown",
   "metadata": {
    "colab_type": "text",
    "id": "dtV7CraDqbte"
   },
   "source": [
    "# 01 - Polynomial Linear Regression (One Variable)\n",
    "Prepared by Jan Christian Blaise Cruz\n",
    "\n",
    "DLSU Machine Learning Group"
   ]
  },
  {
   "cell_type": "code",
   "execution_count": null,
   "metadata": {
    "colab": {},
    "colab_type": "code",
    "id": "LwyRipbSr-wM"
   },
   "outputs": [],
   "source": [
    "# First, some necessary imports\n",
    "import numpy as np\n",
    "import pandas as pd\n",
    "import matplotlib.pyplot as plt\n",
    "from sklearn.datasets import load_boston\n",
    "\n",
    "%matplotlib inline\n",
    "np.random.seed(42)"
   ]
  },
  {
   "cell_type": "markdown",
   "metadata": {
    "colab_type": "text",
    "id": "BiYwDloYqwiQ"
   },
   "source": [
    "## The Data\n",
    "We're mainly working with the Boston Housing dataset (Harrison & Rubinfield, 1993) for this problem. Scikit-learn has a convience function that loads the dataset so we'll use that."
   ]
  },
  {
   "cell_type": "code",
   "execution_count": null,
   "metadata": {
    "colab": {
     "base_uri": "https://localhost:8080/",
     "height": 904
    },
    "colab_type": "code",
    "id": "kAeWkZ_y5FCG",
    "outputId": "0c19b34f-695c-4fd2-d4da-8a7033774ca5"
   },
   "outputs": [
    {
     "name": "stdout",
     "output_type": "stream",
     "text": [
      ".. _boston_dataset:\n",
      "\n",
      "Boston house prices dataset\n",
      "---------------------------\n",
      "\n",
      "**Data Set Characteristics:**  \n",
      "\n",
      "    :Number of Instances: 506 \n",
      "\n",
      "    :Number of Attributes: 13 numeric/categorical predictive. Median Value (attribute 14) is usually the target.\n",
      "\n",
      "    :Attribute Information (in order):\n",
      "        - CRIM     per capita crime rate by town\n",
      "        - ZN       proportion of residential land zoned for lots over 25,000 sq.ft.\n",
      "        - INDUS    proportion of non-retail business acres per town\n",
      "        - CHAS     Charles River dummy variable (= 1 if tract bounds river; 0 otherwise)\n",
      "        - NOX      nitric oxides concentration (parts per 10 million)\n",
      "        - RM       average number of rooms per dwelling\n",
      "        - AGE      proportion of owner-occupied units built prior to 1940\n",
      "        - DIS      weighted distances to five Boston employment centres\n",
      "        - RAD      index of accessibility to radial highways\n",
      "        - TAX      full-value property-tax rate per $10,000\n",
      "        - PTRATIO  pupil-teacher ratio by town\n",
      "        - B        1000(Bk - 0.63)^2 where Bk is the proportion of blacks by town\n",
      "        - LSTAT    % lower status of the population\n",
      "        - MEDV     Median value of owner-occupied homes in $1000's\n",
      "\n",
      "    :Missing Attribute Values: None\n",
      "\n",
      "    :Creator: Harrison, D. and Rubinfeld, D.L.\n",
      "\n",
      "This is a copy of UCI ML housing dataset.\n",
      "https://archive.ics.uci.edu/ml/machine-learning-databases/housing/\n",
      "\n",
      "\n",
      "This dataset was taken from the StatLib library which is maintained at Carnegie Mellon University.\n",
      "\n",
      "The Boston house-price data of Harrison, D. and Rubinfeld, D.L. 'Hedonic\n",
      "prices and the demand for clean air', J. Environ. Economics & Management,\n",
      "vol.5, 81-102, 1978.   Used in Belsley, Kuh & Welsch, 'Regression diagnostics\n",
      "...', Wiley, 1980.   N.B. Various transformations are used in the table on\n",
      "pages 244-261 of the latter.\n",
      "\n",
      "The Boston house-price data has been used in many machine learning papers that address regression\n",
      "problems.   \n",
      "     \n",
      ".. topic:: References\n",
      "\n",
      "   - Belsley, Kuh & Welsch, 'Regression diagnostics: Identifying Influential Data and Sources of Collinearity', Wiley, 1980. 244-261.\n",
      "   - Quinlan,R. (1993). Combining Instance-Based and Model-Based Learning. In Proceedings on the Tenth International Conference of Machine Learning, 236-243, University of Massachusetts, Amherst. Morgan Kaufmann.\n",
      "\n"
     ]
    }
   ],
   "source": [
    "d = load_boston()\n",
    "print(d.DESCR) # Print the dataset description"
   ]
  },
  {
   "cell_type": "markdown",
   "metadata": {
    "colab_type": "text",
    "id": "kbTuyQnErC1B"
   },
   "source": [
    "We can extract the data like so."
   ]
  },
  {
   "cell_type": "code",
   "execution_count": null,
   "metadata": {
    "colab": {},
    "colab_type": "code",
    "id": "cwJDCqps59nk"
   },
   "outputs": [],
   "source": [
    "X, y = d.data, d.target"
   ]
  },
  {
   "cell_type": "markdown",
   "metadata": {
    "colab_type": "text",
    "id": "scxCabHIrFZ1"
   },
   "source": [
    "And get the shapes.\n",
    "\n",
    "Notice that we have a matrix of examples $X \\in \\mathbb{R}^{m \\times d}$ and a vector of targets $y \\in \\mathbb{R}^m$ where $m$ is the number of training examples and $d$ is the \"dimensionality\" or the number of features."
   ]
  },
  {
   "cell_type": "code",
   "execution_count": null,
   "metadata": {
    "colab": {
     "base_uri": "https://localhost:8080/",
     "height": 34
    },
    "colab_type": "code",
    "id": "eytMa4o8QaHR",
    "outputId": "b7984497-a78e-4da0-cb28-57f880df5809"
   },
   "outputs": [
    {
     "name": "stdout",
     "output_type": "stream",
     "text": [
      "(506, 13) (506,)\n"
     ]
    }
   ],
   "source": [
    "print(X.shape, y.shape)"
   ]
  },
  {
   "cell_type": "markdown",
   "metadata": {
    "colab_type": "text",
    "id": "S-l1uNcIrr1l"
   },
   "source": [
    "For now, we're only interested in the property tax feature of the dataset, which is in index 8. We'll take that out. Since the resulting numpy array is a 1d vector, we'll add a new axis (new dimension)."
   ]
  },
  {
   "cell_type": "code",
   "execution_count": null,
   "metadata": {
    "colab": {
     "base_uri": "https://localhost:8080/",
     "height": 51
    },
    "colab_type": "code",
    "id": "64iFtHLd8mNi",
    "outputId": "0555c448-6b26-4f09-d584-a4fa7d476c7f"
   },
   "outputs": [
    {
     "name": "stdout",
     "output_type": "stream",
     "text": [
      "(506,) (506,)\n",
      "(506, 1)\n"
     ]
    }
   ],
   "source": [
    "x = X[:, 9]\n",
    "print(x.shape, y.shape)\n",
    "\n",
    "# Add new dimension\n",
    "x = x[..., np.newaxis]\n",
    "print(x.shape)"
   ]
  },
  {
   "cell_type": "markdown",
   "metadata": {
    "colab_type": "text",
    "id": "W2TG7a3rr7UB"
   },
   "source": [
    "We'll write a convenience function to plot our data."
   ]
  },
  {
   "cell_type": "code",
   "execution_count": null,
   "metadata": {
    "colab": {},
    "colab_type": "code",
    "id": "5YqvlhMuc3H4"
   },
   "outputs": [],
   "source": [
    "def plot_dist(X, y):\n",
    "    data = np.append(X[:, 0][..., np.newaxis], y[..., np.newaxis], axis=1)\n",
    "    data = data[data[:, 0].argsort()]\n",
    "    plt.scatter(data[:, 0], data[:, 1], c='r')"
   ]
  },
  {
   "cell_type": "markdown",
   "metadata": {
    "colab_type": "text",
    "id": "ABAJqHnFr9pX"
   },
   "source": [
    "And let's check our data."
   ]
  },
  {
   "cell_type": "code",
   "execution_count": null,
   "metadata": {
    "colab": {
     "base_uri": "https://localhost:8080/",
     "height": 265
    },
    "colab_type": "code",
    "id": "rQOXihMzc7bc",
    "outputId": "bb87ecf8-cb01-46ae-8801-1b73e199fc5f"
   },
   "outputs": [
    {
     "data": {
      "image/png": "[encoded data removed]",
      "text/plain": [
       "<Figure size 432x288 with 1 Axes>"
      ]
     },
     "metadata": {
      "needs_background": "light",
      "tags": []
     },
     "output_type": "display_data"
    }
   ],
   "source": [
    "plot_dist(x, y)"
   ]
  },
  {
   "cell_type": "markdown",
   "metadata": {
    "colab_type": "text",
    "id": "LgVCuEwGsB0t"
   },
   "source": [
    "## Linear Regression\n",
    "Now we'll use a linear regression model to solve our task."
   ]
  },
  {
   "cell_type": "markdown",
   "metadata": {
    "colab_type": "text",
    "id": "uksUaLO5sKlA"
   },
   "source": [
    "Recall our hypothesis for linear regression:\n",
    "\n",
    "\\begin{align}\n",
    "h_{\\theta}(x) = \\theta_0x_0 + \\theta_1x_1 + ... + \\theta_nx_n\n",
    "\\end{align}\n",
    "\n",
    "Which we can simply write as a summation:\n",
    "\n",
    "\\begin{align}\n",
    "h_{\\theta}(x) = \\sum_{i=0}^{m}{\\theta_{i}x_{i}}\n",
    "\\end{align}\n",
    "\n",
    "Which can be simplified in vector notation:\n",
    "\n",
    "\\begin{align}\n",
    "h_{\\theta}(x) = X \\theta\n",
    "\\end{align}\n",
    "\n",
    "Given $X\\in\\mathbb{R}^{m\\times d}$ and our theta parameter vector $\\theta\\in\\mathbb{R}^{d\\times 1}$, our ```model``` function will output a 2d array of predictions (specifically $\\hat{y}\\in\\mathbb{R}^{m\\times 1}$). Since our actual target vector is a 1d array ($y\\in\\mathbb{R}^m$), we'll index the first column on our output to reduce the dimensions."
   ]
  },
  {
   "cell_type": "code",
   "execution_count": null,
   "metadata": {
    "colab": {},
    "colab_type": "code",
    "id": "2u2SeJoWBGou"
   },
   "outputs": [],
   "source": [
    "def model(X, theta):\n",
    "    return X.dot(theta)[:, 0]"
   ]
  },
  {
   "cell_type": "markdown",
   "metadata": {
    "colab_type": "text",
    "id": "m5aG6MRbtSri"
   },
   "source": [
    "We'll have to first add a bias term to our data manually, represented by an array of ones."
   ]
  },
  {
   "cell_type": "code",
   "execution_count": null,
   "metadata": {
    "colab": {
     "base_uri": "https://localhost:8080/",
     "height": 34
    },
    "colab_type": "code",
    "id": "JpfFlOQjBGs_",
    "outputId": "aaf5b537-bfed-4b71-98e9-f280c7034d7a"
   },
   "outputs": [
    {
     "name": "stdout",
     "output_type": "stream",
     "text": [
      "(506, 1) (506, 1)\n"
     ]
    }
   ],
   "source": [
    "bias = np.ones([x.shape[0], 1], dtype=np.int32)\n",
    "print(bias.shape, x.shape)"
   ]
  },
  {
   "cell_type": "markdown",
   "metadata": {
    "colab_type": "text",
    "id": "ZItEyLUptZAV"
   },
   "source": [
    "We append this to the data."
   ]
  },
  {
   "cell_type": "code",
   "execution_count": null,
   "metadata": {
    "colab": {},
    "colab_type": "code",
    "id": "JBMQgR1XBGrd"
   },
   "outputs": [],
   "source": [
    "x = np.append(x, bias, axis=1)"
   ]
  },
  {
   "cell_type": "markdown",
   "metadata": {
    "colab_type": "text",
    "id": "CX58ZdW1tanS"
   },
   "source": [
    "To get the shape:"
   ]
  },
  {
   "cell_type": "code",
   "execution_count": null,
   "metadata": {
    "colab": {
     "base_uri": "https://localhost:8080/",
     "height": 34
    },
    "colab_type": "code",
    "id": "I35scqpCUZWj",
    "outputId": "4607ea10-3bd8-4cb6-bc09-62b57dfeaa47"
   },
   "outputs": [
    {
     "name": "stdout",
     "output_type": "stream",
     "text": [
      "(506, 2)\n"
     ]
    }
   ],
   "source": [
    "print(x.shape)"
   ]
  },
  {
   "cell_type": "markdown",
   "metadata": {
    "colab_type": "text",
    "id": "2C4f1SbVtcKQ"
   },
   "source": [
    "Our feature matrix now looks like this."
   ]
  },
  {
   "cell_type": "code",
   "execution_count": null,
   "metadata": {
    "colab": {
     "base_uri": "https://localhost:8080/",
     "height": 136
    },
    "colab_type": "code",
    "id": "RE_XkHNrUZZI",
    "outputId": "8f81f20c-8c4e-4019-ca53-6df9e614a3ee"
   },
   "outputs": [
    {
     "data": {
      "text/plain": [
       "array([[296.,   1.],\n",
       "       [242.,   1.],\n",
       "       [242.,   1.],\n",
       "       ...,\n",
       "       [273.,   1.],\n",
       "       [273.,   1.],\n",
       "       [273.,   1.]])"
      ]
     },
     "execution_count": 15,
     "metadata": {
      "tags": []
     },
     "output_type": "execute_result"
    }
   ],
   "source": [
    "x"
   ]
  },
  {
   "cell_type": "markdown",
   "metadata": {
    "colab_type": "text",
    "id": "lWqyNuOQteUV"
   },
   "source": [
    "We'll randomly initialize our theta vector $\\theta\\in\\mathbb{R}^{d\\times 1}$."
   ]
  },
  {
   "cell_type": "code",
   "execution_count": null,
   "metadata": {
    "colab": {
     "base_uri": "https://localhost:8080/",
     "height": 68
    },
    "colab_type": "code",
    "id": "-YYxcOYiUZbY",
    "outputId": "494e804e-ade0-40c6-fca8-1e7253ccc069"
   },
   "outputs": [
    {
     "name": "stdout",
     "output_type": "stream",
     "text": [
      "Number of features: 2\n",
      "[[0.37454012]\n",
      " [0.95071431]]\n"
     ]
    }
   ],
   "source": [
    "features = x.shape[1]\n",
    "print(\"Number of features: {}\".format(features))\n",
    "\n",
    "theta = np.random.rand(features, 1)\n",
    "print(theta)"
   ]
  },
  {
   "cell_type": "markdown",
   "metadata": {
    "colab_type": "text",
    "id": "kcTF9s1BuQtd"
   },
   "source": [
    "And get our initial predictions."
   ]
  },
  {
   "cell_type": "code",
   "execution_count": null,
   "metadata": {
    "colab": {},
    "colab_type": "code",
    "id": "IDTOeITfUi_r"
   },
   "outputs": [],
   "source": [
    "yhat = model(x, theta)"
   ]
  },
  {
   "cell_type": "markdown",
   "metadata": {
    "colab_type": "text",
    "id": "aOIv0YkauSqy"
   },
   "source": [
    "Verify the shapes."
   ]
  },
  {
   "cell_type": "code",
   "execution_count": null,
   "metadata": {
    "colab": {
     "base_uri": "https://localhost:8080/",
     "height": 34
    },
    "colab_type": "code",
    "id": "o5_nGC-9UjCi",
    "outputId": "95c1d1b4-f86d-4ca1-9f63-1d31189ad949"
   },
   "outputs": [
    {
     "name": "stdout",
     "output_type": "stream",
     "text": [
      "(506,) (506,)\n"
     ]
    }
   ],
   "source": [
    "print(yhat.shape, y.shape)"
   ]
  },
  {
   "cell_type": "markdown",
   "metadata": {
    "colab_type": "text",
    "id": "s3aFhxIRuT53"
   },
   "source": [
    "Next, we'll need a measure of error.\n",
    "\n",
    "Recall our Mean Squared Error (MSE) loss function:\n",
    "\n",
    "\\begin{align}\n",
    "J(\\theta) = \\frac{1}{2m}\\sum_{i=0}^{m}(h_\\theta(x^{(i)}) - y^{(i)})^2\n",
    "\\end{align}\n",
    "\n",
    "Which in vector notation is simply:\n",
    "\n",
    "\\begin{align}\n",
    "J(\\theta) = \\frac{1}{2m}(X\\theta - y)^T(X\\theta - y)\n",
    "\\end{align}"
   ]
  },
  {
   "cell_type": "code",
   "execution_count": null,
   "metadata": {
    "colab": {},
    "colab_type": "code",
    "id": "gPGm5W8UUjEb"
   },
   "outputs": [],
   "source": [
    "def loss_function(yhat, y):\n",
    "    m = y.size\n",
    "    J = 1 / (2 * m) * np.sum(np.square(yhat - y))\n",
    "    return J"
   ]
  },
  {
   "cell_type": "markdown",
   "metadata": {
    "colab_type": "text",
    "id": "7XpWdLoausWm"
   },
   "source": [
    "Let's test it."
   ]
  },
  {
   "cell_type": "code",
   "execution_count": null,
   "metadata": {
    "colab": {
     "base_uri": "https://localhost:8080/",
     "height": 34
    },
    "colab_type": "code",
    "id": "V51rQBEUUjGd",
    "outputId": "8b630217-e381-4f89-fa3c-45d4c631a61d"
   },
   "outputs": [
    {
     "data": {
      "text/plain": [
       "10924.413868645808"
      ]
     },
     "execution_count": 20,
     "metadata": {
      "tags": []
     },
     "output_type": "execute_result"
    }
   ],
   "source": [
    "loss_function(yhat, y)"
   ]
  },
  {
   "cell_type": "markdown",
   "metadata": {
    "colab_type": "text",
    "id": "H_MO4THZutaM"
   },
   "source": [
    "Now we code up gradient descent. The update rule for gradient descent is:\n",
    "\n",
    "\\begin{align}\n",
    "\\theta := \\theta - \\alpha \\frac{\\partial}{\\partial \\theta}J(\\theta)\n",
    "\\end{align}\n",
    "\n",
    "Computing for the partial derivative yields this update rule:\n",
    "\n",
    "\\begin{align}\n",
    "\\theta := \\theta - \\alpha \\frac{1}{m}\\sum^{m}_{i = 0}(h_{\\theta}(x^{(i)})-y^{(i)})\\cdot x^{(i)}\n",
    "\\end{align}\n",
    "\n",
    "Or in vector notation:\n",
    "\n",
    "\\begin{align}\n",
    "\\theta := \\theta - \\alpha \\frac{1}{m} X^{T}(\\hat{y}-y)\n",
    "\\end{align}\n",
    "\n",
    "\n",
    "Do remember that the update rule has to be applied for all theta parameters consecutively. Since we have a bias feature, we have two theta parameters.\n",
    "\n",
    "First, we code up the derivative of our loss function for convenience."
   ]
  },
  {
   "cell_type": "code",
   "execution_count": null,
   "metadata": {
    "colab": {},
    "colab_type": "code",
    "id": "CTQxAwCIXHvs"
   },
   "outputs": [],
   "source": [
    "def loss_derivative(X, y, theta):\n",
    "    yhat = model(X, theta)\n",
    "    diff = (yhat - y)[..., np.newaxis]\n",
    "    return X.T.dot(diff)"
   ]
  },
  {
   "cell_type": "markdown",
   "metadata": {
    "colab_type": "text",
    "id": "exB0keEPvdcf"
   },
   "source": [
    "We can test it."
   ]
  },
  {
   "cell_type": "code",
   "execution_count": null,
   "metadata": {
    "colab": {
     "base_uri": "https://localhost:8080/",
     "height": 51
    },
    "colab_type": "code",
    "id": "wHhhbswGXeH0",
    "outputId": "4a441a9f-7654-4fdd-8761-6af9c5db974f"
   },
   "outputs": [
    {
     "data": {
      "text/plain": [
       "array([[32865637.63732845],\n",
       "       [   66447.46470911]])"
      ]
     },
     "execution_count": 22,
     "metadata": {
      "tags": []
     },
     "output_type": "execute_result"
    }
   ],
   "source": [
    "loss_derivative(x, y, theta)"
   ]
  },
  {
   "cell_type": "markdown",
   "metadata": {
    "colab_type": "text",
    "id": "sY92jRQ5vfBC"
   },
   "source": [
    "Then we code up gradient descent itself."
   ]
  },
  {
   "cell_type": "code",
   "execution_count": null,
   "metadata": {
    "colab": {},
    "colab_type": "code",
    "id": "I4d8vvd9WfQX"
   },
   "outputs": [],
   "source": [
    "def gradient_descent(X, y, theta, alpha=0.01):\n",
    "    m = y.size\n",
    "    yhat = model(X, theta)\n",
    "    loss_p = loss_derivative(X, y, theta)\n",
    "    new_theta = theta - alpha * (1 / m) * loss_p\n",
    "    return new_theta"
   ]
  },
  {
   "cell_type": "markdown",
   "metadata": {
    "colab_type": "text",
    "id": "rmv0M9N-viYx"
   },
   "source": [
    "## Training\n",
    "Next up, we train our model using gradient descent and observe how the model changes and learns."
   ]
  },
  {
   "cell_type": "markdown",
   "metadata": {
    "colab_type": "text",
    "id": "yWA2G5-KvoED"
   },
   "source": [
    "Let's train for 10K epochs with a learning rate of 1e-5"
   ]
  },
  {
   "cell_type": "code",
   "execution_count": null,
   "metadata": {
    "colab": {
     "base_uri": "https://localhost:8080/",
     "height": 204
    },
    "colab_type": "code",
    "id": "nHsyRHn9WfSy",
    "outputId": "b2dc7a84-e84b-4d36-8d70-060e4b8fff33"
   },
   "outputs": [
    {
     "name": "stdout",
     "output_type": "stream",
     "text": [
      "Loss at Epoch      1: 46502.4447\n",
      "Loss at Epoch   1000: 108.9010\n",
      "Loss at Epoch   2000: 108.6805\n",
      "Loss at Epoch   3000: 108.4606\n",
      "Loss at Epoch   4000: 108.2413\n",
      "Loss at Epoch   5000: 108.0227\n",
      "Loss at Epoch   6000: 107.8048\n",
      "Loss at Epoch   7000: 107.5874\n",
      "Loss at Epoch   8000: 107.3707\n",
      "Loss at Epoch   9000: 107.1546\n",
      "Loss at Epoch  10000: 106.9392\n"
     ]
    }
   ],
   "source": [
    "epochs = 10000\n",
    "alpha = 0.00001\n",
    "theta = np.random.rand(features, 1)\n",
    "\n",
    "for e in range(1, epochs + 1):\n",
    "    yhat = model(x, theta)\n",
    "    loss = loss_function(yhat, y)\n",
    "    theta = gradient_descent(x, y, theta, alpha=alpha)\n",
    "\n",
    "    if e % 1000 == 0 or e == 1:\n",
    "        print(\"Loss at Epoch {:6}: {:.4f}\".format(e, loss))"
   ]
  },
  {
   "cell_type": "markdown",
   "metadata": {
    "colab_type": "text",
    "id": "yWk718qBvyAd"
   },
   "source": [
    "Let's write a convenience function for plotting the line."
   ]
  },
  {
   "cell_type": "code",
   "execution_count": null,
   "metadata": {
    "colab": {},
    "colab_type": "code",
    "id": "Zs0Otj-4WfZb"
   },
   "outputs": [],
   "source": [
    "def plot_line(X, theta):\n",
    "    data = np.append(X[:, 0][..., np.newaxis], yhat[..., np.newaxis], axis=1)\n",
    "    data = data[data[:, 0].argsort()]\n",
    "    plt.plot(data[:, 0], data[:, 1])"
   ]
  },
  {
   "cell_type": "markdown",
   "metadata": {
    "colab_type": "text",
    "id": "aAmvDAoDv0pZ"
   },
   "source": [
    "And plot it in conjunction with our data."
   ]
  },
  {
   "cell_type": "code",
   "execution_count": null,
   "metadata": {
    "colab": {
     "base_uri": "https://localhost:8080/",
     "height": 265
    },
    "colab_type": "code",
    "id": "0yp8414HWfb_",
    "outputId": "c2e4dc8f-e06d-41a4-ba05-f5bc8b96161d"
   },
   "outputs": [
    {
     "data": {
      "image/png": "[encoded data removed]",
      "text/plain": [
       "<Figure size 432x288 with 1 Axes>"
      ]
     },
     "metadata": {
      "needs_background": "light",
      "tags": []
     },
     "output_type": "display_data"
    }
   ],
   "source": [
    "plot_line(x, theta)\n",
    "plot_dist(x, y)"
   ]
  },
  {
   "cell_type": "markdown",
   "metadata": {
    "colab_type": "text",
    "id": "K84EKVVyv3RE"
   },
   "source": [
    "That's not the line we're looking for.\n",
    "\n",
    "Let's train for real this time, for 500K epochs with the same settings."
   ]
  },
  {
   "cell_type": "code",
   "execution_count": null,
   "metadata": {
    "colab": {},
    "colab_type": "code",
    "id": "NQZ-ns2cbREK"
   },
   "outputs": [],
   "source": [
    "theta = np.random.rand(features, 1)\n",
    "alpha = 0.00001\n",
    "epochs = 500000"
   ]
  },
  {
   "cell_type": "markdown",
   "metadata": {
    "colab_type": "text",
    "id": "-fxVzga6v9IN"
   },
   "source": [
    "And use gradient descent."
   ]
  },
  {
   "cell_type": "code",
   "execution_count": null,
   "metadata": {
    "colab": {
     "base_uri": "https://localhost:8080/",
     "height": 435
    },
    "colab_type": "code",
    "id": "6QrN8lkJWfeK",
    "outputId": "ad81ecc1-42a2-483c-e1f0-aa294ca3b277"
   },
   "outputs": [
    {
     "name": "stdout",
     "output_type": "stream",
     "text": [
      "Loss at Epoch  50000: 100.6240\n",
      "Loss at Epoch 100000: 91.4668\n",
      "Loss at Epoch 150000: 83.5487\n",
      "Loss at Epoch 200000: 76.7018\n",
      "Loss at Epoch 250000: 70.7813\n",
      "Loss at Epoch 300000: 65.6619\n",
      "Loss at Epoch 350000: 61.2351\n",
      "Loss at Epoch 400000: 57.4073\n",
      "Loss at Epoch 450000: 54.0974\n",
      "Loss at Epoch 500000: 51.2353\n"
     ]
    },
    {
     "data": {
      "image/png": "[encoded data removed]",
      "text/plain": [
       "<Figure size 432x288 with 1 Axes>"
      ]
     },
     "metadata": {
      "needs_background": "light",
      "tags": []
     },
     "output_type": "display_data"
    }
   ],
   "source": [
    "for e in range(1, epochs + 1):\n",
    "    yhat = model(x, theta)\n",
    "    loss = loss_function(yhat, y)\n",
    "    theta = gradient_descent(x, y, theta, alpha=alpha)\n",
    "\n",
    "    if e % 50000 == 0:\n",
    "        print(\"Loss at Epoch {:6}: {:.4f}\".format(e, loss))\n",
    "\n",
    "plot_line(x, theta)\n",
    "plot_dist(x, y)"
   ]
  },
  {
   "cell_type": "markdown",
   "metadata": {
    "colab_type": "text",
    "id": "D7JaQjQvv_vh"
   },
   "source": [
    "That's a better line.\n",
    "\n",
    "Let's train more."
   ]
  },
  {
   "cell_type": "code",
   "execution_count": null,
   "metadata": {
    "colab": {
     "base_uri": "https://localhost:8080/",
     "height": 435
    },
    "colab_type": "code",
    "id": "qIPiVBBLbNlg",
    "outputId": "96888481-d61d-4f2e-dfa1-71d7d2089259"
   },
   "outputs": [
    {
     "name": "stdout",
     "output_type": "stream",
     "text": [
      "Loss at Epoch  50000: 48.7604\n",
      "Loss at Epoch 100000: 46.6204\n",
      "Loss at Epoch 150000: 44.7699\n",
      "Loss at Epoch 200000: 43.1699\n",
      "Loss at Epoch 250000: 41.7862\n",
      "Loss at Epoch 300000: 40.5898\n",
      "Loss at Epoch 350000: 39.5553\n",
      "Loss at Epoch 400000: 38.6608\n",
      "Loss at Epoch 450000: 37.8872\n",
      "Loss at Epoch 500000: 37.2184\n"
     ]
    },
    {
     "data": {
      "image/png": "[encoded data removed]",
      "text/plain": [
       "<Figure size 432x288 with 1 Axes>"
      ]
     },
     "metadata": {
      "needs_background": "light",
      "tags": []
     },
     "output_type": "display_data"
    }
   ],
   "source": [
    "for e in range(1, epochs + 1):\n",
    "    yhat = model(x, theta)\n",
    "    loss = loss_function(yhat, y)\n",
    "    theta = gradient_descent(x, y, theta, alpha=alpha)\n",
    "\n",
    "    if e % 50000 == 0:\n",
    "        print(\"Loss at Epoch {:6}: {:.4f}\".format(e, loss))\n",
    "\n",
    "plot_line(x, theta)\n",
    "plot_dist(x, y)"
   ]
  },
  {
   "cell_type": "markdown",
   "metadata": {
    "colab_type": "text",
    "id": "q8U6MsdOwCNO"
   },
   "source": [
    "Getting better! One last 500K."
   ]
  },
  {
   "cell_type": "code",
   "execution_count": null,
   "metadata": {
    "colab": {
     "base_uri": "https://localhost:8080/",
     "height": 435
    },
    "colab_type": "code",
    "id": "WoTRer5qbNoU",
    "outputId": "157784fc-51fe-4c65-a29d-308a2ca556b5"
   },
   "outputs": [
    {
     "name": "stdout",
     "output_type": "stream",
     "text": [
      "Loss at Epoch  50000: 36.6400\n",
      "Loss at Epoch 100000: 36.1399\n",
      "Loss at Epoch 150000: 35.7074\n",
      "Loss at Epoch 200000: 35.3335\n",
      "Loss at Epoch 250000: 35.0101\n",
      "Loss at Epoch 300000: 34.7305\n",
      "Loss at Epoch 350000: 34.4888\n",
      "Loss at Epoch 400000: 34.2797\n",
      "Loss at Epoch 450000: 34.0989\n",
      "Loss at Epoch 500000: 33.9426\n"
     ]
    },
    {
     "data": {
      "image/png": "[encoded data removed]",
      "text/plain": [
       "<Figure size 432x288 with 1 Axes>"
      ]
     },
     "metadata": {
      "needs_background": "light",
      "tags": []
     },
     "output_type": "display_data"
    }
   ],
   "source": [
    "for e in range(1, epochs + 1):\n",
    "    yhat = model(x, theta)\n",
    "    loss = loss_function(yhat, y)\n",
    "    theta = gradient_descent(x, y, theta, alpha=alpha)\n",
    "\n",
    "    if e % 50000 == 0:\n",
    "        print(\"Loss at Epoch {:6}: {:.4f}\".format(e, loss))\n",
    "\n",
    "plot_line(x, theta)\n",
    "plot_dist(x, y)"
   ]
  },
  {
   "cell_type": "markdown",
   "metadata": {
    "colab_type": "text",
    "id": "0jDFreHDwE0z"
   },
   "source": [
    "And now we have a good fitting model for our data."
   ]
  },
  {
   "cell_type": "markdown",
   "metadata": {
    "colab_type": "text",
    "id": "rzek43XpwJ7q"
   },
   "source": [
    "## Polynomial Linear Regression\n",
    "In this section, we'll use polynomials of higher degree as our hypothesis function. Since the Boston dataset doesn't have an easily-visible feature that has a higher-degree trend, let's generate our own data."
   ]
  },
  {
   "cell_type": "code",
   "execution_count": null,
   "metadata": {
    "colab": {
     "base_uri": "https://localhost:8080/",
     "height": 34
    },
    "colab_type": "code",
    "id": "W-h7NckCfmDU",
    "outputId": "8f86146b-18fc-44a8-f9c4-e480ad78d2e4"
   },
   "outputs": [
    {
     "name": "stdout",
     "output_type": "stream",
     "text": [
      "(20, 1) (20,)\n"
     ]
    }
   ],
   "source": [
    "np.random.seed(422)\n",
    "x = np.arange(-10, 10) + np.random.normal(-1, 1)\n",
    "y = x ** 2 + x + np.random.normal(-8, 8, 20)\n",
    "\n",
    "x = x[..., np.newaxis]\n",
    "print(x.shape, y.shape)"
   ]
  },
  {
   "cell_type": "markdown",
   "metadata": {
    "colab_type": "text",
    "id": "r00BvNKSwZdC"
   },
   "source": [
    "And plot it."
   ]
  },
  {
   "cell_type": "code",
   "execution_count": null,
   "metadata": {
    "colab": {
     "base_uri": "https://localhost:8080/",
     "height": 282
    },
    "colab_type": "code",
    "id": "vdp2wf8YibCC",
    "outputId": "7bde1a0a-80e0-4a33-9fca-c60bec8db96e"
   },
   "outputs": [
    {
     "data": {
      "text/plain": [
       "[<matplotlib.lines.Line2D at 0x7f5b33061ba8>]"
      ]
     },
     "execution_count": 32,
     "metadata": {
      "tags": []
     },
     "output_type": "execute_result"
    },
    {
     "data": {
      "image/png": "[encoded data removed]",
      "text/plain": [
       "<Figure size 432x288 with 1 Axes>"
      ]
     },
     "metadata": {
      "needs_background": "light",
      "tags": []
     },
     "output_type": "display_data"
    }
   ],
   "source": [
    "ax = plt.axes()\n",
    "ax.set_xlim(np.min(x[:, 0]), np.max(x[:, 0]))\n",
    "ax.set_ylim(np.min(y), np.max(y))\n",
    "ax.plot(x[:, 0], y)"
   ]
  },
  {
   "cell_type": "markdown",
   "metadata": {
    "colab_type": "text",
    "id": "mBzsvEGdwanj"
   },
   "source": [
    "This time, it makes more sense to use a second-degree hypothesis, specifically of the form:\n",
    "\n",
    "\\begin{align}\n",
    "h_{\\theta}(x) = \\theta_01 + \\theta_1x + \\theta_2x^2 \n",
    "\\end{align}\n",
    "\n",
    "In machine learning, it is common to denote $\\theta_0 = 1$. Do note that we'll still code this up using vector notation, so we'll have to manually add the square and the bias term to our features."
   ]
  },
  {
   "cell_type": "code",
   "execution_count": null,
   "metadata": {
    "colab": {},
    "colab_type": "code",
    "id": "h2RCycLBhC5A"
   },
   "outputs": [],
   "source": [
    "x2 = np.square(x)\n",
    "bias = np.ones([x.shape[0], 1], dtype=np.int32)\n",
    "x = np.append(x, x2, axis=1)\n",
    "x = np.append(x, bias, axis=1)"
   ]
  },
  {
   "cell_type": "markdown",
   "metadata": {
    "colab_type": "text",
    "id": "AuX8M2V3w6jL"
   },
   "source": [
    "Our feature matrix now looks like this."
   ]
  },
  {
   "cell_type": "code",
   "execution_count": null,
   "metadata": {
    "colab": {
     "base_uri": "https://localhost:8080/",
     "height": 357
    },
    "colab_type": "code",
    "id": "JyPbXEQnhC9z",
    "outputId": "e8b0407b-a80c-43b5-97af-d3324bc8508b"
   },
   "outputs": [
    {
     "data": {
      "text/plain": [
       "array([[-1.16896251e+01,  1.36647335e+02,  1.00000000e+00],\n",
       "       [-1.06896251e+01,  1.14268085e+02,  1.00000000e+00],\n",
       "       [-9.68962510e+00,  9.38888345e+01,  1.00000000e+00],\n",
       "       [-8.68962510e+00,  7.55095844e+01,  1.00000000e+00],\n",
       "       [-7.68962510e+00,  5.91303342e+01,  1.00000000e+00],\n",
       "       [-6.68962510e+00,  4.47510840e+01,  1.00000000e+00],\n",
       "       [-5.68962510e+00,  3.23718338e+01,  1.00000000e+00],\n",
       "       [-4.68962510e+00,  2.19925836e+01,  1.00000000e+00],\n",
       "       [-3.68962510e+00,  1.36133334e+01,  1.00000000e+00],\n",
       "       [-2.68962510e+00,  7.23408317e+00,  1.00000000e+00],\n",
       "       [-1.68962510e+00,  2.85483297e+00,  1.00000000e+00],\n",
       "       [-6.89625098e-01,  4.75582776e-01,  1.00000000e+00],\n",
       "       [ 3.10374902e-01,  9.63325795e-02,  1.00000000e+00],\n",
       "       [ 1.31037490e+00,  1.71708238e+00,  1.00000000e+00],\n",
       "       [ 2.31037490e+00,  5.33783219e+00,  1.00000000e+00],\n",
       "       [ 3.31037490e+00,  1.09585820e+01,  1.00000000e+00],\n",
       "       [ 4.31037490e+00,  1.85793318e+01,  1.00000000e+00],\n",
       "       [ 5.31037490e+00,  2.82000816e+01,  1.00000000e+00],\n",
       "       [ 6.31037490e+00,  3.98208314e+01,  1.00000000e+00],\n",
       "       [ 7.31037490e+00,  5.34415812e+01,  1.00000000e+00]])"
      ]
     },
     "execution_count": 34,
     "metadata": {
      "tags": []
     },
     "output_type": "execute_result"
    }
   ],
   "source": [
    "x"
   ]
  },
  {
   "cell_type": "markdown",
   "metadata": {
    "colab_type": "text",
    "id": "hFa3yb24w9j8"
   },
   "source": [
    "With a shape that we can anticipate."
   ]
  },
  {
   "cell_type": "code",
   "execution_count": null,
   "metadata": {
    "colab": {
     "base_uri": "https://localhost:8080/",
     "height": 34
    },
    "colab_type": "code",
    "id": "QR_QumQdhDAD",
    "outputId": "36e1b167-fe1c-43b7-acad-3db1d30882a2"
   },
   "outputs": [
    {
     "data": {
      "text/plain": [
       "(20, 3)"
      ]
     },
     "execution_count": 35,
     "metadata": {
      "tags": []
     },
     "output_type": "execute_result"
    }
   ],
   "source": [
    "x.shape"
   ]
  },
  {
   "cell_type": "markdown",
   "metadata": {
    "colab_type": "text",
    "id": "vTpuHdp1w_gp"
   },
   "source": [
    "Let's try out a setup."
   ]
  },
  {
   "cell_type": "code",
   "execution_count": null,
   "metadata": {
    "colab": {},
    "colab_type": "code",
    "id": "OQH05RyShC73"
   },
   "outputs": [],
   "source": [
    "features = x.shape[1]\n",
    "theta = np.random.rand(features, 1)\n",
    "alpha = 0.00001\n",
    "epochs = 10000"
   ]
  },
  {
   "cell_type": "markdown",
   "metadata": {
    "colab_type": "text",
    "id": "y4lN98-JxBVr"
   },
   "source": [
    "Plotting the initial guess doesn't give a pretty accurate line."
   ]
  },
  {
   "cell_type": "code",
   "execution_count": null,
   "metadata": {
    "colab": {
     "base_uri": "https://localhost:8080/",
     "height": 282
    },
    "colab_type": "code",
    "id": "brKlVcLWo8uy",
    "outputId": "e9f4c693-5efe-44a8-e844-5564df58c694"
   },
   "outputs": [
    {
     "data": {
      "text/plain": [
       "[<matplotlib.lines.Line2D at 0x7f5b32eaff28>]"
      ]
     },
     "execution_count": 37,
     "metadata": {
      "tags": []
     },
     "output_type": "execute_result"
    },
    {
     "data": {
      "image/png": "[encoded data removed]",
      "text/plain": [
       "<Figure size 432x288 with 1 Axes>"
      ]
     },
     "metadata": {
      "needs_background": "light",
      "tags": []
     },
     "output_type": "display_data"
    }
   ],
   "source": [
    "yhat = model(x, theta)\n",
    "\n",
    "ax = plt.axes()\n",
    "ax.set_xlim(np.min(x[:, 0]), np.max(x[:, 0]))\n",
    "ax.set_ylim(np.min(y), np.max(y))\n",
    "ax.plot(x[:, 0], y)\n",
    "ax.plot(x[:, 0], yhat)"
   ]
  },
  {
   "cell_type": "markdown",
   "metadata": {
    "colab_type": "text",
    "id": "78VoxNtsxE6j"
   },
   "source": [
    "After 10K epochs:"
   ]
  },
  {
   "cell_type": "code",
   "execution_count": null,
   "metadata": {
    "colab": {
     "base_uri": "https://localhost:8080/",
     "height": 452
    },
    "colab_type": "code",
    "id": "9OBMmOXsnKiM",
    "outputId": "fb2c77d3-6ebf-47df-d832-ce1d55bcc2b0"
   },
   "outputs": [
    {
     "name": "stdout",
     "output_type": "stream",
     "text": [
      "Loss at Epoch   1000: 52.1626\n",
      "Loss at Epoch   2000: 51.9445\n",
      "Loss at Epoch   3000: 51.7433\n",
      "Loss at Epoch   4000: 51.5539\n",
      "Loss at Epoch   5000: 51.3729\n",
      "Loss at Epoch   6000: 51.1981\n",
      "Loss at Epoch   7000: 51.0280\n",
      "Loss at Epoch   8000: 50.8614\n",
      "Loss at Epoch   9000: 50.6977\n",
      "Loss at Epoch  10000: 50.5364\n"
     ]
    },
    {
     "data": {
      "text/plain": [
       "[<matplotlib.lines.Line2D at 0x7f5b32ea1a20>]"
      ]
     },
     "execution_count": 38,
     "metadata": {
      "tags": []
     },
     "output_type": "execute_result"
    },
    {
     "data": {
      "image/png": "[encoded data removed]",
      "text/plain": [
       "<Figure size 432x288 with 1 Axes>"
      ]
     },
     "metadata": {
      "needs_background": "light",
      "tags": []
     },
     "output_type": "display_data"
    }
   ],
   "source": [
    "for e in range(1, epochs + 1):\n",
    "    yhat = model(x, theta)\n",
    "    loss = loss_function(yhat, y)\n",
    "    theta = gradient_descent(x, y, theta, alpha=alpha)\n",
    "\n",
    "    if e % 1000 == 0:\n",
    "        print(\"Loss at Epoch {:6}: {:.4f}\".format(e, loss))\n",
    "\n",
    "ax = plt.axes()\n",
    "ax.set_xlim(np.min(x[:, 0]), np.max(x[:, 0]))\n",
    "ax.set_ylim(np.min(y), np.max(y))\n",
    "ax.plot(x[:, 0], y)\n",
    "ax.plot(x[:, 0], yhat)"
   ]
  },
  {
   "cell_type": "markdown",
   "metadata": {
    "colab_type": "text",
    "id": "sOhXjhFfxH0L"
   },
   "source": [
    "That's a better line!\n",
    "\n",
    "Let's see what we get if we train it more."
   ]
  },
  {
   "cell_type": "code",
   "execution_count": null,
   "metadata": {
    "colab": {
     "base_uri": "https://localhost:8080/",
     "height": 452
    },
    "colab_type": "code",
    "id": "mjvelvL_nSKg",
    "outputId": "b60c1aca-83c9-48b1-972e-4356e9d36116"
   },
   "outputs": [
    {
     "name": "stdout",
     "output_type": "stream",
     "text": [
      "Loss at Epoch  50000: 44.2406\n",
      "Loss at Epoch 100000: 40.3591\n",
      "Loss at Epoch 150000: 37.9647\n",
      "Loss at Epoch 200000: 36.4876\n",
      "Loss at Epoch 250000: 35.5765\n",
      "Loss at Epoch 300000: 35.0144\n",
      "Loss at Epoch 350000: 34.6677\n",
      "Loss at Epoch 400000: 34.4538\n",
      "Loss at Epoch 450000: 34.3219\n",
      "Loss at Epoch 500000: 34.2405\n"
     ]
    },
    {
     "data": {
      "text/plain": [
       "[<matplotlib.lines.Line2D at 0x7f5b32e0add8>]"
      ]
     },
     "execution_count": 39,
     "metadata": {
      "tags": []
     },
     "output_type": "execute_result"
    },
    {
     "data": {
      "image/png": "[encoded data removed]",
      "text/plain": [
       "<Figure size 432x288 with 1 Axes>"
      ]
     },
     "metadata": {
      "needs_background": "light",
      "tags": []
     },
     "output_type": "display_data"
    }
   ],
   "source": [
    "epochs = 500000\n",
    "for e in range(1, epochs + 1):\n",
    "    yhat = model(x, theta)\n",
    "    loss = loss_function(yhat, y)\n",
    "    theta = gradient_descent(x, y, theta, alpha=alpha)\n",
    "\n",
    "    if e % 50000 == 0:\n",
    "        print(\"Loss at Epoch {:6}: {:.4f}\".format(e, loss))\n",
    "\n",
    "ax = plt.axes()\n",
    "ax.set_xlim(np.min(x[:, 0]), np.max(x[:, 0]))\n",
    "ax.set_ylim(np.min(y), np.max(y))\n",
    "ax.plot(x[:, 0], y)\n",
    "ax.plot(x[:, 0], yhat)"
   ]
  },
  {
   "cell_type": "markdown",
   "metadata": {
    "colab_type": "text",
    "id": "NLO2-BitxLzt"
   },
   "source": [
    "It now captures the trough at the $[-3.0, 1.0]$ range.\n",
    "\n",
    "Train some more."
   ]
  },
  {
   "cell_type": "code",
   "execution_count": null,
   "metadata": {
    "colab": {
     "base_uri": "https://localhost:8080/",
     "height": 452
    },
    "colab_type": "code",
    "id": "OFsNqkE2pKXn",
    "outputId": "2ab98d17-b81d-415a-f0e2-3b05ed0aee5b"
   },
   "outputs": [
    {
     "name": "stdout",
     "output_type": "stream",
     "text": [
      "Loss at Epoch  50000: 34.1903\n",
      "Loss at Epoch 100000: 34.1593\n",
      "Loss at Epoch 150000: 34.1402\n",
      "Loss at Epoch 200000: 34.1284\n",
      "Loss at Epoch 250000: 34.1211\n",
      "Loss at Epoch 300000: 34.1166\n",
      "Loss at Epoch 350000: 34.1139\n",
      "Loss at Epoch 400000: 34.1122\n",
      "Loss at Epoch 450000: 34.1111\n",
      "Loss at Epoch 500000: 34.1105\n"
     ]
    },
    {
     "data": {
      "text/plain": [
       "[<matplotlib.lines.Line2D at 0x7f5b32d7d0f0>]"
      ]
     },
     "execution_count": 40,
     "metadata": {
      "tags": []
     },
     "output_type": "execute_result"
    },
    {
     "data": {
      "image/png": "[encoded data removed]",
      "text/plain": [
       "<Figure size 432x288 with 1 Axes>"
      ]
     },
     "metadata": {
      "needs_background": "light",
      "tags": []
     },
     "output_type": "display_data"
    }
   ],
   "source": [
    "epochs = 500000\n",
    "for e in range(1, epochs + 1):\n",
    "    yhat = model(x, theta)\n",
    "    loss = loss_function(yhat, y)\n",
    "    theta = gradient_descent(x, y, theta, alpha=alpha)\n",
    "\n",
    "    if e % 50000 == 0:\n",
    "        print(\"Loss at Epoch {:6}: {:.4f}\".format(e, loss))\n",
    "\n",
    "ax = plt.axes()\n",
    "ax.set_xlim(np.min(x[:, 0]), np.max(x[:, 0]))\n",
    "ax.set_ylim(np.min(y), np.max(y))\n",
    "ax.plot(x[:, 0], y)\n",
    "ax.plot(x[:, 0], yhat)"
   ]
  },
  {
   "cell_type": "markdown",
   "metadata": {
    "colab_type": "text",
    "id": "jImAimB6xTEm"
   },
   "source": [
    "Looking at the loss, we can see that the model isn't improving anymore. This is a signal that the model has achieved \"convergence.\"\n",
    "\n",
    "We can (in this case) verify that we have achieved the solution by using the analytical (closed form) solution:\n",
    "\n",
    "\\begin{align}\n",
    "\\theta = (X^Ty)(X^TX)^{-1}\n",
    "\\end{align}\n"
   ]
  },
  {
   "cell_type": "code",
   "execution_count": null,
   "metadata": {
    "colab": {
     "base_uri": "https://localhost:8080/",
     "height": 299
    },
    "colab_type": "code",
    "id": "dZ1MVGDvpitO",
    "outputId": "50d14221-342c-4add-fd80-23bc4da034a5"
   },
   "outputs": [
    {
     "name": "stdout",
     "output_type": "stream",
     "text": [
      "Analytical loss: 34.1105\n"
     ]
    },
    {
     "data": {
      "text/plain": [
       "[<matplotlib.lines.Line2D at 0x7f5b32d652e8>]"
      ]
     },
     "execution_count": 41,
     "metadata": {
      "tags": []
     },
     "output_type": "execute_result"
    },
    {
     "data": {
      "image/png": "[encoded data removed]",
      "text/plain": [
       "<Figure size 432x288 with 1 Axes>"
      ]
     },
     "metadata": {
      "needs_background": "light",
      "tags": []
     },
     "output_type": "display_data"
    }
   ],
   "source": [
    "theta_analytical = x.T.dot(y).dot(np.linalg.inv(x.T.dot(x)))[..., np.newaxis]\n",
    "yhat = model(x, theta)\n",
    "loss = loss_function(yhat, y)\n",
    "print(\"Analytical loss: {:.4f}\".format(loss))\n",
    "\n",
    "ax = plt.axes()\n",
    "ax.set_xlim(np.min(x[:, 0]), np.max(x[:, 0]))\n",
    "ax.set_ylim(np.min(y), np.max(y))\n",
    "ax.plot(x[:, 0], y)\n",
    "ax.plot(x[:, 0], yhat)"
   ]
  },
  {
   "cell_type": "markdown",
   "metadata": {
    "colab_type": "text",
    "id": "tM6FXPUFCYuW"
   },
   "source": [
    "Checking at the two solutions, we can see that the two methods arrive at similar theta parameters."
   ]
  },
  {
   "cell_type": "code",
   "execution_count": null,
   "metadata": {
    "colab": {
     "base_uri": "https://localhost:8080/",
     "height": 119
    },
    "colab_type": "code",
    "id": "3WumWGKKBTRY",
    "outputId": "86f3bbae-76a1-4a4f-8344-576742609f55"
   },
   "outputs": [
    {
     "name": "stdout",
     "output_type": "stream",
     "text": [
      "[[ 0.60209095]\n",
      " [ 0.95523157]\n",
      " [-8.26084417]]\n",
      "[[ 0.60457283]\n",
      " [ 0.95626765]\n",
      " [-8.32658598]]\n"
     ]
    }
   ],
   "source": [
    "print(theta)\n",
    "print(theta_analytical)"
   ]
  },
  {
   "cell_type": "code",
   "execution_count": null,
   "metadata": {
    "colab": {},
    "colab_type": "code",
    "id": "xl3VhLs-CN_v"
   },
   "outputs": [],
   "source": []
  }
 ],
 "metadata": {
  "colab": {
   "collapsed_sections": [
    "BiYwDloYqwiQ",
    "LgVCuEwGsB0t",
    "rmv0M9N-viYx",
    "rzek43XpwJ7q"
   ],
   "name": "01 - Polynomial Linear Regression (One Variable)",
   "provenance": []
  },
  "kernelspec": {
   "display_name": "Python 3",
   "language": "python",
   "name": "python3"
  },
  "language_info": {
   "codemirror_mode": {
    "name": "ipython",
    "version": 3
   },
   "file_extension": ".py",
   "mimetype": "text/x-python",
   "name": "python",
   "nbconvert_exporter": "python",
   "pygments_lexer": "ipython3",
   "version": "3.8.5"
  }
 },
 "nbformat": 4,
 "nbformat_minor": 4
}
