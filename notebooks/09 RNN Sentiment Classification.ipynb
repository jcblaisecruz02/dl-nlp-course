{
 "cells": [
  {
   "cell_type": "markdown",
   "metadata": {
    "colab_type": "text",
    "id": "JZiTj1xoaBR6"
   },
   "source": [
    "# 09 - RNN Sentiment Classification\n",
    "Prepared by Jan Christian Blaise Cruz\n",
    "\n",
    "DLSU Machine Learning Group\n",
    "\n",
    "We'll continue our demos of recurrent neural networks by using them in another task: sentiment classification. We'll first show how to use LSTMs for sentiment classification, apply some techniques to improve performance, and use all of the techniques in our toolbox so far to make a robust classifier."
   ]
  },
  {
   "cell_type": "markdown",
   "metadata": {
    "colab_type": "text",
    "id": "NIeQRLltpiXw"
   },
   "source": [
    "# Preliminaries"
   ]
  },
  {
   "cell_type": "code",
   "execution_count": null,
   "metadata": {
    "colab": {
     "base_uri": "https://localhost:8080/",
     "height": 357
    },
    "colab_type": "code",
    "id": "nz_1G-0XtYnT",
    "outputId": "8e8282a6-dadc-431d-8429-e958aa90fd2c"
   },
   "outputs": [
    {
     "name": "stdout",
     "output_type": "stream",
     "text": [
      "Tue Aug 25 11:19:17 2020       \n",
      "+-----------------------------------------------------------------------------+\n",
      "| NVIDIA-SMI 450.57       Driver Version: 418.67       CUDA Version: 10.1     |\n",
      "|-------------------------------+----------------------+----------------------+\n",
      "| GPU  Name        Persistence-M| Bus-Id        Disp.A | Volatile Uncorr. ECC |\n",
      "| Fan  Temp  Perf  Pwr:Usage/Cap|         Memory-Usage | GPU-Util  Compute M. |\n",
      "|                               |                      |               MIG M. |\n",
      "|===============================+======================+======================|\n",
      "|   0  Tesla P100-PCIE...  Off  | 00000000:00:04.0 Off |                    0 |\n",
      "| N/A   38C    P0    26W / 250W |      0MiB / 16280MiB |      0%      Default |\n",
      "|                               |                      |                 ERR! |\n",
      "+-------------------------------+----------------------+----------------------+\n",
      "                                                                               \n",
      "+-----------------------------------------------------------------------------+\n",
      "| Processes:                                                                  |\n",
      "|  GPU   GI   CI        PID   Type   Process name                  GPU Memory |\n",
      "|        ID   ID                                                   Usage      |\n",
      "|=============================================================================|\n",
      "|  No running processes found                                                 |\n",
      "+-----------------------------------------------------------------------------+\n"
     ]
    }
   ],
   "source": [
    "!nvidia-smi"
   ]
  },
  {
   "cell_type": "markdown",
   "metadata": {
    "colab_type": "text",
    "id": "RRzkU4j6aV03"
   },
   "source": [
    "We'll download the iMDB sentiment dataset."
   ]
  },
  {
   "cell_type": "code",
   "execution_count": null,
   "metadata": {
    "colab": {},
    "colab_type": "code",
    "id": "kim8Wh2WtlaL"
   },
   "outputs": [],
   "source": [
    "!wget https://s3.us-east-2.amazonaws.com/blaisecruz.com/datasets/imdb/imdb.zip\n",
    "!unzip imdb.zip && rm imdb.zip"
   ]
  },
  {
   "cell_type": "markdown",
   "metadata": {
    "colab_type": "text",
    "id": "3ytcj_zKaZw7"
   },
   "source": [
    "Standard imports."
   ]
  },
  {
   "cell_type": "code",
   "execution_count": null,
   "metadata": {
    "colab": {},
    "colab_type": "code",
    "id": "xPCn0d6tt7kB"
   },
   "outputs": [],
   "source": [
    "import torch\n",
    "import torch.nn as nn\n",
    "import torch.optim as optim\n",
    "import torch.optim.lr_scheduler as lr_scheduler\n",
    "import torch.utils.data as data_utils\n",
    "\n",
    "import numpy as np\n",
    "import pandas as pd\n",
    "from tqdm import tqdm\n",
    "\n",
    "import spacy\n",
    "en = spacy.load('en')\n",
    "\n",
    "torch.manual_seed(42)\n",
    "np.random.seed(42)\n",
    "device = torch.device('cuda' if torch.cuda.is_available() else 'cpu')"
   ]
  },
  {
   "cell_type": "markdown",
   "metadata": {
    "colab_type": "text",
    "id": "NgcipVFe5rmL"
   },
   "source": [
    "# Data Preprocessing"
   ]
  },
  {
   "cell_type": "markdown",
   "metadata": {
    "colab_type": "text",
    "id": "Ol7SW1gmaczg"
   },
   "source": [
    "Load and shuffle the dataset."
   ]
  },
  {
   "cell_type": "code",
   "execution_count": null,
   "metadata": {
    "colab": {},
    "colab_type": "code",
    "id": "YAJSBDSwuPPh"
   },
   "outputs": [],
   "source": [
    "df = pd.read_csv('imdb/train.csv').sample(frac=1.0, random_state=42)\n",
    "text, labels = list(df['text']), list(df['sentiment'])"
   ]
  },
  {
   "cell_type": "markdown",
   "metadata": {
    "colab_type": "text",
    "id": "Va6KQnyjaegs"
   },
   "source": [
    "Here's the first example."
   ]
  },
  {
   "cell_type": "code",
   "execution_count": null,
   "metadata": {
    "colab": {
     "base_uri": "https://localhost:8080/",
     "height": 140
    },
    "colab_type": "code",
    "id": "mKcZ-vQsubVQ",
    "outputId": "d27fe88d-d938-4edd-e52a-904be6312da3"
   },
   "outputs": [
    {
     "data": {
      "application/vnd.google.colaboratory.intrinsic+json": {
       "type": "string"
      },
      "text/plain": [
       "\"Great little thriller. I was expecting some type of silly horror movie but what I got was tight short thriller that waste none of our time. Mostof these movies we have to get into the back characters stories so we will either feel sympathy for them or hatred when people start getting killed. o such foolishness here. Yes you see a few characters but they really only interact with the principals. Such as the husband wife at the motel whose room was canceled. We saw them so we could just how efficient the Lisa character was and how inefficient the new Hotel clerk was. We see the little girl simply because she will have a very small but important role later in the movie when all heck breaks loose. THe Flight Atrendants because we need on in particular to move the plot ahead. The bad guy in particular needs her in the beginning of the flight. The rude guy in the airport was important to the movie too. The only 2 characters that were just 5 liners with no use to the plot were the two young guys on the plane. THat was clever because I thought they would have something to do with plot. From the first scene to the last the woman character a young hotel executive named Lisa is in charge. Even when Jackson shows his true colors she doesn't panic. She thinks what she can do to stall time. Any other movie the smart executive women would be acting like idiots. But not this one. It was a very short movie and I was waiting for the usual plot devices to kick in because the movie seemed to be coming to its conclusion fast. Thankfuly none of them were used. The new hotel clerk did not do the usual called and told her what to do, which is panic drop the phone and run out of the hotel without saying anything, or question your boss and tell her she had to much to drink and just dismiss her. Was Craven should do more of these types of movies. Also one last comment. Brian Cox is in the movie but I had not one clue who he was. I had to come over here to see that he is Lisa's father. He is completely unrecognizable.\""
      ]
     },
     "execution_count": 5,
     "metadata": {
      "tags": []
     },
     "output_type": "execute_result"
    }
   ],
   "source": [
    "text[0]"
   ]
  },
  {
   "cell_type": "markdown",
   "metadata": {
    "colab_type": "text",
    "id": "KzVH2op-afyT"
   },
   "source": [
    "We'll code up a tokenization function using Spacy. You may use your own here, but for the purpose of demonstration, we'll use a pretrained tokenizer."
   ]
  },
  {
   "cell_type": "code",
   "execution_count": null,
   "metadata": {
    "colab": {},
    "colab_type": "code",
    "id": "Mub2lwQqueWp"
   },
   "outputs": [],
   "source": [
    "def tokenize(t): return [str(token) for token in en(t)]"
   ]
  },
  {
   "cell_type": "markdown",
   "metadata": {
    "colab_type": "text",
    "id": "rkMVRexfalXS"
   },
   "source": [
    "This next cell takes about 20 minutes to process, so to save time, we'll load a pre-tokenized version of the dataset."
   ]
  },
  {
   "cell_type": "code",
   "execution_count": null,
   "metadata": {
    "colab": {},
    "colab_type": "code",
    "id": "fhHKM93cuogJ"
   },
   "outputs": [],
   "source": [
    "#text = [tokenize(t) for t in tqdm(text)]\n",
    "#with open('tokenized.pt', 'wb') as f:\n",
    "#    torch.save([text], f)"
   ]
  },
  {
   "cell_type": "markdown",
   "metadata": {
    "colab_type": "text",
    "id": "ixjXsE_jast3"
   },
   "source": [
    "Download the tokenized version."
   ]
  },
  {
   "cell_type": "code",
   "execution_count": null,
   "metadata": {
    "colab": {},
    "colab_type": "code",
    "id": "zxEr5jzyCM4O"
   },
   "outputs": [],
   "source": [
    "#!wget https://s3.us-east-2.amazonaws.com/blaisecruz.com/datasets/imdb/tokenized.pt"
   ]
  },
  {
   "cell_type": "markdown",
   "metadata": {
    "colab_type": "text",
    "id": "V8c4k23VauNw"
   },
   "source": [
    "Then load it."
   ]
  },
  {
   "cell_type": "code",
   "execution_count": null,
   "metadata": {
    "colab": {},
    "colab_type": "code",
    "id": "IzGCv2mdvyJD"
   },
   "outputs": [],
   "source": [
    "with open('tokenized.pt', 'rb') as f:\n",
    "    text = torch.load(f)[0]"
   ]
  },
  {
   "cell_type": "markdown",
   "metadata": {
    "colab_type": "text",
    "id": "vPYcLxoCavNn"
   },
   "source": [
    "Here's the first review in tokenized form."
   ]
  },
  {
   "cell_type": "code",
   "execution_count": null,
   "metadata": {
    "colab": {
     "base_uri": "https://localhost:8080/",
     "height": 54
    },
    "colab_type": "code",
    "id": "zAge5Gw6wAyj",
    "outputId": "c210815e-ad44-44b9-8098-9263345e10b9"
   },
   "outputs": [
    {
     "name": "stdout",
     "output_type": "stream",
     "text": [
      "['Great', 'little', 'thriller', '.', 'I', 'was', 'expecting', 'some', 'type', 'of', 'silly', 'horror', 'movie', 'but', 'what', 'I', 'got', 'was', 'tight', 'short', 'thriller', 'that', 'waste', 'none', 'of', 'our', 'time', '.', 'Mostof', 'these', 'movies', 'we', 'have', 'to', 'get', 'into', 'the', 'back', 'characters', 'stories', 'so', 'we', 'will', 'either', 'feel', 'sympathy', 'for', 'them', 'or', 'hatred', 'when', 'people', 'start', 'getting', 'killed', '.', 'o', 'such', 'foolishness', 'here', '.', 'Yes', 'you', 'see', 'a', 'few', 'characters', 'but', 'they', 'really', 'only', 'interact', 'with', 'the', 'principals', '.', 'Such', 'as', 'the', 'husband', 'wife', 'at', 'the', 'motel', 'whose', 'room', 'was', 'canceled', '.', 'We', 'saw', 'them', 'so', 'we', 'could', 'just', 'how', 'efficient', 'the', 'Lisa', 'character', 'was', 'and', 'how', 'inefficient', 'the', 'new', 'Hotel', 'clerk', 'was', '.', 'We', 'see', 'the', 'little', 'girl', 'simply', 'because', 'she', 'will', 'have', 'a', 'very', 'small', 'but', 'important', 'role', 'later', 'in', 'the', 'movie', 'when', 'all', 'heck', 'breaks', 'loose', '.', 'THe', 'Flight', 'Atrendants', 'because', 'we', 'need', 'on', 'in', 'particular', 'to', 'move', 'the', 'plot', 'ahead', '.', 'The', 'bad', 'guy', 'in', 'particular', 'needs', 'her', 'in', 'the', 'beginning', 'of', 'the', 'flight', '.', 'The', 'rude', 'guy', 'in', 'the', 'airport', 'was', 'important', 'to', 'the', 'movie', 'too', '.', 'The', 'only', '2', 'characters', 'that', 'were', 'just', '5', 'liners', 'with', 'no', 'use', 'to', 'the', 'plot', 'were', 'the', 'two', 'young', 'guys', 'on', 'the', 'plane', '.', 'THat', 'was', 'clever', 'because', 'I', 'thought', 'they', 'would', 'have', 'something', 'to', 'do', 'with', 'plot', '.', 'From', 'the', 'first', 'scene', 'to', 'the', 'last', 'the', 'woman', 'character', 'a', 'young', 'hotel', 'executive', 'named', 'Lisa', 'is', 'in', 'charge', '.', 'Even', 'when', 'Jackson', 'shows', 'his', 'true', 'colors', 'she', 'does', \"n't\", 'panic', '.', 'She', 'thinks', 'what', 'she', 'can', 'do', 'to', 'stall', 'time', '.', 'Any', 'other', 'movie', 'the', 'smart', 'executive', 'women', 'would', 'be', 'acting', 'like', 'idiots', '.', 'But', 'not', 'this', 'one', '.', 'It', 'was', 'a', 'very', 'short', 'movie', 'and', 'I', 'was', 'waiting', 'for', 'the', 'usual', 'plot', 'devices', 'to', 'kick', 'in', 'because', 'the', 'movie', 'seemed', 'to', 'be', 'coming', 'to', 'its', 'conclusion', 'fast', '.', 'Thankfuly', 'none', 'of', 'them', 'were', 'used', '.', 'The', 'new', 'hotel', 'clerk', 'did', 'not', 'do', 'the', 'usual', 'called', 'and', 'told', 'her', 'what', 'to', 'do', ',', 'which', 'is', 'panic', 'drop', 'the', 'phone', 'and', 'run', 'out', 'of', 'the', 'hotel', 'without', 'saying', 'anything', ',', 'or', 'question', 'your', 'boss', 'and', 'tell', 'her', 'she', 'had', 'to', 'much', 'to', 'drink', 'and', 'just', 'dismiss', 'her', '.', 'Was', 'Craven', 'should', 'do', 'more', 'of', 'these', 'types', 'of', 'movies', '.', 'Also', 'one', 'last', 'comment', '.', 'Brian', 'Cox', 'is', 'in', 'the', 'movie', 'but', 'I', 'had', 'not', 'one', 'clue', 'who', 'he', 'was', '.', 'I', 'had', 'to', 'come', 'over', 'here', 'to', 'see', 'that', 'he', 'is', 'Lisa', \"'s\", 'father', '.', 'He', 'is', 'completely', 'unrecognizable', '.']\n"
     ]
    }
   ],
   "source": [
    "print(text[0])"
   ]
  },
  {
   "cell_type": "markdown",
   "metadata": {
    "colab_type": "text",
    "id": "CDSP3M3daxT2"
   },
   "source": [
    "We'll remove capitalization to reduce the vocabulary and prevent our weights from being too sparse. To prevent loss of information, we'll add special tokens to denote capitalization instead.\n",
    "\n",
    "We will also trim and pad our sequences to a specific **Maximum Sequence Length** (MSL). Unlike in language modeling, we will actually batch our samples, and they will have to be of same lengths."
   ]
  },
  {
   "cell_type": "code",
   "execution_count": null,
   "metadata": {
    "colab": {},
    "colab_type": "code",
    "id": "eMXddC1ZwPcE"
   },
   "outputs": [],
   "source": [
    "def process(line, msl):\n",
    "    # Process each character\n",
    "    temp = []\n",
    "    for token in line:\n",
    "        if token.isupper():\n",
    "            temp.append('<cap>')\n",
    "        elif token[0].isupper():\n",
    "            temp.append('<maj>')\n",
    "        temp.append(token.lower())\n",
    "    temp.append('<eos>')\n",
    "\n",
    "    # Pad/trim to MSL\n",
    "    temp = temp[:msl]\n",
    "    if len(temp) < msl:\n",
    "        temp += ['<pad>' for _ in range(msl - len(temp))]\n",
    "    \n",
    "    return temp"
   ]
  },
  {
   "cell_type": "markdown",
   "metadata": {
    "colab_type": "text",
    "id": "WvxwjHFObGwY"
   },
   "source": [
    "Here's an example."
   ]
  },
  {
   "cell_type": "code",
   "execution_count": null,
   "metadata": {
    "colab": {
     "base_uri": "https://localhost:8080/",
     "height": 54
    },
    "colab_type": "code",
    "id": "7NQqNCdMweFk",
    "outputId": "cd4cb903-bc06-495e-c99f-1ec37d0e5591"
   },
   "outputs": [
    {
     "name": "stdout",
     "output_type": "stream",
     "text": [
      "['<maj>', 'great', 'little', 'thriller', '.', '<cap>', 'i', 'was', 'expecting', 'some', 'type', 'of', 'silly', 'horror', 'movie', 'but', 'what', '<cap>', 'i', 'got', 'was', 'tight', 'short', 'thriller', 'that', 'waste', 'none', 'of', 'our', 'time', '.', '<maj>', 'mostof', 'these', 'movies', 'we', 'have', 'to', 'get', 'into', 'the', 'back', 'characters', 'stories', 'so', 'we', 'will', 'either', 'feel', 'sympathy', 'for', 'them', 'or', 'hatred', 'when', 'people', 'start', 'getting', 'killed', '.', 'o', 'such', 'foolishness', 'here', '.', '<maj>', 'yes', 'you', 'see', 'a', 'few', 'characters', 'but', 'they', 'really', 'only', 'interact', 'with', 'the', 'principals', '.', '<maj>', 'such', 'as', 'the', 'husband', 'wife', 'at', 'the', 'motel', 'whose', 'room', 'was', 'canceled', '.', '<maj>', 'we', 'saw', 'them', 'so', 'we', 'could', 'just', 'how', 'efficient', 'the', '<maj>', 'lisa', 'character', 'was', 'and', 'how', 'inefficient', 'the', 'new', '<maj>', 'hotel', 'clerk', 'was', '.', '<maj>', 'we', 'see', 'the', 'little', 'girl', 'simply', 'because', 'she', 'will', 'have', 'a', 'very', 'small', 'but', 'important', 'role', 'later', 'in', 'the', 'movie', 'when', 'all', 'heck', 'breaks', 'loose', '.', '<maj>', 'the', '<maj>', 'flight', '<maj>', 'atrendants', 'because', 'we', 'need', 'on', 'in', 'particular', 'to', 'move', 'the', 'plot', 'ahead', '.', '<maj>', 'the', 'bad', 'guy', 'in', 'particular', 'needs', 'her', 'in', 'the', 'beginning', 'of', 'the', 'flight', '.', '<maj>', 'the', 'rude', 'guy', 'in', 'the', 'airport', 'was', 'important', 'to', 'the', 'movie', 'too', '.', '<maj>', 'the', 'only', '2', 'characters', 'that', 'were', 'just', '5', 'liners', 'with', 'no', 'use', 'to', 'the', 'plot', 'were', 'the', 'two', 'young', 'guys', 'on', 'the', 'plane', '.', '<maj>', 'that', 'was', 'clever', 'because', '<cap>', 'i', 'thought', 'they', 'would', 'have', 'something', 'to', 'do', 'with', 'plot', '.', '<maj>', 'from', 'the', 'first', 'scene', 'to', 'the', 'last', 'the', 'woman', 'character', 'a', 'young', 'hotel', 'executive', 'named', '<maj>', 'lisa', 'is', 'in', 'charge', '.', '<maj>', 'even', 'when', '<maj>', 'jackson', 'shows', 'his', 'true', 'colors', 'she', 'does', \"n't\", 'panic', '.', '<maj>', 'she', 'thinks', 'what', 'she', 'can', 'do', 'to', 'stall', 'time', '.', '<maj>', 'any', 'other', 'movie', 'the', 'smart', 'executive', 'women', 'would', 'be', 'acting', 'like', 'idiots', '.', '<maj>', 'but', 'not', 'this', 'one', '.', '<maj>', 'it', 'was', 'a', 'very', 'short', 'movie', 'and', '<cap>', 'i', 'was', 'waiting', 'for', 'the', 'usual', 'plot', 'devices', 'to', 'kick', 'in', 'because', 'the', 'movie', 'seemed', 'to', 'be', 'coming', 'to', 'its', 'conclusion', 'fast', '.', '<maj>', 'thankfuly', 'none', 'of', 'them', 'were', 'used', '.', '<maj>', 'the', 'new', 'hotel', 'clerk', 'did', 'not', 'do', 'the', 'usual', 'called', 'and', 'told', 'her', 'what', 'to', 'do', ',', 'which', 'is', 'panic', 'drop', 'the', 'phone', 'and', 'run', 'out', 'of', 'the', 'hotel', 'without', 'saying', 'anything', ',', 'or', 'question', 'your', 'boss', 'and', 'tell', 'her', 'she', 'had', 'to', 'much', 'to', 'drink', 'and', 'just', 'dismiss', 'her', '.', '<maj>', 'was', '<maj>', 'craven', 'should', 'do', 'more', 'of', 'these', 'types', 'of', 'movies', '.', '<maj>', 'also', 'one', 'last', 'comment', '.', '<maj>', 'brian', '<maj>', 'cox', 'is', 'in', 'the', 'movie', 'but', '<cap>', 'i', 'had', 'not', 'one', 'clue', 'who', 'he', 'was', '.', '<cap>', 'i', 'had', 'to', 'come', 'over', 'here', 'to', 'see', 'that', 'he', 'is', '<maj>', 'lisa', \"'s\", 'father', '.', '<maj>', 'he', 'is', 'completely', 'unrecognizable', '.', '<eos>', '<pad>', '<pad>', '<pad>', '<pad>', '<pad>', '<pad>', '<pad>', '<pad>', '<pad>', '<pad>', '<pad>', '<pad>', '<pad>', '<pad>', '<pad>', '<pad>', '<pad>', '<pad>', '<pad>', '<pad>', '<pad>', '<pad>', '<pad>', '<pad>', '<pad>', '<pad>', '<pad>', '<pad>', '<pad>', '<pad>', '<pad>', '<pad>', '<pad>', '<pad>', '<pad>', '<pad>', '<pad>', '<pad>', '<pad>', '<pad>', '<pad>', '<pad>', '<pad>', '<pad>', '<pad>', '<pad>', '<pad>', '<pad>', '<pad>', '<pad>', '<pad>', '<pad>', '<pad>', '<pad>', '<pad>']\n"
     ]
    }
   ],
   "source": [
    "print(process(text[0], msl=512))"
   ]
  },
  {
   "cell_type": "markdown",
   "metadata": {
    "colab_type": "text",
    "id": "7aehACHFbIOr"
   },
   "source": [
    "We'll limit the length of the reviews to the median length of the entire dataset."
   ]
  },
  {
   "cell_type": "code",
   "execution_count": null,
   "metadata": {
    "colab": {
     "base_uri": "https://localhost:8080/",
     "height": 34
    },
    "colab_type": "code",
    "id": "vRjH0CgRwsvE",
    "outputId": "f2e74594-97bc-4081-94cb-40ac8f2272ed"
   },
   "outputs": [
    {
     "name": "stdout",
     "output_type": "stream",
     "text": [
      "204\n"
     ]
    }
   ],
   "source": [
    "med_msl = int(np.median([len(line) for line in text]))\n",
    "print(med_msl)"
   ]
  },
  {
   "cell_type": "markdown",
   "metadata": {
    "colab_type": "text",
    "id": "R7CoXaO7bMOO"
   },
   "source": [
    "Process the entire dataset."
   ]
  },
  {
   "cell_type": "code",
   "execution_count": null,
   "metadata": {
    "colab": {
     "base_uri": "https://localhost:8080/",
     "height": 34
    },
    "colab_type": "code",
    "id": "9qwEDmwVxKCH",
    "outputId": "afbdacdc-776b-41b6-c661-51fbe25854d0"
   },
   "outputs": [
    {
     "name": "stderr",
     "output_type": "stream",
     "text": [
      "100%|██████████| 25000/25000 [00:02<00:00, 11654.02it/s]\n"
     ]
    }
   ],
   "source": [
    "text = [process(line, msl=med_msl) for line in tqdm(text)]"
   ]
  },
  {
   "cell_type": "markdown",
   "metadata": {
    "colab_type": "text",
    "id": "UAWccGzGbNTV"
   },
   "source": [
    "Then split in to training and validation sets."
   ]
  },
  {
   "cell_type": "code",
   "execution_count": null,
   "metadata": {
    "colab": {},
    "colab_type": "code",
    "id": "b3PpJ-YFxYrm"
   },
   "outputs": [],
   "source": [
    "tr_sz = int(len(text) * 0.7) \n",
    "\n",
    "X_train, y_train = text[:tr_sz], labels[:tr_sz]\n",
    "X_valid, y_valid = text[tr_sz:], labels[tr_sz:]"
   ]
  },
  {
   "cell_type": "markdown",
   "metadata": {
    "colab_type": "text",
    "id": "2KwisZvobPCy"
   },
   "source": [
    "Here's the sizes of our data."
   ]
  },
  {
   "cell_type": "code",
   "execution_count": null,
   "metadata": {
    "colab": {
     "base_uri": "https://localhost:8080/",
     "height": 34
    },
    "colab_type": "code",
    "id": "R4rsvjWZxnVI",
    "outputId": "66d9dfda-cd0e-451d-dea8-fee6947540dc"
   },
   "outputs": [
    {
     "data": {
      "text/plain": [
       "(17500, 7500)"
      ]
     },
     "execution_count": 16,
     "metadata": {
      "tags": []
     },
     "output_type": "execute_result"
    }
   ],
   "source": [
    "len(X_train), len(X_valid)"
   ]
  },
  {
   "cell_type": "markdown",
   "metadata": {
    "colab_type": "text",
    "id": "Qx3NoIuGbQXx"
   },
   "source": [
    "Next, we'll build a vocabulary."
   ]
  },
  {
   "cell_type": "code",
   "execution_count": null,
   "metadata": {
    "colab": {},
    "colab_type": "code",
    "id": "Ebe0KiB2x1-o"
   },
   "outputs": [],
   "source": [
    "idx2word = ['<unk>', '<pad>', '<maj>', '<cap>', '<eos>']\n",
    "for line in X_train: idx2word.extend(line)\n",
    "vocab_set = set(idx2word)\n",
    "idx2word = list(vocab_set)\n",
    "\n",
    "word2idx = {idx2word[i]: i for i in range(len(idx2word))}"
   ]
  },
  {
   "cell_type": "markdown",
   "metadata": {
    "colab_type": "text",
    "id": "-DDNf16YbSWl"
   },
   "source": [
    "Check the number of tokens in the vocab set."
   ]
  },
  {
   "cell_type": "code",
   "execution_count": null,
   "metadata": {
    "colab": {
     "base_uri": "https://localhost:8080/",
     "height": 34
    },
    "colab_type": "code",
    "id": "lKbpoG4pyEoL",
    "outputId": "22ac65af-1dad-4e80-d49c-844ccdfcbaa7"
   },
   "outputs": [
    {
     "data": {
      "text/plain": [
       "56108"
      ]
     },
     "execution_count": 18,
     "metadata": {
      "tags": []
     },
     "output_type": "execute_result"
    }
   ],
   "source": [
    "len(vocab_set)"
   ]
  },
  {
   "cell_type": "markdown",
   "metadata": {
    "colab_type": "text",
    "id": "2NKPfebRbUum"
   },
   "source": [
    "Then convert all tokens in the validation set that aren't present in the vocabulary into unknown tokens."
   ]
  },
  {
   "cell_type": "code",
   "execution_count": null,
   "metadata": {
    "colab": {
     "base_uri": "https://localhost:8080/",
     "height": 34
    },
    "colab_type": "code",
    "id": "pTWHZLwDyTRs",
    "outputId": "0515d7e3-7afb-4eab-ba6a-508a0c5ba39d"
   },
   "outputs": [
    {
     "name": "stderr",
     "output_type": "stream",
     "text": [
      "100%|██████████| 7500/7500 [00:00<00:00, 35039.20it/s]\n"
     ]
    }
   ],
   "source": [
    "X_valid = [[token if token in vocab_set else '<unk>' for token in line] for line in tqdm(X_valid)]"
   ]
  },
  {
   "cell_type": "markdown",
   "metadata": {
    "colab_type": "text",
    "id": "uK0fefrqbaYx"
   },
   "source": [
    "Here's an example."
   ]
  },
  {
   "cell_type": "code",
   "execution_count": null,
   "metadata": {
    "colab": {
     "base_uri": "https://localhost:8080/",
     "height": 54
    },
    "colab_type": "code",
    "id": "55Nq0u2RvU2E",
    "outputId": "7f1096cc-e0bf-4f5d-f5f7-c40c0f41a342"
   },
   "outputs": [
    {
     "name": "stdout",
     "output_type": "stream",
     "text": [
      "['<maj>', 'bonanza', '\"', ',', '<cap>', 'in', '<cap>', 'color', '!', '!', '!', '<maj>', 'this', '<unk>', 'western', 'evokes', 'an', '<maj>', 'american', 'tradition', 'which', 'accompanies', 'the', '<unk>', 'of', 'the', 'typical', '<cap>', 'u.s.', 'household', 'during', 'the', 'era', 'in', 'which', 'it', 'was', 'viewed', '..', '<maj>', 'the', 'breathtaking', 'cinematography', 'of', '<maj>', 'lake', '<maj>', 'tahoe', 'symbolized', 'an', 'infinite', 'prosperity', 'of', 'the', 'emerging', '<maj>', 'american', 'culture', '!', '!', '<maj>', 'western', '<maj>', 'movies', 'were', 'so', 'popular', 'that', '<maj>', 'western', '<maj>', 'television', '<maj>', 'shows', 'followed', 'suit', '!', '!', '<maj>', 'this', 'was', 'a', 'period', 'in', 'time', 'in', 'our', 'country', 'which', 'yearned', 'for', 'a', 'concise', 'reflection', 'on', 'our', 'own', 'country', \"'s\", 'struggle', 'for', 'survival', '!', '!', '<maj>', 'the', 'end', 'result', 'of', 'the', 'trials', 'and', 'tribulations', 'at', 'the', '<maj>', 'ponderosa', '<maj>', 'ranch', ',', 'as', 'demonstrated', 'in', 'this', 'series', ',', 'sparked', 'a', 'realization', 'that', '<maj>', 'americans', 'are', 'now', 'auspiciously', 'enjoying', 'the', 'fruits', 'of', 'the', '<maj>', 'cartwright', \"'s\", 'painstaking']\n"
     ]
    }
   ],
   "source": [
    "print(X_valid[3][60:])"
   ]
  },
  {
   "cell_type": "markdown",
   "metadata": {
    "colab_type": "text",
    "id": "MgWJLwrVbbMp"
   },
   "source": [
    "Next, we'll convert the data into their corresponding indices in the vocabulary."
   ]
  },
  {
   "cell_type": "code",
   "execution_count": null,
   "metadata": {
    "colab": {
     "base_uri": "https://localhost:8080/",
     "height": 51
    },
    "colab_type": "code",
    "id": "A12ZdTUivjfg",
    "outputId": "784eab83-4d2a-4ad7-e35a-5a10b83bec4a"
   },
   "outputs": [
    {
     "name": "stderr",
     "output_type": "stream",
     "text": [
      "100%|██████████| 17500/17500 [00:00<00:00, 39060.92it/s]\n",
      "100%|██████████| 7500/7500 [00:00<00:00, 46508.29it/s]\n"
     ]
    }
   ],
   "source": [
    "def serialize(line, word2idx):\n",
    "    return [word2idx[token] for token in line]\n",
    "\n",
    "X_train = [serialize(line, word2idx) for line in tqdm(X_train)]\n",
    "X_valid = [serialize(line, word2idx) for line in tqdm(X_valid)]"
   ]
  },
  {
   "cell_type": "markdown",
   "metadata": {
    "colab_type": "text",
    "id": "N8k-LNKmbfyp"
   },
   "source": [
    "Turn them into tensors."
   ]
  },
  {
   "cell_type": "code",
   "execution_count": null,
   "metadata": {
    "colab": {},
    "colab_type": "code",
    "id": "vQfg14t516t5"
   },
   "outputs": [],
   "source": [
    "X_train, y_train = torch.LongTensor(X_train), torch.LongTensor(y_train)\n",
    "X_valid, y_valid = torch.LongTensor(X_valid), torch.LongTensor(y_valid)"
   ]
  },
  {
   "cell_type": "markdown",
   "metadata": {
    "colab_type": "text",
    "id": "MYkn7hK2bhFt"
   },
   "source": [
    "Here's the final shapes of our training and validation sets."
   ]
  },
  {
   "cell_type": "code",
   "execution_count": null,
   "metadata": {
    "colab": {
     "base_uri": "https://localhost:8080/",
     "height": 34
    },
    "colab_type": "code",
    "id": "9AJyl5pJ2SUK",
    "outputId": "d6f5c600-76dc-401d-fb8e-105135fbfa42"
   },
   "outputs": [
    {
     "data": {
      "text/plain": [
       "(torch.Size([17500, 204]), torch.Size([7500, 204]))"
      ]
     },
     "execution_count": 23,
     "metadata": {
      "tags": []
     },
     "output_type": "execute_result"
    }
   ],
   "source": [
    "X_train.shape, X_valid.shape"
   ]
  },
  {
   "cell_type": "markdown",
   "metadata": {
    "colab_type": "text",
    "id": "AIR3prwubjNx"
   },
   "source": [
    "Lastly, we'll prepare dataloaders with a batch size of 32."
   ]
  },
  {
   "cell_type": "code",
   "execution_count": null,
   "metadata": {
    "colab": {},
    "colab_type": "code",
    "id": "I3fB1M6C2lMh"
   },
   "outputs": [],
   "source": [
    "bs = 32\n",
    "\n",
    "train_set = data_utils.TensorDataset(X_train, y_train)\n",
    "valid_set = data_utils.TensorDataset(X_valid, y_valid)\n",
    "\n",
    "train_sampler = data_utils.RandomSampler(train_set)\n",
    "train_loader = data_utils.DataLoader(train_set, batch_size=bs, sampler=train_sampler)\n",
    "valid_loader = data_utils.DataLoader(valid_set, batch_size=bs, shuffle=False)"
   ]
  },
  {
   "cell_type": "markdown",
   "metadata": {
    "colab_type": "text",
    "id": "_ZVo49VAbly-"
   },
   "source": [
    "Here's the first batch."
   ]
  },
  {
   "cell_type": "code",
   "execution_count": null,
   "metadata": {
    "colab": {
     "base_uri": "https://localhost:8080/",
     "height": 204
    },
    "colab_type": "code",
    "id": "v2Gq4Pvj26mZ",
    "outputId": "38cf51c1-d5e0-419c-9fa4-7b47dac0e91b"
   },
   "outputs": [
    {
     "name": "stdout",
     "output_type": "stream",
     "text": [
      "torch.Size([32, 204])\n",
      "torch.Size([32])\n",
      "tensor([[18249, 28098, 50170,  ..., 22919, 34310, 34312],\n",
      "        [18249, 51860, 51614,  ...,  7469, 11756, 43289],\n",
      "        [ 7469, 45548, 43537,  ..., 51221, 51221, 51221],\n",
      "        ...,\n",
      "        [18249, 28098, 40617,  ..., 51221, 51221, 51221],\n",
      "        [18249, 42748,  4271,  ..., 23061, 18413, 10213],\n",
      "        [ 7469,  9551,  3272,  ..., 51221, 51221, 51221]])\n",
      "tensor([1, 0, 0, 0, 0, 0, 1, 0, 0, 0, 0, 0, 0, 1, 1, 1, 1, 1, 0, 1, 0, 1, 1, 1,\n",
      "        0, 1, 0, 0, 0, 1, 0, 0])\n"
     ]
    }
   ],
   "source": [
    "x, y = next(iter(train_loader))\n",
    "print(x.shape)\n",
    "print(y.shape)\n",
    "print(x)\n",
    "print(y)"
   ]
  },
  {
   "cell_type": "markdown",
   "metadata": {
    "colab_type": "text",
    "id": "35Xbk6wx3N3t"
   },
   "source": [
    "# LSTMs for Classification"
   ]
  },
  {
   "cell_type": "markdown",
   "metadata": {
    "colab_type": "text",
    "id": "AWZkaMnbbu3s"
   },
   "source": [
    "To see how everything works together, we'll see them in separate modules first. Let's build an embedding layer."
   ]
  },
  {
   "cell_type": "code",
   "execution_count": null,
   "metadata": {
    "colab": {},
    "colab_type": "code",
    "id": "0viJItZX3AJS"
   },
   "outputs": [],
   "source": [
    "embeddings = nn.Embedding(len(vocab_set), 100)"
   ]
  },
  {
   "cell_type": "markdown",
   "metadata": {
    "colab_type": "text",
    "id": "s0YqGwOsbzcz"
   },
   "source": [
    "Embedding our data is straightforward. We'll see three dimensions: batch size, sequence length, and embedding dimension."
   ]
  },
  {
   "cell_type": "code",
   "execution_count": null,
   "metadata": {
    "colab": {
     "base_uri": "https://localhost:8080/",
     "height": 34
    },
    "colab_type": "code",
    "id": "mxQOaVUr3SaL",
    "outputId": "43f48952-d227-4f25-dc5a-f4e2b6e408ce"
   },
   "outputs": [
    {
     "name": "stdout",
     "output_type": "stream",
     "text": [
      "torch.Size([32, 204, 100])\n"
     ]
    }
   ],
   "source": [
    "out = embeddings(x)\n",
    "print(out.shape)"
   ]
  },
  {
   "cell_type": "markdown",
   "metadata": {
    "colab_type": "text",
    "id": "LyD0Nuv9b4Vv"
   },
   "source": [
    "For classification, we have to specify that we're passing data *batch first* to the LSTM. This will make sure we get the right shapes later.\n",
    "\n",
    "The size of the hidden and cell states are (1, batch size, hidden dim). Later on, we'll expound on this, but we'll follow this standard for now."
   ]
  },
  {
   "cell_type": "code",
   "execution_count": null,
   "metadata": {
    "colab": {},
    "colab_type": "code",
    "id": "-aj8MIHy3WEY"
   },
   "outputs": [],
   "source": [
    "rnn = nn.LSTM(100, 128, batch_first=True)\n",
    "\n",
    "bs, msl = x.shape\n",
    "hidden, cell = torch.zeros(1, bs, 128), torch.zeros(1, bs, 128)"
   ]
  },
  {
   "cell_type": "markdown",
   "metadata": {
    "colab_type": "text",
    "id": "QK6Xiu-YcI1u"
   },
   "source": [
    "We'll pass the embedding inputs and the blank states to our RNN to get updated ones."
   ]
  },
  {
   "cell_type": "code",
   "execution_count": null,
   "metadata": {
    "colab": {
     "base_uri": "https://localhost:8080/",
     "height": 34
    },
    "colab_type": "code",
    "id": "6Mnqso7B3i5D",
    "outputId": "a4621607-45c0-4324-dd29-d2ab091e4946"
   },
   "outputs": [
    {
     "name": "stdout",
     "output_type": "stream",
     "text": [
      "torch.Size([32, 204, 128]) torch.Size([1, 32, 128]) torch.Size([1, 32, 128])\n"
     ]
    }
   ],
   "source": [
    "out, (hidden, cell) = rnn(out, (hidden, cell))\n",
    "\n",
    "print(out.shape, hidden.shape, cell.shape)"
   ]
  },
  {
   "cell_type": "markdown",
   "metadata": {
    "colab_type": "text",
    "id": "m1Ufe9u3cNSe"
   },
   "source": [
    "Now, unlike in language modeling where we want to get the outputs per timestep, we actually want \"aggregated information\" about our entire sentence. The hidden state will suffice for this, specifically the last hidden state, which contains the most information. We'll use that and pass that to a linear projection layer to get our predictions."
   ]
  },
  {
   "cell_type": "code",
   "execution_count": null,
   "metadata": {
    "colab": {
     "base_uri": "https://localhost:8080/",
     "height": 34
    },
    "colab_type": "code",
    "id": "xl8pEqN74DW7",
    "outputId": "2babd3d1-742d-43b9-85e0-6b76adc0fcae"
   },
   "outputs": [
    {
     "name": "stdout",
     "output_type": "stream",
     "text": [
      "torch.Size([32, 2])\n"
     ]
    }
   ],
   "source": [
    "fc1 = nn.Linear(128, 2)\n",
    "\n",
    "out = hidden[-1]\n",
    "out = fc1(out)\n",
    "print(out.shape)"
   ]
  },
  {
   "cell_type": "markdown",
   "metadata": {
    "colab_type": "text",
    "id": "o6Fbg_kycb0E"
   },
   "source": [
    "We'll use cross entropy loss as our criterion."
   ]
  },
  {
   "cell_type": "code",
   "execution_count": null,
   "metadata": {
    "colab": {
     "base_uri": "https://localhost:8080/",
     "height": 34
    },
    "colab_type": "code",
    "id": "vXz9XRCz4Trs",
    "outputId": "fd4f342e-28bb-4d53-a2ed-abee6b7b009a"
   },
   "outputs": [
    {
     "name": "stdout",
     "output_type": "stream",
     "text": [
      "tensor(0.6837, grad_fn=<NllLossBackward>)\n"
     ]
    }
   ],
   "source": [
    "criterion = nn.CrossEntropyLoss()\n",
    "loss = criterion(out, y)\n",
    "print(loss)"
   ]
  },
  {
   "cell_type": "markdown",
   "metadata": {
    "colab_type": "text",
    "id": "yECD8pNIcfmX"
   },
   "source": [
    "Now we'll bring everything together. Remember that we can query the hyperparameters of a layer by accessing its fields."
   ]
  },
  {
   "cell_type": "code",
   "execution_count": null,
   "metadata": {
    "colab": {
     "base_uri": "https://localhost:8080/",
     "height": 34
    },
    "colab_type": "code",
    "id": "c8sT6VB145tK",
    "outputId": "9fbd4770-99a7-4eea-d50a-d18c38a0238e"
   },
   "outputs": [
    {
     "data": {
      "text/plain": [
       "128"
      ]
     },
     "execution_count": 32,
     "metadata": {
      "tags": []
     },
     "output_type": "execute_result"
    }
   ],
   "source": [
    "rnn.hidden_size"
   ]
  },
  {
   "cell_type": "markdown",
   "metadata": {
    "colab_type": "text",
    "id": "6ksidDXlcluA"
   },
   "source": [
    "We'll implement our LSTM classifier like so. \n",
    "\n",
    "Forward propagation is straightforward. We'll produce new hidden states, embed the inputs, pass through the LSTM, get the last hidden state, dropout, then produce outputs. Note that we're reinitializing the hidden states *every iteration* so there's no need to clear the history and detach the tensors like in language modeling.\n",
    "\n",
    "One new thing we'll add here is **weight initialization**. This allows training to be smoother. We'll see how this factors in later."
   ]
  },
  {
   "cell_type": "code",
   "execution_count": null,
   "metadata": {
    "colab": {},
    "colab_type": "code",
    "id": "_dr11sID4cCC"
   },
   "outputs": [],
   "source": [
    "class LSTMClassifier(nn.Module):\n",
    "    def __init__(self, vocab_sz, embedding_dim, hidden_dim, output_dim, dropout=0.5, initrange=0.1, initialize=True):\n",
    "        super(LSTMClassifier, self).__init__()\n",
    "        self.embedding = nn.Embedding(vocab_sz, embedding_dim)\n",
    "        self.rnn = nn.LSTM(embedding_dim, hidden_dim, batch_first=True)\n",
    "        self.fc1 = nn.Linear(hidden_dim, output_dim)\n",
    "        self.dropout = nn.Dropout(dropout)\n",
    "\n",
    "        if initialize: self.init_weights(initrange)\n",
    "\n",
    "    def init_hidden(self, bs):\n",
    "        weights = next(self.parameters())\n",
    "        hidden_dim = self.rnn.hidden_size\n",
    "\n",
    "        hidden = weights.new_zeros(1, bs, hidden_dim)\n",
    "        cell = weights.new_zeros(1, bs, hidden_dim)\n",
    "        return hidden, cell\n",
    "\n",
    "    def init_weights(self, initrange=0.1):\n",
    "        self.embedding.weight.data.uniform_(-initrange, initrange)\n",
    "        self.fc1.bias.data.zero_()\n",
    "        self.fc1.weight.data.uniform_(-initrange, initrange)\n",
    "\n",
    "    def forward(self, x):\n",
    "        bs, msl = x.shape\n",
    "\n",
    "        hidden, cell = self.init_hidden(bs)\n",
    "        out = self.embedding(x)\n",
    "        out, (hidden, cell) = self.rnn(out, (hidden, cell))\n",
    "        out = self.dropout(hidden[-1])\n",
    "        out = self.fc1(out)\n",
    "        return out"
   ]
  },
  {
   "cell_type": "markdown",
   "metadata": {
    "colab_type": "text",
    "id": "S07kklsVc-ys"
   },
   "source": [
    "Instantiate our model."
   ]
  },
  {
   "cell_type": "code",
   "execution_count": null,
   "metadata": {
    "colab": {},
    "colab_type": "code",
    "id": "vl7C1J1B5RWU"
   },
   "outputs": [],
   "source": [
    "model = LSTMClassifier(vocab_sz=len(vocab_set), \n",
    "                       embedding_dim=100, \n",
    "                       hidden_dim=128, \n",
    "                       output_dim=2, \n",
    "                       dropout=0.5)\n",
    "criterion = nn.CrossEntropyLoss()"
   ]
  },
  {
   "cell_type": "markdown",
   "metadata": {
    "colab_type": "text",
    "id": "ZP1UQicLdAUM"
   },
   "source": [
    "Forward prop to test."
   ]
  },
  {
   "cell_type": "code",
   "execution_count": null,
   "metadata": {
    "colab": {
     "base_uri": "https://localhost:8080/",
     "height": 34
    },
    "colab_type": "code",
    "id": "O2ihE9BR5bCt",
    "outputId": "b459f2f0-078d-4250-91b6-953e7b5a98ef"
   },
   "outputs": [
    {
     "name": "stdout",
     "output_type": "stream",
     "text": [
      "tensor(0.6973, grad_fn=<NllLossBackward>)\n"
     ]
    }
   ],
   "source": [
    "x, y = next(iter(train_loader))\n",
    "out = model(x)\n",
    "loss = criterion(out, y)\n",
    "print(loss)"
   ]
  },
  {
   "cell_type": "markdown",
   "metadata": {
    "colab_type": "text",
    "id": "KcPmRLrFdBok"
   },
   "source": [
    "Let's write an accuracy helper function."
   ]
  },
  {
   "cell_type": "code",
   "execution_count": null,
   "metadata": {
    "colab": {},
    "colab_type": "code",
    "id": "T5VKx9Jg6U59"
   },
   "outputs": [],
   "source": [
    "def accuracy(out, y): \n",
    "    with torch.no_grad():\n",
    "        return torch.mean((out.argmax(1) == y).float()).item()"
   ]
  },
  {
   "cell_type": "markdown",
   "metadata": {
    "colab_type": "text",
    "id": "HS_6zz4DdDhY"
   },
   "source": [
    "And check our initial test."
   ]
  },
  {
   "cell_type": "code",
   "execution_count": null,
   "metadata": {
    "colab": {
     "base_uri": "https://localhost:8080/",
     "height": 34
    },
    "colab_type": "code",
    "id": "fOSultRV6hYI",
    "outputId": "22751419-d5fe-49c8-9dc1-a85cf001b85d"
   },
   "outputs": [
    {
     "name": "stdout",
     "output_type": "stream",
     "text": [
      "0.4375\n"
     ]
    }
   ],
   "source": [
    "acc = accuracy(out, y)\n",
    "print(acc)"
   ]
  },
  {
   "cell_type": "markdown",
   "metadata": {
    "colab_type": "text",
    "id": "VnE9omXt5uqO"
   },
   "source": [
    "# Training"
   ]
  },
  {
   "cell_type": "markdown",
   "metadata": {
    "colab_type": "text",
    "id": "clhlML1LdHm0"
   },
   "source": [
    "We'll write a convenience function to count parameters here."
   ]
  },
  {
   "cell_type": "code",
   "execution_count": null,
   "metadata": {
    "colab": {},
    "colab_type": "code",
    "id": "xRDEaEne8MiW"
   },
   "outputs": [],
   "source": [
    "def count_parameters(model):\n",
    "    return sum(p.numel() for p in model.parameters() if p.requires_grad)"
   ]
  },
  {
   "cell_type": "markdown",
   "metadata": {
    "colab_type": "text",
    "id": "bwas1xQ_dKy5"
   },
   "source": [
    "Then we'll instantiate our setup."
   ]
  },
  {
   "cell_type": "code",
   "execution_count": null,
   "metadata": {
    "colab": {
     "base_uri": "https://localhost:8080/",
     "height": 34
    },
    "colab_type": "code",
    "id": "bJlZR43e5ouE",
    "outputId": "c985fd27-127f-42d6-d397-7597569a2030"
   },
   "outputs": [
    {
     "name": "stdout",
     "output_type": "stream",
     "text": [
      "The model has 5,728,818 trainable parameters\n"
     ]
    }
   ],
   "source": [
    "model = LSTMClassifier(vocab_sz=len(vocab_set), \n",
    "                       embedding_dim=100, \n",
    "                       hidden_dim=128, \n",
    "                       output_dim=2, \n",
    "                       dropout=0.5,\n",
    "                       initialize=False).to(device)\n",
    "criterion = nn.CrossEntropyLoss()\n",
    "optimizer = optim.Adam(model.parameters(), lr=3e-4)\n",
    "\n",
    "print(\"The model has {:,} trainable parameters\".format(count_parameters(model)))"
   ]
  },
  {
   "cell_type": "markdown",
   "metadata": {
    "colab_type": "text",
    "id": "1C9OKUoQdNWh"
   },
   "source": [
    "Train for five epochs for illustration. We'll use **gradient clipping**, which prevents our gradients from exploding."
   ]
  },
  {
   "cell_type": "code",
   "execution_count": null,
   "metadata": {
    "colab": {
     "base_uri": "https://localhost:8080/",
     "height": 357
    },
    "colab_type": "code",
    "id": "tOjxiujn55Mt",
    "outputId": "b9a5b65b-582b-40d2-c051-83eb18c77d3e"
   },
   "outputs": [
    {
     "name": "stderr",
     "output_type": "stream",
     "text": [
      "100%|██████████| 547/547 [00:06<00:00, 84.20it/s]\n",
      "100%|██████████| 235/235 [00:00<00:00, 266.84it/s]\n",
      "  2%|▏         | 9/547 [00:00<00:06, 84.10it/s]"
     ]
    },
    {
     "name": "stdout",
     "output_type": "stream",
     "text": [
      "\n",
      "Epoch   1 | Train Loss 0.6948 | Train Acc 0.5134 | Valid Loss 0.6927 | Valid Acc 0.5145\n"
     ]
    },
    {
     "name": "stderr",
     "output_type": "stream",
     "text": [
      "100%|██████████| 547/547 [00:06<00:00, 84.07it/s]\n",
      "100%|██████████| 235/235 [00:00<00:00, 276.60it/s]\n",
      "  2%|▏         | 9/547 [00:00<00:06, 84.50it/s]"
     ]
    },
    {
     "name": "stdout",
     "output_type": "stream",
     "text": [
      "\n",
      "Epoch   2 | Train Loss 0.6884 | Train Acc 0.5349 | Valid Loss 0.6808 | Valid Acc 0.5485\n"
     ]
    },
    {
     "name": "stderr",
     "output_type": "stream",
     "text": [
      "100%|██████████| 547/547 [00:06<00:00, 84.11it/s]\n",
      "100%|██████████| 235/235 [00:00<00:00, 260.78it/s]\n",
      "  2%|▏         | 9/547 [00:00<00:06, 85.00it/s]"
     ]
    },
    {
     "name": "stdout",
     "output_type": "stream",
     "text": [
      "\n",
      "Epoch   3 | Train Loss 0.6627 | Train Acc 0.5829 | Valid Loss 0.6648 | Valid Acc 0.5873\n"
     ]
    },
    {
     "name": "stderr",
     "output_type": "stream",
     "text": [
      "100%|██████████| 547/547 [00:06<00:00, 83.92it/s]\n",
      "100%|██████████| 235/235 [00:00<00:00, 277.99it/s]\n",
      "  2%|▏         | 9/547 [00:00<00:06, 85.93it/s]"
     ]
    },
    {
     "name": "stdout",
     "output_type": "stream",
     "text": [
      "\n",
      "Epoch   4 | Train Loss 0.6120 | Train Acc 0.6674 | Valid Loss 0.6083 | Valid Acc 0.6866\n"
     ]
    },
    {
     "name": "stderr",
     "output_type": "stream",
     "text": [
      "100%|██████████| 547/547 [00:06<00:00, 83.62it/s]\n",
      "100%|██████████| 235/235 [00:00<00:00, 279.09it/s]"
     ]
    },
    {
     "name": "stdout",
     "output_type": "stream",
     "text": [
      "\n",
      "Epoch   5 | Train Loss 0.5416 | Train Acc 0.7519 | Valid Loss 0.5996 | Valid Acc 0.7249\n"
     ]
    },
    {
     "name": "stderr",
     "output_type": "stream",
     "text": [
      "\n"
     ]
    }
   ],
   "source": [
    "epochs = 5\n",
    "clip = 1.0\n",
    "\n",
    "for e in range(1, epochs + 1):\n",
    "    train_loss, train_acc = 0, 0\n",
    "    \n",
    "    model.train()\n",
    "    for x, y in tqdm(train_loader):\n",
    "        x, y = x.to(device), y.to(device)\n",
    "\n",
    "        out = model(x)\n",
    "        loss = criterion(out, y)\n",
    "        optimizer.zero_grad()\n",
    "        loss.backward()\n",
    "        nn.utils.clip_grad_norm_(model.parameters(), clip)\n",
    "        optimizer.step()\n",
    "\n",
    "        train_loss += loss.item()\n",
    "        train_acc += accuracy(out, y)\n",
    "    train_loss /= len(train_loader)\n",
    "    train_acc /= len(train_loader)\n",
    "\n",
    "    valid_loss, valid_acc = 0, 0\n",
    "    \n",
    "    model.eval()\n",
    "    with torch.no_grad():\n",
    "        for x, y in tqdm(valid_loader):\n",
    "            x, y = x.to(device), y.to(device)\n",
    "\n",
    "            out = model(x)\n",
    "            loss = criterion(out, y)\n",
    "\n",
    "            valid_loss += loss.item()\n",
    "            valid_acc += accuracy(out, y)\n",
    "    valid_loss /= len(valid_loader)\n",
    "    valid_acc /= len(valid_loader)\n",
    "\n",
    "    print(\"\\nEpoch {:3} | Train Loss {:.4f} | Train Acc {:.4f} | Valid Loss {:.4f} | Valid Acc {:.4f}\".format(e, train_loss, train_acc, valid_loss, valid_acc))"
   ]
  },
  {
   "cell_type": "markdown",
   "metadata": {
    "colab_type": "text",
    "id": "OqapQ7oidSxx"
   },
   "source": [
    "Now, see the difference when we add in weight initialization."
   ]
  },
  {
   "cell_type": "code",
   "execution_count": null,
   "metadata": {
    "colab": {
     "base_uri": "https://localhost:8080/",
     "height": 34
    },
    "colab_type": "code",
    "id": "ZxgI6nu9WWLS",
    "outputId": "4fd458d7-06b8-46f4-9efe-e3d63a0c955f"
   },
   "outputs": [
    {
     "name": "stdout",
     "output_type": "stream",
     "text": [
      "The model has 5,728,818 trainable parameters\n"
     ]
    }
   ],
   "source": [
    "model = LSTMClassifier(vocab_sz=len(vocab_set), \n",
    "                       embedding_dim=100, \n",
    "                       hidden_dim=128, \n",
    "                       output_dim=2, \n",
    "                       dropout=0.5,\n",
    "                       initialize=True).to(device)\n",
    "criterion = nn.CrossEntropyLoss()\n",
    "optimizer = optim.Adam(model.parameters(), lr=3e-4)\n",
    "\n",
    "print(\"The model has {:,} trainable parameters\".format(count_parameters(model)))"
   ]
  },
  {
   "cell_type": "markdown",
   "metadata": {
    "colab_type": "text",
    "id": "hgiQZQHgdVZ_"
   },
   "source": [
    "Train with the same settings."
   ]
  },
  {
   "cell_type": "code",
   "execution_count": null,
   "metadata": {
    "colab": {
     "base_uri": "https://localhost:8080/",
     "height": 357
    },
    "colab_type": "code",
    "id": "G5Npj3NtWWi5",
    "outputId": "b72058c1-7eb9-4fde-c488-7412dcf11e54"
   },
   "outputs": [
    {
     "name": "stderr",
     "output_type": "stream",
     "text": [
      "100%|██████████| 547/547 [00:06<00:00, 84.74it/s]\n",
      "100%|██████████| 235/235 [00:00<00:00, 280.77it/s]\n",
      "  2%|▏         | 9/547 [00:00<00:06, 87.14it/s]"
     ]
    },
    {
     "name": "stdout",
     "output_type": "stream",
     "text": [
      "\n",
      "Epoch   1 | Train Loss 0.6932 | Train Acc 0.5059 | Valid Loss 0.6936 | Valid Acc 0.4977\n"
     ]
    },
    {
     "name": "stderr",
     "output_type": "stream",
     "text": [
      "100%|██████████| 547/547 [00:06<00:00, 84.72it/s]\n",
      "100%|██████████| 235/235 [00:00<00:00, 280.36it/s]\n",
      "  2%|▏         | 9/547 [00:00<00:06, 83.98it/s]"
     ]
    },
    {
     "name": "stdout",
     "output_type": "stream",
     "text": [
      "\n",
      "Epoch   2 | Train Loss 0.6649 | Train Acc 0.5832 | Valid Loss 0.5732 | Valid Acc 0.7403\n"
     ]
    },
    {
     "name": "stderr",
     "output_type": "stream",
     "text": [
      "100%|██████████| 547/547 [00:06<00:00, 84.06it/s]\n",
      "100%|██████████| 235/235 [00:00<00:00, 282.99it/s]\n",
      "  2%|▏         | 9/547 [00:00<00:06, 84.34it/s]"
     ]
    },
    {
     "name": "stdout",
     "output_type": "stream",
     "text": [
      "\n",
      "Epoch   3 | Train Loss 0.4349 | Train Acc 0.8247 | Valid Loss 0.4289 | Valid Acc 0.8255\n"
     ]
    },
    {
     "name": "stderr",
     "output_type": "stream",
     "text": [
      "100%|██████████| 547/547 [00:06<00:00, 83.66it/s]\n",
      "100%|██████████| 235/235 [00:00<00:00, 279.24it/s]\n",
      "  2%|▏         | 9/547 [00:00<00:06, 85.89it/s]"
     ]
    },
    {
     "name": "stdout",
     "output_type": "stream",
     "text": [
      "\n",
      "Epoch   4 | Train Loss 0.2867 | Train Acc 0.8980 | Valid Loss 0.3946 | Valid Acc 0.8422\n"
     ]
    },
    {
     "name": "stderr",
     "output_type": "stream",
     "text": [
      "100%|██████████| 547/547 [00:06<00:00, 83.93it/s]\n",
      "100%|██████████| 235/235 [00:00<00:00, 279.70it/s]"
     ]
    },
    {
     "name": "stdout",
     "output_type": "stream",
     "text": [
      "\n",
      "Epoch   5 | Train Loss 0.2043 | Train Acc 0.9360 | Valid Loss 0.4117 | Valid Acc 0.8315\n"
     ]
    },
    {
     "name": "stderr",
     "output_type": "stream",
     "text": [
      "\n"
     ]
    }
   ],
   "source": [
    "epochs = 5\n",
    "clip = 1.0\n",
    "\n",
    "for e in range(1, epochs + 1):\n",
    "    train_loss, train_acc = 0, 0\n",
    "    \n",
    "    model.train()\n",
    "    for x, y in tqdm(train_loader):\n",
    "        x, y = x.to(device), y.to(device)\n",
    "\n",
    "        out = model(x)\n",
    "        loss = criterion(out, y)\n",
    "        optimizer.zero_grad()\n",
    "        loss.backward()\n",
    "        nn.utils.clip_grad_norm_(model.parameters(), clip)\n",
    "        optimizer.step()\n",
    "\n",
    "        train_loss += loss.item()\n",
    "        train_acc += accuracy(out, y)\n",
    "    train_loss /= len(train_loader)\n",
    "    train_acc /= len(train_loader)\n",
    "\n",
    "    valid_loss, valid_acc = 0, 0\n",
    "    \n",
    "    model.eval()\n",
    "    with torch.no_grad():\n",
    "        for x, y in tqdm(valid_loader):\n",
    "            x, y = x.to(device), y.to(device)\n",
    "\n",
    "            out = model(x)\n",
    "            loss = criterion(out, y)\n",
    "\n",
    "            valid_loss += loss.item()\n",
    "            valid_acc += accuracy(out, y)\n",
    "    valid_loss /= len(valid_loader)\n",
    "    valid_acc /= len(valid_loader)\n",
    "\n",
    "    print(\"\\nEpoch {:3} | Train Loss {:.4f} | Train Acc {:.4f} | Valid Loss {:.4f} | Valid Acc {:.4f}\".format(e, train_loss, train_acc, valid_loss, valid_acc))"
   ]
  },
  {
   "cell_type": "markdown",
   "metadata": {
    "colab_type": "text",
    "id": "A0o8lXONdXKi"
   },
   "source": [
    "Good results!"
   ]
  },
  {
   "cell_type": "markdown",
   "metadata": {
    "colab_type": "text",
    "id": "azJzwbpg8zkw"
   },
   "source": [
    "# Bidirectional and Stacked RNNs"
   ]
  },
  {
   "cell_type": "markdown",
   "metadata": {
    "colab_type": "text",
    "id": "RZ5U5Bc3dZzc"
   },
   "source": [
    "This time, let's see how we can stack and extend our LSTMs.\n",
    "\n",
    "Let's get sample data again."
   ]
  },
  {
   "cell_type": "code",
   "execution_count": null,
   "metadata": {
    "colab": {},
    "colab_type": "code",
    "id": "cu6RGoQeWhF-"
   },
   "outputs": [],
   "source": [
    "x, y = next(iter(train_loader))"
   ]
  },
  {
   "cell_type": "markdown",
   "metadata": {
    "colab_type": "text",
    "id": "ZBet60aVdfYb"
   },
   "source": [
    "Here, we'll use a bidrectional LSTM."
   ]
  },
  {
   "cell_type": "code",
   "execution_count": null,
   "metadata": {
    "colab": {},
    "colab_type": "code",
    "id": "yc9x2oLwWhbu"
   },
   "outputs": [],
   "source": [
    "embedding = nn.Embedding(len(vocab_set), 100)\n",
    "rnn = nn.LSTM(100, 128, batch_first=True, bidirectional=True)"
   ]
  },
  {
   "cell_type": "markdown",
   "metadata": {
    "colab_type": "text",
    "id": "7XoHpswDdhjR"
   },
   "source": [
    "Notice how the first dimension in our hidden and cell states is now 2. This is because we need two \"containers\" for our hidden and cell states: one for the forward sequence, and one for the backward sequence."
   ]
  },
  {
   "cell_type": "code",
   "execution_count": null,
   "metadata": {
    "colab": {
     "base_uri": "https://localhost:8080/",
     "height": 34
    },
    "colab_type": "code",
    "id": "iKxx1z7MWh6a",
    "outputId": "b933184d-a05d-42ef-e228-29d1c36dcc98"
   },
   "outputs": [
    {
     "name": "stdout",
     "output_type": "stream",
     "text": [
      "torch.Size([32, 204, 256]) torch.Size([2, 32, 128]) torch.Size([2, 32, 128])\n"
     ]
    }
   ],
   "source": [
    "out = embedding(x)\n",
    "\n",
    "hidden, cell = torch.zeros(2, bs, 128), torch.zeros(2, bs, 128)\n",
    "out, (hidden, cell) = rnn(out, (hidden, cell))\n",
    "\n",
    "print(out.shape, hidden.shape, cell.shape)"
   ]
  },
  {
   "cell_type": "markdown",
   "metadata": {
    "colab_type": "text",
    "id": "1fD3BfkXds3h"
   },
   "source": [
    "Now, instead of using just one hidden state, we'll concatenate both the forward and backward hidden states."
   ]
  },
  {
   "cell_type": "code",
   "execution_count": null,
   "metadata": {
    "colab": {
     "base_uri": "https://localhost:8080/",
     "height": 34
    },
    "colab_type": "code",
    "id": "IqU61DcNWiTP",
    "outputId": "853721d3-1d88-4bcf-ac46-6d027e4f5ea2"
   },
   "outputs": [
    {
     "name": "stdout",
     "output_type": "stream",
     "text": [
      "torch.Size([32, 256])\n"
     ]
    }
   ],
   "source": [
    "out = torch.cat([hidden[-2], hidden[-1]], 1)\n",
    "print(out.shape)"
   ]
  },
  {
   "cell_type": "markdown",
   "metadata": {
    "colab_type": "text",
    "id": "dVFqOCOKd14e"
   },
   "source": [
    "And pass that through our projection layer."
   ]
  },
  {
   "cell_type": "code",
   "execution_count": null,
   "metadata": {
    "colab": {
     "base_uri": "https://localhost:8080/",
     "height": 34
    },
    "colab_type": "code",
    "id": "lcKSnCCbWipf",
    "outputId": "15a95d5a-e759-43ca-cfbf-8c0b1eb0a671"
   },
   "outputs": [
    {
     "name": "stdout",
     "output_type": "stream",
     "text": [
      "torch.Size([32, 2])\n"
     ]
    }
   ],
   "source": [
    "fc1 = nn.Linear(128 * 2, 2)\n",
    "out = fc1(out)\n",
    "\n",
    "print(out.shape)"
   ]
  },
  {
   "cell_type": "markdown",
   "metadata": {
    "colab_type": "text",
    "id": "xOe8JdTbd4En"
   },
   "source": [
    "Another thing we can do to increase the capacity of our model is to stack multiple RNN layers. We can do this with the following:"
   ]
  },
  {
   "cell_type": "code",
   "execution_count": null,
   "metadata": {
    "colab": {},
    "colab_type": "code",
    "id": "pHFMbt40WpxA"
   },
   "outputs": [],
   "source": [
    "rnn = nn.LSTM(100, 128, batch_first=True, num_layers=2)"
   ]
  },
  {
   "cell_type": "markdown",
   "metadata": {
    "colab_type": "text",
    "id": "6PHXQ-hud9xr"
   },
   "source": [
    "Notice that we need \"containers\" equal to the number of RNNs we have."
   ]
  },
  {
   "cell_type": "code",
   "execution_count": null,
   "metadata": {
    "colab": {},
    "colab_type": "code",
    "id": "NEkaVW62WqDr"
   },
   "outputs": [],
   "source": [
    "hidden, cell = torch.zeros(2, bs, 128), torch.zeros(2, bs, 128)\n",
    "out = embedding(x)\n",
    "out, (hidden, cell) = rnn(out, (hidden, cell))"
   ]
  },
  {
   "cell_type": "markdown",
   "metadata": {
    "colab_type": "text",
    "id": "gK5_dS5ieBcI"
   },
   "source": [
    "Now let's see an example with both stacked and bidirectional LSTMs."
   ]
  },
  {
   "cell_type": "code",
   "execution_count": null,
   "metadata": {
    "colab": {},
    "colab_type": "code",
    "id": "TnSL3xBBWqb9"
   },
   "outputs": [],
   "source": [
    "rnn = nn.LSTM(100, 128, batch_first=True, num_layers=3, bidirectional=True, dropout=0.3)"
   ]
  },
  {
   "cell_type": "markdown",
   "metadata": {
    "colab_type": "text",
    "id": "dUKhBW6EeFh2"
   },
   "source": [
    "The formal shapes of the hidden and cell states will be (directions $\\times$ layers, batch size, hidden dim).\n",
    "\n",
    "Everything else stays the same."
   ]
  },
  {
   "cell_type": "code",
   "execution_count": null,
   "metadata": {
    "colab": {
     "base_uri": "https://localhost:8080/",
     "height": 34
    },
    "colab_type": "code",
    "id": "4v4an8qAWq6U",
    "outputId": "7e0915b8-fbf0-445a-bf35-f08daad3bda2"
   },
   "outputs": [
    {
     "name": "stdout",
     "output_type": "stream",
     "text": [
      "torch.Size([32, 2])\n"
     ]
    }
   ],
   "source": [
    "# Initialize hyperparameters\n",
    "directions = 2 if rnn.bidirectional else 1\n",
    "n_layers = rnn.num_layers\n",
    "hidden_dim = rnn.hidden_size\n",
    "\n",
    "# Create hidden and cell states\n",
    "hidden = torch.zeros(directions * n_layers, bs, hidden_dim)\n",
    "cell = torch.zeros(directions * n_layers, bs, hidden_dim)\n",
    "\n",
    "# Embedding and RNN\n",
    "x, y = next(iter(train_loader))\n",
    "out = embedding(x)\n",
    "out, (hidden, cell) = rnn(out, (hidden, cell))\n",
    "\n",
    "# Output Layer\n",
    "out = torch.cat([hidden[-2], hidden[-1]], 1) if directions == 2 else hidden[-1]\n",
    "out = fc1(out)\n",
    "print(out.shape)"
   ]
  },
  {
   "cell_type": "markdown",
   "metadata": {
    "colab_type": "text",
    "id": "n0nYSnHAeRbE"
   },
   "source": [
    "Let's put everything together. \n",
    "\n",
    "We'll also introduce recurrent dropout, which is essentially dropout between the outputs of the recurrent layers."
   ]
  },
  {
   "cell_type": "code",
   "execution_count": null,
   "metadata": {
    "colab": {},
    "colab_type": "code",
    "id": "QsP8x9NFWyDy"
   },
   "outputs": [],
   "source": [
    "class LSTMClassifier(nn.Module):\n",
    "    def __init__(self, vocab_sz, embedding_dim, hidden_dim, output_dim, bidirectional=False, n_layers=1, dropout=0.5, recur_dropout=0.3, initrange=0.1, initialize=True):\n",
    "        super(LSTMClassifier, self).__init__()\n",
    "        self.embedding = nn.Embedding(vocab_sz, embedding_dim)\n",
    "        self.rnn = nn.LSTM(embedding_dim, hidden_dim, batch_first=True, \n",
    "                           bidirectional=bidirectional, num_layers=n_layers, \n",
    "                           dropout=recur_dropout if n_layers > 1 else 0.0)\n",
    "        self.fc1 = nn.Linear(hidden_dim * 2, output_dim) if bidirectional else nn.Linear(hidden_dim, output_dim)\n",
    "        self.dropout = nn.Dropout(dropout)\n",
    "\n",
    "        if initialize: self.init_weights(initrange)\n",
    "\n",
    "    def init_hidden(self, bs):\n",
    "        weights = next(self.parameters())\n",
    "        hidden_dim, n_layers = self.rnn.hidden_size, self.rnn.num_layers\n",
    "        directions = 2 if self.rnn.bidirectional else 1\n",
    "\n",
    "        hidden = weights.new_zeros(directions * n_layers, bs, hidden_dim)\n",
    "        cell = weights.new_zeros(directions * n_layers, bs, hidden_dim)\n",
    "        return hidden, cell\n",
    "\n",
    "    def init_weights(self, initrange=0.1):\n",
    "        self.embedding.weight.data.uniform_(-initrange, initrange)\n",
    "        self.fc1.bias.data.zero_()\n",
    "        self.fc1.weight.data.uniform_(-initrange, initrange)\n",
    "\n",
    "    def forward(self, x):\n",
    "        bs, msl = x.shape\n",
    "\n",
    "        hidden, cell = self.init_hidden(bs)\n",
    "        out = self.embedding(x)\n",
    "        out, (hidden, cell) = self.rnn(out, (hidden, cell))\n",
    "\n",
    "        if self.rnn.bidirectional:\n",
    "            out = torch.cat([hidden[-2], hidden[-1]], 1)\n",
    "        else: out = hidden[-1]\n",
    "\n",
    "        out = self.dropout(out)\n",
    "        out = self.fc1(out)\n",
    "        return out"
   ]
  },
  {
   "cell_type": "markdown",
   "metadata": {
    "colab_type": "text",
    "id": "laciGuWqeYl9"
   },
   "source": [
    "Produce a setup, and use a scheduler this time."
   ]
  },
  {
   "cell_type": "code",
   "execution_count": null,
   "metadata": {
    "colab": {
     "base_uri": "https://localhost:8080/",
     "height": 34
    },
    "colab_type": "code",
    "id": "C2XHS_E4WyX7",
    "outputId": "fbdaf1a3-c4f6-47ba-eb89-73de7e643ac5"
   },
   "outputs": [
    {
     "name": "stdout",
     "output_type": "stream",
     "text": [
      "The model has 5,846,834 trainable parameters\n"
     ]
    }
   ],
   "source": [
    "model = LSTMClassifier(vocab_sz=len(vocab_set), \n",
    "                       embedding_dim=100, \n",
    "                       hidden_dim=128, \n",
    "                       output_dim=2, \n",
    "                       dropout=0.5,\n",
    "                       bidirectional=True,\n",
    "                       n_layers=1,\n",
    "                       initialize=True).to(device)\n",
    "criterion = nn.CrossEntropyLoss()\n",
    "optimizer = optim.Adam(model.parameters(), lr=3e-4)\n",
    "\n",
    "epochs = 10\n",
    "iters = epochs * len(train_loader)\n",
    "scheduler = lr_scheduler.CosineAnnealingLR(optimizer, T_max=iters, eta_min=0)\n",
    "\n",
    "print(\"The model has {:,} trainable parameters\".format(count_parameters(model)))"
   ]
  },
  {
   "cell_type": "markdown",
   "metadata": {
    "colab_type": "text",
    "id": "c7GTxvtxeay9"
   },
   "source": [
    "Train with the same settings."
   ]
  },
  {
   "cell_type": "code",
   "execution_count": null,
   "metadata": {
    "colab": {
     "base_uri": "https://localhost:8080/",
     "height": 697
    },
    "colab_type": "code",
    "id": "_0TUQcyMWyrg",
    "outputId": "7dd08b20-5d37-4f84-f6f3-09368a824f42"
   },
   "outputs": [
    {
     "name": "stderr",
     "output_type": "stream",
     "text": [
      "100%|██████████| 547/547 [00:08<00:00, 61.98it/s]\n",
      "100%|██████████| 235/235 [00:01<00:00, 162.66it/s]\n",
      "  1%|▏         | 7/547 [00:00<00:08, 62.04it/s]"
     ]
    },
    {
     "name": "stdout",
     "output_type": "stream",
     "text": [
      "\n",
      "Epoch   1 | Train Loss 0.6602 | Train Acc 0.5795 | Valid Loss 0.5201 | Valid Acc 0.7679\n"
     ]
    },
    {
     "name": "stderr",
     "output_type": "stream",
     "text": [
      "100%|██████████| 547/547 [00:08<00:00, 61.99it/s]\n",
      "100%|██████████| 235/235 [00:01<00:00, 161.73it/s]\n",
      "  1%|▏         | 7/547 [00:00<00:08, 61.78it/s]"
     ]
    },
    {
     "name": "stdout",
     "output_type": "stream",
     "text": [
      "\n",
      "Epoch   2 | Train Loss 0.3998 | Train Acc 0.8390 | Valid Loss 0.4493 | Valid Acc 0.8288\n"
     ]
    },
    {
     "name": "stderr",
     "output_type": "stream",
     "text": [
      "100%|██████████| 547/547 [00:08<00:00, 61.79it/s]\n",
      "100%|██████████| 235/235 [00:01<00:00, 162.57it/s]\n",
      "  1%|▏         | 7/547 [00:00<00:08, 61.34it/s]"
     ]
    },
    {
     "name": "stdout",
     "output_type": "stream",
     "text": [
      "\n",
      "Epoch   3 | Train Loss 0.2511 | Train Acc 0.9119 | Valid Loss 0.3825 | Valid Acc 0.8529\n"
     ]
    },
    {
     "name": "stderr",
     "output_type": "stream",
     "text": [
      "100%|██████████| 547/547 [00:08<00:00, 61.80it/s]\n",
      "100%|██████████| 235/235 [00:01<00:00, 162.72it/s]\n",
      "  1%|▏         | 7/547 [00:00<00:08, 60.79it/s]"
     ]
    },
    {
     "name": "stdout",
     "output_type": "stream",
     "text": [
      "\n",
      "Epoch   4 | Train Loss 0.1579 | Train Acc 0.9484 | Valid Loss 0.3711 | Valid Acc 0.8537\n"
     ]
    },
    {
     "name": "stderr",
     "output_type": "stream",
     "text": [
      "100%|██████████| 547/547 [00:08<00:00, 62.04it/s]\n",
      "100%|██████████| 235/235 [00:01<00:00, 164.98it/s]\n",
      "  1%|▏         | 7/547 [00:00<00:08, 62.69it/s]"
     ]
    },
    {
     "name": "stdout",
     "output_type": "stream",
     "text": [
      "\n",
      "Epoch   5 | Train Loss 0.1043 | Train Acc 0.9695 | Valid Loss 0.4327 | Valid Acc 0.8590\n"
     ]
    },
    {
     "name": "stderr",
     "output_type": "stream",
     "text": [
      "100%|██████████| 547/547 [00:08<00:00, 61.36it/s]\n",
      "100%|██████████| 235/235 [00:01<00:00, 164.16it/s]\n",
      "  1%|▏         | 7/547 [00:00<00:08, 63.48it/s]"
     ]
    },
    {
     "name": "stdout",
     "output_type": "stream",
     "text": [
      "\n",
      "Epoch   6 | Train Loss 0.0678 | Train Acc 0.9807 | Valid Loss 0.5448 | Valid Acc 0.8555\n"
     ]
    },
    {
     "name": "stderr",
     "output_type": "stream",
     "text": [
      "100%|██████████| 547/547 [00:08<00:00, 60.93it/s]\n",
      "100%|██████████| 235/235 [00:01<00:00, 162.18it/s]\n",
      "  1%|▏         | 7/547 [00:00<00:08, 62.10it/s]"
     ]
    },
    {
     "name": "stdout",
     "output_type": "stream",
     "text": [
      "\n",
      "Epoch   7 | Train Loss 0.0455 | Train Acc 0.9887 | Valid Loss 0.6626 | Valid Acc 0.8375\n"
     ]
    },
    {
     "name": "stderr",
     "output_type": "stream",
     "text": [
      "100%|██████████| 547/547 [00:08<00:00, 61.39it/s]\n",
      "100%|██████████| 235/235 [00:01<00:00, 165.22it/s]\n",
      "  1%|▏         | 7/547 [00:00<00:08, 60.71it/s]"
     ]
    },
    {
     "name": "stdout",
     "output_type": "stream",
     "text": [
      "\n",
      "Epoch   8 | Train Loss 0.0335 | Train Acc 0.9923 | Valid Loss 0.6389 | Valid Acc 0.8516\n"
     ]
    },
    {
     "name": "stderr",
     "output_type": "stream",
     "text": [
      "100%|██████████| 547/547 [00:08<00:00, 61.65it/s]\n",
      "100%|██████████| 235/235 [00:01<00:00, 161.51it/s]\n",
      "  1%|▏         | 7/547 [00:00<00:08, 62.71it/s]"
     ]
    },
    {
     "name": "stdout",
     "output_type": "stream",
     "text": [
      "\n",
      "Epoch   9 | Train Loss 0.0285 | Train Acc 0.9939 | Valid Loss 0.6346 | Valid Acc 0.8516\n"
     ]
    },
    {
     "name": "stderr",
     "output_type": "stream",
     "text": [
      "100%|██████████| 547/547 [00:08<00:00, 61.66it/s]\n",
      "100%|██████████| 235/235 [00:01<00:00, 161.73it/s]"
     ]
    },
    {
     "name": "stdout",
     "output_type": "stream",
     "text": [
      "\n",
      "Epoch  10 | Train Loss 0.0264 | Train Acc 0.9942 | Valid Loss 0.6291 | Valid Acc 0.8507\n"
     ]
    },
    {
     "name": "stderr",
     "output_type": "stream",
     "text": [
      "\n"
     ]
    }
   ],
   "source": [
    "clip = 1.0\n",
    "train_losses, valid_losses = [], []\n",
    "\n",
    "for e in range(1, epochs + 1):\n",
    "    train_loss, train_acc = 0, 0\n",
    "    \n",
    "    model.train()\n",
    "    for x, y in tqdm(train_loader):\n",
    "        x, y = x.to(device), y.to(device)\n",
    "\n",
    "        out = model(x)\n",
    "        loss = criterion(out, y)\n",
    "\n",
    "        optimizer.zero_grad()\n",
    "        loss.backward()\n",
    "        nn.utils.clip_grad_norm_(model.parameters(), clip)\n",
    "        optimizer.step()\n",
    "        scheduler.step()\n",
    "\n",
    "        train_loss += loss.item()\n",
    "        train_acc += accuracy(out, y)\n",
    "    train_loss /= len(train_loader)\n",
    "    train_acc /= len(train_loader)\n",
    "\n",
    "    valid_loss, valid_acc = 0, 0\n",
    "    \n",
    "    model.eval()\n",
    "    with torch.no_grad():\n",
    "        for x, y in tqdm(valid_loader):\n",
    "            x, y = x.to(device), y.to(device)\n",
    "\n",
    "            out = model(x)\n",
    "            loss = criterion(out, y)\n",
    "\n",
    "            valid_loss += loss.item()\n",
    "            valid_acc += accuracy(out, y)\n",
    "    valid_loss /= len(valid_loader)\n",
    "    valid_acc /= len(valid_loader)\n",
    "\n",
    "    train_losses.append(train_loss)\n",
    "    valid_losses.append(valid_loss)\n",
    "\n",
    "    print(\"\\nEpoch {:3} | Train Loss {:.4f} | Train Acc {:.4f} | Valid Loss {:.4f} | Valid Acc {:.4f}\".format(e, train_loss, train_acc, valid_loss, valid_acc))"
   ]
  },
  {
   "cell_type": "markdown",
   "metadata": {
    "colab_type": "text",
    "id": "wRl3UT3UeclF"
   },
   "source": [
    "This model has too much capacity, which caused it to overfit."
   ]
  },
  {
   "cell_type": "code",
   "execution_count": null,
   "metadata": {
    "colab": {
     "base_uri": "https://localhost:8080/",
     "height": 282
    },
    "colab_type": "code",
    "id": "Jt_k9aWiWy-n",
    "outputId": "e943a174-b4d0-4d34-e8c5-ada480d19084"
   },
   "outputs": [
    {
     "data": {
      "text/plain": [
       "<matplotlib.axes._subplots.AxesSubplot at 0x7f8c9f705278>"
      ]
     },
     "execution_count": 55,
     "metadata": {
      "tags": []
     },
     "output_type": "execute_result"
    },
    {
     "data": {
      "image/png": "[encoded data removed]",
      "text/plain": [
       "<Figure size 432x288 with 1 Axes>"
      ]
     },
     "metadata": {
      "needs_background": "light",
      "tags": []
     },
     "output_type": "display_data"
    }
   ],
   "source": [
    "pd.DataFrame(data={'train': train_losses, 'valid': valid_losses}).plot.line()"
   ]
  },
  {
   "cell_type": "markdown",
   "metadata": {
    "colab_type": "text",
    "id": "wks2PTmsefUe"
   },
   "source": [
    "To solve this, we'll look at a couple techniques we can use."
   ]
  },
  {
   "cell_type": "markdown",
   "metadata": {
    "colab_type": "text",
    "id": "d1nfcM9wHy28"
   },
   "source": [
    "# RNN Dropout"
   ]
  },
  {
   "cell_type": "markdown",
   "metadata": {
    "colab_type": "text",
    "id": "S0ZCpvqHeijF"
   },
   "source": [
    "In this section, we'll introduce special flavors of dropout used specifically for RNNs. We'll use the functional package from PyTorch to facilitate some intermediate computation."
   ]
  },
  {
   "cell_type": "code",
   "execution_count": null,
   "metadata": {
    "colab": {},
    "colab_type": "code",
    "id": "NlUO7Kl-FvYR"
   },
   "outputs": [],
   "source": [
    "import torch.nn.functional as F\n",
    "import warnings"
   ]
  },
  {
   "cell_type": "markdown",
   "metadata": {
    "colab_type": "text",
    "id": "3sPtzXc9epfL"
   },
   "source": [
    "We'll write code for producing *dropout masks*, which will be multiplied to our matrices to zero out certain weights."
   ]
  },
  {
   "cell_type": "code",
   "execution_count": null,
   "metadata": {
    "colab": {},
    "colab_type": "code",
    "id": "0tMzgb8GH3bD"
   },
   "outputs": [],
   "source": [
    "# Credits to the contributors at fast.ai\n",
    "def dropout_mask(x, sz, p):\n",
    "    return x.new(*sz).bernoulli_(1-p).div_(1-p)"
   ]
  },
  {
   "cell_type": "markdown",
   "metadata": {
    "colab_type": "text",
    "id": "zOyhphMkeu0p"
   },
   "source": [
    "We'll write a special dropout for RNN layers. This ensures that we consistently zero-out across a time-dimension."
   ]
  },
  {
   "cell_type": "code",
   "execution_count": null,
   "metadata": {
    "colab": {},
    "colab_type": "code",
    "id": "omrG26BNH4mq"
   },
   "outputs": [],
   "source": [
    "class RNNDropout(nn.Module):\n",
    "    def __init__(self, p=0.5):\n",
    "        super().__init__()\n",
    "        self.p=p\n",
    "\n",
    "    def forward(self, x):\n",
    "        if not self.training or self.p == 0.: \n",
    "            return x\n",
    "        m = dropout_mask(x.data, (x.size(0), 1, x.size(2)), self.p)\n",
    "        return x * m"
   ]
  },
  {
   "cell_type": "markdown",
   "metadata": {
    "colab_type": "text",
    "id": "sfi08q71e922"
   },
   "source": [
    "We'll also introduce a variant of dropout for the embedding layer. This wraps around an existing embedding layer and zero out certain embedding weights during training."
   ]
  },
  {
   "cell_type": "code",
   "execution_count": null,
   "metadata": {
    "colab": {},
    "colab_type": "code",
    "id": "_SolpWZSH6ID"
   },
   "outputs": [],
   "source": [
    "class EmbeddingDropout(nn.Module):\n",
    "    def __init__(self, emb, embed_p):\n",
    "        super(EmbeddingDropout, self).__init__()\n",
    "        self.emb = emb\n",
    "        self.embed_p = embed_p\n",
    "        self.pad_idx = self.emb.padding_idx\n",
    "        if self.pad_idx is None: self.pad_idx = -1\n",
    "\n",
    "    def forward(self, words, scale=None):\n",
    "        if self.training and self.embed_p != 0:\n",
    "            size = (self.emb.weight.size(0),1)\n",
    "            mask = dropout_mask(self.emb.weight.data, size, self.embed_p)\n",
    "            masked_embed = (self.emb.weight * mask)\n",
    "        else: \n",
    "            masked_embed = (self.emb.weight)\n",
    "        if scale: \n",
    "            masked_embed.mul_(scale)\n",
    "        out = F.embedding(words, masked_embed, self.pad_idx, self.emb.max_norm,\n",
    "                          self.emb.norm_type, self.emb.scale_grad_by_freq, self.emb.sparse)\n",
    "        return out"
   ]
  },
  {
   "cell_type": "markdown",
   "metadata": {
    "colab_type": "text",
    "id": "pCs1YHPLfCs8"
   },
   "source": [
    "Our final classifier now looks like this."
   ]
  },
  {
   "cell_type": "code",
   "execution_count": null,
   "metadata": {
    "colab": {},
    "colab_type": "code",
    "id": "hH_1AYEdH8ZZ"
   },
   "outputs": [],
   "source": [
    "class LSTMClassifier(nn.Module):\n",
    "    def __init__(self, vocab_sz, embedding_dim, hidden_dim, output_dim, bidirectional=False, \n",
    "                 n_layers=1, dropout=0.5, recur_dropout=0.3, embed_dropout=0.1, initrange=0.1, initialize=True):\n",
    "        super(LSTMClassifier, self).__init__()\n",
    "        self.embedding = nn.Embedding(vocab_sz, embedding_dim)\n",
    "        self.embedding_dp = EmbeddingDropout(self.embedding, embed_dropout)\n",
    "        self.rnn = nn.LSTM(embedding_dim, hidden_dim, batch_first=True, \n",
    "                           bidirectional=bidirectional, num_layers=n_layers, \n",
    "                           dropout=recur_dropout if n_layers > 1 else 0.0)\n",
    "        self.fc1 = nn.Linear(hidden_dim * 2, output_dim) if bidirectional else nn.Linear(hidden_dim, output_dim)\n",
    "        self.dropout = nn.Dropout(dropout)\n",
    "        self.rnn_dropout = RNNDropout(recur_dropout)\n",
    "\n",
    "        if initialize: self.init_weights(initrange)\n",
    "\n",
    "    def init_hidden(self, bs):\n",
    "        weights = next(self.parameters())\n",
    "        hidden_dim, n_layers = self.rnn.hidden_size, self.rnn.num_layers\n",
    "        directions = 2 if self.rnn.bidirectional else 1\n",
    "\n",
    "        hidden = weights.new_zeros(directions * n_layers, bs, hidden_dim)\n",
    "        cell = weights.new_zeros(directions * n_layers, bs, hidden_dim)\n",
    "        return hidden, cell\n",
    "\n",
    "    def init_weights(self, initrange=0.1):\n",
    "        self.embedding.weight.data.uniform_(-initrange, initrange)\n",
    "        self.fc1.bias.data.zero_()\n",
    "        self.fc1.weight.data.uniform_(-initrange, initrange)\n",
    "\n",
    "    def forward(self, x):\n",
    "        bs, msl = x.shape\n",
    "\n",
    "        hidden, cell = self.init_hidden(bs)\n",
    "        out = self.embedding_dp(x)\n",
    "        out = self.rnn_dropout(out)\n",
    "        out, (hidden, cell) = self.rnn(out, (hidden, cell))\n",
    "\n",
    "        if self.rnn.bidirectional:\n",
    "            out = torch.cat([hidden[-2], hidden[-1]], 1)\n",
    "        else: out = hidden[-1]\n",
    "\n",
    "        out = self.dropout(out)\n",
    "        out = self.fc1(out)\n",
    "        return out"
   ]
  },
  {
   "cell_type": "markdown",
   "metadata": {
    "colab_type": "text",
    "id": "iyqkyG4ofRxY"
   },
   "source": [
    "We'll instantiate our model. This time, we'll use AMSGrad as our optimizer, and introduce weight decay (L2 regularization)."
   ]
  },
  {
   "cell_type": "code",
   "execution_count": null,
   "metadata": {
    "colab": {
     "base_uri": "https://localhost:8080/",
     "height": 34
    },
    "colab_type": "code",
    "id": "ztklABgKIef8",
    "outputId": "cf447789-8b71-4069-b40b-cbed27a9bdf2"
   },
   "outputs": [
    {
     "name": "stdout",
     "output_type": "stream",
     "text": [
      "The model has 5,846,834 trainable parameters\n"
     ]
    }
   ],
   "source": [
    "model = LSTMClassifier(vocab_sz=len(vocab_set), \n",
    "                       embedding_dim=100, \n",
    "                       hidden_dim=128, \n",
    "                       output_dim=2, \n",
    "                       dropout=0.65,\n",
    "                       embed_dropout=0.1,\n",
    "                       recur_dropout=0.65,\n",
    "                       bidirectional=True,\n",
    "                       n_layers=1,\n",
    "                       initialize=True).to(device)\n",
    "criterion = nn.CrossEntropyLoss()\n",
    "optimizer = optim.AdamW(model.parameters(), lr=3e-4, weight_decay=1e-2, amsgrad=True)\n",
    "\n",
    "epochs = 10\n",
    "iters = epochs * len(train_loader)\n",
    "scheduler = lr_scheduler.CosineAnnealingLR(optimizer, T_max=iters, eta_min=0)\n",
    "\n",
    "print(\"The model has {:,} trainable parameters\".format(count_parameters(model)))"
   ]
  },
  {
   "cell_type": "markdown",
   "metadata": {
    "colab_type": "text",
    "id": "q7-XKFQAfaFf"
   },
   "source": [
    "Train with the same settings."
   ]
  },
  {
   "cell_type": "code",
   "execution_count": null,
   "metadata": {
    "colab": {
     "base_uri": "https://localhost:8080/",
     "height": 697
    },
    "colab_type": "code",
    "id": "a2ah6cPWIlIq",
    "outputId": "7cbb2a1f-d2a4-4259-bf0b-7cadc00f43be"
   },
   "outputs": [
    {
     "name": "stderr",
     "output_type": "stream",
     "text": [
      "100%|██████████| 547/547 [00:08<00:00, 61.49it/s]\n",
      "100%|██████████| 235/235 [00:01<00:00, 153.98it/s]\n",
      "  1%|          | 6/547 [00:00<00:09, 59.35it/s]"
     ]
    },
    {
     "name": "stdout",
     "output_type": "stream",
     "text": [
      "\n",
      "Epoch   1 | Train Loss 0.6939 | Train Acc 0.5012 | Valid Loss 0.6908 | Valid Acc 0.5339\n"
     ]
    },
    {
     "name": "stderr",
     "output_type": "stream",
     "text": [
      "100%|██████████| 547/547 [00:08<00:00, 60.99it/s]\n",
      "100%|██████████| 235/235 [00:01<00:00, 157.07it/s]\n",
      "  1%|          | 6/547 [00:00<00:09, 57.92it/s]"
     ]
    },
    {
     "name": "stdout",
     "output_type": "stream",
     "text": [
      "\n",
      "Epoch   2 | Train Loss 0.6138 | Train Acc 0.6642 | Valid Loss 0.5327 | Valid Acc 0.7523\n"
     ]
    },
    {
     "name": "stderr",
     "output_type": "stream",
     "text": [
      "100%|██████████| 547/547 [00:09<00:00, 59.32it/s]\n",
      "100%|██████████| 235/235 [00:01<00:00, 153.75it/s]\n",
      "  1%|          | 6/547 [00:00<00:09, 58.87it/s]"
     ]
    },
    {
     "name": "stdout",
     "output_type": "stream",
     "text": [
      "\n",
      "Epoch   3 | Train Loss 0.4631 | Train Acc 0.7962 | Valid Loss 0.3848 | Valid Acc 0.8344\n"
     ]
    },
    {
     "name": "stderr",
     "output_type": "stream",
     "text": [
      "100%|██████████| 547/547 [00:09<00:00, 59.16it/s]\n",
      "100%|██████████| 235/235 [00:01<00:00, 156.34it/s]\n",
      "  1%|          | 6/547 [00:00<00:09, 58.65it/s]"
     ]
    },
    {
     "name": "stdout",
     "output_type": "stream",
     "text": [
      "\n",
      "Epoch   4 | Train Loss 0.3817 | Train Acc 0.8424 | Valid Loss 0.3390 | Valid Acc 0.8602\n"
     ]
    },
    {
     "name": "stderr",
     "output_type": "stream",
     "text": [
      "100%|██████████| 547/547 [00:09<00:00, 60.08it/s]\n",
      "100%|██████████| 235/235 [00:01<00:00, 152.94it/s]\n",
      "  1%|          | 6/547 [00:00<00:09, 59.77it/s]"
     ]
    },
    {
     "name": "stdout",
     "output_type": "stream",
     "text": [
      "\n",
      "Epoch   5 | Train Loss 0.3293 | Train Acc 0.8703 | Valid Loss 0.3469 | Valid Acc 0.8535\n"
     ]
    },
    {
     "name": "stderr",
     "output_type": "stream",
     "text": [
      "100%|██████████| 547/547 [00:09<00:00, 58.74it/s]\n",
      "100%|██████████| 235/235 [00:01<00:00, 164.08it/s]\n",
      "  1%|          | 6/547 [00:00<00:09, 59.90it/s]"
     ]
    },
    {
     "name": "stdout",
     "output_type": "stream",
     "text": [
      "\n",
      "Epoch   6 | Train Loss 0.2974 | Train Acc 0.8841 | Valid Loss 0.3354 | Valid Acc 0.8683\n"
     ]
    },
    {
     "name": "stderr",
     "output_type": "stream",
     "text": [
      "100%|██████████| 547/547 [00:09<00:00, 59.78it/s]\n",
      "100%|██████████| 235/235 [00:01<00:00, 162.54it/s]\n",
      "  1%|▏         | 7/547 [00:00<00:08, 60.50it/s]"
     ]
    },
    {
     "name": "stdout",
     "output_type": "stream",
     "text": [
      "\n",
      "Epoch   7 | Train Loss 0.2712 | Train Acc 0.8964 | Valid Loss 0.3334 | Valid Acc 0.8657\n"
     ]
    },
    {
     "name": "stderr",
     "output_type": "stream",
     "text": [
      "100%|██████████| 547/547 [00:09<00:00, 58.44it/s]\n",
      "100%|██████████| 235/235 [00:01<00:00, 156.17it/s]\n",
      "  1%|          | 6/547 [00:00<00:09, 58.46it/s]"
     ]
    },
    {
     "name": "stdout",
     "output_type": "stream",
     "text": [
      "\n",
      "Epoch   8 | Train Loss 0.2620 | Train Acc 0.9003 | Valid Loss 0.3374 | Valid Acc 0.8652\n"
     ]
    },
    {
     "name": "stderr",
     "output_type": "stream",
     "text": [
      "100%|██████████| 547/547 [00:09<00:00, 59.10it/s]\n",
      "100%|██████████| 235/235 [00:01<00:00, 158.92it/s]\n",
      "  1%|          | 6/547 [00:00<00:09, 59.46it/s]"
     ]
    },
    {
     "name": "stdout",
     "output_type": "stream",
     "text": [
      "\n",
      "Epoch   9 | Train Loss 0.2547 | Train Acc 0.9024 | Valid Loss 0.3398 | Valid Acc 0.8655\n"
     ]
    },
    {
     "name": "stderr",
     "output_type": "stream",
     "text": [
      "100%|██████████| 547/547 [00:09<00:00, 59.57it/s]\n",
      "100%|██████████| 235/235 [00:01<00:00, 160.02it/s]"
     ]
    },
    {
     "name": "stdout",
     "output_type": "stream",
     "text": [
      "\n",
      "Epoch  10 | Train Loss 0.2469 | Train Acc 0.9053 | Valid Loss 0.3368 | Valid Acc 0.8671\n"
     ]
    },
    {
     "name": "stderr",
     "output_type": "stream",
     "text": [
      "\n"
     ]
    }
   ],
   "source": [
    "clip = 1.0\n",
    "train_losses, valid_losses = [], []\n",
    "\n",
    "for e in range(1, epochs + 1):\n",
    "    train_loss, train_acc = 0, 0\n",
    "    \n",
    "    model.train()\n",
    "    for x, y in tqdm(train_loader):\n",
    "        x, y = x.to(device), y.to(device)\n",
    "\n",
    "        out = model(x)\n",
    "        loss = criterion(out, y)\n",
    "\n",
    "        optimizer.zero_grad()\n",
    "        loss.backward()\n",
    "        nn.utils.clip_grad_norm_(model.parameters(), clip)\n",
    "        optimizer.step()\n",
    "        scheduler.step()\n",
    "\n",
    "        train_loss += loss.item()\n",
    "        train_acc += accuracy(out, y)\n",
    "    train_loss /= len(train_loader)\n",
    "    train_acc /= len(train_loader)\n",
    "\n",
    "    valid_loss, valid_acc = 0, 0\n",
    "    \n",
    "    model.eval()\n",
    "    with torch.no_grad():\n",
    "        for x, y in tqdm(valid_loader):\n",
    "            x, y = x.to(device), y.to(device)\n",
    "\n",
    "            out = model(x)\n",
    "            loss = criterion(out, y)\n",
    "\n",
    "            valid_loss += loss.item()\n",
    "            valid_acc += accuracy(out, y)\n",
    "    valid_loss /= len(valid_loader)\n",
    "    valid_acc /= len(valid_loader)\n",
    "\n",
    "    train_losses.append(train_loss)\n",
    "    valid_losses.append(valid_loss)\n",
    "\n",
    "    print(\"\\nEpoch {:3} | Train Loss {:.4f} | Train Acc {:.4f} | Valid Loss {:.4f} | Valid Acc {:.4f}\".format(e, train_loss, train_acc, valid_loss, valid_acc))"
   ]
  },
  {
   "cell_type": "markdown",
   "metadata": {
    "colab_type": "text",
    "id": "eo8XJ-UlfcOD"
   },
   "source": [
    "This time, we get better results."
   ]
  },
  {
   "cell_type": "code",
   "execution_count": null,
   "metadata": {
    "colab": {
     "base_uri": "https://localhost:8080/",
     "height": 282
    },
    "colab_type": "code",
    "id": "4WEdEbVqImp8",
    "outputId": "68f6cccd-9135-45dc-fac1-9a21ecb32e45"
   },
   "outputs": [
    {
     "data": {
      "text/plain": [
       "<matplotlib.axes._subplots.AxesSubplot at 0x7f8c9b722ba8>"
      ]
     },
     "execution_count": 63,
     "metadata": {
      "tags": []
     },
     "output_type": "execute_result"
    },
    {
     "data": {
      "image/png": "[encoded data removed]",
      "text/plain": [
       "<Figure size 432x288 with 1 Axes>"
      ]
     },
     "metadata": {
      "needs_background": "light",
      "tags": []
     },
     "output_type": "display_data"
    }
   ],
   "source": [
    "pd.DataFrame(data={'train': train_losses, 'valid': valid_losses}).plot.line()"
   ]
  },
  {
   "cell_type": "markdown",
   "metadata": {
    "colab_type": "text",
    "id": "15x9aB3mfeAN"
   },
   "source": [
    "The problem with randomly-initialized embeddings is that the model spends a lot of time moving the embeddings to the correct places, before it learns to solve the task it is trying to learn. This makes learning unwieldy.\n",
    "\n",
    "A solution to this is to use pretrained embeddings, which already contain syntactic information. This way, the model doesn't have to spend too much time adjusting, and training becomes smoother."
   ]
  },
  {
   "cell_type": "markdown",
   "metadata": {
    "colab_type": "text",
    "id": "ydxhxJeWLWEh"
   },
   "source": [
    "# Pretrained Embeddings"
   ]
  },
  {
   "cell_type": "markdown",
   "metadata": {
    "colab_type": "text",
    "id": "j4YpJFMlfwyF"
   },
   "source": [
    "Let's download some pretrained GloVe embeddings.\n",
    "\n",
    "GloVe is a method of training embeddings that uses corpus-wide co-occurence data to assign positions to each word. We'll discuss and implement this ourselves in a future lesson. For now, we'll use pretrained ones."
   ]
  },
  {
   "cell_type": "code",
   "execution_count": null,
   "metadata": {
    "colab": {},
    "colab_type": "code",
    "id": "xSFMtsEKJBtk"
   },
   "outputs": [],
   "source": [
    "#!wget https://s3.us-east-2.amazonaws.com/blaisecruz.com/embeddings/glove.6B.50d.txt"
   ]
  },
  {
   "cell_type": "markdown",
   "metadata": {
    "colab_type": "text",
    "id": "OL3Tb1Prf87h"
   },
   "source": [
    "We'll load the vectors into a dictionary."
   ]
  },
  {
   "cell_type": "code",
   "execution_count": null,
   "metadata": {
    "colab": {},
    "colab_type": "code",
    "id": "bQmtDa0YLy8Y"
   },
   "outputs": [],
   "source": [
    "with open('glove.6B.50d.txt', 'r') as f:\n",
    "    glove = {}\n",
    "    for line in f:\n",
    "        l = line.strip().split()\n",
    "        glove[l[0]] = [float(v) for v in l[1:]]"
   ]
  },
  {
   "cell_type": "markdown",
   "metadata": {
    "colab_type": "text",
    "id": "VqDV9u1ff-10"
   },
   "source": [
    "Here's the vectors for the word 'the'"
   ]
  },
  {
   "cell_type": "code",
   "execution_count": null,
   "metadata": {
    "colab": {
     "base_uri": "https://localhost:8080/",
     "height": 54
    },
    "colab_type": "code",
    "id": "keyRiss9L9K2",
    "outputId": "8d11e646-6cc8-46b0-a335-b43b2eb46203"
   },
   "outputs": [
    {
     "name": "stdout",
     "output_type": "stream",
     "text": [
      "[0.418, 0.24968, -0.41242, 0.1217, 0.34527, -0.044457, -0.49688, -0.17862, -0.00066023, -0.6566, 0.27843, -0.14767, -0.55677, 0.14658, -0.0095095, 0.011658, 0.10204, -0.12792, -0.8443, -0.12181, -0.016801, -0.33279, -0.1552, -0.23131, -0.19181, -1.8823, -0.76746, 0.099051, -0.42125, -0.19526, 4.0071, -0.18594, -0.52287, -0.31681, 0.00059213, 0.0074449, 0.17778, -0.15897, 0.012041, -0.054223, -0.29871, -0.15749, -0.34758, -0.045637, -0.44251, 0.18785, 0.0027849, -0.18411, -0.11514, -0.78581]\n"
     ]
    }
   ],
   "source": [
    "print(glove['the'])"
   ]
  },
  {
   "cell_type": "markdown",
   "metadata": {
    "colab_type": "text",
    "id": "SFVDdKexgA3l"
   },
   "source": [
    "Let's use the vectors.\n",
    "\n",
    "For every word in our vocabulary that exists in the vocabulary of GloVe, we'll use the trained embedding. Otherwise, we'll use a randomly initialized one."
   ]
  },
  {
   "cell_type": "code",
   "execution_count": null,
   "metadata": {
    "colab": {},
    "colab_type": "code",
    "id": "wNZvYcn9L-QH"
   },
   "outputs": [],
   "source": [
    "glove_vocab = set(glove.keys())\n",
    "\n",
    "vectors = []\n",
    "for token in idx2word:\n",
    "    if token in glove_vocab: vectors.append(torch.FloatTensor(glove[token]))\n",
    "    else: vectors.append(torch.rand(50).uniform_(-0.1, 0.1))"
   ]
  },
  {
   "cell_type": "markdown",
   "metadata": {
    "colab_type": "text",
    "id": "_6_BgQyBgH5Q"
   },
   "source": [
    "Here's an example word."
   ]
  },
  {
   "cell_type": "code",
   "execution_count": null,
   "metadata": {
    "colab": {
     "base_uri": "https://localhost:8080/",
     "height": 37
    },
    "colab_type": "code",
    "id": "5GQfZ1MPNU_R",
    "outputId": "0a42c39c-d869-42b6-e13f-193c0cee1d11"
   },
   "outputs": [
    {
     "data": {
      "application/vnd.google.colaboratory.intrinsic+json": {
       "type": "string"
      },
      "text/plain": [
       "'exacerbate'"
      ]
     },
     "execution_count": 68,
     "metadata": {
      "tags": []
     },
     "output_type": "execute_result"
    }
   ],
   "source": [
    "idx2word[0]"
   ]
  },
  {
   "cell_type": "markdown",
   "metadata": {
    "colab_type": "text",
    "id": "Ul9LlK1ogJX1"
   },
   "source": [
    "And it's embedding."
   ]
  },
  {
   "cell_type": "code",
   "execution_count": null,
   "metadata": {
    "colab": {
     "base_uri": "https://localhost:8080/",
     "height": 54
    },
    "colab_type": "code",
    "id": "T3JY3BdjNZv4",
    "outputId": "6b8c7044-0017-404e-b0bd-12628a0fe578"
   },
   "outputs": [
    {
     "name": "stdout",
     "output_type": "stream",
     "text": [
      "[0.41817, -0.46122, 0.010667, -0.12624, -0.87323, 0.63934, 1.39, 0.426, -0.016501, -0.28983, 0.31326, 0.035407, -0.21225, -0.52607, 0.2903, 1.5516, 0.20275, -0.69439, 1.142, 0.014968, -0.32994, -0.95339, -0.012949, 0.33271, 0.17152, -0.12719, 0.28879, 0.1482, 1.3775, 1.2105, 0.8042, 1.1108, 0.41383, -0.77357, -0.73544, 0.11489, -1.1682, -0.96491, 0.167, 0.23047, -1.0953, 0.22614, 0.21805, 0.00060762, 0.55483, 0.48155, 0.76849, 0.82595, -0.18012, 0.17437]\n"
     ]
    }
   ],
   "source": [
    "print(glove['exacerbate'])"
   ]
  },
  {
   "cell_type": "markdown",
   "metadata": {
    "colab_type": "text",
    "id": "j62SKJjfgLP_"
   },
   "source": [
    "Here's a sanity check to show that we copied it in the same index in the final vector matrix."
   ]
  },
  {
   "cell_type": "code",
   "execution_count": null,
   "metadata": {
    "colab": {
     "base_uri": "https://localhost:8080/",
     "height": 187
    },
    "colab_type": "code",
    "id": "mksIQYIMNbEB",
    "outputId": "0549e4d0-c697-4031-eb35-dce7b993eabc"
   },
   "outputs": [
    {
     "name": "stdout",
     "output_type": "stream",
     "text": [
      "tensor([ 4.1817e-01, -4.6122e-01,  1.0667e-02, -1.2624e-01, -8.7323e-01,\n",
      "         6.3934e-01,  1.3900e+00,  4.2600e-01, -1.6501e-02, -2.8983e-01,\n",
      "         3.1326e-01,  3.5407e-02, -2.1225e-01, -5.2607e-01,  2.9030e-01,\n",
      "         1.5516e+00,  2.0275e-01, -6.9439e-01,  1.1420e+00,  1.4968e-02,\n",
      "        -3.2994e-01, -9.5339e-01, -1.2949e-02,  3.3271e-01,  1.7152e-01,\n",
      "        -1.2719e-01,  2.8879e-01,  1.4820e-01,  1.3775e+00,  1.2105e+00,\n",
      "         8.0420e-01,  1.1108e+00,  4.1383e-01, -7.7357e-01, -7.3544e-01,\n",
      "         1.1489e-01, -1.1682e+00, -9.6491e-01,  1.6700e-01,  2.3047e-01,\n",
      "        -1.0953e+00,  2.2614e-01,  2.1805e-01,  6.0762e-04,  5.5483e-01,\n",
      "         4.8155e-01,  7.6849e-01,  8.2595e-01, -1.8012e-01,  1.7437e-01])\n"
     ]
    }
   ],
   "source": [
    "print(vectors[0])"
   ]
  },
  {
   "cell_type": "markdown",
   "metadata": {
    "colab_type": "text",
    "id": "cfjMceRygRQM"
   },
   "source": [
    "Finally, we'll turn this into a PyTorch tensor."
   ]
  },
  {
   "cell_type": "code",
   "execution_count": null,
   "metadata": {
    "colab": {
     "base_uri": "https://localhost:8080/",
     "height": 34
    },
    "colab_type": "code",
    "id": "86_uBB0zN3iB",
    "outputId": "28c74608-77a1-42f5-bb43-1f8ecd32a051"
   },
   "outputs": [
    {
     "name": "stdout",
     "output_type": "stream",
     "text": [
      "torch.Size([56108, 50])\n"
     ]
    }
   ],
   "source": [
    "pretrained_embeddings = torch.stack(vectors)\n",
    "print(pretrained_embeddings.shape)"
   ]
  },
  {
   "cell_type": "markdown",
   "metadata": {
    "colab_type": "text",
    "id": "cciDMBxlPen8"
   },
   "source": [
    "# Putting Everything Together"
   ]
  },
  {
   "cell_type": "markdown",
   "metadata": {
    "colab_type": "text",
    "id": "a6GLqmcegUMm"
   },
   "source": [
    "Let's put everything together. Instantiate a model with less regularization."
   ]
  },
  {
   "cell_type": "code",
   "execution_count": null,
   "metadata": {
    "colab": {},
    "colab_type": "code",
    "id": "K-KZZkDVOHJR"
   },
   "outputs": [],
   "source": [
    "model = LSTMClassifier(vocab_sz=len(vocab_set), \n",
    "                       embedding_dim=50, \n",
    "                       hidden_dim=256, \n",
    "                       output_dim=2, \n",
    "                       dropout=0.5,\n",
    "                       embed_dropout=0.1,\n",
    "                       recur_dropout=0.4,\n",
    "                       bidirectional=True,\n",
    "                       n_layers=1)"
   ]
  },
  {
   "cell_type": "markdown",
   "metadata": {
    "colab_type": "text",
    "id": "lFY1Dr1WgYfI"
   },
   "source": [
    "We'll copy the vectors into our model."
   ]
  },
  {
   "cell_type": "code",
   "execution_count": null,
   "metadata": {
    "colab": {},
    "colab_type": "code",
    "id": "yBidWhaBPnb_"
   },
   "outputs": [],
   "source": [
    "model.embedding_dp.emb.weight.data.copy_(pretrained_embeddings);\n",
    "model.embedding_dp.emb.weight.requires_grad = True"
   ]
  },
  {
   "cell_type": "markdown",
   "metadata": {
    "colab_type": "text",
    "id": "X96N3YLogaec"
   },
   "source": [
    "And instantiate our setup. This time we'll train for a bit longer (20 epochs) and we won't use weight decay."
   ]
  },
  {
   "cell_type": "code",
   "execution_count": null,
   "metadata": {
    "colab": {
     "base_uri": "https://localhost:8080/",
     "height": 34
    },
    "colab_type": "code",
    "id": "I_VFbTWjOPDy",
    "outputId": "8bdf185a-e012-43f6-f566-4bd765183a3f"
   },
   "outputs": [
    {
     "name": "stdout",
     "output_type": "stream",
     "text": [
      "The model has 3,437,210 trainable parameters\n"
     ]
    }
   ],
   "source": [
    "model = model.to(device)\n",
    "criterion = nn.CrossEntropyLoss()\n",
    "optimizer = optim.AdamW(model.parameters(), lr=3e-4, amsgrad=True)\n",
    "\n",
    "epochs = 20\n",
    "iters = epochs * len(train_loader)\n",
    "scheduler = lr_scheduler.CosineAnnealingLR(optimizer, T_max=iters, eta_min=0)\n",
    "\n",
    "print(\"The model has {:,} trainable parameters\".format(count_parameters(model)))"
   ]
  },
  {
   "cell_type": "markdown",
   "metadata": {
    "colab_type": "text",
    "id": "SL4fq4X1gfea"
   },
   "source": [
    "And train!"
   ]
  },
  {
   "cell_type": "code",
   "execution_count": null,
   "metadata": {
    "colab": {
     "base_uri": "https://localhost:8080/",
     "height": 1000
    },
    "colab_type": "code",
    "id": "Ag5XFZpEPCm6",
    "outputId": "9d641463-274e-4546-de14-0ec143b7cedd"
   },
   "outputs": [
    {
     "name": "stderr",
     "output_type": "stream",
     "text": [
      "100%|██████████| 547/547 [00:12<00:00, 42.47it/s]\n",
      "100%|██████████| 235/235 [00:01<00:00, 140.38it/s]\n",
      "  1%|          | 5/547 [00:00<00:12, 43.05it/s]"
     ]
    },
    {
     "name": "stdout",
     "output_type": "stream",
     "text": [
      "\n",
      "Epoch   1 | Train Loss 0.6779 | Train Acc 0.5703 | Valid Loss 0.6167 | Valid Acc 0.6770\n"
     ]
    },
    {
     "name": "stderr",
     "output_type": "stream",
     "text": [
      "100%|██████████| 547/547 [00:12<00:00, 42.11it/s]\n",
      "100%|██████████| 235/235 [00:01<00:00, 137.02it/s]\n",
      "  1%|          | 5/547 [00:00<00:12, 42.39it/s]"
     ]
    },
    {
     "name": "stdout",
     "output_type": "stream",
     "text": [
      "\n",
      "Epoch   2 | Train Loss 0.6468 | Train Acc 0.6390 | Valid Loss 0.5984 | Valid Acc 0.7064\n"
     ]
    },
    {
     "name": "stderr",
     "output_type": "stream",
     "text": [
      "100%|██████████| 547/547 [00:12<00:00, 42.26it/s]\n",
      "100%|██████████| 235/235 [00:01<00:00, 139.05it/s]\n",
      "  1%|          | 5/547 [00:00<00:13, 41.67it/s]"
     ]
    },
    {
     "name": "stdout",
     "output_type": "stream",
     "text": [
      "\n",
      "Epoch   3 | Train Loss 0.6191 | Train Acc 0.6662 | Valid Loss 0.5992 | Valid Acc 0.6798\n"
     ]
    },
    {
     "name": "stderr",
     "output_type": "stream",
     "text": [
      "100%|██████████| 547/547 [00:12<00:00, 42.34it/s]\n",
      "100%|██████████| 235/235 [00:01<00:00, 141.35it/s]\n",
      "  1%|          | 5/547 [00:00<00:12, 43.08it/s]"
     ]
    },
    {
     "name": "stdout",
     "output_type": "stream",
     "text": [
      "\n",
      "Epoch   4 | Train Loss 0.5876 | Train Acc 0.6942 | Valid Loss 0.6085 | Valid Acc 0.7261\n"
     ]
    },
    {
     "name": "stderr",
     "output_type": "stream",
     "text": [
      "100%|██████████| 547/547 [00:13<00:00, 41.98it/s]\n",
      "100%|██████████| 235/235 [00:01<00:00, 137.40it/s]\n",
      "  1%|          | 5/547 [00:00<00:13, 41.18it/s]"
     ]
    },
    {
     "name": "stdout",
     "output_type": "stream",
     "text": [
      "\n",
      "Epoch   5 | Train Loss 0.5402 | Train Acc 0.7392 | Valid Loss 0.4865 | Valid Acc 0.7691\n"
     ]
    },
    {
     "name": "stderr",
     "output_type": "stream",
     "text": [
      "100%|██████████| 547/547 [00:12<00:00, 42.19it/s]\n",
      "100%|██████████| 235/235 [00:01<00:00, 138.79it/s]\n",
      "  1%|          | 5/547 [00:00<00:12, 43.62it/s]"
     ]
    },
    {
     "name": "stdout",
     "output_type": "stream",
     "text": [
      "\n",
      "Epoch   6 | Train Loss 0.5113 | Train Acc 0.7613 | Valid Loss 0.4537 | Valid Acc 0.7990\n"
     ]
    },
    {
     "name": "stderr",
     "output_type": "stream",
     "text": [
      "100%|██████████| 547/547 [00:13<00:00, 42.02it/s]\n",
      "100%|██████████| 235/235 [00:01<00:00, 136.11it/s]\n",
      "  1%|          | 5/547 [00:00<00:12, 41.88it/s]"
     ]
    },
    {
     "name": "stdout",
     "output_type": "stream",
     "text": [
      "\n",
      "Epoch   7 | Train Loss 0.4732 | Train Acc 0.7818 | Valid Loss 0.4389 | Valid Acc 0.8119\n"
     ]
    },
    {
     "name": "stderr",
     "output_type": "stream",
     "text": [
      "100%|██████████| 547/547 [00:13<00:00, 41.99it/s]\n",
      "100%|██████████| 235/235 [00:01<00:00, 139.35it/s]\n",
      "  1%|          | 5/547 [00:00<00:12, 42.51it/s]"
     ]
    },
    {
     "name": "stdout",
     "output_type": "stream",
     "text": [
      "\n",
      "Epoch   8 | Train Loss 0.4510 | Train Acc 0.7941 | Valid Loss 0.4494 | Valid Acc 0.8102\n"
     ]
    },
    {
     "name": "stderr",
     "output_type": "stream",
     "text": [
      "100%|██████████| 547/547 [00:13<00:00, 41.89it/s]\n",
      "100%|██████████| 235/235 [00:01<00:00, 137.97it/s]\n",
      "  1%|          | 5/547 [00:00<00:12, 42.78it/s]"
     ]
    },
    {
     "name": "stdout",
     "output_type": "stream",
     "text": [
      "\n",
      "Epoch   9 | Train Loss 0.4392 | Train Acc 0.8062 | Valid Loss 0.4125 | Valid Acc 0.8070\n"
     ]
    },
    {
     "name": "stderr",
     "output_type": "stream",
     "text": [
      "100%|██████████| 547/547 [00:13<00:00, 41.86it/s]\n",
      "100%|██████████| 235/235 [00:01<00:00, 139.14it/s]\n",
      "  1%|          | 5/547 [00:00<00:13, 41.53it/s]"
     ]
    },
    {
     "name": "stdout",
     "output_type": "stream",
     "text": [
      "\n",
      "Epoch  10 | Train Loss 0.4181 | Train Acc 0.8145 | Valid Loss 0.4623 | Valid Acc 0.7969\n"
     ]
    },
    {
     "name": "stderr",
     "output_type": "stream",
     "text": [
      "100%|██████████| 547/547 [00:12<00:00, 42.11it/s]\n",
      "100%|██████████| 235/235 [00:01<00:00, 141.05it/s]\n",
      "  1%|          | 5/547 [00:00<00:12, 42.77it/s]"
     ]
    },
    {
     "name": "stdout",
     "output_type": "stream",
     "text": [
      "\n",
      "Epoch  11 | Train Loss 0.4109 | Train Acc 0.8192 | Valid Loss 0.3766 | Valid Acc 0.8342\n"
     ]
    },
    {
     "name": "stderr",
     "output_type": "stream",
     "text": [
      "100%|██████████| 547/547 [00:12<00:00, 42.20it/s]\n",
      "100%|██████████| 235/235 [00:01<00:00, 134.56it/s]\n",
      "  1%|          | 5/547 [00:00<00:12, 42.01it/s]"
     ]
    },
    {
     "name": "stdout",
     "output_type": "stream",
     "text": [
      "\n",
      "Epoch  12 | Train Loss 0.4015 | Train Acc 0.8218 | Valid Loss 0.3827 | Valid Acc 0.8270\n"
     ]
    },
    {
     "name": "stderr",
     "output_type": "stream",
     "text": [
      "100%|██████████| 547/547 [00:13<00:00, 42.04it/s]\n",
      "100%|██████████| 235/235 [00:01<00:00, 139.22it/s]\n",
      "  1%|          | 5/547 [00:00<00:12, 43.70it/s]"
     ]
    },
    {
     "name": "stdout",
     "output_type": "stream",
     "text": [
      "\n",
      "Epoch  13 | Train Loss 0.3945 | Train Acc 0.8255 | Valid Loss 0.3850 | Valid Acc 0.8407\n"
     ]
    },
    {
     "name": "stderr",
     "output_type": "stream",
     "text": [
      "100%|██████████| 547/547 [00:13<00:00, 42.05it/s]\n",
      "100%|██████████| 235/235 [00:01<00:00, 138.91it/s]\n",
      "  1%|          | 5/547 [00:00<00:12, 43.38it/s]"
     ]
    },
    {
     "name": "stdout",
     "output_type": "stream",
     "text": [
      "\n",
      "Epoch  14 | Train Loss 0.3853 | Train Acc 0.8306 | Valid Loss 0.3949 | Valid Acc 0.8349\n"
     ]
    },
    {
     "name": "stderr",
     "output_type": "stream",
     "text": [
      "100%|██████████| 547/547 [00:12<00:00, 42.28it/s]\n",
      "100%|██████████| 235/235 [00:01<00:00, 139.23it/s]\n",
      "  1%|          | 5/547 [00:00<00:13, 41.68it/s]"
     ]
    },
    {
     "name": "stdout",
     "output_type": "stream",
     "text": [
      "\n",
      "Epoch  15 | Train Loss 0.3746 | Train Acc 0.8340 | Valid Loss 0.3681 | Valid Acc 0.8434\n"
     ]
    },
    {
     "name": "stderr",
     "output_type": "stream",
     "text": [
      "100%|██████████| 547/547 [00:13<00:00, 42.06it/s]\n",
      "100%|██████████| 235/235 [00:01<00:00, 138.13it/s]\n",
      "  1%|          | 5/547 [00:00<00:12, 42.97it/s]"
     ]
    },
    {
     "name": "stdout",
     "output_type": "stream",
     "text": [
      "\n",
      "Epoch  16 | Train Loss 0.3756 | Train Acc 0.8369 | Valid Loss 0.3730 | Valid Acc 0.8367\n"
     ]
    },
    {
     "name": "stderr",
     "output_type": "stream",
     "text": [
      "100%|██████████| 547/547 [00:12<00:00, 42.54it/s]\n",
      "100%|██████████| 235/235 [00:01<00:00, 143.62it/s]\n",
      "  1%|          | 5/547 [00:00<00:12, 42.36it/s]"
     ]
    },
    {
     "name": "stdout",
     "output_type": "stream",
     "text": [
      "\n",
      "Epoch  17 | Train Loss 0.3772 | Train Acc 0.8379 | Valid Loss 0.3865 | Valid Acc 0.8385\n"
     ]
    },
    {
     "name": "stderr",
     "output_type": "stream",
     "text": [
      "100%|██████████| 547/547 [00:13<00:00, 41.89it/s]\n",
      "100%|██████████| 235/235 [00:01<00:00, 140.62it/s]\n",
      "  1%|          | 5/547 [00:00<00:12, 42.05it/s]"
     ]
    },
    {
     "name": "stdout",
     "output_type": "stream",
     "text": [
      "\n",
      "Epoch  18 | Train Loss 0.3728 | Train Acc 0.8374 | Valid Loss 0.3785 | Valid Acc 0.8410\n"
     ]
    },
    {
     "name": "stderr",
     "output_type": "stream",
     "text": [
      "100%|██████████| 547/547 [00:13<00:00, 42.02it/s]\n",
      "100%|██████████| 235/235 [00:01<00:00, 138.48it/s]\n",
      "  1%|          | 5/547 [00:00<00:12, 43.08it/s]"
     ]
    },
    {
     "name": "stdout",
     "output_type": "stream",
     "text": [
      "\n",
      "Epoch  19 | Train Loss 0.3715 | Train Acc 0.8398 | Valid Loss 0.3777 | Valid Acc 0.8405\n"
     ]
    },
    {
     "name": "stderr",
     "output_type": "stream",
     "text": [
      "100%|██████████| 547/547 [00:12<00:00, 42.30it/s]\n",
      "100%|██████████| 235/235 [00:01<00:00, 138.56it/s]"
     ]
    },
    {
     "name": "stdout",
     "output_type": "stream",
     "text": [
      "\n",
      "Epoch  20 | Train Loss 0.3732 | Train Acc 0.8389 | Valid Loss 0.3785 | Valid Acc 0.8397\n"
     ]
    },
    {
     "name": "stderr",
     "output_type": "stream",
     "text": [
      "\n"
     ]
    }
   ],
   "source": [
    "clip = 1.0\n",
    "train_losses, valid_losses = [], []\n",
    "\n",
    "for e in range(1, epochs + 1):\n",
    "    train_loss, train_acc = 0, 0\n",
    "    \n",
    "    model.train()\n",
    "    for x, y in tqdm(train_loader):\n",
    "        x, y = x.to(device), y.to(device)\n",
    "\n",
    "        out = model(x)\n",
    "        loss = criterion(out, y)\n",
    "\n",
    "        optimizer.zero_grad()\n",
    "        loss.backward()\n",
    "        nn.utils.clip_grad_norm_(model.parameters(), clip)\n",
    "        optimizer.step()\n",
    "        scheduler.step()\n",
    "\n",
    "        train_loss += loss.item()\n",
    "        train_acc += accuracy(out, y)\n",
    "    train_loss /= len(train_loader)\n",
    "    train_acc /= len(train_loader)\n",
    "\n",
    "    valid_loss, valid_acc = 0, 0\n",
    "    \n",
    "    model.eval()\n",
    "    with torch.no_grad():\n",
    "        for x, y in tqdm(valid_loader):\n",
    "            x, y = x.to(device), y.to(device)\n",
    "\n",
    "            out = model(x)\n",
    "            loss = criterion(out, y)\n",
    "\n",
    "            valid_loss += loss.item()\n",
    "            valid_acc += accuracy(out, y)\n",
    "    valid_loss /= len(valid_loader)\n",
    "    valid_acc /= len(valid_loader)\n",
    "\n",
    "    train_losses.append(train_loss)\n",
    "    valid_losses.append(valid_loss)\n",
    "\n",
    "    print(\"\\nEpoch {:3} | Train Loss {:.4f} | Train Acc {:.4f} | Valid Loss {:.4f} | Valid Acc {:.4f}\".format(e, train_loss, train_acc, valid_loss, valid_acc))"
   ]
  },
  {
   "cell_type": "markdown",
   "metadata": {
    "colab_type": "text",
    "id": "z32U7QsfghQY"
   },
   "source": [
    "This leads to more robust training."
   ]
  },
  {
   "cell_type": "code",
   "execution_count": null,
   "metadata": {
    "colab": {
     "base_uri": "https://localhost:8080/",
     "height": 282
    },
    "colab_type": "code",
    "id": "mxbJ-URWUyca",
    "outputId": "f4e4f49e-205b-46c8-974e-dc2f448b22d9"
   },
   "outputs": [
    {
     "data": {
      "text/plain": [
       "<matplotlib.axes._subplots.AxesSubplot at 0x7f8c9b70d940>"
      ]
     },
     "execution_count": 78,
     "metadata": {
      "tags": []
     },
     "output_type": "execute_result"
    },
    {
     "data": {
      "image/png": "[encoded data removed]",
      "text/plain": [
       "<Figure size 432x288 with 1 Axes>"
      ]
     },
     "metadata": {
      "needs_background": "light",
      "tags": []
     },
     "output_type": "display_data"
    }
   ],
   "source": [
    "pd.DataFrame(data={'train': train_losses, 'valid': valid_losses}).plot.line()"
   ]
  },
  {
   "cell_type": "code",
   "execution_count": null,
   "metadata": {
    "colab": {},
    "colab_type": "code",
    "id": "_x2dNBRXZ_Vr"
   },
   "outputs": [],
   "source": []
  }
 ],
 "metadata": {
  "accelerator": "GPU",
  "colab": {
   "collapsed_sections": [],
   "name": "07b - RNN Sentiment Classification",
   "provenance": []
  },
  "kernelspec": {
   "display_name": "Python 3",
   "language": "python",
   "name": "python3"
  },
  "language_info": {
   "codemirror_mode": {
    "name": "ipython",
    "version": 3
   },
   "file_extension": ".py",
   "mimetype": "text/x-python",
   "name": "python",
   "nbconvert_exporter": "python",
   "pygments_lexer": "ipython3",
   "version": "3.7.0"
  }
 },
 "nbformat": 4,
 "nbformat_minor": 4
}
