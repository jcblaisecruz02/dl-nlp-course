{
 "cells": [
  {
   "cell_type": "markdown",
   "metadata": {},
   "source": [
    "# 02 - Capacity, Under and Overfitting\n",
    "Prepared by Jan Christian Blaise Cruz\n",
    "\n",
    "DLSU Machine Learning Group"
   ]
  },
  {
   "cell_type": "code",
   "execution_count": null,
   "metadata": {
    "colab": {},
    "colab_type": "code",
    "id": "5c6jOHBWE52l"
   },
   "outputs": [],
   "source": [
    "# Usual imports\n",
    "import numpy as np\n",
    "import matplotlib.pyplot as plt\n",
    "\n",
    "# Imports for lazy people\n",
    "from sklearn.pipeline import Pipeline\n",
    "from sklearn.preprocessing import PolynomialFeatures\n",
    "from sklearn.linear_model import LinearRegression\n",
    "from sklearn.model_selection import cross_val_score, train_test_split\n",
    "from sklearn.datasets import load_boston\n",
    "from sklearn.metrics import mean_squared_error, make_scorer\n",
    "\n",
    "np.random.seed(42)"
   ]
  },
  {
   "cell_type": "markdown",
   "metadata": {},
   "source": [
    "We'll load the boston dataset, split it, then train it on a Linear Regression model."
   ]
  },
  {
   "cell_type": "code",
   "execution_count": null,
   "metadata": {
    "colab": {
     "base_uri": "https://localhost:8080/",
     "height": 34
    },
    "colab_type": "code",
    "id": "3oKICE-qbL-t",
    "outputId": "32c69f11-2cea-4f68-e320-1403d78ec0ce"
   },
   "outputs": [
    {
     "name": "stdout",
     "output_type": "stream",
     "text": [
      "22.098694827098424\n"
     ]
    }
   ],
   "source": [
    "# Load dataset and split\n",
    "d = load_boston()\n",
    "X_train, X_test, y_train, y_test = train_test_split(d.data, d.target, random_state=42)\n",
    "\n",
    "# Train model\n",
    "model = LinearRegression()\n",
    "model.fit(X_train, y_train)\n",
    "\n",
    "# Test\n",
    "y_pred = model.predict(X_test)\n",
    "error = mean_squared_error(y_pred, y_test)\n",
    "print(error)"
   ]
  },
  {
   "cell_type": "markdown",
   "metadata": {},
   "source": [
    "As discussed, using cross validation is a good way to see if the model generalizes properly or if it got lucky with the split. If the standard deviation of our cross validation scores is big, this means that randomness has a lot of contribution to the performance (splits matter).\n",
    "\n",
    "The mean of the cross val scores is a more trustworthy metric than just one split's score."
   ]
  },
  {
   "cell_type": "code",
   "execution_count": null,
   "metadata": {
    "colab": {
     "base_uri": "https://localhost:8080/",
     "height": 68
    },
    "colab_type": "code",
    "id": "xeSXZ9mSbMBF",
    "outputId": "e4e602ea-d7ed-40e9-bc41-5fc07462a3a0"
   },
   "outputs": [
    {
     "name": "stdout",
     "output_type": "stream",
     "text": [
      "[  9.28694671  14.15128316  14.07360615  35.20692433  31.88511666\n",
      "  19.83587796   9.94726918 168.37537954  33.32974507  10.96041068]\n",
      "34.705255944524914\n"
     ]
    }
   ],
   "source": [
    "# Ten-fold cross validation\n",
    "mse = make_scorer(mean_squared_error)\n",
    "scores = cross_val_score(model, d.data, d.target, cv=10, scoring=mse)\n",
    "print(scores)\n",
    "print(np.mean(scores))"
   ]
  },
  {
   "cell_type": "markdown",
   "metadata": {},
   "source": [
    "Next, we'll see what happens to a model graphically given a setting of its capacity.\n",
    "\n",
    "Let's define a generation function to make random data for us."
   ]
  },
  {
   "cell_type": "code",
   "execution_count": null,
   "metadata": {
    "colab": {},
    "colab_type": "code",
    "id": "qD28WyB4FLrL"
   },
   "outputs": [],
   "source": [
    "# Define a generation function\n",
    "def func(x):\n",
    "    return np.cos(1.5 * np.pi * x)"
   ]
  },
  {
   "cell_type": "markdown",
   "metadata": {},
   "source": [
    "Then a fit function that trains a linear regression model to a certain degree."
   ]
  },
  {
   "cell_type": "code",
   "execution_count": null,
   "metadata": {
    "colab": {},
    "colab_type": "code",
    "id": "vvMw55QYGc55"
   },
   "outputs": [],
   "source": [
    "# Function that trains a model (without bias for simplicity)\n",
    "def fit(X, y, degree):\n",
    "    polynomial_features = PolynomialFeatures(degree=degree, include_bias=False)\n",
    "    linear_regression = LinearRegression()\n",
    "    model = Pipeline([(\"polynomial_features\", polynomial_features),(\"linear_regression\", linear_regression)])\n",
    "    model.fit(X[:, np.newaxis], y)\n",
    "    return model"
   ]
  },
  {
   "cell_type": "markdown",
   "metadata": {},
   "source": [
    "We'll also make a score and plot function to see the performance of the model as well as plot the learned weights and intercepts."
   ]
  },
  {
   "cell_type": "code",
   "execution_count": null,
   "metadata": {
    "colab": {},
    "colab_type": "code",
    "id": "FZzC4KR0QQEw"
   },
   "outputs": [],
   "source": [
    "# Score and plot the final theta parameters\n",
    "def score_and_plot(model, X, y, degree, s=15):\n",
    "    scores = cross_val_score(model, X[:, np.newaxis], y, cv=10, scoring=mse)\n",
    "    X_test = np.linspace(0, 1, 100)\n",
    "\n",
    "    plt.plot(X_test, model.predict(X_test[:, np.newaxis]), label=\"Approximate Function\")\n",
    "    plt.plot(X_test, func(X_test), label=\"Original Function\")\n",
    "    plt.scatter(X, y, edgecolor='g', s=s, label=\"Samples\")\n",
    "    plt.xlabel(\"x\")\n",
    "    plt.ylabel(\"y\")\n",
    "    plt.xlim((0, 1))\n",
    "    plt.ylim((-2, 2))\n",
    "    plt.legend(loc=\"best\")\n",
    "    plt.title(\"Degree {}\\nMSE = {:.5f}\".format(degree, scores.mean() * 100))\n",
    "    plt.show()"
   ]
  },
  {
   "cell_type": "markdown",
   "metadata": {},
   "source": [
    "Generate some data."
   ]
  },
  {
   "cell_type": "code",
   "execution_count": null,
   "metadata": {
    "colab": {},
    "colab_type": "code",
    "id": "DpHjnjHJSLNv"
   },
   "outputs": [],
   "source": [
    "# Generate m sample data\n",
    "m = 50\n",
    "np.random.seed(42)\n",
    "\n",
    "X = np.sort(np.random.rand(m))\n",
    "y = func(X) + np.random.randn(m) * 0.1"
   ]
  },
  {
   "cell_type": "markdown",
   "metadata": {},
   "source": [
    "Then train the model.\n",
    "\n",
    "Experiment setting the degree from 1 to 10 to visualize the difference between an underfitted model with little capacity, and an overfitted model with too much capacity."
   ]
  },
  {
   "cell_type": "code",
   "execution_count": null,
   "metadata": {
    "colab": {
     "base_uri": "https://localhost:8080/",
     "height": 310
    },
    "colab_type": "code",
    "id": "yOk46KWvQQJL",
    "outputId": "14ac9428-f0a0-401a-f001-77fdf3eabf22"
   },
   "outputs": [
    {
     "data": {
      "image/png": "[encoded data removed]",
      "text/plain": [
       "<Figure size 432x288 with 1 Axes>"
      ]
     },
     "metadata": {
      "needs_background": "light",
      "tags": []
     },
     "output_type": "display_data"
    }
   ],
   "source": [
    "# Train model\n",
    "degree = 6\n",
    "model = fit(X, y, degree)\n",
    "score_and_plot(model, X, y, degree)"
   ]
  },
  {
   "cell_type": "code",
   "execution_count": null,
   "metadata": {
    "colab": {},
    "colab_type": "code",
    "id": "zjT_C_EOJqqx"
   },
   "outputs": [],
   "source": []
  }
 ],
 "metadata": {
  "colab": {
   "collapsed_sections": [],
   "name": "02 - Capacity vs Under/Overfitting",
   "provenance": []
  },
  "kernelspec": {
   "display_name": "Python 3",
   "language": "python",
   "name": "python3"
  },
  "language_info": {
   "codemirror_mode": {
    "name": "ipython",
    "version": 3
   },
   "file_extension": ".py",
   "mimetype": "text/x-python",
   "name": "python",
   "nbconvert_exporter": "python",
   "pygments_lexer": "ipython3",
   "version": "3.8.5"
  }
 },
 "nbformat": 4,
 "nbformat_minor": 4
}
