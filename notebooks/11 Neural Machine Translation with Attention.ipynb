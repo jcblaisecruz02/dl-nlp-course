{
 "cells": [
  {
   "cell_type": "markdown",
   "metadata": {
    "colab_type": "text",
    "id": "PZ55GnDyqZdU"
   },
   "source": [
    "# 11 - Jointly Learning to Align and Translate\n",
    "Prepared by Jan Christian Blaise Cruz\n",
    "\n",
    "DLSU Machine Learning Group\n",
    "\n",
    "In this notebook, we'll implement the model in the paper Neural Machine Translation by Jointly Learning to Align and Translate (Bahadanau et al., 2014). We'll use attention to improve our translations performance-wise and interpretability-wise."
   ]
  },
  {
   "cell_type": "markdown",
   "metadata": {
    "colab_type": "text",
    "id": "F7jSsuIRRyur"
   },
   "source": [
    "# Preliminaries"
   ]
  },
  {
   "cell_type": "markdown",
   "metadata": {
    "colab_type": "text",
    "id": "VOnK2ZB6UAu5"
   },
   "source": [
    "First, let's make sure we have a GPU."
   ]
  },
  {
   "cell_type": "code",
   "execution_count": null,
   "metadata": {
    "colab": {
     "base_uri": "https://localhost:8080/",
     "height": 357
    },
    "colab_type": "code",
    "id": "0x_L340Jv2jG",
    "outputId": "9dfa9844-b770-43a9-eea9-6d60a9ecbf0b"
   },
   "outputs": [
    {
     "name": "stdout",
     "output_type": "stream",
     "text": [
      "Fri Sep  4 11:29:06 2020       \n",
      "+-----------------------------------------------------------------------------+\n",
      "| NVIDIA-SMI 450.66       Driver Version: 418.67       CUDA Version: 10.1     |\n",
      "|-------------------------------+----------------------+----------------------+\n",
      "| GPU  Name        Persistence-M| Bus-Id        Disp.A | Volatile Uncorr. ECC |\n",
      "| Fan  Temp  Perf  Pwr:Usage/Cap|         Memory-Usage | GPU-Util  Compute M. |\n",
      "|                               |                      |               MIG M. |\n",
      "|===============================+======================+======================|\n",
      "|   0  Tesla T4            Off  | 00000000:00:04.0 Off |                    0 |\n",
      "| N/A   57C    P8    10W /  70W |      0MiB / 15079MiB |      0%      Default |\n",
      "|                               |                      |                 ERR! |\n",
      "+-------------------------------+----------------------+----------------------+\n",
      "                                                                               \n",
      "+-----------------------------------------------------------------------------+\n",
      "| Processes:                                                                  |\n",
      "|  GPU   GI   CI        PID   Type   Process name                  GPU Memory |\n",
      "|        ID   ID                                                   Usage      |\n",
      "|=============================================================================|\n",
      "|  No running processes found                                                 |\n",
      "+-----------------------------------------------------------------------------+\n"
     ]
    }
   ],
   "source": [
    "!nvidia-smi"
   ]
  },
  {
   "cell_type": "markdown",
   "metadata": {
    "colab_type": "text",
    "id": "xLrQUZSDUDdY"
   },
   "source": [
    "Download the data and the tokenizers as with the previous notebook. Don't forget to restart the runtime."
   ]
  },
  {
   "cell_type": "code",
   "execution_count": null,
   "metadata": {
    "colab": {},
    "colab_type": "code",
    "id": "eYddeho0v9Ld"
   },
   "outputs": [],
   "source": [
    "!wget https://s3.us-east-2.amazonaws.com/blaisecruz.com/datasets/translation/multi30k.zip\n",
    "!unzip multi30k.zip && rm multi30k.zip\n",
    "!python -m spacy download de_core_news_sm\n",
    "!python -m spacy download en_core_web_sm"
   ]
  },
  {
   "cell_type": "markdown",
   "metadata": {
    "colab_type": "text",
    "id": "P3j77rf0UH80"
   },
   "source": [
    "Then it's our usual imports."
   ]
  },
  {
   "cell_type": "code",
   "execution_count": null,
   "metadata": {
    "colab": {},
    "colab_type": "code",
    "id": "CRjufONjwBXa"
   },
   "outputs": [],
   "source": [
    "import torch\n",
    "import torch.nn as nn\n",
    "import torch.optim as optim\n",
    "import torch.utils.data as datautils\n",
    "\n",
    "import spacy\n",
    "import numpy as np\n",
    "import matplotlib.pyplot as plt\n",
    "import matplotlib.ticker as ticker\n",
    "\n",
    "from nltk.translate.bleu_score import corpus_bleu\n",
    "from nltk.translate.bleu_score import SmoothingFunction\n",
    "\n",
    "import random\n",
    "from collections import Counter\n",
    "from tqdm import tqdm\n",
    "\n",
    "np.random.seed(42)\n",
    "torch.manual_seed(42)\n",
    "device = torch.device('cuda' if torch.cuda.is_available() else 'cpu')\n",
    "%matplotlib inline"
   ]
  },
  {
   "cell_type": "markdown",
   "metadata": {
    "colab_type": "text",
    "id": "IgBt9Ap-R2LV"
   },
   "source": [
    "# Data Processing"
   ]
  },
  {
   "cell_type": "markdown",
   "metadata": {
    "colab_type": "text",
    "id": "UHcOooO5UJ9S"
   },
   "source": [
    "We'll do the same thing here as with the last notebook, so we'll breeze through this. Load the data."
   ]
  },
  {
   "cell_type": "code",
   "execution_count": null,
   "metadata": {
    "colab": {},
    "colab_type": "code",
    "id": "-wJW6yc9wCy3"
   },
   "outputs": [],
   "source": [
    "with open('multi30k/train.en', 'r') as f:\n",
    "    train_en = [line.strip() for line in f]\n",
    "with open('multi30k/train.de', 'r') as f:\n",
    "    train_de = [line.strip() for line in f]\n",
    "with open('multi30k/val.en', 'r') as f:\n",
    "    valid_en = [line.strip() for line in f]\n",
    "with open('multi30k/val.de', 'r') as f:\n",
    "    valid_de = [line.strip() for line in f]"
   ]
  },
  {
   "cell_type": "markdown",
   "metadata": {
    "colab_type": "text",
    "id": "amCYGLkjUOll"
   },
   "source": [
    "Load the tokenizers then tokenize the dataset and add the delimiter tokens."
   ]
  },
  {
   "cell_type": "code",
   "execution_count": null,
   "metadata": {
    "colab": {
     "base_uri": "https://localhost:8080/",
     "height": 85
    },
    "colab_type": "code",
    "id": "fPoZ_FQcwD-J",
    "outputId": "b33b3ba6-ca5a-4a5a-acb0-71f3d0ecec64"
   },
   "outputs": [
    {
     "name": "stderr",
     "output_type": "stream",
     "text": [
      "100%|██████████| 29000/29000 [00:01<00:00, 21987.15it/s]\n",
      "100%|██████████| 29000/29000 [00:01<00:00, 15244.91it/s]\n",
      "100%|██████████| 1014/1014 [00:00<00:00, 27558.17it/s]\n",
      "100%|██████████| 1014/1014 [00:00<00:00, 15986.59it/s]\n"
     ]
    }
   ],
   "source": [
    "spacy_de = spacy.load('de_core_news_sm')\n",
    "spacy_en = spacy.load('en_core_web_sm')\n",
    "\n",
    "def tokenize_de(text):\n",
    "    return ['<sos>'] + [tok.text.lower() for tok in spacy_de.tokenizer(text)] + ['<eos>']\n",
    "\n",
    "def tokenize_en(text):\n",
    "    return ['<sos>'] + [tok.text.lower() for tok in spacy_en.tokenizer(text)] + ['<eos>']\n",
    "\n",
    "# Tokenize the text\n",
    "train_en = [tokenize_en(text) for text in tqdm(train_en)]\n",
    "train_de = [tokenize_de(text) for text in tqdm(train_de)]\n",
    "valid_en = [tokenize_en(text) for text in tqdm(valid_en)]\n",
    "valid_de = [tokenize_de(text) for text in tqdm(valid_de)]"
   ]
  },
  {
   "cell_type": "markdown",
   "metadata": {
    "colab_type": "text",
    "id": "RqFFy_BDUR2B"
   },
   "source": [
    "Process each sequence to the maximum sequence length of the dataset."
   ]
  },
  {
   "cell_type": "code",
   "execution_count": null,
   "metadata": {
    "colab": {},
    "colab_type": "code",
    "id": "_oU2kRSUwIni"
   },
   "outputs": [],
   "source": [
    "def process(dataset):\n",
    "    max_len = max([len(text) for text in dataset])\n",
    "    temp = []\n",
    "    for text in dataset:\n",
    "        if len(text) < max_len:\n",
    "            text += ['<pad>' for _ in range(max_len - len(text))]\n",
    "        temp.append(text)\n",
    "    return temp\n",
    "\n",
    "# Pad to maximum length of the dataset\n",
    "train_en_proc, valid_en_proc = process(train_en), process(valid_en)\n",
    "train_de_proc, valid_de_proc = process(train_de), process(valid_de)"
   ]
  },
  {
   "cell_type": "markdown",
   "metadata": {
    "colab_type": "text",
    "id": "mzpAp0mSUUXn"
   },
   "source": [
    "Produce vocabularies for the source and target languages."
   ]
  },
  {
   "cell_type": "code",
   "execution_count": null,
   "metadata": {
    "colab": {},
    "colab_type": "code",
    "id": "MymhBKp1wJoo"
   },
   "outputs": [],
   "source": [
    "def get_vocab(dataset, min_freq=2):\n",
    "    # Add all tokens to the list\n",
    "    special_tokens = ['<unk>', '<pad>', '<sos>', '<eos>']\n",
    "    vocab = []\n",
    "    for line in dataset: vocab.extend(line)\n",
    "\n",
    "    # Remove words that are below the minimum frequency, the enforce set\n",
    "    counts = Counter(vocab)\n",
    "    vocab = special_tokens + [word for word in counts.keys() if counts[word] > min_freq]\n",
    "    vocab_set = set(vocab)\n",
    "\n",
    "    # Push all special tokens to the front\n",
    "    idx2word = list(vocab_set)\n",
    "    for token in special_tokens[::-1]:\n",
    "        idx2word.insert(0, idx2word.pop(idx2word.index(token)))\n",
    "\n",
    "    # Produce word2idx then return\n",
    "    word2idx = {idx2word[i]: i for i in range(len(idx2word))}\n",
    "    return vocab_set, idx2word, word2idx\n",
    "\n",
    "# Get vocabulary and references\n",
    "vocab_set_en, idx2word_en, word2idx_en = get_vocab(train_en_proc, min_freq=2)\n",
    "vocab_set_de, idx2word_de, word2idx_de = get_vocab(train_de_proc, min_freq=2)\n",
    "\n",
    "# Convert unknown tokens\n",
    "train_en_proc = [[token if token in vocab_set_en else '<unk>' for token in line] for line in train_en_proc]\n",
    "train_de_proc = [[token if token in vocab_set_de else '<unk>' for token in line] for line in train_de_proc]\n",
    "valid_en_proc = [[token if token in vocab_set_en else '<unk>' for token in line] for line in valid_en_proc]\n",
    "valid_de_proc = [[token if token in vocab_set_de else '<unk>' for token in line] for line in valid_de_proc]"
   ]
  },
  {
   "cell_type": "markdown",
   "metadata": {
    "colab_type": "text",
    "id": "WbltXgQwUWtj"
   },
   "source": [
    "Finally, convert the sequences of tokens into their corresponding indices."
   ]
  },
  {
   "cell_type": "code",
   "execution_count": null,
   "metadata": {
    "colab": {},
    "colab_type": "code",
    "id": "hovxEt5DwLuf"
   },
   "outputs": [],
   "source": [
    "def serialize(dataset, word2idx):\n",
    "    temp = []\n",
    "    for line in dataset: temp.append([word2idx[token] for token in line])\n",
    "    return torch.LongTensor(temp)\n",
    "\n",
    "# Convert to idx\n",
    "y_train = serialize(train_en_proc, word2idx_en)\n",
    "X_train = serialize(train_de_proc, word2idx_de)\n",
    "y_valid = serialize(valid_en_proc, word2idx_en)\n",
    "X_valid = serialize(valid_de_proc, word2idx_de)"
   ]
  },
  {
   "cell_type": "markdown",
   "metadata": {
    "colab_type": "text",
    "id": "GVb1J7tcUaee"
   },
   "source": [
    "We'll wrap up by making dataloaders."
   ]
  },
  {
   "cell_type": "code",
   "execution_count": null,
   "metadata": {
    "colab": {},
    "colab_type": "code",
    "id": "mB4IsVNrwNSa"
   },
   "outputs": [],
   "source": [
    "bs = 128\n",
    "\n",
    "train_dataset = datautils.TensorDataset(X_train, y_train)\n",
    "valid_dataset = datautils.TensorDataset(X_valid, y_valid)\n",
    "train_sampler = datautils.RandomSampler(train_dataset)\n",
    "train_loader = datautils.DataLoader(train_dataset, batch_size=bs, sampler=train_sampler)\n",
    "valid_loader = datautils.DataLoader(valid_dataset, batch_size=bs, shuffle=False)"
   ]
  },
  {
   "cell_type": "markdown",
   "metadata": {
    "colab_type": "text",
    "id": "2U0Ow65N0A39"
   },
   "source": [
    "# Modeling"
   ]
  },
  {
   "cell_type": "markdown",
   "metadata": {
    "colab_type": "text",
    "id": "UTQ4z-EPUd9g"
   },
   "source": [
    "Let's start with the encoder. The biggest change here is that we're using a bidirectional GRU instead of a vanilla LSTM. Since the RNN is bidirectional, we'll introduce a linear layer to **pool** the forward and backward hidden states.\n",
    "\n",
    "Encoding the source sequence remains the same. We'll embed and apply dropout. Afterwhich, we'll pack the sequences to disregard padding. Pass that result to the GRU, then unpack the result. We pass the concatenated hidden states to the linear pooling layer, then apply a hyperbolic tangent activation function. This tells us which \"candidate information\" to keep.\n",
    "\n",
    "To prepare for attention, we'll output both the RNN output and the pooled hidden states."
   ]
  },
  {
   "cell_type": "code",
   "execution_count": null,
   "metadata": {
    "colab": {},
    "colab_type": "code",
    "id": "cWBW04SDwSgj"
   },
   "outputs": [],
   "source": [
    "class Encoder(nn.Module):\n",
    "    def __init__(self, vocab_sz, embedding_dim, enc_hidden_dim, dec_hidden_dim, dropout=0.5):\n",
    "        super(Encoder, self).__init__()\n",
    "        self.embedding = nn.Embedding(vocab_sz, embedding_dim)\n",
    "        self.rnn = nn.GRU(embedding_dim, enc_hidden_dim, bidirectional=True)\n",
    "        self.fc1 = nn.Linear(enc_hidden_dim * 2, dec_hidden_dim)\n",
    "        self.dropout = nn.Dropout(dropout)\n",
    "        self.vocab_sz = vocab_sz\n",
    "\n",
    "    def init_hidden(self, bs):\n",
    "        weight = next(self.parameters())\n",
    "        hidden_dim = self.rnn.hidden_size\n",
    "\n",
    "        h = weight.new_zeros(2, bs, hidden_dim)\n",
    "        return h\n",
    "\n",
    "    def forward(self, x, pad_idx):\n",
    "        msl, bs = x.shape\n",
    "\n",
    "        # Embed then pack the sequence\n",
    "        out = self.embedding(x)\n",
    "        out = self.dropout(out)\n",
    "\n",
    "        # Get the length of the sequences and pack them\n",
    "        lens = ((x.rot90() == pad_idx) == False).int().sum(dim=1)\n",
    "        out = nn.utils.rnn.pack_padded_sequence(out, lens, enforce_sorted=False)\n",
    "\n",
    "        hidden = self.init_hidden(bs)\n",
    "        out, hidden = self.rnn(out, hidden)\n",
    "        out, _ = nn.utils.rnn.pad_packed_sequence(out, total_length=msl)\n",
    "\n",
    "        # Pool the forward and backward states\n",
    "        hidden = torch.cat((hidden[-2, :, :], hidden[-1, :, :]), axis=1)\n",
    "        hidden = torch.tanh(self.fc1(hidden))\n",
    "\n",
    "        return out, hidden"
   ]
  },
  {
   "cell_type": "markdown",
   "metadata": {
    "colab_type": "text",
    "id": "Q_-KJHPmVfCD"
   },
   "source": [
    "For the rest of the modeling part, we'll run through attention and decoding manually as things can get rather confusing. \n",
    "\n",
    "First, let's get a sample source and target sequence batch."
   ]
  },
  {
   "cell_type": "code",
   "execution_count": null,
   "metadata": {
    "colab": {
     "base_uri": "https://localhost:8080/",
     "height": 34
    },
    "colab_type": "code",
    "id": "5Nf4lcxEwOm6",
    "outputId": "5106d4b4-c88e-4656-eae6-00ecaed7037f"
   },
   "outputs": [
    {
     "name": "stdout",
     "output_type": "stream",
     "text": [
      "torch.Size([46, 128]) torch.Size([43, 128])\n"
     ]
    }
   ],
   "source": [
    "x, y = next(iter(train_loader))\n",
    "x, y = x.rot90(k=3), y.rot90(k=3)\n",
    "print(x.shape, y.shape)"
   ]
  },
  {
   "cell_type": "markdown",
   "metadata": {
    "colab_type": "text",
    "id": "UH_3-eXwVmL8"
   },
   "source": [
    "Here's our hyperparameters."
   ]
  },
  {
   "cell_type": "code",
   "execution_count": null,
   "metadata": {
    "colab": {},
    "colab_type": "code",
    "id": "WQSvjcUgxIsJ"
   },
   "outputs": [],
   "source": [
    "vocab_sz = len(vocab_set_de)\n",
    "embedding_dim = 128\n",
    "enc_hidden_dim = 256\n",
    "dec_hidden_dim = 256\n",
    "pad_idx = word2idx_de['<pad>']"
   ]
  },
  {
   "cell_type": "markdown",
   "metadata": {
    "colab_type": "text",
    "id": "fDrYCrhuVoJd"
   },
   "source": [
    "Instantiate an encoder."
   ]
  },
  {
   "cell_type": "code",
   "execution_count": null,
   "metadata": {
    "colab": {},
    "colab_type": "code",
    "id": "IHuekcH_wZrT"
   },
   "outputs": [],
   "source": [
    "encoder = Encoder(vocab_sz, embedding_dim, enc_hidden_dim, dec_hidden_dim)"
   ]
  },
  {
   "cell_type": "markdown",
   "metadata": {
    "colab_type": "text",
    "id": "kF5yUHJ6Vpl9"
   },
   "source": [
    "Then pass the source sentence.\n",
    "\n",
    "We get what we expect."
   ]
  },
  {
   "cell_type": "code",
   "execution_count": null,
   "metadata": {
    "colab": {
     "base_uri": "https://localhost:8080/",
     "height": 34
    },
    "colab_type": "code",
    "id": "yfW85TSpwkvk",
    "outputId": "b279cfd4-39f2-48e7-f837-c9600ed6c4bb"
   },
   "outputs": [
    {
     "name": "stdout",
     "output_type": "stream",
     "text": [
      "torch.Size([46, 128, 512]) torch.Size([128, 256])\n"
     ]
    }
   ],
   "source": [
    "out, hidden = encoder(x, pad_idx=pad_idx)\n",
    "print(out.shape, hidden.shape)"
   ]
  },
  {
   "cell_type": "markdown",
   "metadata": {
    "colab_type": "text",
    "id": "mQNm4RamVtki"
   },
   "source": [
    "Time to compute the attention weights!\n",
    "\n",
    "Attention weights can be thought of as a form of \"feature importance.\" We'll use the RNN outputs of the encoder and the pooled hidden states to output a matrix of size [bs $\\times$ sequence length]. This can be thought of as the \"feature importance\" of each token in the sequence given the current information (the hidden states).\n",
    "\n",
    "At every decoding timestep, we will produce this attention matrix (or attention vector per sequence) to tell our model which tokens are important at each step. This gives the model the ability to \"look back\" and \"focus on important context tokens.\"\n",
    "\n",
    "Anyhow, we'll implement an attention layer using two linear layers."
   ]
  },
  {
   "cell_type": "code",
   "execution_count": null,
   "metadata": {
    "colab": {},
    "colab_type": "code",
    "id": "xQQ2A5wyxDHa"
   },
   "outputs": [],
   "source": [
    "attn = nn.Linear((enc_hidden_dim * 2) + dec_hidden_dim, dec_hidden_dim) \n",
    "v = nn.Linear(dec_hidden_dim, 1, bias=False)"
   ]
  },
  {
   "cell_type": "markdown",
   "metadata": {
    "colab_type": "text",
    "id": "v4qYqdUKWmsr"
   },
   "source": [
    "We'll take the length of the source sentence and the batch size."
   ]
  },
  {
   "cell_type": "code",
   "execution_count": null,
   "metadata": {
    "colab": {},
    "colab_type": "code",
    "id": "zhsMg9MfxDWl"
   },
   "outputs": [],
   "source": [
    "src_len, bs, _ = out.shape"
   ]
  },
  {
   "cell_type": "markdown",
   "metadata": {
    "colab_type": "text",
    "id": "gDPOI97DWqy_"
   },
   "source": [
    "Here's what we're going to do:\n",
    "1. We need to match the hidden state to each output token. If, for example, the sequence has 50 tokens, we need to 50 copies of the hidden state to \"match\" to each output token.\n",
    "2. We'll compute the \"energy\" between the hidden state and the output. Think of this as \"how much does a specific token match the information in the hidden state. If it is more relevant, energy is higher.\"\n",
    "3. Once we have our energy, we need to turn them into weights. These are the weights of each token at a certain timestep. In other words, the \"importance.\"\n",
    "\n",
    "Let's do #1 first. Remember the hidden state's shape:"
   ]
  },
  {
   "cell_type": "code",
   "execution_count": null,
   "metadata": {
    "colab": {
     "base_uri": "https://localhost:8080/",
     "height": 34
    },
    "colab_type": "code",
    "id": "Hw2sii-lxDgq",
    "outputId": "e969d74b-9f16-4a17-fc07-bde7afd22e44"
   },
   "outputs": [
    {
     "data": {
      "text/plain": [
       "torch.Size([128, 256])"
      ]
     },
     "execution_count": 15,
     "metadata": {
      "tags": []
     },
     "output_type": "execute_result"
    }
   ],
   "source": [
    "hidden.shape"
   ]
  },
  {
   "cell_type": "markdown",
   "metadata": {
    "colab_type": "text",
    "id": "o4EDJc2EXTyM"
   },
   "source": [
    "Let's introduce a blank dimension."
   ]
  },
  {
   "cell_type": "code",
   "execution_count": null,
   "metadata": {
    "colab": {
     "base_uri": "https://localhost:8080/",
     "height": 34
    },
    "colab_type": "code",
    "id": "1H2IbfSxxDfP",
    "outputId": "7798deb5-93ce-487a-9adb-71338983c9f0"
   },
   "outputs": [
    {
     "data": {
      "text/plain": [
       "torch.Size([128, 1, 256])"
      ]
     },
     "execution_count": 16,
     "metadata": {
      "tags": []
     },
     "output_type": "execute_result"
    }
   ],
   "source": [
    "hidden.unsqueeze(1).shape"
   ]
  },
  {
   "cell_type": "markdown",
   "metadata": {
    "colab_type": "text",
    "id": "L_QS4cAPXWlu"
   },
   "source": [
    "Then repeat the hidden state src_len times. This makes a number of clones of the hidden state that we can match to every entry in the RNN outputs."
   ]
  },
  {
   "cell_type": "code",
   "execution_count": null,
   "metadata": {
    "colab": {
     "base_uri": "https://localhost:8080/",
     "height": 34
    },
    "colab_type": "code",
    "id": "SsBotW5xxDOd",
    "outputId": "76d72d07-8928-4358-e223-fe955fafffdd"
   },
   "outputs": [
    {
     "data": {
      "text/plain": [
       "torch.Size([128, 46, 256])"
      ]
     },
     "execution_count": 17,
     "metadata": {
      "tags": []
     },
     "output_type": "execute_result"
    }
   ],
   "source": [
    "hidden_repeated = hidden.unsqueeze(1).repeat(1, src_len, 1)\n",
    "hidden_repeated.shape"
   ]
  },
  {
   "cell_type": "markdown",
   "metadata": {
    "colab_type": "text",
    "id": "4JpWPm8pXciy"
   },
   "source": [
    "As a sanity check:"
   ]
  },
  {
   "cell_type": "code",
   "execution_count": null,
   "metadata": {
    "colab": {
     "base_uri": "https://localhost:8080/",
     "height": 136
    },
    "colab_type": "code",
    "id": "aq9Tje_DxDNU",
    "outputId": "eeda2bd6-fb80-4710-e4c6-a1db3b2adff7"
   },
   "outputs": [
    {
     "data": {
      "text/plain": [
       "tensor([[True, True, True,  ..., True, True, True],\n",
       "        [True, True, True,  ..., True, True, True],\n",
       "        [True, True, True,  ..., True, True, True],\n",
       "        ...,\n",
       "        [True, True, True,  ..., True, True, True],\n",
       "        [True, True, True,  ..., True, True, True],\n",
       "        [True, True, True,  ..., True, True, True]])"
      ]
     },
     "execution_count": 18,
     "metadata": {
      "tags": []
     },
     "output_type": "execute_result"
    }
   ],
   "source": [
    "hidden_repeated[:, 0, :] == hidden_repeated[:, 1, :]"
   ]
  },
  {
   "cell_type": "markdown",
   "metadata": {
    "colab_type": "text",
    "id": "LgaJB4LYXd8N"
   },
   "source": [
    "Now here's our output shape:"
   ]
  },
  {
   "cell_type": "code",
   "execution_count": null,
   "metadata": {
    "colab": {
     "base_uri": "https://localhost:8080/",
     "height": 34
    },
    "colab_type": "code",
    "id": "asLyNa4gxDMW",
    "outputId": "3c962adc-3997-4160-a1a1-3ec304cabb19"
   },
   "outputs": [
    {
     "data": {
      "text/plain": [
       "torch.Size([46, 128, 512])"
      ]
     },
     "execution_count": 19,
     "metadata": {
      "tags": []
     },
     "output_type": "execute_result"
    }
   ],
   "source": [
    "out.shape"
   ]
  },
  {
   "cell_type": "markdown",
   "metadata": {
    "colab_type": "text",
    "id": "whjhjtBeXfUx"
   },
   "source": [
    "We'll permute the dimensions to match our hidden state clones:"
   ]
  },
  {
   "cell_type": "code",
   "execution_count": null,
   "metadata": {
    "colab": {
     "base_uri": "https://localhost:8080/",
     "height": 34
    },
    "colab_type": "code",
    "id": "ZK8r8MDUx2To",
    "outputId": "bd31d72c-910f-499a-ce78-f7639aa53d10"
   },
   "outputs": [
    {
     "data": {
      "text/plain": [
       "torch.Size([128, 46, 512])"
      ]
     },
     "execution_count": 20,
     "metadata": {
      "tags": []
     },
     "output_type": "execute_result"
    }
   ],
   "source": [
    "out_permuted = out.permute(1, 0, 2)\n",
    "out_permuted.shape"
   ]
  },
  {
   "cell_type": "markdown",
   "metadata": {
    "colab_type": "text",
    "id": "wUCTAulcXirV"
   },
   "source": [
    "Since their dimensions are now matched, we can concatenate them on the last dimension. This should now be of shape [batch size $\\times$ src_len $\\times$ encoder hidden dim * 2 + decoder hidden dim]\n",
    "\n",
    "Remember that we're doing encoder hidden dim * 2 because our encoder uses a bidirectional RNN."
   ]
  },
  {
   "cell_type": "code",
   "execution_count": null,
   "metadata": {
    "colab": {
     "base_uri": "https://localhost:8080/",
     "height": 34
    },
    "colab_type": "code",
    "id": "gi_r8prOx2Zc",
    "outputId": "122247a1-0b21-4c88-f398-8c55ddbac27d"
   },
   "outputs": [
    {
     "data": {
      "text/plain": [
       "torch.Size([128, 46, 768])"
      ]
     },
     "execution_count": 21,
     "metadata": {
      "tags": []
     },
     "output_type": "execute_result"
    }
   ],
   "source": [
    "torch.cat((out_permuted, hidden_repeated), dim=2).shape"
   ]
  },
  {
   "cell_type": "markdown",
   "metadata": {
    "colab_type": "text",
    "id": "Cq_bOgupX1AN"
   },
   "source": [
    "Pass the concatenated hidden and outputs to a linear layer to compute new features, then apply a hyperbolic tangent activation function."
   ]
  },
  {
   "cell_type": "code",
   "execution_count": null,
   "metadata": {
    "colab": {
     "base_uri": "https://localhost:8080/",
     "height": 34
    },
    "colab_type": "code",
    "id": "BXY2MJ1Xx2iB",
    "outputId": "ae71ae18-968d-4340-d89a-10d312d9307b"
   },
   "outputs": [
    {
     "data": {
      "text/plain": [
       "torch.Size([128, 46, 256])"
      ]
     },
     "execution_count": 22,
     "metadata": {
      "tags": []
     },
     "output_type": "execute_result"
    }
   ],
   "source": [
    "energy = attn(torch.cat((out_permuted, hidden_repeated), dim=2))\n",
    "energy = torch.tanh(energy)\n",
    "energy.shape"
   ]
  },
  {
   "cell_type": "markdown",
   "metadata": {
    "colab_type": "text",
    "id": "Mac_-u8JYY3e"
   },
   "source": [
    "We still have a 3D tensor. Let's project this down to 2 dimensions by applying a final linear transform. This turns our energy into a \"weight matrix.\""
   ]
  },
  {
   "cell_type": "code",
   "execution_count": null,
   "metadata": {
    "colab": {
     "base_uri": "https://localhost:8080/",
     "height": 34
    },
    "colab_type": "code",
    "id": "CQPwzA6ox2g9",
    "outputId": "ef3cad80-4bdb-457e-e72d-ad4e40755d90"
   },
   "outputs": [
    {
     "data": {
      "text/plain": [
       "torch.Size([128, 46, 1])"
      ]
     },
     "execution_count": 23,
     "metadata": {
      "tags": []
     },
     "output_type": "execute_result"
    }
   ],
   "source": [
    "a = v(energy)\n",
    "a.shape"
   ]
  },
  {
   "cell_type": "markdown",
   "metadata": {
    "colab_type": "text",
    "id": "N8e860MDYaBM"
   },
   "source": [
    "Squeeze the final dimension since there's nothing there."
   ]
  },
  {
   "cell_type": "code",
   "execution_count": null,
   "metadata": {
    "colab": {
     "base_uri": "https://localhost:8080/",
     "height": 34
    },
    "colab_type": "code",
    "id": "2HFmSoJux2fp",
    "outputId": "b30c5828-3eda-49a3-db17-e1e09602ca2d"
   },
   "outputs": [
    {
     "data": {
      "text/plain": [
       "torch.Size([128, 46])"
      ]
     },
     "execution_count": 24,
     "metadata": {
      "tags": []
     },
     "output_type": "execute_result"
    }
   ],
   "source": [
    "a = a.squeeze(2)\n",
    "a.shape"
   ]
  },
  {
   "cell_type": "markdown",
   "metadata": {
    "colab_type": "text",
    "id": "iej_SiuLYdC1"
   },
   "source": [
    "We're not yet done. Lastly, we have to mask out the attention weights on the padding tokens. We can do this by using an attention mask."
   ]
  },
  {
   "cell_type": "code",
   "execution_count": null,
   "metadata": {
    "colab": {
     "base_uri": "https://localhost:8080/",
     "height": 34
    },
    "colab_type": "code",
    "id": "Z86GJEvpzP__",
    "outputId": "aaf43b11-068a-4ebe-db5f-ced959d53e32"
   },
   "outputs": [
    {
     "data": {
      "text/plain": [
       "torch.Size([128, 46])"
      ]
     },
     "execution_count": 25,
     "metadata": {
      "tags": []
     },
     "output_type": "execute_result"
    }
   ],
   "source": [
    "mask = (x != pad_idx).permute(1, 0)\n",
    "mask.shape"
   ]
  },
  {
   "cell_type": "markdown",
   "metadata": {
    "colab_type": "text",
    "id": "9orfcPTYYhx6"
   },
   "source": [
    "It looks like this."
   ]
  },
  {
   "cell_type": "code",
   "execution_count": null,
   "metadata": {
    "colab": {
     "base_uri": "https://localhost:8080/",
     "height": 136
    },
    "colab_type": "code",
    "id": "Bz_9ZfN5zQI-",
    "outputId": "d0eaca20-9b57-4f17-ba90-6d804168d920"
   },
   "outputs": [
    {
     "data": {
      "text/plain": [
       "tensor([[ True,  True,  True,  ..., False, False, False],\n",
       "        [ True,  True,  True,  ..., False, False, False],\n",
       "        [ True,  True,  True,  ..., False, False, False],\n",
       "        ...,\n",
       "        [ True,  True,  True,  ..., False, False, False],\n",
       "        [ True,  True,  True,  ..., False, False, False],\n",
       "        [ True,  True,  True,  ..., False, False, False]])"
      ]
     },
     "execution_count": 26,
     "metadata": {
      "tags": []
     },
     "output_type": "execute_result"
    }
   ],
   "source": [
    "mask"
   ]
  },
  {
   "cell_type": "markdown",
   "metadata": {
    "colab_type": "text",
    "id": "Qw08JQusYiwf"
   },
   "source": [
    "To mask the padding tokens, we'll do it like so:"
   ]
  },
  {
   "cell_type": "code",
   "execution_count": null,
   "metadata": {
    "colab": {},
    "colab_type": "code",
    "id": "gZKmWqBezQH1"
   },
   "outputs": [],
   "source": [
    "a = a.masked_fill(mask == 0, -1e10)"
   ]
  },
  {
   "cell_type": "markdown",
   "metadata": {
    "colab_type": "text",
    "id": "1FXZBpdoYmB5"
   },
   "source": [
    "The full attention layer looks like this:"
   ]
  },
  {
   "cell_type": "code",
   "execution_count": null,
   "metadata": {
    "colab": {},
    "colab_type": "code",
    "id": "zw2sI_OqwpiZ"
   },
   "outputs": [],
   "source": [
    "class Attention(nn.Module):\n",
    "    def __init__(self, enc_hidden_dim, dec_hidden_dim):\n",
    "        super(Attention, self).__init__()\n",
    "        self.attention = nn.Linear((enc_hidden_dim * 2) + dec_hidden_dim, dec_hidden_dim)\n",
    "        self.v = nn.Linear(dec_hidden_dim, 1, bias=False)\n",
    "\n",
    "    def forward(self, out, hidden, mask):\n",
    "        src_len, bs, _ = out.shape\n",
    "        hidden = hidden.unsqueeze(1).repeat(1, src_len, 1)\n",
    "        out = out.permute(1, 0, 2)\n",
    "\n",
    "        # Compute the weighted energy (match between hidden states)\n",
    "        energy = torch.tanh(self.attention(torch.cat((out, hidden), dim=2)))\n",
    "        attn = self.v(energy).squeeze(2)\n",
    "        attn = attn.masked_fill(mask == 0, -1e10)\n",
    "\n",
    "        return torch.softmax(attn, dim=1)"
   ]
  },
  {
   "cell_type": "markdown",
   "metadata": {
    "colab_type": "text",
    "id": "VLzi0DkoYn82"
   },
   "source": [
    "Instantiate an attention layer for testing."
   ]
  },
  {
   "cell_type": "code",
   "execution_count": null,
   "metadata": {
    "colab": {},
    "colab_type": "code",
    "id": "n2NY92vnz2lX"
   },
   "outputs": [],
   "source": [
    "attention = Attention(enc_hidden_dim, dec_hidden_dim)"
   ]
  },
  {
   "cell_type": "markdown",
   "metadata": {
    "colab_type": "text",
    "id": "3VKxUjINYrEj"
   },
   "source": [
    "Using it gives us the outputs we expect."
   ]
  },
  {
   "cell_type": "code",
   "execution_count": null,
   "metadata": {
    "colab": {
     "base_uri": "https://localhost:8080/",
     "height": 34
    },
    "colab_type": "code",
    "id": "jKWar_RQz5N-",
    "outputId": "8495098e-b91a-4462-abb1-0a79bf9788f3"
   },
   "outputs": [
    {
     "data": {
      "text/plain": [
       "torch.Size([128, 46])"
      ]
     },
     "execution_count": 30,
     "metadata": {
      "tags": []
     },
     "output_type": "execute_result"
    }
   ],
   "source": [
    "mask = (x != pad_idx).permute(1, 0)\n",
    "a = attention(out, hidden, mask)\n",
    "a.shape"
   ]
  },
  {
   "cell_type": "markdown",
   "metadata": {
    "colab_type": "text",
    "id": "YJQxQdBAYtCG"
   },
   "source": [
    "Lastly, we'll implement the decoder.\n",
    "\n",
    "We have a few differences from the previous decoder.\n",
    "1. Our RNN is again a GRU, which accepts encoder hidden dim * 2 + embedding dim shaped inputs. This is because we're passing it the encoded source sentence (remember the encoder is bidirectional) along with the embedded target token.\n",
    "2. We use attention inside the decoder. At every decoding step, we generate a new attention matrix, which we batch matrix multiply to the outputs of the encoder. This lets the decoder know which tokens in the source sentence it should \"pay attention to.\""
   ]
  },
  {
   "cell_type": "code",
   "execution_count": null,
   "metadata": {
    "colab": {},
    "colab_type": "code",
    "id": "7m5R-LzDz91e"
   },
   "outputs": [],
   "source": [
    "class Decoder(nn.Module):\n",
    "    def __init__(self, vocab_sz, embedding_dim, enc_hidden_dim, dec_hidden_dim, dropout=0.5):\n",
    "        super(Decoder, self).__init__()\n",
    "        self.attention = Attention(enc_hidden_dim, dec_hidden_dim)\n",
    "        self.embedding = nn.Embedding(vocab_sz, embedding_dim)\n",
    "        self.rnn = nn.GRU((enc_hidden_dim * 2) + embedding_dim, dec_hidden_dim)\n",
    "        self.fc1 = nn.Linear((enc_hidden_dim * 2) + dec_hidden_dim + embedding_dim, vocab_sz)\n",
    "        self.dropout = nn.Dropout(dropout)\n",
    "        self.vocab_sz = vocab_sz\n",
    "\n",
    "    def forward(self, y, out, hidden, mask):\n",
    "        embedded = self.embedding(y.unsqueeze(0))\n",
    "        embedded = self.dropout(embedded)\n",
    "\n",
    "        # Batch multiply to get weighted outputs\n",
    "        a = self.attention(out, hidden, mask).unsqueeze(1)\n",
    "        out = out.permute(1, 0, 2)\n",
    "        weighted = torch.bmm(a, out).permute(1, 0, 2)\n",
    "\n",
    "        # Prepare RNN Inputs\n",
    "        rnn_inputs = torch.cat((embedded, weighted), dim=2)\n",
    "        hidden = hidden.unsqueeze(0)\n",
    "        out, hidden = self.rnn(rnn_inputs)\n",
    "\n",
    "        # Pool the embeddings, weighted outputs, and new outputs\n",
    "        out = torch.cat((embedded.squeeze(0), out.squeeze(0), weighted.squeeze(0)), dim=1)\n",
    "        out = self.fc1(out)\n",
    "\n",
    "        return out, hidden.squeeze(0), a.squeeze(1)"
   ]
  },
  {
   "cell_type": "markdown",
   "metadata": {
    "colab_type": "text",
    "id": "t1mdFfHUZc4C"
   },
   "source": [
    "Let's set the first input token for example."
   ]
  },
  {
   "cell_type": "code",
   "execution_count": null,
   "metadata": {
    "colab": {
     "base_uri": "https://localhost:8080/",
     "height": 136
    },
    "colab_type": "code",
    "id": "QyRS-UyxQcjb",
    "outputId": "59ae6e60-83c4-40dc-a56b-96c1229947a0"
   },
   "outputs": [
    {
     "name": "stdout",
     "output_type": "stream",
     "text": [
      "torch.Size([128])\n",
      "tensor([2, 2, 2, 2, 2, 2, 2, 2, 2, 2, 2, 2, 2, 2, 2, 2, 2, 2, 2, 2, 2, 2, 2, 2,\n",
      "        2, 2, 2, 2, 2, 2, 2, 2, 2, 2, 2, 2, 2, 2, 2, 2, 2, 2, 2, 2, 2, 2, 2, 2,\n",
      "        2, 2, 2, 2, 2, 2, 2, 2, 2, 2, 2, 2, 2, 2, 2, 2, 2, 2, 2, 2, 2, 2, 2, 2,\n",
      "        2, 2, 2, 2, 2, 2, 2, 2, 2, 2, 2, 2, 2, 2, 2, 2, 2, 2, 2, 2, 2, 2, 2, 2,\n",
      "        2, 2, 2, 2, 2, 2, 2, 2, 2, 2, 2, 2, 2, 2, 2, 2, 2, 2, 2, 2, 2, 2, 2, 2,\n",
      "        2, 2, 2, 2, 2, 2, 2, 2])\n"
     ]
    }
   ],
   "source": [
    "token = y[0,:]\n",
    "print(token.shape)\n",
    "print(token)"
   ]
  },
  {
   "cell_type": "markdown",
   "metadata": {
    "colab_type": "text",
    "id": "6v6LuUfXZe3g"
   },
   "source": [
    "Instantiate a decoder."
   ]
  },
  {
   "cell_type": "code",
   "execution_count": null,
   "metadata": {
    "colab": {},
    "colab_type": "code",
    "id": "F45gN6q1Q2jZ"
   },
   "outputs": [],
   "source": [
    "decoder = Decoder(vocab_sz, embedding_dim, enc_hidden_dim, dec_hidden_dim)"
   ]
  },
  {
   "cell_type": "markdown",
   "metadata": {
    "colab_type": "text",
    "id": "xfQV1f89ZgLS"
   },
   "source": [
    "Produce a mask and pass in the output, hidden states, and the mask."
   ]
  },
  {
   "cell_type": "code",
   "execution_count": null,
   "metadata": {
    "colab": {
     "base_uri": "https://localhost:8080/",
     "height": 34
    },
    "colab_type": "code",
    "id": "8EyGzwySQ-k6",
    "outputId": "82a23aa5-0c84-46bf-f705-8f8be187ae34"
   },
   "outputs": [
    {
     "name": "stdout",
     "output_type": "stream",
     "text": [
      "torch.Size([128, 5376]) torch.Size([128, 256]) torch.Size([128, 46])\n"
     ]
    }
   ],
   "source": [
    "mask = (x != pad_idx).permute(1, 0)\n",
    "out, hidden, a = decoder(token, out, hidden, mask)\n",
    "print(out.shape, hidden.shape, a.shape)"
   ]
  },
  {
   "cell_type": "markdown",
   "metadata": {
    "colab_type": "text",
    "id": "ALk0C2WiZlGm"
   },
   "source": [
    "Getting the maximum of the logits gives us the predicted next output token."
   ]
  },
  {
   "cell_type": "code",
   "execution_count": null,
   "metadata": {
    "colab": {
     "base_uri": "https://localhost:8080/",
     "height": 204
    },
    "colab_type": "code",
    "id": "MBwuRi_ZRD7p",
    "outputId": "b0de723d-8516-43dd-883a-66d3867e8af3"
   },
   "outputs": [
    {
     "data": {
      "text/plain": [
       "tensor([3621, 3832, 1783, 5105,  680, 5105, 1335, 4930, 1225,  130, 4532, 2071,\n",
       "        3155, 4491, 2071, 5288, 2271, 3368, 3600, 2719, 4941, 4722, 3832,  644,\n",
       "        2271, 3549, 3435, 4836, 4905, 1571, 2271, 4746, 2747, 1848, 2691, 1547,\n",
       "        2271, 1952, 3901, 1848, 1848, 4207, 5288, 1952, 4496, 3435, 4605, 4941,\n",
       "        3892, 2370, 4411, 2134, 2050, 2405, 4819, 4415, 2292, 2590, 4415, 2590,\n",
       "        2691,  215, 4952, 3435, 5105, 4415,  130, 1053, 4351, 2071, 4415, 5026,\n",
       "         551, 3435,  523, 5105, 4415, 4836, 5028, 3800,  678, 2590, 3023, 4836,\n",
       "        2468, 5105, 2590, 3588, 1848,  940, 2271, 2086,  644, 2590, 3978, 2271,\n",
       "        4351,  477, 5028, 3832, 4351, 2254, 2548, 3625, 2271, 5105, 5288, 2271,\n",
       "        4207, 5288, 1848, 4705, 4215, 4964, 2271, 4941, 3368,  613, 2590, 2071,\n",
       "        3856, 1715,  433, 2405, 3832, 4836, 2271, 3643])"
      ]
     },
     "execution_count": 35,
     "metadata": {
      "tags": []
     },
     "output_type": "execute_result"
    }
   ],
   "source": [
    "out.argmax(1)"
   ]
  },
  {
   "cell_type": "markdown",
   "metadata": {
    "colab_type": "text",
    "id": "7RreOizmZp5V"
   },
   "source": [
    "Let's wrap the encoder and decoder in a seq2seq module. This is largely the same, except we include a helper function to generate an attention mask."
   ]
  },
  {
   "cell_type": "code",
   "execution_count": null,
   "metadata": {
    "colab": {},
    "colab_type": "code",
    "id": "_WlL4nQ0RRaa"
   },
   "outputs": [],
   "source": [
    "class Seq2Seq(nn.Module):\n",
    "    def __init__(self, encoder, decoder, pad_idx, initrange=0.01):\n",
    "        super(Seq2Seq, self).__init__()\n",
    "        self.encoder = encoder\n",
    "        self.decoder = decoder\n",
    "        self.init_weights(initrange)\n",
    "        self.pad_idx = pad_idx\n",
    "\n",
    "    def create_mask(self, x):\n",
    "        with torch.no_grad():\n",
    "            mask = (x != self.pad_idx).permute(1, 0)\n",
    "        return mask\n",
    "\n",
    "    def init_weights(self, initrange=0.01):\n",
    "        for name, param in self.named_parameters():\n",
    "            if 'weight' in name: nn.init.normal_(param.data, mean=0, std=initrange)\n",
    "            else: nn.init.constant_(param.data, 0)\n",
    "\n",
    "    def forward(self, x, y, teacher_forcing=0.5):\n",
    "        src_len, bs = x.shape\n",
    "        trg_len, bs = y.shape\n",
    "\n",
    "        # Make container for outputs\n",
    "        weight = next(self.encoder.parameters())\n",
    "        outputs = weight.new_zeros(trg_len, bs, self.decoder.vocab_sz)\n",
    "\n",
    "        # Encode source then remember context\n",
    "        encoder_out, hidden = self.encoder(x, self.pad_idx)\n",
    "        input_ids = y[0,:]\n",
    "        mask = self.create_mask(x)\n",
    "\n",
    "        # Decode per input token\n",
    "        for i in range(1, trg_len):\n",
    "            out, hidden, _ = self.decoder(input_ids, encoder_out, hidden, mask)\n",
    "            outputs[i] = out\n",
    "\n",
    "            teacher_force = random.random() < teacher_forcing\n",
    "            input_ids = y[i] if teacher_force else out.argmax(1)\n",
    "\n",
    "        return outputs"
   ]
  },
  {
   "cell_type": "markdown",
   "metadata": {
    "colab_type": "text",
    "id": "Wb06AmaHZwri"
   },
   "source": [
    "Test out the wrapper and instantiate a loss function."
   ]
  },
  {
   "cell_type": "code",
   "execution_count": null,
   "metadata": {
    "colab": {},
    "colab_type": "code",
    "id": "Lt4mV2dGRU2H"
   },
   "outputs": [],
   "source": [
    "model = Seq2Seq(encoder, decoder, pad_idx)\n",
    "criterion = nn.CrossEntropyLoss(ignore_index=pad_idx)"
   ]
  },
  {
   "cell_type": "markdown",
   "metadata": {
    "colab_type": "text",
    "id": "1hxFlJmTZy8T"
   },
   "source": [
    "We get the expected output."
   ]
  },
  {
   "cell_type": "code",
   "execution_count": null,
   "metadata": {
    "colab": {
     "base_uri": "https://localhost:8080/",
     "height": 34
    },
    "colab_type": "code",
    "id": "Z0OXcJ1ARYyD",
    "outputId": "f74ae6b4-4de5-4f0f-e5ba-ee074d335623"
   },
   "outputs": [
    {
     "name": "stdout",
     "output_type": "stream",
     "text": [
      "torch.Size([43, 128, 5376])\n"
     ]
    }
   ],
   "source": [
    "out = model(x, y)\n",
    "print(out.shape)"
   ]
  },
  {
   "cell_type": "markdown",
   "metadata": {
    "colab_type": "text",
    "id": "sc8pkfRsZ05q"
   },
   "source": [
    "Here's the initial loss."
   ]
  },
  {
   "cell_type": "code",
   "execution_count": null,
   "metadata": {
    "colab": {
     "base_uri": "https://localhost:8080/",
     "height": 34
    },
    "colab_type": "code",
    "id": "TmCfUDrDRbcR",
    "outputId": "690ad17a-610f-4f81-c823-3887ca071d2e"
   },
   "outputs": [
    {
     "name": "stdout",
     "output_type": "stream",
     "text": [
      "tensor(8.5897, grad_fn=<NllLossBackward>)\n"
     ]
    }
   ],
   "source": [
    "loss = criterion(out[1:].flatten(0, 1), y[1:].flatten(0))\n",
    "print(loss)"
   ]
  },
  {
   "cell_type": "markdown",
   "metadata": {
    "colab_type": "text",
    "id": "JiUc_ruBR5RG"
   },
   "source": [
    "# Training"
   ]
  },
  {
   "cell_type": "markdown",
   "metadata": {
    "colab_type": "text",
    "id": "HAk9TbfWZ2pj"
   },
   "source": [
    "We'll instantiate a training setup with the following hyperparameters:"
   ]
  },
  {
   "cell_type": "code",
   "execution_count": null,
   "metadata": {
    "colab": {},
    "colab_type": "code",
    "id": "zvsJcG2tRnKS"
   },
   "outputs": [],
   "source": [
    "encoder = Encoder(vocab_sz=len(vocab_set_de), embedding_dim=256, enc_hidden_dim=512, dec_hidden_dim=512, dropout=0.5)\n",
    "decoder = Decoder(vocab_sz=len(vocab_set_en), embedding_dim=256, enc_hidden_dim=512, dec_hidden_dim=512, dropout=0.5)\n",
    "model = Seq2Seq(encoder, decoder, pad_idx=word2idx_de['<pad>']).to(device)\n",
    "\n",
    "optimizer = optim.Adam(model.parameters(), lr=3e-3)\n",
    "criterion = nn.CrossEntropyLoss(ignore_index=word2idx_en['<pad>'])\n",
    "\n",
    "epochs = 20\n",
    "iters = epochs * len(train_loader)\n",
    "scheduler = optim.lr_scheduler.CosineAnnealingLR(optimizer, T_max=iters, eta_min=0)"
   ]
  },
  {
   "cell_type": "markdown",
   "metadata": {
    "colab_type": "text",
    "id": "qVEJAFOKZ5_c"
   },
   "source": [
    "Count the parameters of the model."
   ]
  },
  {
   "cell_type": "code",
   "execution_count": null,
   "metadata": {
    "colab": {
     "base_uri": "https://localhost:8080/",
     "height": 34
    },
    "colab_type": "code",
    "id": "rMchpABlR-ii",
    "outputId": "d42d4634-9f7c-491e-88da-f5883771d905"
   },
   "outputs": [
    {
     "name": "stdout",
     "output_type": "stream",
     "text": [
      "The model has 17,144,780 trainable parameters\n"
     ]
    }
   ],
   "source": [
    "def count_parameters(model):\n",
    "    return sum(p.numel() for p in model.parameters() if p.requires_grad)\n",
    "    \n",
    "print(\"The model has {:,} trainable parameters\".format(count_parameters(model)))"
   ]
  },
  {
   "cell_type": "markdown",
   "metadata": {
    "colab_type": "text",
    "id": "vfAUZ6AAZ7NT"
   },
   "source": [
    "For transparency, here's the final architecture of our model:"
   ]
  },
  {
   "cell_type": "code",
   "execution_count": null,
   "metadata": {
    "colab": {
     "base_uri": "https://localhost:8080/",
     "height": 323
    },
    "colab_type": "code",
    "id": "JrD31ZroSCzz",
    "outputId": "507975f6-0e13-4ba3-ccfa-41afe343edc6"
   },
   "outputs": [
    {
     "data": {
      "text/plain": [
       "Seq2Seq(\n",
       "  (encoder): Encoder(\n",
       "    (embedding): Embedding(5376, 256)\n",
       "    (rnn): GRU(256, 512, bidirectional=True)\n",
       "    (fc1): Linear(in_features=1024, out_features=512, bias=True)\n",
       "    (dropout): Dropout(p=0.5, inplace=False)\n",
       "  )\n",
       "  (decoder): Decoder(\n",
       "    (attention): Attention(\n",
       "      (attention): Linear(in_features=1536, out_features=512, bias=True)\n",
       "      (v): Linear(in_features=512, out_features=1, bias=False)\n",
       "    )\n",
       "    (embedding): Embedding(4556, 256)\n",
       "    (rnn): GRU(1280, 512)\n",
       "    (fc1): Linear(in_features=1792, out_features=4556, bias=True)\n",
       "    (dropout): Dropout(p=0.5, inplace=False)\n",
       "  )\n",
       ")"
      ]
     },
     "execution_count": 48,
     "metadata": {
      "tags": []
     },
     "output_type": "execute_result"
    }
   ],
   "source": [
    "model"
   ]
  },
  {
   "cell_type": "markdown",
   "metadata": {
    "colab_type": "text",
    "id": "1rRVWhR8Z-TK"
   },
   "source": [
    "Finally, we'll train it."
   ]
  },
  {
   "cell_type": "code",
   "execution_count": null,
   "metadata": {
    "colab": {
     "base_uri": "https://localhost:8080/",
     "height": 1000
    },
    "colab_type": "code",
    "id": "bRUleTLCSFuZ",
    "outputId": "42514343-6914-4a9b-fb6a-68e055b3273e"
   },
   "outputs": [
    {
     "name": "stderr",
     "output_type": "stream",
     "text": [
      "100%|██████████| 227/227 [02:00<00:00,  1.88it/s]\n",
      "100%|██████████| 8/8 [00:00<00:00,  8.68it/s]\n",
      "  0%|          | 0/227 [00:00<?, ?it/s]"
     ]
    },
    {
     "name": "stdout",
     "output_type": "stream",
     "text": [
      "\n",
      "Epoch   1 | Train Loss 4.4800 | Train Ppl 88.2326 | Valid Loss 3.3907 | Valid Ppl 29.6880\n"
     ]
    },
    {
     "name": "stderr",
     "output_type": "stream",
     "text": [
      "100%|██████████| 227/227 [02:02<00:00,  1.86it/s]\n",
      "100%|██████████| 8/8 [00:00<00:00,  8.64it/s]\n",
      "  0%|          | 0/227 [00:00<?, ?it/s]"
     ]
    },
    {
     "name": "stdout",
     "output_type": "stream",
     "text": [
      "\n",
      "Epoch   2 | Train Loss 3.1819 | Train Ppl 24.0927 | Valid Loss 2.8464 | Valid Ppl 17.2253\n"
     ]
    },
    {
     "name": "stderr",
     "output_type": "stream",
     "text": [
      "100%|██████████| 227/227 [02:02<00:00,  1.85it/s]\n",
      "100%|██████████| 8/8 [00:00<00:00,  8.59it/s]\n",
      "  0%|          | 0/227 [00:00<?, ?it/s]"
     ]
    },
    {
     "name": "stdout",
     "output_type": "stream",
     "text": [
      "\n",
      "Epoch   3 | Train Loss 2.7285 | Train Ppl 15.3099 | Valid Loss 2.5859 | Valid Ppl 13.2758\n"
     ]
    },
    {
     "name": "stderr",
     "output_type": "stream",
     "text": [
      "100%|██████████| 227/227 [02:02<00:00,  1.85it/s]\n",
      "100%|██████████| 8/8 [00:00<00:00,  8.63it/s]\n",
      "  0%|          | 0/227 [00:00<?, ?it/s]"
     ]
    },
    {
     "name": "stdout",
     "output_type": "stream",
     "text": [
      "\n",
      "Epoch   4 | Train Loss 2.4235 | Train Ppl 11.2850 | Valid Loss 2.6369 | Valid Ppl 13.9702\n"
     ]
    },
    {
     "name": "stderr",
     "output_type": "stream",
     "text": [
      "100%|██████████| 227/227 [02:02<00:00,  1.85it/s]\n",
      "100%|██████████| 8/8 [00:00<00:00,  8.60it/s]\n",
      "  0%|          | 0/227 [00:00<?, ?it/s]"
     ]
    },
    {
     "name": "stdout",
     "output_type": "stream",
     "text": [
      "\n",
      "Epoch   5 | Train Loss 2.2290 | Train Ppl 9.2909 | Valid Loss 2.5845 | Valid Ppl 13.2569\n"
     ]
    },
    {
     "name": "stderr",
     "output_type": "stream",
     "text": [
      "100%|██████████| 227/227 [02:02<00:00,  1.85it/s]\n",
      "100%|██████████| 8/8 [00:00<00:00,  8.65it/s]\n",
      "  0%|          | 0/227 [00:00<?, ?it/s]"
     ]
    },
    {
     "name": "stdout",
     "output_type": "stream",
     "text": [
      "\n",
      "Epoch   6 | Train Loss 2.0413 | Train Ppl 7.7008 | Valid Loss 2.5946 | Valid Ppl 13.3906\n"
     ]
    },
    {
     "name": "stderr",
     "output_type": "stream",
     "text": [
      "100%|██████████| 227/227 [02:02<00:00,  1.85it/s]\n",
      "100%|██████████| 8/8 [00:00<00:00,  8.63it/s]\n",
      "  0%|          | 0/227 [00:00<?, ?it/s]"
     ]
    },
    {
     "name": "stdout",
     "output_type": "stream",
     "text": [
      "\n",
      "Epoch   7 | Train Loss 1.9002 | Train Ppl 6.6869 | Valid Loss 2.4999 | Valid Ppl 12.1817\n"
     ]
    },
    {
     "name": "stderr",
     "output_type": "stream",
     "text": [
      "100%|██████████| 227/227 [02:02<00:00,  1.85it/s]\n",
      "100%|██████████| 8/8 [00:00<00:00,  8.55it/s]\n",
      "  0%|          | 0/227 [00:00<?, ?it/s]"
     ]
    },
    {
     "name": "stdout",
     "output_type": "stream",
     "text": [
      "\n",
      "Epoch   8 | Train Loss 1.7836 | Train Ppl 5.9512 | Valid Loss 2.5999 | Valid Ppl 13.4626\n"
     ]
    },
    {
     "name": "stderr",
     "output_type": "stream",
     "text": [
      "100%|██████████| 227/227 [02:02<00:00,  1.85it/s]\n",
      "100%|██████████| 8/8 [00:00<00:00,  8.58it/s]\n",
      "  0%|          | 0/227 [00:00<?, ?it/s]"
     ]
    },
    {
     "name": "stdout",
     "output_type": "stream",
     "text": [
      "\n",
      "Epoch   9 | Train Loss 1.6776 | Train Ppl 5.3527 | Valid Loss 2.6190 | Valid Ppl 13.7226\n"
     ]
    },
    {
     "name": "stderr",
     "output_type": "stream",
     "text": [
      "100%|██████████| 227/227 [02:02<00:00,  1.85it/s]\n",
      "100%|██████████| 8/8 [00:00<00:00,  8.59it/s]\n",
      "  0%|          | 0/227 [00:00<?, ?it/s]"
     ]
    },
    {
     "name": "stdout",
     "output_type": "stream",
     "text": [
      "\n",
      "Epoch  10 | Train Loss 1.5827 | Train Ppl 4.8683 | Valid Loss 2.5018 | Valid Ppl 12.2044\n"
     ]
    },
    {
     "name": "stderr",
     "output_type": "stream",
     "text": [
      "100%|██████████| 227/227 [02:02<00:00,  1.85it/s]\n",
      "100%|██████████| 8/8 [00:00<00:00,  8.60it/s]\n",
      "  0%|          | 0/227 [00:00<?, ?it/s]"
     ]
    },
    {
     "name": "stdout",
     "output_type": "stream",
     "text": [
      "\n",
      "Epoch  11 | Train Loss 1.4930 | Train Ppl 4.4505 | Valid Loss 2.5336 | Valid Ppl 12.5986\n"
     ]
    },
    {
     "name": "stderr",
     "output_type": "stream",
     "text": [
      "100%|██████████| 227/227 [02:02<00:00,  1.85it/s]\n",
      "100%|██████████| 8/8 [00:00<00:00,  8.58it/s]\n",
      "  0%|          | 0/227 [00:00<?, ?it/s]"
     ]
    },
    {
     "name": "stdout",
     "output_type": "stream",
     "text": [
      "\n",
      "Epoch  12 | Train Loss 1.3999 | Train Ppl 4.0548 | Valid Loss 2.6065 | Valid Ppl 13.5521\n"
     ]
    },
    {
     "name": "stderr",
     "output_type": "stream",
     "text": [
      "100%|██████████| 227/227 [02:02<00:00,  1.85it/s]\n",
      "100%|██████████| 8/8 [00:00<00:00,  8.61it/s]\n",
      "  0%|          | 0/227 [00:00<?, ?it/s]"
     ]
    },
    {
     "name": "stdout",
     "output_type": "stream",
     "text": [
      "\n",
      "Epoch  13 | Train Loss 1.3385 | Train Ppl 3.8131 | Valid Loss 2.6673 | Valid Ppl 14.4012\n"
     ]
    },
    {
     "name": "stderr",
     "output_type": "stream",
     "text": [
      "100%|██████████| 227/227 [02:02<00:00,  1.85it/s]\n",
      "100%|██████████| 8/8 [00:00<00:00,  8.60it/s]\n",
      "  0%|          | 0/227 [00:00<?, ?it/s]"
     ]
    },
    {
     "name": "stdout",
     "output_type": "stream",
     "text": [
      "\n",
      "Epoch  14 | Train Loss 1.2878 | Train Ppl 3.6248 | Valid Loss 2.7561 | Valid Ppl 15.7385\n"
     ]
    },
    {
     "name": "stderr",
     "output_type": "stream",
     "text": [
      "100%|██████████| 227/227 [02:02<00:00,  1.86it/s]\n",
      "100%|██████████| 8/8 [00:00<00:00,  8.64it/s]\n",
      "  0%|          | 0/227 [00:00<?, ?it/s]"
     ]
    },
    {
     "name": "stdout",
     "output_type": "stream",
     "text": [
      "\n",
      "Epoch  15 | Train Loss 1.2174 | Train Ppl 3.3784 | Valid Loss 2.7530 | Valid Ppl 15.6891\n"
     ]
    },
    {
     "name": "stderr",
     "output_type": "stream",
     "text": [
      "100%|██████████| 227/227 [02:02<00:00,  1.86it/s]\n",
      "100%|██████████| 8/8 [00:00<00:00,  8.59it/s]\n",
      "  0%|          | 0/227 [00:00<?, ?it/s]"
     ]
    },
    {
     "name": "stdout",
     "output_type": "stream",
     "text": [
      "\n",
      "Epoch  16 | Train Loss 1.1627 | Train Ppl 3.1987 | Valid Loss 2.6896 | Valid Ppl 14.7252\n"
     ]
    },
    {
     "name": "stderr",
     "output_type": "stream",
     "text": [
      "100%|██████████| 227/227 [02:02<00:00,  1.85it/s]\n",
      "100%|██████████| 8/8 [00:00<00:00,  8.58it/s]\n",
      "  0%|          | 0/227 [00:00<?, ?it/s]"
     ]
    },
    {
     "name": "stdout",
     "output_type": "stream",
     "text": [
      "\n",
      "Epoch  17 | Train Loss 1.1452 | Train Ppl 3.1430 | Valid Loss 2.7360 | Valid Ppl 15.4245\n"
     ]
    },
    {
     "name": "stderr",
     "output_type": "stream",
     "text": [
      "100%|██████████| 227/227 [02:02<00:00,  1.86it/s]\n",
      "100%|██████████| 8/8 [00:00<00:00,  8.60it/s]\n",
      "  0%|          | 0/227 [00:00<?, ?it/s]"
     ]
    },
    {
     "name": "stdout",
     "output_type": "stream",
     "text": [
      "\n",
      "Epoch  18 | Train Loss 1.1133 | Train Ppl 3.0445 | Valid Loss 2.6830 | Valid Ppl 14.6292\n"
     ]
    },
    {
     "name": "stderr",
     "output_type": "stream",
     "text": [
      "100%|██████████| 227/227 [02:02<00:00,  1.85it/s]\n",
      "100%|██████████| 8/8 [00:00<00:00,  8.59it/s]\n",
      "  0%|          | 0/227 [00:00<?, ?it/s]"
     ]
    },
    {
     "name": "stdout",
     "output_type": "stream",
     "text": [
      "\n",
      "Epoch  19 | Train Loss 1.1155 | Train Ppl 3.0510 | Valid Loss 2.7666 | Valid Ppl 15.9037\n"
     ]
    },
    {
     "name": "stderr",
     "output_type": "stream",
     "text": [
      "100%|██████████| 227/227 [02:02<00:00,  1.85it/s]\n",
      "100%|██████████| 8/8 [00:00<00:00,  8.56it/s]"
     ]
    },
    {
     "name": "stdout",
     "output_type": "stream",
     "text": [
      "\n",
      "Epoch  20 | Train Loss 1.1105 | Train Ppl 3.0360 | Valid Loss 2.6433 | Valid Ppl 14.0602\n"
     ]
    },
    {
     "name": "stderr",
     "output_type": "stream",
     "text": [
      "\n"
     ]
    }
   ],
   "source": [
    "clip = 1.0\n",
    "\n",
    "for e in range(1, epochs + 1):\n",
    "    train_loss = 0\n",
    "    \n",
    "    model.train()\n",
    "    for x, y in tqdm(train_loader):\n",
    "        x, y = x.rot90(k=3).to(device), y.rot90(k=3).to(device)\n",
    "\n",
    "        out = model(x, y)\n",
    "        loss = criterion(out[1:].flatten(0, 1), y[1:].flatten(0))\n",
    "        \n",
    "        optimizer.zero_grad()\n",
    "        loss.backward()\n",
    "        nn.utils.clip_grad_norm_(model.parameters(), clip)\n",
    "        optimizer.step()\n",
    "        scheduler.step()\n",
    "\n",
    "        train_loss += loss.item()\n",
    "    train_loss /= len(train_loader)\n",
    "\n",
    "    valid_loss = 0\n",
    "    \n",
    "    model.eval()\n",
    "    with torch.no_grad():\n",
    "        for x, y in tqdm(valid_loader):\n",
    "            x, y = x.rot90(k=3).to(device), y.rot90(k=3).to(device)\n",
    "\n",
    "            out = model(x, y)\n",
    "            loss = criterion(out[1:].flatten(0, 1), y[1:].flatten(0))\n",
    "\n",
    "            valid_loss += loss.item()\n",
    "    valid_loss /= len(valid_loader)\n",
    "\n",
    "    print(\"\\nEpoch {:3} | Train Loss {:.4f} | Train Ppl {:.4f} | Valid Loss {:.4f} | Valid Ppl {:.4f}\".format(e, train_loss, np.exp(train_loss), valid_loss, np.exp(valid_loss)))"
   ]
  },
  {
   "cell_type": "markdown",
   "metadata": {
    "colab_type": "text",
    "id": "6zXXrzfSaD8U"
   },
   "source": [
    "If you train your own model, make sure to save the resulting weights."
   ]
  },
  {
   "cell_type": "code",
   "execution_count": null,
   "metadata": {
    "colab": {},
    "colab_type": "code",
    "id": "0MQA-mB6SGYJ"
   },
   "outputs": [],
   "source": [
    "torch.save(model.state_dict(), 'seq2seq_attention.pt')"
   ]
  },
  {
   "cell_type": "markdown",
   "metadata": {
    "colab_type": "text",
    "id": "d5DLmnjFaZag"
   },
   "source": [
    "# Sampling"
   ]
  },
  {
   "cell_type": "markdown",
   "metadata": {
    "colab_type": "text",
    "id": "WVic1chpnKlz"
   },
   "source": [
    "Let's load the pretrained weights."
   ]
  },
  {
   "cell_type": "code",
   "execution_count": null,
   "metadata": {
    "colab": {},
    "colab_type": "code",
    "id": "jQE-bS6GaDX3"
   },
   "outputs": [],
   "source": [
    "encoder = Encoder(vocab_sz=len(vocab_set_de), embedding_dim=256, enc_hidden_dim=512, dec_hidden_dim=512, dropout=0.5)\n",
    "decoder = Decoder(vocab_sz=len(vocab_set_en), embedding_dim=256, enc_hidden_dim=512, dec_hidden_dim=512, dropout=0.5)\n",
    "model = Seq2Seq(encoder, decoder, pad_idx=word2idx_de['<pad>']).to(device)\n",
    "criterion = nn.CrossEntropyLoss(ignore_index=word2idx_en['<pad>'])\n",
    "\n",
    "model.load_state_dict(torch.load('seq2seq_attention.pt'))\n",
    "model.eval();"
   ]
  },
  {
   "cell_type": "markdown",
   "metadata": {
    "colab_type": "text",
    "id": "BMzk1V9cnMLn"
   },
   "source": [
    "Evaluate them on the validation set."
   ]
  },
  {
   "cell_type": "code",
   "execution_count": null,
   "metadata": {
    "colab": {
     "base_uri": "https://localhost:8080/",
     "height": 68
    },
    "colab_type": "code",
    "id": "EcL5SQp4ahNg",
    "outputId": "cb45dcbf-e985-4fc0-a0cf-bc61bf299942"
   },
   "outputs": [
    {
     "name": "stderr",
     "output_type": "stream",
     "text": [
      "100%|██████████| 8/8 [00:01<00:00,  7.90it/s]"
     ]
    },
    {
     "name": "stdout",
     "output_type": "stream",
     "text": [
      "\n",
      "Valid Loss 2.8301 | Valid Ppl 16.9476\n"
     ]
    },
    {
     "name": "stderr",
     "output_type": "stream",
     "text": [
      "\n"
     ]
    }
   ],
   "source": [
    "model.eval()\n",
    "valid_loss = 0\n",
    "with torch.no_grad():\n",
    "    for x, y in tqdm(valid_loader):\n",
    "        x, y = x.rot90(k=3).to(device), y.rot90(k=3).to(device)\n",
    "\n",
    "        out = model(x, y)\n",
    "        loss = criterion(out[1:].flatten(0, 1), y[1:].flatten(0))\n",
    "\n",
    "        valid_loss += loss.item()\n",
    "valid_loss /= len(valid_loader)\n",
    "\n",
    "print(\"\\nValid Loss {:.4f} | Valid Ppl {:.4f}\".format(valid_loss, np.exp(valid_loss)))"
   ]
  },
  {
   "cell_type": "markdown",
   "metadata": {
    "colab_type": "text",
    "id": "f9Ft18nfnNiq"
   },
   "source": [
    "Let's write a modified translation function. This is largely akin to the seq2seq decoding method, but we're using multinomial sampling and we're not using any teacher forcing.\n",
    "\n",
    "We'll start with a tokenized sequence of tokens. We encode it with the encoder, then start decoding. We'll save each token as well as the attention weights per timestep so we can plot them later."
   ]
  },
  {
   "cell_type": "code",
   "execution_count": null,
   "metadata": {
    "colab": {},
    "colab_type": "code",
    "id": "m0MIOpKeh1ae"
   },
   "outputs": [],
   "source": [
    "def translate(src_sentence, model, max_words=20, temperature=1.0, seed=42):\n",
    "    s = [token if token in vocab_set_de else '<unk>' for token in src_sentence]\n",
    "    sample = torch.LongTensor([word2idx_de[token] for token in s]).unsqueeze(1)\n",
    "    \n",
    "    predictions = []\n",
    "    torch.manual_seed(seed)\n",
    "\n",
    "    with torch.no_grad():\n",
    "        # Produce an encoding of the source text and a storage for attention\n",
    "        encoder_out, hidden = model.encoder(sample, pad_idx=word2idx_de['<pad>'])\n",
    "        token = sample[0,:]\n",
    "        attentions = torch.zeros(max_words, 1, sample.shape[0])\n",
    "\n",
    "        # Decoding. Sample succeding tokens using attention and encodings\n",
    "        for i in range(max_words):\n",
    "            mask = (sample != pad_idx).permute(1, 0)\n",
    "            out, hidden, attn = model.decoder(token, encoder_out, hidden, mask)\n",
    "            \n",
    "            weights = torch.softmax(out / temperature, dim=-1)\n",
    "            token = torch.multinomial(weights, 1).squeeze(0)\n",
    "\n",
    "            predictions.append(token.item())\n",
    "            attentions[i] = attn\n",
    "\n",
    "            if token.item() == word2idx_en['<eos>']:\n",
    "                break\n",
    "\n",
    "    # Convert predictions from indices to text. Cut the attentions to translation length\n",
    "    predictions = [idx2word_en[ix] for ix in predictions]\n",
    "    attentions = attentions.squeeze(1)[:len(predictions),:]\n",
    "\n",
    "    return predictions, attentions"
   ]
  },
  {
   "cell_type": "markdown",
   "metadata": {
    "colab_type": "text",
    "id": "USY3YSqqne1r"
   },
   "source": [
    "The nice thing about attention is that it's interpretable. We can write a function to plot the attention weights in a heatmap for each timestep of decoding."
   ]
  },
  {
   "cell_type": "code",
   "execution_count": null,
   "metadata": {
    "colab": {},
    "colab_type": "code",
    "id": "nMydLY3BhfBS"
   },
   "outputs": [],
   "source": [
    "def plot_attention(src_sentence, predictions, attentions):\n",
    "    fig = plt.figure(figsize=(7,7))\n",
    "    ax = fig.add_subplot(111)\n",
    "        \n",
    "    attention = attentions.numpy()\n",
    "    cax = ax.matshow(attention, cmap='bone')\n",
    "\n",
    "    ax.tick_params(labelsize=12)\n",
    "    ax.set_xticklabels([''] + [t for t in src_sentence], rotation=45)\n",
    "    ax.set_yticklabels([''] + predictions)\n",
    "    ax.xaxis.set_major_locator(ticker.MultipleLocator(1))\n",
    "    ax.yaxis.set_major_locator(ticker.MultipleLocator(1))"
   ]
  },
  {
   "cell_type": "markdown",
   "metadata": {
    "colab_type": "text",
    "id": "TAVA7ZYEnlpH"
   },
   "source": [
    "Let's put the model in the CPU."
   ]
  },
  {
   "cell_type": "code",
   "execution_count": null,
   "metadata": {
    "colab": {},
    "colab_type": "code",
    "id": "sa_M5mx5j3MH"
   },
   "outputs": [],
   "source": [
    "model = model.cpu()"
   ]
  },
  {
   "cell_type": "markdown",
   "metadata": {
    "colab_type": "text",
    "id": "5BukiPjxns9d"
   },
   "source": [
    "Then test out some translations."
   ]
  },
  {
   "cell_type": "code",
   "execution_count": null,
   "metadata": {
    "colab": {
     "base_uri": "https://localhost:8080/",
     "height": 529
    },
    "colab_type": "code",
    "id": "0k1cTmkNh1Jk",
    "outputId": "e4499f10-ec21-406b-c9af-af1a2d11d5b7"
   },
   "outputs": [
    {
     "name": "stdout",
     "output_type": "stream",
     "text": [
      "Source: <sos> eine gruppe von männern lädt baumwolle auf einen lastwagen <eos>\n",
      "Target: <sos> a group of men are loading cotton onto a truck <eos>\n",
      "Prediction: a group of men loading loading <unk> onto a truck . <eos>\n"
     ]
    },
    {
     "data": {
      "image/png": "[encoded data removed]",
      "text/plain": [
       "<Figure size 504x504 with 1 Axes>"
      ]
     },
     "metadata": {
      "needs_background": "light",
      "tags": []
     },
     "output_type": "display_data"
    }
   ],
   "source": [
    "ix = 0\n",
    "src_sentence, trg_sentence = valid_de[ix], valid_en[ix]\n",
    "src_sentence = src_sentence[:src_sentence.index('<eos>') + 1]\n",
    "trg_sentence = trg_sentence[:trg_sentence.index('<eos>') + 1]\n",
    "\n",
    "print('Source:', ' '.join(src_sentence))\n",
    "print('Target:', ' '.join(trg_sentence))\n",
    "\n",
    "predictions, attentions = translate(src_sentence, model, temperature=0.9)\n",
    "print('Prediction:', ' '.join(predictions))\n",
    "\n",
    "plot_attention(src_sentence, predictions, attentions)"
   ]
  },
  {
   "cell_type": "code",
   "execution_count": null,
   "metadata": {
    "colab": {
     "base_uri": "https://localhost:8080/",
     "height": 527
    },
    "colab_type": "code",
    "id": "YYZPe2QChdjz",
    "outputId": "ae822b33-f2e2-463e-cfbd-d0042b297c60"
   },
   "outputs": [
    {
     "name": "stdout",
     "output_type": "stream",
     "text": [
      "Source: <sos> ein brauner hund rennt dem schwarzen hund hinterher . <eos>\n",
      "Target: <sos> a brown dog is running after the black dog . <eos>\n",
      "Prediction: a brown dog is running on the black dog . <eos>\n"
     ]
    },
    {
     "data": {
      "image/png": "[encoded data removed]",
      "text/plain": [
       "<Figure size 504x504 with 1 Axes>"
      ]
     },
     "metadata": {
      "needs_background": "light",
      "tags": []
     },
     "output_type": "display_data"
    }
   ],
   "source": [
    "ix = 6\n",
    "src_sentence, trg_sentence = valid_de[ix], valid_en[ix]\n",
    "src_sentence = src_sentence[:src_sentence.index('<eos>') + 1]\n",
    "trg_sentence = trg_sentence[:trg_sentence.index('<eos>') + 1]\n",
    "\n",
    "print('Source:', ' '.join(src_sentence))\n",
    "print('Target:', ' '.join(trg_sentence))\n",
    "\n",
    "predictions, attentions = translate(src_sentence, model, temperature=0.9)\n",
    "print('Prediction:', ' '.join(predictions))\n",
    "\n",
    "plot_attention(src_sentence, predictions, attentions)"
   ]
  },
  {
   "cell_type": "code",
   "execution_count": null,
   "metadata": {
    "colab": {
     "base_uri": "https://localhost:8080/",
     "height": 533
    },
    "colab_type": "code",
    "id": "82lFgVfPm_T9",
    "outputId": "a8b1ba4d-366d-450b-84b2-8a6c411fd9e5"
   },
   "outputs": [
    {
     "name": "stdout",
     "output_type": "stream",
     "text": [
      "Source: <sos> ein kleines kind steht allein auf einem zerklüfteten felsen . <eos>\n",
      "Target: <sos> a young child is standing alone on some jagged rocks . <eos>\n",
      "Prediction: a young child alone on a tree - colored rock . <eos>\n"
     ]
    },
    {
     "data": {
      "image/png": "[encoded data removed]",
      "text/plain": [
       "<Figure size 504x504 with 1 Axes>"
      ]
     },
     "metadata": {
      "needs_background": "light",
      "tags": []
     },
     "output_type": "display_data"
    }
   ],
   "source": [
    "ix = 10\n",
    "src_sentence, trg_sentence = valid_de[ix], valid_en[ix]\n",
    "src_sentence = src_sentence[:src_sentence.index('<eos>') + 1]\n",
    "trg_sentence = trg_sentence[:trg_sentence.index('<eos>') + 1]\n",
    "\n",
    "print('Source:', ' '.join(src_sentence))\n",
    "print('Target:', ' '.join(trg_sentence))\n",
    "\n",
    "predictions, attentions = translate(src_sentence, model, temperature=0.9)\n",
    "print('Prediction:', ' '.join(predictions))\n",
    "\n",
    "plot_attention(src_sentence, predictions, attentions)"
   ]
  },
  {
   "cell_type": "code",
   "execution_count": null,
   "metadata": {
    "colab": {
     "base_uri": "https://localhost:8080/",
     "height": 434
    },
    "colab_type": "code",
    "id": "I10_EsVNnDO9",
    "outputId": "42d8ad52-9259-462b-e00d-4bb417ce1130"
   },
   "outputs": [
    {
     "name": "stdout",
     "output_type": "stream",
     "text": [
      "Source: <sos> eine bunt gekleidete frau geht an einem weißen lastwagen vorbei , der mit flaschen gefüllt ist . <eos>\n",
      "Target: <sos> a woman in a colorful outfit is walking by a white truck filled with bottles . <eos>\n",
      "Prediction: a woman dressed in walks past a white truck that has graffiti . <eos>\n"
     ]
    },
    {
     "data": {
      "image/png": "[encoded data removed]",
      "text/plain": [
       "<Figure size 504x504 with 1 Axes>"
      ]
     },
     "metadata": {
      "needs_background": "light",
      "tags": []
     },
     "output_type": "display_data"
    }
   ],
   "source": [
    "ix = 64\n",
    "src_sentence, trg_sentence = valid_de[ix], valid_en[ix]\n",
    "src_sentence = src_sentence[:src_sentence.index('<eos>') + 1]\n",
    "trg_sentence = trg_sentence[:trg_sentence.index('<eos>') + 1]\n",
    "\n",
    "print('Source:', ' '.join(src_sentence))\n",
    "print('Target:', ' '.join(trg_sentence))\n",
    "\n",
    "predictions, attentions = translate(src_sentence, model, temperature=0.9)\n",
    "print('Prediction:', ' '.join(predictions))\n",
    "\n",
    "plot_attention(src_sentence, predictions, attentions)"
   ]
  },
  {
   "cell_type": "code",
   "execution_count": null,
   "metadata": {
    "colab": {
     "base_uri": "https://localhost:8080/",
     "height": 34
    },
    "colab_type": "code",
    "id": "OqUuWlC8uu7q",
    "outputId": "7ef90803-a2c0-4018-afbe-79b7475d05bb"
   },
   "outputs": [
    {
     "name": "stderr",
     "output_type": "stream",
     "text": [
      "100%|██████████| 1014/1014 [01:08<00:00, 14.75it/s]\n"
     ]
    }
   ],
   "source": [
    "translations = []\n",
    "targets = []\n",
    "\n",
    "for ix in tqdm(range(len(valid_en))):\n",
    "    src_sentence, trg_sentence = valid_de[ix], valid_en[ix]\n",
    "    src_sentence = src_sentence[:src_sentence.index('<eos>') + 1]\n",
    "    trg_sentence = trg_sentence[:trg_sentence.index('<eos>') + 1]\n",
    "\n",
    "    predictions, _ = translate(src_sentence, model, max_words=50)\n",
    "\n",
    "    translations.append(predictions[1:-1])\n",
    "    targets.append(trg_sentence[1:-1])"
   ]
  },
  {
   "cell_type": "code",
   "execution_count": null,
   "metadata": {
    "colab": {
     "base_uri": "https://localhost:8080/",
     "height": 34
    },
    "colab_type": "code",
    "id": "iaXTRNbV4ROZ",
    "outputId": "0eb51e95-fd2f-41ed-8d6f-364fd9d5dce7"
   },
   "outputs": [
    {
     "name": "stdout",
     "output_type": "stream",
     "text": [
      "BLEU: 31.36\n"
     ]
    }
   ],
   "source": [
    "smoothie = SmoothingFunction().method7\n",
    "bleu = corpus_bleu(targets, translations, smoothing_function=smoothie)\n",
    "print(\"BLEU: {:.2f}\".format(bleu * 100))"
   ]
  },
  {
   "cell_type": "code",
   "execution_count": null,
   "metadata": {
    "colab": {},
    "colab_type": "code",
    "id": "dRdF0EHIIVk1"
   },
   "outputs": [],
   "source": []
  }
 ],
 "metadata": {
  "accelerator": "GPU",
  "colab": {
   "collapsed_sections": [
    "F7jSsuIRRyur",
    "IgBt9Ap-R2LV",
    "2U0Ow65N0A39",
    "JiUc_ruBR5RG"
   ],
   "name": "08b - Neural Machine Translation with Attention",
   "provenance": [],
   "toc_visible": true
  },
  "kernelspec": {
   "display_name": "Python 3",
   "language": "python",
   "name": "python3"
  },
  "language_info": {
   "codemirror_mode": {
    "name": "ipython",
    "version": 3
   },
   "file_extension": ".py",
   "mimetype": "text/x-python",
   "name": "python",
   "nbconvert_exporter": "python",
   "pygments_lexer": "ipython3",
   "version": "3.8.5"
  }
 },
 "nbformat": 4,
 "nbformat_minor": 4
}
