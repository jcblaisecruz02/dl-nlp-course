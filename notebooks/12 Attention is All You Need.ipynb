{
 "cells": [
  {
   "cell_type": "markdown",
   "metadata": {
    "colab_type": "text",
    "id": "zWvzhpSWuzGF"
   },
   "source": [
    "# 12 - Attention is All You Need\n",
    "Prepared by Jan Christian Blaise Cruz\n",
    "\n",
    "DLSU Machine Learning Group\n",
    "\n",
    "In this session, we'll implement the Transformer Seq2Seq model proposed in Vaswani et al. (2017)."
   ]
  },
  {
   "cell_type": "markdown",
   "metadata": {
    "colab_type": "text",
    "id": "BId8eW9du8A-"
   },
   "source": [
    "# Preliminaries"
   ]
  },
  {
   "cell_type": "markdown",
   "metadata": {
    "colab_type": "text",
    "id": "5Kiw9l2tu9RL"
   },
   "source": [
    "Make sure we have a GPU to use."
   ]
  },
  {
   "cell_type": "code",
   "execution_count": null,
   "metadata": {
    "colab": {
     "base_uri": "https://localhost:8080/",
     "height": 357
    },
    "colab_type": "code",
    "id": "bGvMcLXi1Hk6",
    "outputId": "ded3281f-8c77-43b7-b600-d1e20eac9a37"
   },
   "outputs": [
    {
     "name": "stdout",
     "output_type": "stream",
     "text": [
      "Fri Sep  4 12:39:48 2020       \n",
      "+-----------------------------------------------------------------------------+\n",
      "| NVIDIA-SMI 450.66       Driver Version: 418.67       CUDA Version: 10.1     |\n",
      "|-------------------------------+----------------------+----------------------+\n",
      "| GPU  Name        Persistence-M| Bus-Id        Disp.A | Volatile Uncorr. ECC |\n",
      "| Fan  Temp  Perf  Pwr:Usage/Cap|         Memory-Usage | GPU-Util  Compute M. |\n",
      "|                               |                      |               MIG M. |\n",
      "|===============================+======================+======================|\n",
      "|   0  Tesla P100-PCIE...  Off  | 00000000:00:04.0 Off |                    0 |\n",
      "| N/A   36C    P0    26W / 250W |      0MiB / 16280MiB |      0%      Default |\n",
      "|                               |                      |                 ERR! |\n",
      "+-------------------------------+----------------------+----------------------+\n",
      "                                                                               \n",
      "+-----------------------------------------------------------------------------+\n",
      "| Processes:                                                                  |\n",
      "|  GPU   GI   CI        PID   Type   Process name                  GPU Memory |\n",
      "|        ID   ID                                                   Usage      |\n",
      "|=============================================================================|\n",
      "|  No running processes found                                                 |\n",
      "+-----------------------------------------------------------------------------+\n"
     ]
    }
   ],
   "source": [
    "!nvidia-smi"
   ]
  },
  {
   "cell_type": "markdown",
   "metadata": {
    "colab_type": "text",
    "id": "qIZAJmRZu_gk"
   },
   "source": [
    "Download the datasets and the necessary packages. Make sure to reset the runtime after."
   ]
  },
  {
   "cell_type": "code",
   "execution_count": null,
   "metadata": {
    "colab": {},
    "colab_type": "code",
    "id": "aCIr4GC11Ojd"
   },
   "outputs": [],
   "source": [
    "!wget https://s3.us-east-2.amazonaws.com/blaisecruz.com/datasets/translation/multi30k.zip\n",
    "!unzip multi30k.zip && rm multi30k.zip\n",
    "!python -m spacy download de_core_news_sm\n",
    "!python -m spacy download en_core_web_sm\n",
    "!pip install --upgrade torchtext"
   ]
  },
  {
   "cell_type": "markdown",
   "metadata": {
    "colab_type": "text",
    "id": "wRGC1C7_vD4J"
   },
   "source": [
    "Import our usual packages."
   ]
  },
  {
   "cell_type": "code",
   "execution_count": null,
   "metadata": {
    "colab": {},
    "colab_type": "code",
    "id": "SbLqWqY_2mgF"
   },
   "outputs": [],
   "source": [
    "import torch\n",
    "import torch.nn as nn\n",
    "import torch.optim as optim\n",
    "import torch.utils.data as datautils\n",
    "\n",
    "import spacy\n",
    "import numpy as np\n",
    "import matplotlib.pyplot as plt\n",
    "import matplotlib.ticker as ticker\n",
    "\n",
    "from nltk.translate.bleu_score import corpus_bleu\n",
    "from nltk.translate.bleu_score import SmoothingFunction\n",
    "\n",
    "import random\n",
    "from collections import Counter\n",
    "from tqdm import tqdm\n",
    "\n",
    "np.random.seed(42)\n",
    "torch.manual_seed(42)\n",
    "device = torch.device('cuda' if torch.cuda.is_available() else 'cpu')\n",
    "%matplotlib inline"
   ]
  },
  {
   "cell_type": "markdown",
   "metadata": {
    "colab_type": "text",
    "id": "vWXMD51UvF_E"
   },
   "source": [
    "# Data Processing"
   ]
  },
  {
   "cell_type": "markdown",
   "metadata": {
    "colab_type": "text",
    "id": "esQPJnT3vHiZ"
   },
   "source": [
    "Data processing remains the same. Load the Multi30k dataset."
   ]
  },
  {
   "cell_type": "code",
   "execution_count": null,
   "metadata": {
    "colab": {},
    "colab_type": "code",
    "id": "Q9H7tVta2yY3"
   },
   "outputs": [],
   "source": [
    "with open('multi30k/train.en', 'r') as f:\n",
    "    train_en = [line.strip() for line in f]\n",
    "with open('multi30k/train.de', 'r') as f:\n",
    "    train_de = [line.strip() for line in f]\n",
    "with open('multi30k/val.en', 'r') as f:\n",
    "    valid_en = [line.strip() for line in f]\n",
    "with open('multi30k/val.de', 'r') as f:\n",
    "    valid_de = [line.strip() for line in f]"
   ]
  },
  {
   "cell_type": "markdown",
   "metadata": {
    "colab_type": "text",
    "id": "VTSFHaNtvKty"
   },
   "source": [
    "Load our tokenizers and tokenize."
   ]
  },
  {
   "cell_type": "code",
   "execution_count": null,
   "metadata": {
    "colab": {
     "base_uri": "https://localhost:8080/",
     "height": 85
    },
    "colab_type": "code",
    "id": "gkRtFAYW22E-",
    "outputId": "f9a76b82-a7c1-4186-b0d0-46b04157aec4"
   },
   "outputs": [
    {
     "name": "stderr",
     "output_type": "stream",
     "text": [
      "100%|██████████| 29000/29000 [00:01<00:00, 22220.21it/s]\n",
      "100%|██████████| 29000/29000 [00:01<00:00, 15345.75it/s]\n",
      "100%|██████████| 1014/1014 [00:00<00:00, 27893.62it/s]\n",
      "100%|██████████| 1014/1014 [00:00<00:00, 16138.12it/s]\n"
     ]
    }
   ],
   "source": [
    "spacy_de = spacy.load('de_core_news_sm')\n",
    "spacy_en = spacy.load('en_core_web_sm')\n",
    "\n",
    "def tokenize_de(text):\n",
    "    return ['<sos>'] + [tok.text.lower() for tok in spacy_de.tokenizer(text)] + ['<eos>']\n",
    "\n",
    "def tokenize_en(text):\n",
    "    return ['<sos>'] + [tok.text.lower() for tok in spacy_en.tokenizer(text)] + ['<eos>']\n",
    "\n",
    "# Tokenize the text\n",
    "train_en = [tokenize_en(text) for text in tqdm(train_en)]\n",
    "train_de = [tokenize_de(text) for text in tqdm(train_de)]\n",
    "valid_en = [tokenize_en(text) for text in tqdm(valid_en)]\n",
    "valid_de = [tokenize_de(text) for text in tqdm(valid_de)]"
   ]
  },
  {
   "cell_type": "markdown",
   "metadata": {
    "colab_type": "text",
    "id": "vF5KUrNmvMdo"
   },
   "source": [
    "Delimit our sequences."
   ]
  },
  {
   "cell_type": "code",
   "execution_count": null,
   "metadata": {
    "colab": {},
    "colab_type": "code",
    "id": "fELsTTSe227-"
   },
   "outputs": [],
   "source": [
    "def process(dataset):\n",
    "    max_len = max([len(text) for text in dataset])\n",
    "    temp = []\n",
    "    for text in dataset:\n",
    "        if len(text) < max_len:\n",
    "            text += ['<pad>' for _ in range(max_len - len(text))]\n",
    "        temp.append(text)\n",
    "    return temp\n",
    "\n",
    "# Pad to maximum length of the dataset\n",
    "train_en_proc, valid_en_proc = process(train_en), process(valid_en)\n",
    "train_de_proc, valid_de_proc = process(train_de), process(valid_de)"
   ]
  },
  {
   "cell_type": "markdown",
   "metadata": {
    "colab_type": "text",
    "id": "-dPvy11rvQ9L"
   },
   "source": [
    "Produce our vocabularies."
   ]
  },
  {
   "cell_type": "code",
   "execution_count": null,
   "metadata": {
    "colab": {},
    "colab_type": "code",
    "id": "gfeZ-Zqt24Fe"
   },
   "outputs": [],
   "source": [
    "def get_vocab(dataset, min_freq=2):\n",
    "    # Add all tokens to the list\n",
    "    special_tokens = ['<unk>', '<pad>', '<sos>', '<eos>']\n",
    "    vocab = []\n",
    "    for line in dataset: vocab.extend(line)\n",
    "\n",
    "    # Remove words that are below the minimum frequency, the enforce set\n",
    "    counts = Counter(vocab)\n",
    "    vocab = special_tokens + [word for word in counts.keys() if counts[word] > min_freq]\n",
    "    vocab_set = set(vocab)\n",
    "\n",
    "    # Push all special tokens to the front\n",
    "    idx2word = list(vocab_set)\n",
    "    for token in special_tokens[::-1]:\n",
    "        idx2word.insert(0, idx2word.pop(idx2word.index(token)))\n",
    "\n",
    "    # Produce word2idx then return\n",
    "    word2idx = {idx2word[i]: i for i in range(len(idx2word))}\n",
    "    return vocab_set, idx2word, word2idx\n",
    "\n",
    "# Get vocabulary and references\n",
    "vocab_set_en, idx2word_en, word2idx_en = get_vocab(train_en_proc, min_freq=2)\n",
    "vocab_set_de, idx2word_de, word2idx_de = get_vocab(train_de_proc, min_freq=2)\n",
    "\n",
    "# Convert unknown tokens\n",
    "train_en_proc = [[token if token in vocab_set_en else '<unk>' for token in line] for line in train_en_proc]\n",
    "train_de_proc = [[token if token in vocab_set_de else '<unk>' for token in line] for line in train_de_proc]\n",
    "valid_en_proc = [[token if token in vocab_set_en else '<unk>' for token in line] for line in valid_en_proc]\n",
    "valid_de_proc = [[token if token in vocab_set_de else '<unk>' for token in line] for line in valid_de_proc]"
   ]
  },
  {
   "cell_type": "markdown",
   "metadata": {
    "colab_type": "text",
    "id": "MFU2SSwlvSw3"
   },
   "source": [
    "Convert to their indices."
   ]
  },
  {
   "cell_type": "code",
   "execution_count": null,
   "metadata": {
    "colab": {},
    "colab_type": "code",
    "id": "_uXtXvvn25NF"
   },
   "outputs": [],
   "source": [
    "def serialize(dataset, word2idx):\n",
    "    temp = []\n",
    "    for line in dataset: temp.append([word2idx[token] for token in line])\n",
    "    return torch.LongTensor(temp)\n",
    "\n",
    "# Convert to idx\n",
    "y_train = serialize(train_en_proc, word2idx_en)\n",
    "X_train = serialize(train_de_proc, word2idx_de)\n",
    "y_valid = serialize(valid_en_proc, word2idx_en)\n",
    "X_valid = serialize(valid_de_proc, word2idx_de)"
   ]
  },
  {
   "cell_type": "markdown",
   "metadata": {
    "colab_type": "text",
    "id": "oqfAflOjvULP"
   },
   "source": [
    "Produce dataloaders."
   ]
  },
  {
   "cell_type": "code",
   "execution_count": null,
   "metadata": {
    "colab": {},
    "colab_type": "code",
    "id": "H_P3VBnp26PL"
   },
   "outputs": [],
   "source": [
    "bs = 128\n",
    "\n",
    "train_dataset = datautils.TensorDataset(X_train, y_train)\n",
    "valid_dataset = datautils.TensorDataset(X_valid, y_valid)\n",
    "train_sampler = datautils.RandomSampler(train_dataset)\n",
    "train_loader = datautils.DataLoader(train_dataset, batch_size=bs, sampler=train_sampler)\n",
    "valid_loader = datautils.DataLoader(valid_dataset, batch_size=bs, shuffle=False)"
   ]
  },
  {
   "cell_type": "markdown",
   "metadata": {
    "colab_type": "text",
    "id": "ow8pRvBVvWB2"
   },
   "source": [
    "Transformers produce outputs batch-wise, so we won't be rotating our tensors here."
   ]
  },
  {
   "cell_type": "code",
   "execution_count": null,
   "metadata": {
    "colab": {
     "base_uri": "https://localhost:8080/",
     "height": 34
    },
    "colab_type": "code",
    "id": "0d2T1GhF27Ln",
    "outputId": "0470ed19-f018-43de-dfbf-97d261940c68"
   },
   "outputs": [
    {
     "name": "stdout",
     "output_type": "stream",
     "text": [
      "torch.Size([128, 46]) torch.Size([128, 43])\n"
     ]
    }
   ],
   "source": [
    "x, y = next(iter(train_loader))\n",
    "print(x.shape, y.shape)"
   ]
  },
  {
   "cell_type": "markdown",
   "metadata": {
    "colab_type": "text",
    "id": "1Nzc65rPvbP4"
   },
   "source": [
    "# Modeling"
   ]
  },
  {
   "cell_type": "markdown",
   "metadata": {
    "colab_type": "text",
    "id": "qGkpfYSKvcgW"
   },
   "source": [
    "First, we implement the Multihead Attention module as described in the slides."
   ]
  },
  {
   "cell_type": "code",
   "execution_count": null,
   "metadata": {
    "colab": {},
    "colab_type": "code",
    "id": "vHo_1AG-3ZmZ"
   },
   "outputs": [],
   "source": [
    "class MultiheadAttentionLayer(nn.Module):\n",
    "    def __init__(self, hidden_dim, n_heads, dropout=0.5):\n",
    "        super(MultiheadAttentionLayer, self).__init__()\n",
    "        self.fc_q = nn.Linear(hidden_dim, hidden_dim)\n",
    "        self.fc_k = nn.Linear(hidden_dim, hidden_dim)\n",
    "        self.fc_v = nn.Linear(hidden_dim, hidden_dim)\n",
    "        self.fc_o = nn.Linear(hidden_dim, hidden_dim)\n",
    "        self.dropout = nn.Dropout(dropout)\n",
    "\n",
    "        self.n_heads = n_heads\n",
    "        self.hidden_dim = hidden_dim\n",
    "        self.head_dim = hidden_dim // n_heads\n",
    "        self.scale = np.sqrt(self.head_dim)\n",
    "\n",
    "    def forward(self, query, key, value, mask=None):\n",
    "        bs = query.shape[0]\n",
    "        Q = self.fc_q(query).view(bs, -1, self.n_heads, self.head_dim).permute(0, 2, 1, 3)\n",
    "        K = self.fc_k(key).view(bs, -1, self.n_heads, self.head_dim).permute(0, 2, 1, 3)\n",
    "        V = self.fc_v(value).view(bs, -1, self.n_heads, self.head_dim).permute(0, 2, 1, 3)\n",
    "\n",
    "        energy = torch.matmul(Q, K.permute(0, 1, 3, 2)) / self.scale\n",
    "        if mask is not None: energy = energy.masked_fill(mask==0, -1e10)\n",
    "\n",
    "        attention = torch.softmax(energy, dim=-1)\n",
    "        x = torch.matmul(self.dropout(attention), V)\n",
    "        x = x.permute(0, 2, 1, 3).contiguous()\n",
    "        x = x.view(bs, -1, self.hidden_dim)\n",
    "        x = self.fc_o(x)\n",
    "        return x, attention"
   ]
  },
  {
   "cell_type": "markdown",
   "metadata": {
    "colab_type": "text",
    "id": "T6tzO_u9vioB"
   },
   "source": [
    "As directed by the paper, our linear layers are actually composed of **two** linear layers, with a bottleneck in the middle. We'll implement this as a module that we can drop in as a replacement to standard linear layers."
   ]
  },
  {
   "cell_type": "code",
   "execution_count": null,
   "metadata": {
    "colab": {},
    "colab_type": "code",
    "id": "vNRXvUVh3ZeX"
   },
   "outputs": [],
   "source": [
    "class PositionFeedForward(nn.Module):\n",
    "    def __init__(self, hidden_dim, pf_dim, dropout=0.5):\n",
    "        super(PositionFeedForward, self).__init__()\n",
    "        self.fc1 = nn.Linear(hidden_dim, pf_dim)\n",
    "        self.fc2 = nn.Linear(pf_dim, hidden_dim)\n",
    "        self.dropout = nn.Dropout(dropout)\n",
    "\n",
    "    def forward(self, x):\n",
    "        out = self.dropout(torch.relu(self.fc1(x)))\n",
    "        out = self.fc2(out)\n",
    "        return out"
   ]
  },
  {
   "cell_type": "markdown",
   "metadata": {
    "colab_type": "text",
    "id": "UwHCebLXvuUs"
   },
   "source": [
    "Here is one encoder block. Compute self attention followed by an add-and-norm skip connection, then a feedforward, followed by an add-and-norm skip connection."
   ]
  },
  {
   "cell_type": "code",
   "execution_count": null,
   "metadata": {
    "colab": {},
    "colab_type": "code",
    "id": "9My95oAH3ZdU"
   },
   "outputs": [],
   "source": [
    "class EncoderLayer(nn.Module):\n",
    "    def __init__(self, hidden_dim, n_heads, pf_dim, dropout=0.5):\n",
    "        super(EncoderLayer, self).__init__()\n",
    "        self.at_layer_norm = nn.LayerNorm(hidden_dim)\n",
    "        self.ff_layer_norm = nn.LayerNorm(hidden_dim)\n",
    "        self.attention = MultiheadAttentionLayer(hidden_dim, n_heads, dropout=dropout)\n",
    "        self.positionwise_ff = PositionFeedForward(hidden_dim, pf_dim, dropout)\n",
    "        self.dropout = nn.Dropout(dropout)\n",
    "\n",
    "    def forward(self, x, mask):\n",
    "        _out, _ = self.attention(x, x, x, mask)\n",
    "        out = self.at_layer_norm(x + self.dropout(_out))\n",
    "        _out = self.positionwise_ff(out)\n",
    "        out = self.ff_layer_norm(out + self.dropout(_out))\n",
    "        return out"
   ]
  },
  {
   "cell_type": "markdown",
   "metadata": {
    "colab_type": "text",
    "id": "-8RcjyHWv3gm"
   },
   "source": [
    "We'll wrap everything into an Encoder module. This is also where we will add our token and position embeddings."
   ]
  },
  {
   "cell_type": "code",
   "execution_count": null,
   "metadata": {
    "colab": {},
    "colab_type": "code",
    "id": "vjLuh0O_2850"
   },
   "outputs": [],
   "source": [
    "class Encoder(nn.Module):\n",
    "    def __init__(self, vocab_sz, hidden_dim, n_layers, n_heads, pf_dim, dropout=0.5, msl=100):\n",
    "        super(Encoder, self).__init__()\n",
    "        self.token_embedding = nn.Embedding(vocab_sz, hidden_dim)\n",
    "        self.posit_embedding = nn.Embedding(msl, hidden_dim)\n",
    "        layers = [EncoderLayer(hidden_dim, n_heads, pf_dim, dropout) for _ in range(n_layers)]\n",
    "        self.layers = nn.ModuleList(layers)\n",
    "        self.dropout = nn.Dropout(dropout)\n",
    "        self.scale = np.sqrt(hidden_dim)\n",
    "\n",
    "    def forward(self, x, mask):\n",
    "        bs, msl = x.shape\n",
    "        pos = torch.arange(0, msl).unsqueeze(0).repeat(bs, 1).to(next(self.parameters()).device)\n",
    "        out = self.token_embedding(x) * self.scale + self.posit_embedding(pos)\n",
    "        out = self.dropout(out)\n",
    "\n",
    "        for layer in self.layers:\n",
    "            out = layer(out, mask)\n",
    "        return out"
   ]
  },
  {
   "cell_type": "markdown",
   "metadata": {
    "colab_type": "text",
    "id": "8VHtuOnrv8uA"
   },
   "source": [
    "Our decoder blocks will be similar, except we accept masks for the masked attention (decoder self attention) and the multiheaded context attention (the attention to the input tokens)."
   ]
  },
  {
   "cell_type": "code",
   "execution_count": null,
   "metadata": {
    "colab": {},
    "colab_type": "code",
    "id": "TLnewZMZ3WWF"
   },
   "outputs": [],
   "source": [
    "class DecoderLayer(nn.Module):\n",
    "    def __init__(self, hidden_dim, n_heads, pf_dim, dropout=0.5):\n",
    "        super(DecoderLayer, self).__init__()\n",
    "        self.self_at_layer_norm = nn.LayerNorm(hidden_dim)\n",
    "        self.ff_layer_norm = nn.LayerNorm(hidden_dim)\n",
    "        self.enco_at_layer_norm = nn.LayerNorm(hidden_dim)\n",
    "        self.self_attention = MultiheadAttentionLayer(hidden_dim, n_heads, dropout)\n",
    "        self.enco_attention = MultiheadAttentionLayer(hidden_dim, n_heads, dropout)\n",
    "        self.positionwise_ff = PositionFeedForward(hidden_dim, pf_dim, dropout)\n",
    "        self.dropout = nn.Dropout(dropout)\n",
    "\n",
    "    def forward(self, y, enc_src, src_mask, trg_mask):\n",
    "        _out, _ = self.self_attention(y, y, y, trg_mask)\n",
    "        out = self.self_at_layer_norm(y + self.dropout(_out))\n",
    "        _out, attention = self.enco_attention(out, enc_src, enc_src, src_mask)\n",
    "        out = self.enco_at_layer_norm(out + self.dropout(_out))\n",
    "        _out = self.positionwise_ff(out)\n",
    "        out = self.ff_layer_norm(out + self.dropout(_out))\n",
    "        return out, attention"
   ]
  },
  {
   "cell_type": "markdown",
   "metadata": {
    "colab_type": "text",
    "id": "uBNhmAs6wGrh"
   },
   "source": [
    "We'll wrap that up in a Decoder module."
   ]
  },
  {
   "cell_type": "code",
   "execution_count": null,
   "metadata": {
    "colab": {},
    "colab_type": "code",
    "id": "m1P4irbJ3WZd"
   },
   "outputs": [],
   "source": [
    "class Decoder(nn.Module):\n",
    "    def __init__(self, vocab_sz, hidden_dim, n_layers, n_heads, pf_dim, dropout, msl=100):\n",
    "        super(Decoder, self).__init__()\n",
    "        self.token_embedding = nn.Embedding(vocab_sz, hidden_dim)\n",
    "        self.posit_embedding = nn.Embedding(msl, hidden_dim)\n",
    "        layers = [DecoderLayer(hidden_dim, n_heads, pf_dim, dropout) for _ in range(n_layers)]\n",
    "        self.layers = nn.ModuleList(layers)\n",
    "        self.fc1 = nn.Linear(hidden_dim, vocab_sz)\n",
    "        self.dropout = nn.Dropout(dropout)\n",
    "        self.scale = np.sqrt(hidden_dim)\n",
    "\n",
    "    def forward(self, y, enc_src, src_mask, trg_mask):\n",
    "        bs, msl = y.shape\n",
    "        pos = torch.arange(0, msl).unsqueeze(0).repeat(bs, 1).to(next(self.parameters()).device)\n",
    "        out = self.token_embedding(y) * self.scale + self.posit_embedding(pos)\n",
    "        out = self.dropout(out)\n",
    "\n",
    "        for layer in self.layers:\n",
    "            out, attention = layer(out, enc_src, src_mask, trg_mask)\n",
    "        out = self.fc1(out)\n",
    "\n",
    "        return out, attention"
   ]
  },
  {
   "cell_type": "markdown",
   "metadata": {
    "colab_type": "text",
    "id": "y-xsVIHwwI1R"
   },
   "source": [
    "And then write our Sequence-to-Sequence wrapper.\n",
    "\n",
    "Like we said, Transformers produce tokens batch-wise, so we don't need to do token-by-token decoding here."
   ]
  },
  {
   "cell_type": "code",
   "execution_count": null,
   "metadata": {
    "colab": {},
    "colab_type": "code",
    "id": "oViDK6aI3Wb-"
   },
   "outputs": [],
   "source": [
    "class Seq2Seq(nn.Module):\n",
    "    def __init__(self, encoder, decoder, src_pad_ix, trg_pad_ix):\n",
    "        super(Seq2Seq, self).__init__()\n",
    "        self.encoder = encoder\n",
    "        self.decoder = decoder\n",
    "        self.src_pad_ix = src_pad_ix\n",
    "        self.trg_pad_ix = trg_pad_ix\n",
    "\n",
    "    def init_weights(self):\n",
    "        for name, param in self.named_parameters():\n",
    "            if 'weight' in name: nn.init.xavier_uniform_(param.data)\n",
    "\n",
    "    def make_src_mask(self, x):\n",
    "        mask = (x != self.src_pad_ix).unsqueeze(1).unsqueeze(2)\n",
    "        return mask\n",
    "\n",
    "    def make_trg_mask(self, y):\n",
    "        bs, msl = y.shape\n",
    "        mask = (y != self.trg_pad_ix).unsqueeze(1).unsqueeze(2)\n",
    "        submask = torch.tril(torch.ones(msl, msl)).bool().to(next(self.parameters()).device)\n",
    "        mask = mask & submask\n",
    "        return mask\n",
    "\n",
    "    def forward(self, x, y):\n",
    "        src_mask = self.make_src_mask(x)\n",
    "        trg_mask = self.make_trg_mask(y)\n",
    "\n",
    "        enc_src = self.encoder(x, src_mask)\n",
    "        out, attention = self.decoder(y, enc_src, src_mask, trg_mask)\n",
    "        return out, attention"
   ]
  },
  {
   "cell_type": "markdown",
   "metadata": {
    "colab_type": "text",
    "id": "-K5DRKRawPTn"
   },
   "source": [
    "# Training"
   ]
  },
  {
   "cell_type": "markdown",
   "metadata": {
    "colab_type": "text",
    "id": "KPoQ17_ewQhy"
   },
   "source": [
    "Produce a setup as directed by the paper."
   ]
  },
  {
   "cell_type": "code",
   "execution_count": null,
   "metadata": {
    "colab": {},
    "colab_type": "code",
    "id": "8hxQWbI64Fd9"
   },
   "outputs": [],
   "source": [
    "epochs = 10\n",
    "\n",
    "encoder = Encoder(vocab_sz=len(vocab_set_de), hidden_dim=256, n_layers=3, n_heads=8, pf_dim=512, dropout=0.1)\n",
    "decoder = Decoder(vocab_sz=len(vocab_set_en), hidden_dim=256, n_layers=3, n_heads=8, pf_dim=512, dropout=0.1)\n",
    "model = Seq2Seq(encoder, decoder, word2idx_de['<pad>'], word2idx_en['<pad>']).to(device)\n",
    "\n",
    "criterion = nn.CrossEntropyLoss(ignore_index=word2idx_en['<pad>'])\n",
    "optimizer = optim.Adam(model.parameters(), lr=5e-4)\n",
    "scheduler = optim.lr_scheduler.CosineAnnealingLR(optimizer, len(train_loader)*epochs)"
   ]
  },
  {
   "cell_type": "markdown",
   "metadata": {
    "colab_type": "text",
    "id": "a-Q79udIwSdE"
   },
   "source": [
    "Count the number of trainable parameters."
   ]
  },
  {
   "cell_type": "code",
   "execution_count": null,
   "metadata": {
    "colab": {
     "base_uri": "https://localhost:8080/",
     "height": 34
    },
    "colab_type": "code",
    "id": "duxOQW7uQMWR",
    "outputId": "8b9b5d20-9300-4f50-d6c4-9800de325e7b"
   },
   "outputs": [
    {
     "name": "stdout",
     "output_type": "stream",
     "text": [
      "The model has 7,718,348 trainable parameters\n"
     ]
    }
   ],
   "source": [
    "def count_parameters(model):\n",
    "    return sum(p.numel() for p in model.parameters() if p.requires_grad)\n",
    "    \n",
    "print(\"The model has {:,} trainable parameters\".format(count_parameters(model)))"
   ]
  },
  {
   "cell_type": "markdown",
   "metadata": {
    "colab_type": "text",
    "id": "vtz-Dxg2wU22"
   },
   "source": [
    "For transparency, here is our (giant) model."
   ]
  },
  {
   "cell_type": "code",
   "execution_count": null,
   "metadata": {
    "colab": {
     "base_uri": "https://localhost:8080/",
     "height": 1000
    },
    "colab_type": "code",
    "id": "KUdlqX-D41gK",
    "outputId": "60eeeff6-fe51-4c3d-eba2-0f4a5a8a0abd"
   },
   "outputs": [
    {
     "data": {
      "text/plain": [
       "Seq2Seq(\n",
       "  (encoder): Encoder(\n",
       "    (token_embedding): Embedding(5376, 256)\n",
       "    (posit_embedding): Embedding(100, 256)\n",
       "    (layers): ModuleList(\n",
       "      (0): EncoderLayer(\n",
       "        (at_layer_norm): LayerNorm((256,), eps=1e-05, elementwise_affine=True)\n",
       "        (ff_layer_norm): LayerNorm((256,), eps=1e-05, elementwise_affine=True)\n",
       "        (attention): MultiheadAttentionLayer(\n",
       "          (fc_q): Linear(in_features=256, out_features=256, bias=True)\n",
       "          (fc_k): Linear(in_features=256, out_features=256, bias=True)\n",
       "          (fc_v): Linear(in_features=256, out_features=256, bias=True)\n",
       "          (fc_o): Linear(in_features=256, out_features=256, bias=True)\n",
       "          (dropout): Dropout(p=0.1, inplace=False)\n",
       "        )\n",
       "        (positionwise_ff): PositionFeedForward(\n",
       "          (fc1): Linear(in_features=256, out_features=512, bias=True)\n",
       "          (fc2): Linear(in_features=512, out_features=256, bias=True)\n",
       "          (dropout): Dropout(p=0.1, inplace=False)\n",
       "        )\n",
       "        (dropout): Dropout(p=0.1, inplace=False)\n",
       "      )\n",
       "      (1): EncoderLayer(\n",
       "        (at_layer_norm): LayerNorm((256,), eps=1e-05, elementwise_affine=True)\n",
       "        (ff_layer_norm): LayerNorm((256,), eps=1e-05, elementwise_affine=True)\n",
       "        (attention): MultiheadAttentionLayer(\n",
       "          (fc_q): Linear(in_features=256, out_features=256, bias=True)\n",
       "          (fc_k): Linear(in_features=256, out_features=256, bias=True)\n",
       "          (fc_v): Linear(in_features=256, out_features=256, bias=True)\n",
       "          (fc_o): Linear(in_features=256, out_features=256, bias=True)\n",
       "          (dropout): Dropout(p=0.1, inplace=False)\n",
       "        )\n",
       "        (positionwise_ff): PositionFeedForward(\n",
       "          (fc1): Linear(in_features=256, out_features=512, bias=True)\n",
       "          (fc2): Linear(in_features=512, out_features=256, bias=True)\n",
       "          (dropout): Dropout(p=0.1, inplace=False)\n",
       "        )\n",
       "        (dropout): Dropout(p=0.1, inplace=False)\n",
       "      )\n",
       "      (2): EncoderLayer(\n",
       "        (at_layer_norm): LayerNorm((256,), eps=1e-05, elementwise_affine=True)\n",
       "        (ff_layer_norm): LayerNorm((256,), eps=1e-05, elementwise_affine=True)\n",
       "        (attention): MultiheadAttentionLayer(\n",
       "          (fc_q): Linear(in_features=256, out_features=256, bias=True)\n",
       "          (fc_k): Linear(in_features=256, out_features=256, bias=True)\n",
       "          (fc_v): Linear(in_features=256, out_features=256, bias=True)\n",
       "          (fc_o): Linear(in_features=256, out_features=256, bias=True)\n",
       "          (dropout): Dropout(p=0.1, inplace=False)\n",
       "        )\n",
       "        (positionwise_ff): PositionFeedForward(\n",
       "          (fc1): Linear(in_features=256, out_features=512, bias=True)\n",
       "          (fc2): Linear(in_features=512, out_features=256, bias=True)\n",
       "          (dropout): Dropout(p=0.1, inplace=False)\n",
       "        )\n",
       "        (dropout): Dropout(p=0.1, inplace=False)\n",
       "      )\n",
       "    )\n",
       "    (dropout): Dropout(p=0.1, inplace=False)\n",
       "  )\n",
       "  (decoder): Decoder(\n",
       "    (token_embedding): Embedding(4556, 256)\n",
       "    (posit_embedding): Embedding(100, 256)\n",
       "    (layers): ModuleList(\n",
       "      (0): DecoderLayer(\n",
       "        (self_at_layer_norm): LayerNorm((256,), eps=1e-05, elementwise_affine=True)\n",
       "        (ff_layer_norm): LayerNorm((256,), eps=1e-05, elementwise_affine=True)\n",
       "        (enco_at_layer_norm): LayerNorm((256,), eps=1e-05, elementwise_affine=True)\n",
       "        (self_attention): MultiheadAttentionLayer(\n",
       "          (fc_q): Linear(in_features=256, out_features=256, bias=True)\n",
       "          (fc_k): Linear(in_features=256, out_features=256, bias=True)\n",
       "          (fc_v): Linear(in_features=256, out_features=256, bias=True)\n",
       "          (fc_o): Linear(in_features=256, out_features=256, bias=True)\n",
       "          (dropout): Dropout(p=0.1, inplace=False)\n",
       "        )\n",
       "        (enco_attention): MultiheadAttentionLayer(\n",
       "          (fc_q): Linear(in_features=256, out_features=256, bias=True)\n",
       "          (fc_k): Linear(in_features=256, out_features=256, bias=True)\n",
       "          (fc_v): Linear(in_features=256, out_features=256, bias=True)\n",
       "          (fc_o): Linear(in_features=256, out_features=256, bias=True)\n",
       "          (dropout): Dropout(p=0.1, inplace=False)\n",
       "        )\n",
       "        (positionwise_ff): PositionFeedForward(\n",
       "          (fc1): Linear(in_features=256, out_features=512, bias=True)\n",
       "          (fc2): Linear(in_features=512, out_features=256, bias=True)\n",
       "          (dropout): Dropout(p=0.1, inplace=False)\n",
       "        )\n",
       "        (dropout): Dropout(p=0.1, inplace=False)\n",
       "      )\n",
       "      (1): DecoderLayer(\n",
       "        (self_at_layer_norm): LayerNorm((256,), eps=1e-05, elementwise_affine=True)\n",
       "        (ff_layer_norm): LayerNorm((256,), eps=1e-05, elementwise_affine=True)\n",
       "        (enco_at_layer_norm): LayerNorm((256,), eps=1e-05, elementwise_affine=True)\n",
       "        (self_attention): MultiheadAttentionLayer(\n",
       "          (fc_q): Linear(in_features=256, out_features=256, bias=True)\n",
       "          (fc_k): Linear(in_features=256, out_features=256, bias=True)\n",
       "          (fc_v): Linear(in_features=256, out_features=256, bias=True)\n",
       "          (fc_o): Linear(in_features=256, out_features=256, bias=True)\n",
       "          (dropout): Dropout(p=0.1, inplace=False)\n",
       "        )\n",
       "        (enco_attention): MultiheadAttentionLayer(\n",
       "          (fc_q): Linear(in_features=256, out_features=256, bias=True)\n",
       "          (fc_k): Linear(in_features=256, out_features=256, bias=True)\n",
       "          (fc_v): Linear(in_features=256, out_features=256, bias=True)\n",
       "          (fc_o): Linear(in_features=256, out_features=256, bias=True)\n",
       "          (dropout): Dropout(p=0.1, inplace=False)\n",
       "        )\n",
       "        (positionwise_ff): PositionFeedForward(\n",
       "          (fc1): Linear(in_features=256, out_features=512, bias=True)\n",
       "          (fc2): Linear(in_features=512, out_features=256, bias=True)\n",
       "          (dropout): Dropout(p=0.1, inplace=False)\n",
       "        )\n",
       "        (dropout): Dropout(p=0.1, inplace=False)\n",
       "      )\n",
       "      (2): DecoderLayer(\n",
       "        (self_at_layer_norm): LayerNorm((256,), eps=1e-05, elementwise_affine=True)\n",
       "        (ff_layer_norm): LayerNorm((256,), eps=1e-05, elementwise_affine=True)\n",
       "        (enco_at_layer_norm): LayerNorm((256,), eps=1e-05, elementwise_affine=True)\n",
       "        (self_attention): MultiheadAttentionLayer(\n",
       "          (fc_q): Linear(in_features=256, out_features=256, bias=True)\n",
       "          (fc_k): Linear(in_features=256, out_features=256, bias=True)\n",
       "          (fc_v): Linear(in_features=256, out_features=256, bias=True)\n",
       "          (fc_o): Linear(in_features=256, out_features=256, bias=True)\n",
       "          (dropout): Dropout(p=0.1, inplace=False)\n",
       "        )\n",
       "        (enco_attention): MultiheadAttentionLayer(\n",
       "          (fc_q): Linear(in_features=256, out_features=256, bias=True)\n",
       "          (fc_k): Linear(in_features=256, out_features=256, bias=True)\n",
       "          (fc_v): Linear(in_features=256, out_features=256, bias=True)\n",
       "          (fc_o): Linear(in_features=256, out_features=256, bias=True)\n",
       "          (dropout): Dropout(p=0.1, inplace=False)\n",
       "        )\n",
       "        (positionwise_ff): PositionFeedForward(\n",
       "          (fc1): Linear(in_features=256, out_features=512, bias=True)\n",
       "          (fc2): Linear(in_features=512, out_features=256, bias=True)\n",
       "          (dropout): Dropout(p=0.1, inplace=False)\n",
       "        )\n",
       "        (dropout): Dropout(p=0.1, inplace=False)\n",
       "      )\n",
       "    )\n",
       "    (fc1): Linear(in_features=256, out_features=4556, bias=True)\n",
       "    (dropout): Dropout(p=0.1, inplace=False)\n",
       "  )\n",
       ")"
      ]
     },
     "execution_count": 18,
     "metadata": {
      "tags": []
     },
     "output_type": "execute_result"
    }
   ],
   "source": [
    "model"
   ]
  },
  {
   "cell_type": "markdown",
   "metadata": {
    "colab_type": "text",
    "id": "ohKzga9gwXg-"
   },
   "source": [
    "And then train. Note that since we don't do token-by-token decoding, we don't need the end of sequence token while training, so we cut it off for the targets. When calculating the loss, we cut off the start of sequence token as we expect the model to produce its own eos token."
   ]
  },
  {
   "cell_type": "code",
   "execution_count": null,
   "metadata": {
    "colab": {
     "base_uri": "https://localhost:8080/",
     "height": 697
    },
    "colab_type": "code",
    "id": "UIQlKcM24dpo",
    "outputId": "0734cf48-316d-4176-a88f-da77202bb819"
   },
   "outputs": [
    {
     "name": "stderr",
     "output_type": "stream",
     "text": [
      "100%|██████████| 227/227 [00:19<00:00, 11.90it/s]\n",
      "100%|██████████| 8/8 [00:00<00:00, 71.78it/s]\n",
      "  1%|          | 2/227 [00:00<00:18, 12.19it/s]"
     ]
    },
    {
     "name": "stdout",
     "output_type": "stream",
     "text": [
      "\n",
      "Epoch   1 | Train Loss 4.0129 | Train Ppl 55.3056 | Valid Loss 3.0601 | Valid Ppl 21.3295\n"
     ]
    },
    {
     "name": "stderr",
     "output_type": "stream",
     "text": [
      "100%|██████████| 227/227 [00:18<00:00, 12.10it/s]\n",
      "100%|██████████| 8/8 [00:00<00:00, 72.37it/s]\n",
      "  1%|          | 2/227 [00:00<00:18, 12.14it/s]"
     ]
    },
    {
     "name": "stdout",
     "output_type": "stream",
     "text": [
      "\n",
      "Epoch   2 | Train Loss 2.9693 | Train Ppl 19.4773 | Valid Loss 2.4971 | Valid Ppl 12.1471\n"
     ]
    },
    {
     "name": "stderr",
     "output_type": "stream",
     "text": [
      "100%|██████████| 227/227 [00:18<00:00, 12.13it/s]\n",
      "100%|██████████| 8/8 [00:00<00:00, 72.96it/s]\n",
      "  1%|          | 2/227 [00:00<00:18, 12.23it/s]"
     ]
    },
    {
     "name": "stdout",
     "output_type": "stream",
     "text": [
      "\n",
      "Epoch   3 | Train Loss 2.5747 | Train Ppl 13.1278 | Valid Loss 2.3101 | Valid Ppl 10.0754\n"
     ]
    },
    {
     "name": "stderr",
     "output_type": "stream",
     "text": [
      "100%|██████████| 227/227 [00:18<00:00, 12.10it/s]\n",
      "100%|██████████| 8/8 [00:00<00:00, 72.14it/s]\n",
      "  1%|          | 2/227 [00:00<00:18, 12.23it/s]"
     ]
    },
    {
     "name": "stdout",
     "output_type": "stream",
     "text": [
      "\n",
      "Epoch   4 | Train Loss 2.3152 | Train Ppl 10.1269 | Valid Loss 1.8826 | Valid Ppl 6.5706\n"
     ]
    },
    {
     "name": "stderr",
     "output_type": "stream",
     "text": [
      "100%|██████████| 227/227 [00:18<00:00, 12.12it/s]\n",
      "100%|██████████| 8/8 [00:00<00:00, 72.46it/s]\n",
      "  1%|          | 2/227 [00:00<00:18, 12.09it/s]"
     ]
    },
    {
     "name": "stdout",
     "output_type": "stream",
     "text": [
      "\n",
      "Epoch   5 | Train Loss 2.1296 | Train Ppl 8.4116 | Valid Loss 1.8973 | Valid Ppl 6.6677\n"
     ]
    },
    {
     "name": "stderr",
     "output_type": "stream",
     "text": [
      "100%|██████████| 227/227 [00:18<00:00, 12.15it/s]\n",
      "100%|██████████| 8/8 [00:00<00:00, 71.38it/s]\n",
      "  1%|          | 2/227 [00:00<00:18, 12.11it/s]"
     ]
    },
    {
     "name": "stdout",
     "output_type": "stream",
     "text": [
      "\n",
      "Epoch   6 | Train Loss 1.9914 | Train Ppl 7.3261 | Valid Loss 1.6551 | Valid Ppl 5.2337\n"
     ]
    },
    {
     "name": "stderr",
     "output_type": "stream",
     "text": [
      "100%|██████████| 227/227 [00:18<00:00, 12.16it/s]\n",
      "100%|██████████| 8/8 [00:00<00:00, 70.92it/s]\n",
      "  1%|          | 2/227 [00:00<00:18, 12.01it/s]"
     ]
    },
    {
     "name": "stdout",
     "output_type": "stream",
     "text": [
      "\n",
      "Epoch   7 | Train Loss 1.8886 | Train Ppl 6.6104 | Valid Loss 1.5772 | Valid Ppl 4.8413\n"
     ]
    },
    {
     "name": "stderr",
     "output_type": "stream",
     "text": [
      "100%|██████████| 227/227 [00:18<00:00, 12.15it/s]\n",
      "100%|██████████| 8/8 [00:00<00:00, 72.47it/s]\n",
      "  1%|          | 2/227 [00:00<00:18, 12.28it/s]"
     ]
    },
    {
     "name": "stdout",
     "output_type": "stream",
     "text": [
      "\n",
      "Epoch   8 | Train Loss 1.8209 | Train Ppl 6.1777 | Valid Loss 1.4948 | Valid Ppl 4.4583\n"
     ]
    },
    {
     "name": "stderr",
     "output_type": "stream",
     "text": [
      "100%|██████████| 227/227 [00:18<00:00, 12.16it/s]\n",
      "100%|██████████| 8/8 [00:00<00:00, 71.57it/s]\n",
      "  1%|          | 2/227 [00:00<00:18, 12.13it/s]"
     ]
    },
    {
     "name": "stdout",
     "output_type": "stream",
     "text": [
      "\n",
      "Epoch   9 | Train Loss 1.7798 | Train Ppl 5.9287 | Valid Loss 1.7271 | Valid Ppl 5.6243\n"
     ]
    },
    {
     "name": "stderr",
     "output_type": "stream",
     "text": [
      "100%|██████████| 227/227 [00:18<00:00, 12.15it/s]\n",
      "100%|██████████| 8/8 [00:00<00:00, 73.55it/s]"
     ]
    },
    {
     "name": "stdout",
     "output_type": "stream",
     "text": [
      "\n",
      "Epoch  10 | Train Loss 1.7642 | Train Ppl 5.8367 | Valid Loss 1.6386 | Valid Ppl 5.1481\n"
     ]
    },
    {
     "name": "stderr",
     "output_type": "stream",
     "text": [
      "\n"
     ]
    }
   ],
   "source": [
    "clip = 1.0\n",
    "\n",
    "for e in range(1, epochs + 1):\n",
    "    train_loss = 0\n",
    "    model.train()\n",
    "    for x, y in tqdm(train_loader):\n",
    "        x, y = x.to(device), y.to(device)\n",
    "\n",
    "        out, _ = model(x, y[:, :-1])\n",
    "        loss = criterion(out.contiguous().flatten(0, 1), \n",
    "                         y[:, 1:].contiguous().flatten(0))\n",
    "        \n",
    "        optimizer.zero_grad()\n",
    "        loss.backward()\n",
    "        nn.utils.clip_grad_norm_(model.parameters(), clip)\n",
    "        optimizer.step()\n",
    "        scheduler.step()\n",
    "\n",
    "        train_loss += loss.item()\n",
    "    train_loss /= len(train_loader)\n",
    "\n",
    "    valid_loss = 0\n",
    "    model.eval()\n",
    "    for batch in tqdm(valid_loader):\n",
    "        with torch.no_grad():\n",
    "            x, y = x.to(device), y.to(device)\n",
    "\n",
    "            out, _ = model(x, y[:, :-1])\n",
    "            loss = criterion(out.contiguous().flatten(0, 1), \n",
    "                             y[:, 1:].contiguous().flatten(0))\n",
    "\n",
    "            valid_loss += loss.item()\n",
    "    valid_loss /= len(valid_loader)\n",
    "\n",
    "    print(\"\\nEpoch {:3} | Train Loss {:.4f} | Train Ppl {:.4f} | Valid Loss {:.4f} | Valid Ppl {:.4f}\".format(e, train_loss, np.exp(train_loss), valid_loss, np.exp(valid_loss)))"
   ]
  },
  {
   "cell_type": "markdown",
   "metadata": {
    "colab_type": "text",
    "id": "n2PeaT8UwwTX"
   },
   "source": [
    "Save your model after training."
   ]
  },
  {
   "cell_type": "code",
   "execution_count": null,
   "metadata": {
    "colab": {},
    "colab_type": "code",
    "id": "akE6fZ0i5VAa"
   },
   "outputs": [],
   "source": [
    "torch.save(model.state_dict(), 'seq2seq_transformer.pt')"
   ]
  },
  {
   "cell_type": "markdown",
   "metadata": {
    "colab_type": "text",
    "id": "19iR68cPwyC_"
   },
   "source": [
    "# Prediction"
   ]
  },
  {
   "cell_type": "markdown",
   "metadata": {
    "colab_type": "text",
    "id": "jEBI-d2Zwzrm"
   },
   "source": [
    "Load the saved weights."
   ]
  },
  {
   "cell_type": "code",
   "execution_count": null,
   "metadata": {
    "colab": {},
    "colab_type": "code",
    "id": "PFo45f6oTVgc"
   },
   "outputs": [],
   "source": [
    "encoder = Encoder(vocab_sz=len(vocab_set_de), hidden_dim=256, n_layers=3, n_heads=8, pf_dim=512, dropout=0.1)\n",
    "decoder = Decoder(vocab_sz=len(vocab_set_en), hidden_dim=256, n_layers=3, n_heads=8, pf_dim=512, dropout=0.1)\n",
    "model = Seq2Seq(encoder, decoder, word2idx_de['<pad>'], word2idx_en['<pad>']).to(device)\n",
    "criterion = nn.CrossEntropyLoss(ignore_index=word2idx_en['<pad>'])\n",
    "\n",
    "model.load_state_dict(torch.load('seq2seq_transformer.pt'))\n",
    "model.eval();"
   ]
  },
  {
   "cell_type": "markdown",
   "metadata": {
    "colab_type": "text",
    "id": "xYPnDyo9w2xe"
   },
   "source": [
    "Test on the validation set."
   ]
  },
  {
   "cell_type": "code",
   "execution_count": null,
   "metadata": {
    "colab": {
     "base_uri": "https://localhost:8080/",
     "height": 68
    },
    "colab_type": "code",
    "id": "CcdCsXqITjVM",
    "outputId": "b6240357-01fb-4f07-a1be-51f7da3be029"
   },
   "outputs": [
    {
     "name": "stderr",
     "output_type": "stream",
     "text": [
      "100%|██████████| 8/8 [00:00<00:00, 72.69it/s]"
     ]
    },
    {
     "name": "stdout",
     "output_type": "stream",
     "text": [
      "\n",
      "Valid Loss 1.6386 | Valid Ppl 5.1481\n"
     ]
    },
    {
     "name": "stderr",
     "output_type": "stream",
     "text": [
      "\n"
     ]
    }
   ],
   "source": [
    "valid_loss = 0\n",
    "model.eval()\n",
    "for batch in tqdm(valid_loader):\n",
    "    with torch.no_grad():\n",
    "        x, y = x.to(device), y.to(device)\n",
    "\n",
    "        out, _ = model(x, y[:, :-1])\n",
    "        loss = criterion(out.contiguous().flatten(0, 1), \n",
    "                         y[:, 1:].contiguous().flatten(0))\n",
    "\n",
    "        valid_loss += loss.item()\n",
    "valid_loss /= len(valid_loader)\n",
    "\n",
    "print(\"\\nValid Loss {:.4f} | Valid Ppl {:.4f}\".format(valid_loss, np.exp(valid_loss)))"
   ]
  },
  {
   "cell_type": "markdown",
   "metadata": {
    "colab_type": "text",
    "id": "HVQEuHUuw4QP"
   },
   "source": [
    "Move the model to the CPU."
   ]
  },
  {
   "cell_type": "code",
   "execution_count": null,
   "metadata": {
    "colab": {},
    "colab_type": "code",
    "id": "MwJTMTuwTqsV"
   },
   "outputs": [],
   "source": [
    "model = model.cpu()"
   ]
  },
  {
   "cell_type": "markdown",
   "metadata": {
    "colab_type": "text",
    "id": "lF_ul5Ctw54T"
   },
   "source": [
    "We'll write a difference translate function this time.\n",
    "\n",
    "Every decoding step, we will pass in a list of tokens that starts off as just the start of sequence marker. At the end of the decoding step, we get the most likely token and add this to the list."
   ]
  },
  {
   "cell_type": "code",
   "execution_count": null,
   "metadata": {
    "colab": {},
    "colab_type": "code",
    "id": "jzNBal6YTuEs"
   },
   "outputs": [],
   "source": [
    "def translate(src_sentence, model, max_words=20, seed=42):\n",
    "    s = [token if token in vocab_set_de else '<unk>' for token in src_sentence]\n",
    "    sample = torch.LongTensor([word2idx_de[token] for token in s]).unsqueeze(0)\n",
    "\n",
    "    torch.manual_seed(seed)\n",
    "\n",
    "    with torch.no_grad():\n",
    "        src_mask = model.make_src_mask(sample)\n",
    "        enc_src = model.encoder(sample, src_mask)\n",
    "\n",
    "        tokens = [word2idx_en['<sos>']]\n",
    "\n",
    "        for _ in range(max_words):\n",
    "            trg_tensor = torch.LongTensor(tokens).unsqueeze(0)\n",
    "            trg_mask = model.make_trg_mask(trg_tensor)\n",
    "            out, attention = model.decoder(trg_tensor, enc_src, src_mask, trg_mask)\n",
    "\n",
    "            pred_ix = out.argmax(2)[:, -1].item()\n",
    "            tokens.append(pred_ix)    \n",
    "\n",
    "            if pred_ix == word2idx_en['<eos>']: break\n",
    "\n",
    "    # Convert predictions from indices to text. Cut the attentions to translation length\n",
    "    predictions = [idx2word_en[ix] for ix in tokens]\n",
    "    attention = attention.squeeze(0).numpy()\n",
    "\n",
    "    return predictions, attention"
   ]
  },
  {
   "cell_type": "markdown",
   "metadata": {
    "colab_type": "text",
    "id": "IVopFvYLxIVg"
   },
   "source": [
    "We also modify our attention display function to show multiple attention heatmaps."
   ]
  },
  {
   "cell_type": "code",
   "execution_count": null,
   "metadata": {
    "colab": {},
    "colab_type": "code",
    "id": "6yemJmIGb2I2"
   },
   "outputs": [],
   "source": [
    "def display_attention(src_sentence, predictions, attention, n_heads=8, n_rows=4, n_cols=2):\n",
    "    assert n_rows * n_cols == n_heads\n",
    "    fig = plt.figure(figsize=(15,25))\n",
    "    \n",
    "    for i in range(n_heads):\n",
    "        ax = fig.add_subplot(n_rows, n_cols, i+1)\n",
    "        cax = ax.matshow(attention[i], cmap='bone')\n",
    "\n",
    "        ax.tick_params(labelsize=12)\n",
    "        ax.set_xticklabels([''] + [t.lower() for t in src_sentence], rotation=45)\n",
    "        ax.set_yticklabels(['']+ predictions)\n",
    "\n",
    "        ax.xaxis.set_major_locator(ticker.MultipleLocator(1))\n",
    "        ax.yaxis.set_major_locator(ticker.MultipleLocator(1))\n",
    "\n",
    "    plt.show()\n",
    "    plt.close()"
   ]
  },
  {
   "cell_type": "markdown",
   "metadata": {
    "colab_type": "text",
    "id": "SBT6KmXmxLl-"
   },
   "source": [
    "And test."
   ]
  },
  {
   "cell_type": "code",
   "execution_count": null,
   "metadata": {
    "colab": {
     "base_uri": "https://localhost:8080/",
     "height": 1000
    },
    "colab_type": "code",
    "id": "zy4gcRZtTzI1",
    "outputId": "24a299fa-5b35-4bf9-b691-00b731d2c17d"
   },
   "outputs": [
    {
     "name": "stdout",
     "output_type": "stream",
     "text": [
      "Source: <sos> ein mann schläft in einem grünen raum auf einem sofa . <eos>\n",
      "Target: <sos> a man sleeping in a green room on a couch . <eos>\n",
      "Prediction: <sos> a man sleeping on a green couch in a room . <eos>\n"
     ]
    },
    {
     "data": {
      "image/png": "[encoded data removed]",
      "text/plain": [
       "<Figure size 1080x1800 with 8 Axes>"
      ]
     },
     "metadata": {
      "needs_background": "light",
      "tags": []
     },
     "output_type": "display_data"
    }
   ],
   "source": [
    "ix = 1\n",
    "src_sentence, trg_sentence = valid_de[ix], valid_en[ix]\n",
    "src_sentence = src_sentence[:src_sentence.index('<eos>') + 1]\n",
    "trg_sentence = trg_sentence[:trg_sentence.index('<eos>') + 1]\n",
    "\n",
    "print('Source:', ' '.join(src_sentence))\n",
    "print('Target:', ' '.join(trg_sentence))\n",
    "\n",
    "predictions, attention = translate(src_sentence, model)\n",
    "print('Prediction:', ' '.join(predictions))\n",
    "\n",
    "display_attention(src_sentence, predictions, attention)"
   ]
  },
  {
   "cell_type": "code",
   "execution_count": null,
   "metadata": {
    "colab": {
     "base_uri": "https://localhost:8080/",
     "height": 1000
    },
    "colab_type": "code",
    "id": "XuSUxiYCbyjy",
    "outputId": "526a61d5-d5ca-4510-c34f-cf210a14f17d"
   },
   "outputs": [
    {
     "name": "stdout",
     "output_type": "stream",
     "text": [
      "Source: <sos> drei frauen sitzen da und lächeln . <eos>\n",
      "Target: <sos> three women smiling and sitting down . <eos>\n",
      "Prediction: <sos> three women sitting and smiling . <eos>\n"
     ]
    },
    {
     "data": {
      "image/png": "[encoded data removed]",
      "text/plain": [
       "<Figure size 1080x1800 with 8 Axes>"
      ]
     },
     "metadata": {
      "needs_background": "light",
      "tags": []
     },
     "output_type": "display_data"
    }
   ],
   "source": [
    "ix = 60\n",
    "src_sentence, trg_sentence = valid_de[ix], valid_en[ix]\n",
    "src_sentence = src_sentence[:src_sentence.index('<eos>') + 1]\n",
    "trg_sentence = trg_sentence[:trg_sentence.index('<eos>') + 1]\n",
    "\n",
    "print('Source:', ' '.join(src_sentence))\n",
    "print('Target:', ' '.join(trg_sentence))\n",
    "\n",
    "predictions, attention = translate(src_sentence, model)\n",
    "print('Prediction:', ' '.join(predictions))\n",
    "\n",
    "display_attention(src_sentence, predictions, attention)"
   ]
  },
  {
   "cell_type": "code",
   "execution_count": null,
   "metadata": {
    "colab": {
     "base_uri": "https://localhost:8080/",
     "height": 34
    },
    "colab_type": "code",
    "id": "3noulqLmd5nv",
    "outputId": "4a84a8b8-1e03-4e4b-c1cd-0db0dc521c9f"
   },
   "outputs": [
    {
     "name": "stderr",
     "output_type": "stream",
     "text": [
      "100%|██████████| 1014/1014 [01:07<00:00, 15.02it/s]\n"
     ]
    }
   ],
   "source": [
    "translations = []\n",
    "targets = []\n",
    "\n",
    "for ix in tqdm(range(len(valid_en))):\n",
    "    src_sentence, trg_sentence = valid_de[ix], valid_en[ix]\n",
    "    src_sentence = src_sentence[:src_sentence.index('<eos>') + 1]\n",
    "    trg_sentence = trg_sentence[:trg_sentence.index('<eos>') + 1]\n",
    "\n",
    "    predictions, _ = translate(src_sentence, model, max_words=50)\n",
    "\n",
    "    translations.append(predictions[1:-1])\n",
    "    targets.append(trg_sentence[1:-1])"
   ]
  },
  {
   "cell_type": "code",
   "execution_count": null,
   "metadata": {
    "colab": {
     "base_uri": "https://localhost:8080/",
     "height": 34
    },
    "colab_type": "code",
    "id": "74Hx2qEcek48",
    "outputId": "83b03fd8-e938-4a7e-da05-b60807c811cf"
   },
   "outputs": [
    {
     "name": "stdout",
     "output_type": "stream",
     "text": [
      "BLEU: 31.92\n"
     ]
    }
   ],
   "source": [
    "smoothie = SmoothingFunction().method7\n",
    "bleu = corpus_bleu(targets, translations, smoothing_function=smoothie)\n",
    "print(\"BLEU: {:.2f}\".format(bleu * 100))"
   ]
  },
  {
   "cell_type": "code",
   "execution_count": null,
   "metadata": {
    "colab": {},
    "colab_type": "code",
    "id": "ZsUmpGAN3QQd"
   },
   "outputs": [],
   "source": []
  }
 ],
 "metadata": {
  "accelerator": "GPU",
  "colab": {
   "collapsed_sections": [],
   "name": "9 - Attention is All You Need",
   "provenance": []
  },
  "kernelspec": {
   "display_name": "Python 3",
   "language": "python",
   "name": "python3"
  },
  "language_info": {
   "codemirror_mode": {
    "name": "ipython",
    "version": 3
   },
   "file_extension": ".py",
   "mimetype": "text/x-python",
   "name": "python",
   "nbconvert_exporter": "python",
   "pygments_lexer": "ipython3",
   "version": "3.8.5"
  }
 },
 "nbformat": 4,
 "nbformat_minor": 4
}
