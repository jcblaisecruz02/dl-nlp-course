{
 "cells": [
  {
   "cell_type": "markdown",
   "metadata": {
    "colab_type": "text",
    "id": "TL_7uK2x8zP7"
   },
   "source": [
    "# 07 - Optimizers, Activation Functions, Regularization, and Learning Rate Schedulers\n",
    "Prepared by Jan Christian Blaise Cruz\n",
    "\n",
    "DLSU Machine Learning Group"
   ]
  },
  {
   "cell_type": "markdown",
   "metadata": {},
   "source": [
    "# Preliminaries"
   ]
  },
  {
   "cell_type": "markdown",
   "metadata": {
    "colab_type": "text",
    "id": "diAqj7he89id"
   },
   "source": [
    "This time, we'll accelerate computation using a GPU. \n",
    "\n",
    "Make sure you're using a GPU instance by going to Runtime > Change Runtime Type, and make sure that GPU is chosen in the dropdown box.\n",
    "\n",
    "You can see the type of GPU that you have at the moment by using the command below:"
   ]
  },
  {
   "cell_type": "code",
   "execution_count": null,
   "metadata": {
    "colab": {
     "base_uri": "https://localhost:8080/",
     "height": 357
    },
    "colab_type": "code",
    "id": "hnxAiTe8aq4j",
    "outputId": "071135d1-306b-4fe8-bcec-ed3965e565c6"
   },
   "outputs": [
    {
     "name": "stdout",
     "output_type": "stream",
     "text": [
      "Fri Aug 21 02:22:29 2020       \n",
      "+-----------------------------------------------------------------------------+\n",
      "| NVIDIA-SMI 450.57       Driver Version: 418.67       CUDA Version: 10.1     |\n",
      "|-------------------------------+----------------------+----------------------+\n",
      "| GPU  Name        Persistence-M| Bus-Id        Disp.A | Volatile Uncorr. ECC |\n",
      "| Fan  Temp  Perf  Pwr:Usage/Cap|         Memory-Usage | GPU-Util  Compute M. |\n",
      "|                               |                      |               MIG M. |\n",
      "|===============================+======================+======================|\n",
      "|   0  Tesla T4            Off  | 00000000:00:04.0 Off |                    0 |\n",
      "| N/A   59C    P8    11W /  70W |      0MiB / 15079MiB |      0%      Default |\n",
      "|                               |                      |                 ERR! |\n",
      "+-------------------------------+----------------------+----------------------+\n",
      "                                                                               \n",
      "+-----------------------------------------------------------------------------+\n",
      "| Processes:                                                                  |\n",
      "|  GPU   GI   CI        PID   Type   Process name                  GPU Memory |\n",
      "|        ID   ID                                                   Usage      |\n",
      "|=============================================================================|\n",
      "|  No running processes found                                                 |\n",
      "+-----------------------------------------------------------------------------+\n"
     ]
    }
   ],
   "source": [
    "!nvidia-smi"
   ]
  },
  {
   "cell_type": "markdown",
   "metadata": {
    "colab_type": "text",
    "id": "GHmfSoaK9LpX"
   },
   "source": [
    "Alright, let's dive right in. Let's import our (starting today) standard imports. PyTorch is our main tool of choice, so we'll bring in all the standard submodules. We'll also bring in some helpers for our dataset.\n",
    "\n",
    "Lastly, we'll seed the random number generator, then tell PyTorch what device we'll be using (in this case, a reference to our GPU)."
   ]
  },
  {
   "cell_type": "code",
   "execution_count": null,
   "metadata": {
    "colab": {},
    "colab_type": "code",
    "id": "Ot8EGojtcEDW"
   },
   "outputs": [],
   "source": [
    "import torch\n",
    "import torch.nn as nn\n",
    "import torch.optim as optim\n",
    "import torch.utils.data as data_utils\n",
    "\n",
    "from tqdm import tqdm\n",
    "import numpy as np\n",
    "\n",
    "from sklearn.model_selection import train_test_split\n",
    "from sklearn.datasets import fetch_openml\n",
    "\n",
    "np.random.seed(42)\n",
    "torch.manual_seed(42)\n",
    "device = torch.device('cuda' if torch.cuda.is_available() else 'cpu')"
   ]
  },
  {
   "cell_type": "markdown",
   "metadata": {
    "colab_type": "text",
    "id": "4wMcCWb88G2j"
   },
   "source": [
    "# Data and Models"
   ]
  },
  {
   "cell_type": "markdown",
   "metadata": {
    "colab_type": "text",
    "id": "4Nl8arG79g4M"
   },
   "source": [
    "We will once again use the MNIST dataset for our examples. Let's load the dataset, then convert them to PyTorch tensors. Lastly, we'll create dataloaders out of our data using batch size 32."
   ]
  },
  {
   "cell_type": "code",
   "execution_count": null,
   "metadata": {
    "colab": {},
    "colab_type": "code",
    "id": "_BcxfT8JdST5"
   },
   "outputs": [],
   "source": [
    "mnist = fetch_openml('mnist_784')\n",
    "X_train, X_test, y_train, y_test = train_test_split(mnist.data.astype(np.float32), \n",
    "                                                    mnist.target.astype(np.int), \n",
    "                                                    random_state=42)\n",
    "\n",
    "# Convert to PyTorch Tensors\n",
    "X_train = torch.from_numpy(X_train)\n",
    "X_test  = torch.from_numpy(X_test)\n",
    "y_train = torch.from_numpy(y_train)\n",
    "y_test  = torch.from_numpy(y_test)\n",
    "\n",
    "# Produce Dataloaders\n",
    "bs = 32\n",
    "\n",
    "train_data = data_utils.TensorDataset(X_train, y_train)\n",
    "test_data  = data_utils.TensorDataset(X_test,  y_test)\n",
    "train_loader = data_utils.DataLoader(train_data, batch_size=bs)\n",
    "test_loader  = data_utils.DataLoader(test_data,  batch_size=bs)"
   ]
  },
  {
   "cell_type": "markdown",
   "metadata": {
    "colab_type": "text",
    "id": "IviIK8Ou9pMR"
   },
   "source": [
    "Let's check for shapes."
   ]
  },
  {
   "cell_type": "code",
   "execution_count": null,
   "metadata": {
    "colab": {
     "base_uri": "https://localhost:8080/",
     "height": 51
    },
    "colab_type": "code",
    "id": "n7X_1_1ng8xu",
    "outputId": "f54d7d1f-b14f-4776-b97a-c5b1a911541e"
   },
   "outputs": [
    {
     "name": "stdout",
     "output_type": "stream",
     "text": [
      "torch.Size([32, 784]) torch.Size([32])\n",
      "1641\n"
     ]
    }
   ],
   "source": [
    "x, y = next(iter(train_loader))\n",
    "print(x.shape, y.shape)\n",
    "print(len(train_loader))"
   ]
  },
  {
   "cell_type": "markdown",
   "metadata": {
    "colab_type": "text",
    "id": "mshYhx1R9q2U"
   },
   "source": [
    "Let's code up a simple one-hidden layer neural network model so we can test things out."
   ]
  },
  {
   "cell_type": "code",
   "execution_count": null,
   "metadata": {
    "colab": {},
    "colab_type": "code",
    "id": "kmE0kYxohGtO"
   },
   "outputs": [],
   "source": [
    "class MLPClassifier(nn.Module):\n",
    "    def __init__(self, input_dim, hidden_dim, output_dim):\n",
    "        super(MLPClassifier, self).__init__()\n",
    "        self.fc1 = nn.Linear(input_dim, hidden_dim)\n",
    "        self.fc2 = nn.Linear(hidden_dim, output_dim)\n",
    "\n",
    "    def forward(self, x):\n",
    "        out = self.fc1(x)\n",
    "        out = torch.sigmoid(out)\n",
    "        out = self.fc2(out)\n",
    "        return out"
   ]
  },
  {
   "cell_type": "markdown",
   "metadata": {
    "colab_type": "text",
    "id": "PwbsACGw9u7P"
   },
   "source": [
    "Then code a helper function for checking accuracy."
   ]
  },
  {
   "cell_type": "code",
   "execution_count": null,
   "metadata": {
    "colab": {},
    "colab_type": "code",
    "id": "5ufMLDhIhluv"
   },
   "outputs": [],
   "source": [
    "def accuracy(y_pred, y):\n",
    "    return torch.sum(torch.max(y_pred, 1)[1] == y).item() / len(y)"
   ]
  },
  {
   "cell_type": "markdown",
   "metadata": {
    "colab_type": "text",
    "id": "I8MZo2dUhCm6"
   },
   "source": [
    "# Stochastic Gradient Descent"
   ]
  },
  {
   "cell_type": "markdown",
   "metadata": {
    "colab_type": "text",
    "id": "I-fZHIcc9454"
   },
   "source": [
    "Let's start by taking a look at vanilla gradient descent. For the rest of this section of the notebook, we'll look at different optimization methods (based on gradient descent) and see how to implement them in PyTorch.\n",
    "\n",
    "Vanilla gradient descent is the backbone of our work, so we'll start with that. Remember the update rule:\n",
    "\n",
    "$$\\theta_{t + 1} = \\theta_t - \\alpha \\nabla_\\theta J(\\theta)$$\n",
    "\n",
    "Let's instantiate a model and pass it to our GPU. We'll also use cross entropy as our loss function."
   ]
  },
  {
   "cell_type": "code",
   "execution_count": null,
   "metadata": {
    "colab": {},
    "colab_type": "code",
    "id": "grrinW_7g_Y0"
   },
   "outputs": [],
   "source": [
    "model = MLPClassifier(input_dim=784, hidden_dim=128, output_dim=10).to(device)\n",
    "criterion = nn.CrossEntropyLoss()"
   ]
  },
  {
   "cell_type": "markdown",
   "metadata": {
    "colab_type": "text",
    "id": "BBmMD51U-Oqv"
   },
   "source": [
    "Let's train for 10 epochs using vanilla gradient descent."
   ]
  },
  {
   "cell_type": "code",
   "execution_count": null,
   "metadata": {
    "colab": {
     "base_uri": "https://localhost:8080/",
     "height": 187
    },
    "colab_type": "code",
    "id": "Xb-R4IOFh5H9",
    "outputId": "de0126a5-8661-433d-8aef-59a688ca449b"
   },
   "outputs": [
    {
     "name": "stdout",
     "output_type": "stream",
     "text": [
      "Epoch   1 | Train Loss 2.1359 | Test Loss 1.9407 | Train Acc 31.00% | Test Acc 51.05%\n",
      "Epoch   2 | Train Loss 1.8183 | Test Loss 1.7030 | Train Acc 59.20% | Test Acc 65.27%\n",
      "Epoch   3 | Train Loss 1.6171 | Test Loss 1.5309 | Train Acc 69.08% | Test Acc 72.33%\n",
      "Epoch   4 | Train Loss 1.4635 | Test Loss 1.3967 | Train Acc 74.27% | Test Acc 75.97%\n",
      "Epoch   5 | Train Loss 1.3418 | Test Loss 1.2891 | Train Acc 77.21% | Test Acc 77.97%\n",
      "Epoch   6 | Train Loss 1.2428 | Test Loss 1.1993 | Train Acc 79.19% | Test Acc 79.73%\n",
      "Epoch   7 | Train Loss 1.1586 | Test Loss 1.1217 | Train Acc 80.78% | Test Acc 80.90%\n",
      "Epoch   8 | Train Loss 1.0855 | Test Loss 1.0539 | Train Acc 82.04% | Test Acc 82.06%\n",
      "Epoch   9 | Train Loss 1.0205 | Test Loss 0.9943 | Train Acc 82.99% | Test Acc 83.17%\n",
      "Epoch  10 | Train Loss 0.9637 | Test Loss 0.9427 | Train Acc 83.89% | Test Acc 84.13%\n"
     ]
    }
   ],
   "source": [
    "epochs = 10\n",
    "learning_rate = 1e-4\n",
    "\n",
    "for e in range(1, epochs + 1):\n",
    "    train_loss, train_acc = 0, 0\n",
    "    for x, y in train_loader:\n",
    "        x, y = x.to(device), y.to(device)\n",
    "        out = model(x)\n",
    "        loss = criterion(out, y)\n",
    "\n",
    "        model.zero_grad()\n",
    "        loss.backward()\n",
    "\n",
    "        # Gradient Descent\n",
    "        with torch.no_grad():\n",
    "            for param in model.parameters():\n",
    "                param -= learning_rate * param.grad\n",
    "\n",
    "        train_loss += loss.item()\n",
    "        train_acc += accuracy(out, y)\n",
    "    train_loss /= len(train_loader)\n",
    "    train_acc /= len(train_loader)\n",
    "\n",
    "    test_loss, test_acc = 0, 0\n",
    "    for x, y in test_loader:\n",
    "        x, y = x.to(device), y.to(device)\n",
    "        out = model(x)\n",
    "        loss = criterion(out, y)\n",
    "\n",
    "        test_loss += loss.item()\n",
    "        test_acc += accuracy(out, y)\n",
    "    test_loss /= len(test_loader)\n",
    "    test_acc /= len(test_loader)\n",
    "\n",
    "    print(\"Epoch {:3d} | Train Loss {:.4f} | Test Loss {:.4f} | Train Acc {:.2f}% | Test Acc {:.2f}%\".format(e, train_loss, test_loss, train_acc * 100, test_acc * 100))"
   ]
  },
  {
   "cell_type": "markdown",
   "metadata": {
    "colab_type": "text",
    "id": "RBojoy_3-Rpe"
   },
   "source": [
    "A shorthand for that would be to use the torch.optim submodule, which contains an implementation of standard gradient descent."
   ]
  },
  {
   "cell_type": "code",
   "execution_count": null,
   "metadata": {
    "colab": {},
    "colab_type": "code",
    "id": "nK3SixbSy_Gj"
   },
   "outputs": [],
   "source": [
    "# optim.SGD()"
   ]
  },
  {
   "cell_type": "markdown",
   "metadata": {
    "colab_type": "text",
    "id": "Io3lZUZk-XXp"
   },
   "source": [
    "While gradient descent is effective, it does have it's problems:\n",
    "1. It's slow. It takes a lot of time and iterations to achieve a good solution.\n",
    "2. It's sensitive to changes in the hyperparameters. You need to do a lot of runs to tune the learning rate, for example.\n",
    "3. For neural networks (and other non-convex optimization) settings, it has trouble getting out of local minima and saddle points."
   ]
  },
  {
   "cell_type": "markdown",
   "metadata": {
    "colab_type": "text",
    "id": "xFV8za0PjVyF"
   },
   "source": [
    "# Momentum"
   ]
  },
  {
   "cell_type": "markdown",
   "metadata": {
    "colab_type": "text",
    "id": "hxZvBpP8-xW2"
   },
   "source": [
    "Let's solve the first problem with SGD.\n",
    "\n",
    "Instead of relying purely on the gradient signals on the update step, why not use previous information to aid direction? In this case, we can say that if SGD is ramping up **momentum** during it's traversal of the loss surface, then we can keep pushing it towards directions that it's confident in.\n",
    "\n",
    "We call this method **SGD with Momentum**. You can picture this optimizer like a ball rolling down a hill. As it moves further down, it speeds up, until it meets a bump that changes its direction with inertia. Mathematically, we represent the update step like this:\n",
    "\n",
    "$$\n",
    "v_t = \\gamma v_{t-1} + \\alpha \\nabla_\\theta J(\\theta) \\\\\n",
    "\\theta_{t + 1} = \\theta_t - v_t\n",
    "$$\n",
    "\n",
    "In this equation, $\\gamma$ represents our \"momentum\" parameter. The higher the momentum parameter, the more informtion the optimizer will use from the previous update step.\n",
    "\n",
    "Let's instantiate our neural network and loss function."
   ]
  },
  {
   "cell_type": "code",
   "execution_count": null,
   "metadata": {
    "colab": {},
    "colab_type": "code",
    "id": "J7bT4GVwisvG"
   },
   "outputs": [],
   "source": [
    "model = MLPClassifier(input_dim=784, hidden_dim=128, output_dim=10).to(device)\n",
    "criterion = nn.CrossEntropyLoss()"
   ]
  },
  {
   "cell_type": "markdown",
   "metadata": {
    "colab_type": "text",
    "id": "ijXxqBHs_iQM"
   },
   "source": [
    "To keep track of which theta parameter matrices belong to which, we'll rely on PyTorch's built in parameter names."
   ]
  },
  {
   "cell_type": "code",
   "execution_count": null,
   "metadata": {
    "colab": {
     "base_uri": "https://localhost:8080/",
     "height": 85
    },
    "colab_type": "code",
    "id": "rEHs-lvYj4vh",
    "outputId": "a765e661-ecef-4dde-b467-1c3336998898"
   },
   "outputs": [
    {
     "name": "stdout",
     "output_type": "stream",
     "text": [
      "fc1.weight\n",
      "fc1.bias\n",
      "fc2.weight\n",
      "fc2.bias\n"
     ]
    }
   ],
   "source": [
    "for n, p in model.named_parameters():\n",
    "    print(n)"
   ]
  },
  {
   "cell_type": "markdown",
   "metadata": {
    "colab_type": "text",
    "id": "tEw_TKK4_nIN"
   },
   "source": [
    "We'll keep a dictionary that contains information from the previous theta updates. We set our learning rate to 1e-4, and use a momentum value of 0.9."
   ]
  },
  {
   "cell_type": "code",
   "execution_count": null,
   "metadata": {
    "colab": {},
    "colab_type": "code",
    "id": "LSqH9hzCkzyt"
   },
   "outputs": [],
   "source": [
    "v_t = {n: torch.zeros(p.shape).to(device) for n, p in model.named_parameters()}\n",
    "learning_rate = 1e-4\n",
    "gamma = 0.9"
   ]
  },
  {
   "cell_type": "code",
   "execution_count": null,
   "metadata": {
    "colab": {
     "base_uri": "https://localhost:8080/",
     "height": 119
    },
    "colab_type": "code",
    "id": "YOPXdoNc5UBZ",
    "outputId": "0ed85246-8642-41e9-c798-5c1f0a26a5d4"
   },
   "outputs": [
    {
     "data": {
      "text/plain": [
       "tensor([0., 0., 0., 0., 0., 0., 0., 0., 0., 0., 0., 0., 0., 0., 0., 0., 0., 0., 0., 0., 0., 0., 0., 0.,\n",
       "        0., 0., 0., 0., 0., 0., 0., 0., 0., 0., 0., 0., 0., 0., 0., 0., 0., 0., 0., 0., 0., 0., 0., 0.,\n",
       "        0., 0., 0., 0., 0., 0., 0., 0., 0., 0., 0., 0., 0., 0., 0., 0., 0., 0., 0., 0., 0., 0., 0., 0.,\n",
       "        0., 0., 0., 0., 0., 0., 0., 0., 0., 0., 0., 0., 0., 0., 0., 0., 0., 0., 0., 0., 0., 0., 0., 0.,\n",
       "        0., 0., 0., 0., 0., 0., 0., 0., 0., 0., 0., 0., 0., 0., 0., 0., 0., 0., 0., 0., 0., 0., 0., 0.,\n",
       "        0., 0., 0., 0., 0., 0., 0., 0.], device='cuda:0')"
      ]
     },
     "execution_count": 13,
     "metadata": {
      "tags": []
     },
     "output_type": "execute_result"
    }
   ],
   "source": [
    "v_t['fc1.bias']"
   ]
  },
  {
   "cell_type": "markdown",
   "metadata": {
    "colab_type": "text",
    "id": "VxYgLPMa_vtj"
   },
   "source": [
    "And then we code up the optimizer."
   ]
  },
  {
   "cell_type": "code",
   "execution_count": null,
   "metadata": {
    "colab": {
     "base_uri": "https://localhost:8080/",
     "height": 187
    },
    "colab_type": "code",
    "id": "5Nj2Za6MjsdG",
    "outputId": "ddd21405-59a8-4450-dc83-9f7675ec498a"
   },
   "outputs": [
    {
     "name": "stdout",
     "output_type": "stream",
     "text": [
      "Epoch   1 | Train Loss 1.3846 | Test Loss 0.9348 | Train Acc 71.11% | Test Acc 83.88%\n",
      "Epoch   2 | Train Loss 0.7660 | Test Loss 0.6427 | Train Acc 86.25% | Test Acc 87.89%\n",
      "Epoch   3 | Train Loss 0.5664 | Test Loss 0.5147 | Train Acc 88.81% | Test Acc 89.48%\n",
      "Epoch   4 | Train Loss 0.4678 | Test Loss 0.4463 | Train Acc 89.97% | Test Acc 90.18%\n",
      "Epoch   5 | Train Loss 0.4090 | Test Loss 0.4008 | Train Acc 90.85% | Test Acc 90.64%\n",
      "Epoch   6 | Train Loss 0.3687 | Test Loss 0.3699 | Train Acc 91.42% | Test Acc 91.27%\n",
      "Epoch   7 | Train Loss 0.3390 | Test Loss 0.3469 | Train Acc 91.93% | Test Acc 91.50%\n",
      "Epoch   8 | Train Loss 0.3166 | Test Loss 0.3284 | Train Acc 92.33% | Test Acc 91.87%\n",
      "Epoch   9 | Train Loss 0.2982 | Test Loss 0.3137 | Train Acc 92.72% | Test Acc 92.11%\n",
      "Epoch  10 | Train Loss 0.2832 | Test Loss 0.3036 | Train Acc 93.05% | Test Acc 92.18%\n"
     ]
    }
   ],
   "source": [
    "epochs = 10\n",
    "\n",
    "for e in range(1, epochs + 1):\n",
    "    train_loss, train_acc = 0, 0\n",
    "    for x, y in train_loader:\n",
    "        x, y = x.to(device), y.to(device)\n",
    "        out = model(x)\n",
    "        loss = criterion(out, y)\n",
    "\n",
    "        model.zero_grad()\n",
    "        loss.backward()\n",
    "\n",
    "        # Gradient Descent\n",
    "        with torch.no_grad():\n",
    "            for name, param in model.named_parameters():\n",
    "                v_t[name] = (gamma * v_t[name]) + (learning_rate * param.grad)\n",
    "                param -= v_t[name]\n",
    "\n",
    "        train_loss += loss.item()\n",
    "        train_acc += accuracy(out, y)\n",
    "    train_loss /= len(train_loader)\n",
    "    train_acc /= len(train_loader)\n",
    "\n",
    "    test_loss, test_acc = 0, 0\n",
    "    for x, y in test_loader:\n",
    "        x, y = x.to(device), y.to(device)\n",
    "        out = model(x)\n",
    "        loss = criterion(out, y)\n",
    "\n",
    "        test_loss += loss.item()\n",
    "        test_acc += accuracy(out, y)\n",
    "    test_loss /= len(test_loader)\n",
    "    test_acc /= len(test_loader)\n",
    "\n",
    "    print(\"Epoch {:3d} | Train Loss {:.4f} | Test Loss {:.4f} | Train Acc {:.2f}% | Test Acc {:.2f}%\".format(e, train_loss, test_loss, train_acc * 100, test_acc * 100))"
   ]
  },
  {
   "cell_type": "markdown",
   "metadata": {
    "colab_type": "text",
    "id": "sOqKnw_D_ydJ"
   },
   "source": [
    "As we can see, our model learned faster from using Momentum than with just pure gradient descent. To use momentum in PyTorch optimizers, we use the following shorthand:"
   ]
  },
  {
   "cell_type": "code",
   "execution_count": null,
   "metadata": {
    "colab": {},
    "colab_type": "code",
    "id": "ONXt1wQTkgGv"
   },
   "outputs": [],
   "source": [
    "# optim.SGD(momentum=0.9)"
   ]
  },
  {
   "cell_type": "markdown",
   "metadata": {
    "colab_type": "text",
    "id": "5Jq5bhAq_4yE"
   },
   "source": [
    "Now, let's work on problem 2. SGD requires you to tune your hyperparameters, which can be costly. Learning rate is the most important hyperparameter. If it's too small, training can proceed very slowly. If it's too big, training can diverge or fail."
   ]
  },
  {
   "cell_type": "markdown",
   "metadata": {
    "colab_type": "text",
    "id": "8v7z5of-oPy1"
   },
   "source": [
    "# RMSProp"
   ]
  },
  {
   "cell_type": "markdown",
   "metadata": {
    "colab_type": "text",
    "id": "sTRdY9Q6AKBY"
   },
   "source": [
    "The RMSProp (Hinton, 2012) algorithm was proposed by Geoffrey Hinton on session 6 of his Coursera MOOC (it didn't come from a paper!)\n",
    "\n",
    "The idea of RMSProp is essentially scaling the learning rate based on the weighted moving average of our gradients. If our gradients are moving slowly (meaning, little changes are made), then we do smaller updates. If the gradients are moving faster (meaning, the parameters haven't \"found their place\" yet), then we do larger updates.\n",
    "\n",
    "the equation for $E[g^2]_t$ represents this moving average. We use a $\\beta$ parameter to essentially control how much information we take from the previous update step and how much information to take from the current one. Afterwards, we then take the root mean square of that moving average to scale the learning rate. This is where RMSProp gets its name.\n",
    "\n",
    "The equations for the update step are as follows:\n",
    "\n",
    "$$\n",
    "g_t = \\nabla_\\theta J(\\theta) \\\\\n",
    "E[g^2]_t = \\beta E[g^2]_{t-1} + (1 - \\beta) g^2_t \\\\\n",
    "\\theta_{t+1} = \\theta_t - \\frac{\\alpha}{\\sqrt{E[g^2]_t + \\epsilon}} g_t\n",
    "$$\n",
    "\n",
    "Now to see it in action, we'll create a new instance of our neural network and loss function."
   ]
  },
  {
   "cell_type": "code",
   "execution_count": null,
   "metadata": {
    "colab": {},
    "colab_type": "code",
    "id": "4BO3KTBaoRFB"
   },
   "outputs": [],
   "source": [
    "model = MLPClassifier(input_dim=784, hidden_dim=128, output_dim=10).to(device)\n",
    "criterion = nn.CrossEntropyLoss()"
   ]
  },
  {
   "cell_type": "markdown",
   "metadata": {
    "colab_type": "text",
    "id": "9qvd9xWLCl2R"
   },
   "source": [
    "We'll again use a dictionary to store our previous averages. Hinton recommends a $\\beta$ of 0.9 and a default learning rate of 0.001."
   ]
  },
  {
   "cell_type": "code",
   "execution_count": null,
   "metadata": {
    "colab": {},
    "colab_type": "code",
    "id": "c1uZK2fHpCR8"
   },
   "outputs": [],
   "source": [
    "history = {n: torch.zeros(p.shape).to(device) for n, p in model.named_parameters()}\n",
    "learning_rate = 0.001\n",
    "beta = 0.9\n",
    "epsilon = 1e-8"
   ]
  },
  {
   "cell_type": "markdown",
   "metadata": {
    "colab_type": "text",
    "id": "lgw3JuOsCvIq"
   },
   "source": [
    "Let's implement it to train for 10 epochs."
   ]
  },
  {
   "cell_type": "code",
   "execution_count": null,
   "metadata": {
    "colab": {
     "base_uri": "https://localhost:8080/",
     "height": 187
    },
    "colab_type": "code",
    "id": "A0wuFmFEnL1O",
    "outputId": "3f78237c-c0cf-470d-9e51-ce9df07b4d9c"
   },
   "outputs": [
    {
     "name": "stdout",
     "output_type": "stream",
     "text": [
      "Epoch   1 | Train Loss 0.4608 | Test Loss 0.4077 | Train Acc 87.73% | Test Acc 90.58%\n",
      "Epoch   2 | Train Loss 0.3721 | Test Loss 0.3606 | Train Acc 91.34% | Test Acc 91.85%\n",
      "Epoch   3 | Train Loss 0.3318 | Test Loss 0.3415 | Train Acc 92.51% | Test Acc 92.38%\n",
      "Epoch   4 | Train Loss 0.3067 | Test Loss 0.3283 | Train Acc 93.15% | Test Acc 93.02%\n",
      "Epoch   5 | Train Loss 0.2853 | Test Loss 0.3268 | Train Acc 93.64% | Test Acc 93.16%\n",
      "Epoch   6 | Train Loss 0.2726 | Test Loss 0.3027 | Train Acc 94.05% | Test Acc 93.84%\n",
      "Epoch   7 | Train Loss 0.2547 | Test Loss 0.2859 | Train Acc 94.41% | Test Acc 94.20%\n",
      "Epoch   8 | Train Loss 0.2397 | Test Loss 0.2918 | Train Acc 94.70% | Test Acc 94.13%\n",
      "Epoch   9 | Train Loss 0.2332 | Test Loss 0.2758 | Train Acc 94.93% | Test Acc 94.35%\n",
      "Epoch  10 | Train Loss 0.2227 | Test Loss 0.2830 | Train Acc 95.11% | Test Acc 94.26%\n"
     ]
    }
   ],
   "source": [
    "epochs = 10\n",
    "\n",
    "for e in range(1, epochs + 1):\n",
    "    train_loss, train_acc = 0, 0\n",
    "    for x, y in train_loader:\n",
    "        x, y = x.to(device), y.to(device)\n",
    "        out = model(x)\n",
    "        loss = criterion(out, y)\n",
    "\n",
    "        model.zero_grad()\n",
    "        loss.backward()\n",
    "\n",
    "        # Gradient Descent\n",
    "        with torch.no_grad():\n",
    "            for name, param in model.named_parameters():\n",
    "                history[name] = (beta * torch.square(history[name])) + ((1 - beta) * torch.square(param.grad))\n",
    "                param -= learning_rate / torch.sqrt(history[name] + epsilon) * param.grad\n",
    "\n",
    "        train_loss += loss.item()\n",
    "        train_acc += accuracy(out, y)\n",
    "    train_loss /= len(train_loader)\n",
    "    train_acc /= len(train_loader)\n",
    "\n",
    "    test_loss, test_acc = 0, 0\n",
    "    for x, y in test_loader:\n",
    "        x, y = x.to(device), y.to(device)\n",
    "        out = model(x)\n",
    "        loss = criterion(out, y)\n",
    "\n",
    "        test_loss += loss.item()\n",
    "        test_acc += accuracy(out, y)\n",
    "    test_loss /= len(test_loader)\n",
    "    test_acc /= len(test_loader)\n",
    "\n",
    "    print(\"Epoch {:3d} | Train Loss {:.4f} | Test Loss {:.4f} | Train Acc {:.2f}% | Test Acc {:.2f}%\".format(e, train_loss, test_loss, train_acc * 100, test_acc * 100))"
   ]
  },
  {
   "cell_type": "markdown",
   "metadata": {
    "colab_type": "text",
    "id": "ELfUc9_fCzvp"
   },
   "source": [
    "To use RMSProp in PyTorch, we simply use the shorthand from the torch.optim module:"
   ]
  },
  {
   "cell_type": "code",
   "execution_count": null,
   "metadata": {
    "colab": {},
    "colab_type": "code",
    "id": "Wf2anbNrptOo"
   },
   "outputs": [],
   "source": [
    "# optim.RMSprop(lr=0.001, alpha=0.9)"
   ]
  },
  {
   "cell_type": "markdown",
   "metadata": {
    "colab_type": "text",
    "id": "Yxl1xmSEC4KZ"
   },
   "source": [
    "Now, we can mash Momentum and RMSProp together to make a better optimizer."
   ]
  },
  {
   "cell_type": "markdown",
   "metadata": {
    "colab_type": "text",
    "id": "fMMXmjQTtQWG"
   },
   "source": [
    "# Adam"
   ]
  },
  {
   "cell_type": "markdown",
   "metadata": {
    "colab_type": "text",
    "id": "19Jdls36DI3o"
   },
   "source": [
    "Adaptive Moments Estimation (Kingma and Ba, 2014) is considered the \"de facto\" standard optimizer for Neural Networks, simply because it's very effective. It combines Momentum's idea of...well... momentum, as well as RMSProp's idea of scaling learning rates depending on the current and previous gradients.\n",
    "\n",
    "Here are the equations for Adam's update rule:\n",
    "\n",
    "$$\n",
    "m_t = \\beta_1 m_{t-1} + (1 - \\beta_1) g_t \\\\\n",
    "v_t = \\beta_2 v_{t-1} + (1 - \\beta_2) g_t^2 \\\\\n",
    "\\hat{m_t} = \\frac{m_t}{1 - \\beta_1^t} \\\\\n",
    "\\hat{v_t} = \\frac{v_t}{1 - \\beta_2^t} \\\\\n",
    "\\theta_{t + 1} = \\theta_t - \\frac{\\alpha}{\\sqrt{\\hat{v_t}} + \\epsilon} \\hat{m_t}\n",
    "$$\n",
    "\n",
    "In this equation, $m_t$ is an approximation of the first moment (the expected mean of the distribution) and $v_t$ is an approximation of the second moment (the uncentered variance of the distribution). This is how the algorithm gets its name.\n",
    "\n",
    "In easier words, we're essentially taking the weighted moving averages of both the gradient and the gradient squared. Since we initialize $m_t$ and $v_t$ to be zero at start, these estimates will be biased during the initial steps. To correct these, we'll make bias-corrected values $\\hat{m_t}$ and $\\hat{v_t}$.\n",
    "\n",
    "We'll then use the variance (as a root mean square) to scale the learning rate, and the mean as a \"momentum-influenced parameter update.\" Researchers describe Adam as like a \"ball with friction\" moving down a slope.\n",
    "\n",
    "**In mathematics, a moment is a measure that refers to a function's graph. For probability distributions, these are (from zeroth to fourth): total probability, expected value/arithmetic mean, variance, skewness, and kurtosis.*"
   ]
  },
  {
   "cell_type": "code",
   "execution_count": null,
   "metadata": {
    "colab": {},
    "colab_type": "code",
    "id": "0mPXqwHhtRCC"
   },
   "outputs": [],
   "source": [
    "model = MLPClassifier(input_dim=784, hidden_dim=128, output_dim=10).to(device)\n",
    "criterion = nn.CrossEntropyLoss()"
   ]
  },
  {
   "cell_type": "markdown",
   "metadata": {
    "colab_type": "text",
    "id": "ae5S81fVGQWR"
   },
   "source": [
    "We'll use two dictionaries to keep track of our mean and variances. We'll use Karpathy's Constant 3e-4 as a base learning rate for Adam. The authors propose 0.9 and 0.999 as good values for our betas."
   ]
  },
  {
   "cell_type": "code",
   "execution_count": null,
   "metadata": {
    "colab": {},
    "colab_type": "code",
    "id": "PIU2Q3jAuqNx"
   },
   "outputs": [],
   "source": [
    "m_t = {n: torch.zeros(p.shape).to(device) for n, p in model.named_parameters()}\n",
    "v_t = {n: torch.zeros(p.shape).to(device) for n, p in model.named_parameters()}\n",
    "learning_rate = 3e-4\n",
    "b1, b2 = 0.9, 0.999\n",
    "epsilon = 1e-8"
   ]
  },
  {
   "cell_type": "markdown",
   "metadata": {
    "colab_type": "text",
    "id": "7kU7vF9JGa2l"
   },
   "source": [
    "We'll implement Adam and train for 10 epochs."
   ]
  },
  {
   "cell_type": "code",
   "execution_count": null,
   "metadata": {
    "colab": {
     "base_uri": "https://localhost:8080/",
     "height": 187
    },
    "colab_type": "code",
    "id": "9O2Lyd8musUT",
    "outputId": "a76bf61a-d719-49d4-9fef-e25c5f210f07"
   },
   "outputs": [
    {
     "name": "stdout",
     "output_type": "stream",
     "text": [
      "Epoch   1 | Train Loss 0.5908 | Test Loss 0.3306 | Train Acc 86.61% | Test Acc 91.35%\n",
      "Epoch   2 | Train Loss 0.2868 | Test Loss 0.2655 | Train Acc 92.18% | Test Acc 92.44%\n",
      "Epoch   3 | Train Loss 0.2417 | Test Loss 0.2424 | Train Acc 93.27% | Test Acc 93.27%\n",
      "Epoch   4 | Train Loss 0.2179 | Test Loss 0.2304 | Train Acc 93.87% | Test Acc 93.37%\n",
      "Epoch   5 | Train Loss 0.2018 | Test Loss 0.2101 | Train Acc 94.12% | Test Acc 93.83%\n",
      "Epoch   6 | Train Loss 0.1868 | Test Loss 0.2043 | Train Acc 94.52% | Test Acc 94.04%\n",
      "Epoch   7 | Train Loss 0.1785 | Test Loss 0.1909 | Train Acc 94.86% | Test Acc 94.34%\n",
      "Epoch   8 | Train Loss 0.1690 | Test Loss 0.1913 | Train Acc 95.09% | Test Acc 94.52%\n",
      "Epoch   9 | Train Loss 0.1631 | Test Loss 0.1836 | Train Acc 95.25% | Test Acc 94.59%\n",
      "Epoch  10 | Train Loss 0.1573 | Test Loss 0.1803 | Train Acc 95.38% | Test Acc 94.64%\n"
     ]
    }
   ],
   "source": [
    "epochs = 10\n",
    "\n",
    "for e in range(1, epochs + 1):\n",
    "    train_loss, train_acc = 0, 0\n",
    "\n",
    "    for t, (x, y) in enumerate(train_loader):\n",
    "        x, y = x.to(device), y.to(device)\n",
    "        out = model(x)\n",
    "        loss = criterion(out, y)\n",
    "\n",
    "        model.zero_grad()\n",
    "        loss.backward()\n",
    "\n",
    "        # Gradient Descent\n",
    "        with torch.no_grad():\n",
    "            for name, param in model.named_parameters():\n",
    "                m_t[name] = b1 * m_t[name] + (1 - b1) * param.grad\n",
    "                v_t[name] = b2 * v_t[name] + (1 - b2) * torch.square(param.grad)\n",
    "                hat_m = m_t[name] / (1 - b1 ** (t + 1))\n",
    "                hat_v = v_t[name] / (1 - b2 ** (t + 1))\n",
    "                param -= (learning_rate / (torch.sqrt(hat_v) + epsilon)) * hat_m\n",
    "\n",
    "        train_loss += loss.item()\n",
    "        train_acc += accuracy(out, y)\n",
    "    train_loss /= len(train_loader)\n",
    "    train_acc /= len(train_loader)\n",
    "\n",
    "    test_loss, test_acc = 0, 0\n",
    "    for x, y in test_loader:\n",
    "        x, y = x.to(device), y.to(device)\n",
    "        out = model(x)\n",
    "        loss = criterion(out, y)\n",
    "\n",
    "        test_loss += loss.item()\n",
    "        test_acc += accuracy(out, y)\n",
    "    test_loss /= len(test_loader)\n",
    "    test_acc /= len(test_loader)\n",
    "\n",
    "    print(\"Epoch {:3d} | Train Loss {:.4f} | Test Loss {:.4f} | Train Acc {:.2f}% | Test Acc {:.2f}%\".format(e, train_loss, test_loss, train_acc * 100, test_acc * 100))"
   ]
  },
  {
   "cell_type": "markdown",
   "metadata": {
    "colab_type": "text",
    "id": "MLUaqXeRGd71"
   },
   "source": [
    "Great results! To use Adam in PyTorch, we can use the convenience function from torch.optim:"
   ]
  },
  {
   "cell_type": "code",
   "execution_count": null,
   "metadata": {
    "colab": {},
    "colab_type": "code",
    "id": "bx4ZA-pGvm3R"
   },
   "outputs": [],
   "source": [
    "# optim.Adam(betas=(0.9, 0.999))"
   ]
  },
  {
   "cell_type": "markdown",
   "metadata": {
    "colab_type": "text",
    "id": "Jv3bkuKGGu2m"
   },
   "source": [
    "While Adam performs well, there are a lot of cases where it is outperformed by vanilla SGD with a well tuned learning rate.\n",
    "\n",
    "Researchers pinpoint that the problem lies with the exponential weighted moving average that scales the learning rate. In learning settings, a handful of minibatches will provide very informative gradients. However, since these are rare, scaling through exponential averaging will diminish their influence. This leads to suboptimal solutions, especially in tasks that have sparse data or in tasks that have a lot of rare vocabulary, like machine translation."
   ]
  },
  {
   "cell_type": "markdown",
   "metadata": {
    "colab_type": "text",
    "id": "I-pslIaWz4PC"
   },
   "source": [
    "# AMSGrad"
   ]
  },
  {
   "cell_type": "markdown",
   "metadata": {
    "colab_type": "text",
    "id": "cn4QKdd2HbwD"
   },
   "source": [
    "AMSGrad (Reddi et al., 2018) solves the problems with Adam by using the maximum of the past squared gradients instead of an exponential average. They also removed the debiasing step to enforce simplicity. Here is the update step:\n",
    "\n",
    "$$\n",
    "m_t = \\beta_1 m_{t-1} + (1 - \\beta_1) g_t \\\\\n",
    "v_t = \\beta_2 v_{t-1} + (1 - \\beta_2) g_t^2 \\\\\n",
    "\\hat{v_t} = \\max(\\hat{v_{t-1}}, v_t) \\\\\n",
    "\\theta_{t + 1} = \\theta_t - \\frac{\\alpha}{\\sqrt{\\hat{v_t}} + \\epsilon} m_t\n",
    "$$\n",
    "\n",
    "To see it in action, let's create a model."
   ]
  },
  {
   "cell_type": "code",
   "execution_count": null,
   "metadata": {
    "colab": {},
    "colab_type": "code",
    "id": "Zy5EOJ_nz6K6"
   },
   "outputs": [],
   "source": [
    "model = MLPClassifier(input_dim=784, hidden_dim=128, output_dim=10).to(device)\n",
    "criterion = nn.CrossEntropyLoss()"
   ]
  },
  {
   "cell_type": "markdown",
   "metadata": {
    "colab_type": "text",
    "id": "W7h1B6JAH0mt"
   },
   "source": [
    "We'll use three dictionaries to keep track of our previous updates. We'll also use the defaults that were used by Adam."
   ]
  },
  {
   "cell_type": "code",
   "execution_count": null,
   "metadata": {
    "colab": {},
    "colab_type": "code",
    "id": "4W7i_aRlvuBP"
   },
   "outputs": [],
   "source": [
    "m_t = {n: torch.zeros(p.shape).to(device) for n, p in model.named_parameters()}\n",
    "v_t = {n: torch.zeros(p.shape).to(device) for n, p in model.named_parameters()}\n",
    "hat_v = {n: torch.zeros(p.shape).to(device) for n, p in model.named_parameters()}\n",
    "learning_rate = 3e-4\n",
    "b1, b2 = 0.9, 0.999\n",
    "epsilon = 1e-8"
   ]
  },
  {
   "cell_type": "markdown",
   "metadata": {
    "colab_type": "text",
    "id": "197Gm_t5H6iX"
   },
   "source": [
    "And then we'll implement AMSGrad to train our model for 10 epochs."
   ]
  },
  {
   "cell_type": "code",
   "execution_count": null,
   "metadata": {
    "colab": {
     "base_uri": "https://localhost:8080/",
     "height": 187
    },
    "colab_type": "code",
    "id": "m-t7n00O0jYk",
    "outputId": "35b23727-fcb3-44fb-d744-45186ba1b15f"
   },
   "outputs": [
    {
     "name": "stdout",
     "output_type": "stream",
     "text": [
      "Epoch   1 | Train Loss 0.5237 | Test Loss 0.3316 | Train Acc 87.08% | Test Acc 90.92%\n",
      "Epoch   2 | Train Loss 0.3012 | Test Loss 0.2792 | Train Acc 91.59% | Test Acc 92.22%\n",
      "Epoch   3 | Train Loss 0.2601 | Test Loss 0.2613 | Train Acc 92.67% | Test Acc 92.39%\n",
      "Epoch   4 | Train Loss 0.2399 | Test Loss 0.2362 | Train Acc 93.11% | Test Acc 93.28%\n",
      "Epoch   5 | Train Loss 0.2192 | Test Loss 0.2274 | Train Acc 93.65% | Test Acc 93.31%\n",
      "Epoch   6 | Train Loss 0.2080 | Test Loss 0.2189 | Train Acc 93.90% | Test Acc 93.71%\n",
      "Epoch   7 | Train Loss 0.1982 | Test Loss 0.2151 | Train Acc 94.33% | Test Acc 93.77%\n",
      "Epoch   8 | Train Loss 0.1945 | Test Loss 0.2084 | Train Acc 94.39% | Test Acc 93.82%\n",
      "Epoch   9 | Train Loss 0.1863 | Test Loss 0.2019 | Train Acc 94.56% | Test Acc 94.14%\n",
      "Epoch  10 | Train Loss 0.1794 | Test Loss 0.1991 | Train Acc 94.83% | Test Acc 94.10%\n"
     ]
    }
   ],
   "source": [
    "epochs = 10\n",
    "\n",
    "for e in range(1, epochs + 1):\n",
    "    train_loss, train_acc = 0, 0\n",
    "    for x, y in train_loader:\n",
    "        x, y = x.to(device), y.to(device)\n",
    "        out = model(x)\n",
    "        loss = criterion(out, y)\n",
    "\n",
    "        model.zero_grad()\n",
    "        loss.backward()\n",
    "\n",
    "        # Gradient Descent\n",
    "        with torch.no_grad():\n",
    "            for name, param in model.named_parameters():\n",
    "                m_t[name] = b1 * m_t[name] + (1 - b1) * param.grad\n",
    "                v_t[name] = b2 * v_t[name] + (1 - b2) * torch.square(param.grad)\n",
    "                hat_v[name] = torch.max(hat_v[name], v_t[name])\n",
    "                param -= (learning_rate / (torch.sqrt(hat_v[name]) + epsilon)) * m_t[name]\n",
    "\n",
    "        train_loss += loss.item()\n",
    "        train_acc += accuracy(out, y)\n",
    "    train_loss /= len(train_loader)\n",
    "    train_acc /= len(train_loader)\n",
    "\n",
    "    test_loss, test_acc = 0, 0\n",
    "    for x, y in test_loader:\n",
    "        x, y = x.to(device), y.to(device)\n",
    "        out = model(x)\n",
    "        loss = criterion(out, y)\n",
    "\n",
    "        test_loss += loss.item()\n",
    "        test_acc += accuracy(out, y)\n",
    "    test_loss /= len(test_loader)\n",
    "    test_acc /= len(test_loader)\n",
    "\n",
    "    print(\"Epoch {:3d} | Train Loss {:.4f} | Test Loss {:.4f} | Train Acc {:.2f}% | Test Acc {:.2f}%\".format(e, train_loss, test_loss, train_acc * 100, test_acc * 100))"
   ]
  },
  {
   "cell_type": "markdown",
   "metadata": {
    "colab_type": "text",
    "id": "y--JdOu4IBXW"
   },
   "source": [
    "AMSGrad achieves very similar results to Adam. While it may outperform Adam in certain tasks, it is more computationally expensive space-wise to implement.\n",
    "\n",
    "PyTorch does not have a standard implementation of AMSGrad since it is not widely used. While it's not used as much as Adam, it is worth learning that the most accepted techniques still have their flaws. In this case, this keeps research on optimization techniques alive."
   ]
  },
  {
   "cell_type": "markdown",
   "metadata": {
    "colab_type": "text",
    "id": "wSZN1E5Q9QFu"
   },
   "source": [
    "# Activation Functions"
   ]
  },
  {
   "cell_type": "markdown",
   "metadata": {
    "colab_type": "text",
    "id": "cfOh_bCTIT79"
   },
   "source": [
    "Next up, we'll look at activation functions.\n",
    "\n",
    "So far, we've been using Sigmoid as an activation function. While it does do the job (and proofs for the universal approximation theorem exists for sigmoid), it does have a very unwelcome problem called vanishing gradients.\n",
    "\n",
    "This occurs when a pre-activation has a value that is very large or very small, which causes the sigmoid's gradients to be effectively zero. Very small values, when backpropagated, only result in smaller and smaller values. This causes the gradient to \"vanish\" and the model to stop learning. This phenomenon where sigmoids saturate is called the vanishing gradient problem.\n",
    "\n",
    "Here's a simple model to illustrate."
   ]
  },
  {
   "cell_type": "code",
   "execution_count": null,
   "metadata": {
    "colab": {},
    "colab_type": "code",
    "id": "KADjG5-I-Cd0"
   },
   "outputs": [],
   "source": [
    "model = MLPClassifier(input_dim=784, hidden_dim=128, output_dim=10)\n",
    "criterion = nn.CrossEntropyLoss()\n",
    "optimizer = optim.Adam(model.parameters(), lr=3e-4)"
   ]
  },
  {
   "cell_type": "markdown",
   "metadata": {
    "colab_type": "text",
    "id": "4CAG1tWmIuf9"
   },
   "source": [
    "We'll initialize the weights to be rather large to simulate the effects of vanishing gradients."
   ]
  },
  {
   "cell_type": "code",
   "execution_count": null,
   "metadata": {
    "colab": {},
    "colab_type": "code",
    "id": "78EaAJ4X-CkM"
   },
   "outputs": [],
   "source": [
    "for param in model.parameters():\n",
    "    param.data.uniform_(9.95, 10.0)"
   ]
  },
  {
   "cell_type": "markdown",
   "metadata": {
    "colab_type": "text",
    "id": "CHUdSlu6I2fy"
   },
   "source": [
    "We can check the weights in a layer using the following convention:"
   ]
  },
  {
   "cell_type": "code",
   "execution_count": null,
   "metadata": {
    "colab": {
     "base_uri": "https://localhost:8080/",
     "height": 170
    },
    "colab_type": "code",
    "id": "rm1q25zv-Ci6",
    "outputId": "3348b607-95e5-47cd-b21d-88549772757b"
   },
   "outputs": [
    {
     "data": {
      "text/plain": [
       "Parameter containing:\n",
       "tensor([[9.9852, 9.9618, 9.9592,  ..., 9.9686, 9.9737, 9.9777],\n",
       "        [9.9680, 9.9919, 9.9893,  ..., 9.9855, 9.9912, 9.9811],\n",
       "        [9.9730, 9.9750, 9.9915,  ..., 9.9982, 9.9527, 9.9506],\n",
       "        ...,\n",
       "        [9.9890, 9.9690, 9.9991,  ..., 9.9718, 9.9665, 9.9530],\n",
       "        [9.9760, 9.9799, 9.9917,  ..., 9.9505, 9.9579, 9.9583],\n",
       "        [9.9579, 9.9732, 9.9645,  ..., 9.9937, 9.9909, 9.9790]],\n",
       "       requires_grad=True)"
      ]
     },
     "execution_count": 26,
     "metadata": {
      "tags": []
     },
     "output_type": "execute_result"
    }
   ],
   "source": [
    "model.fc1.weight"
   ]
  },
  {
   "cell_type": "markdown",
   "metadata": {
    "colab_type": "text",
    "id": "UKkznRY-I44u"
   },
   "source": [
    "Let's check the initial loss."
   ]
  },
  {
   "cell_type": "code",
   "execution_count": null,
   "metadata": {
    "colab": {
     "base_uri": "https://localhost:8080/",
     "height": 34
    },
    "colab_type": "code",
    "id": "S_RYrlmp9SZi",
    "outputId": "bd002f02-bf38-4f3c-a0ce-da28e303ca4d"
   },
   "outputs": [
    {
     "name": "stdout",
     "output_type": "stream",
     "text": [
      "2.365257978439331\n"
     ]
    }
   ],
   "source": [
    "x, y = next(iter(train_loader))\n",
    "\n",
    "out = model(x)\n",
    "loss = criterion(out, y)\n",
    "print(loss.item())"
   ]
  },
  {
   "cell_type": "markdown",
   "metadata": {
    "colab_type": "text",
    "id": "WPBcBdNqI8su"
   },
   "source": [
    "Then let's run backpropagation so we can see the gradients."
   ]
  },
  {
   "cell_type": "code",
   "execution_count": null,
   "metadata": {
    "colab": {},
    "colab_type": "code",
    "id": "Prd2G9gR-fai"
   },
   "outputs": [],
   "source": [
    "optimizer.zero_grad()\n",
    "loss.backward()"
   ]
  },
  {
   "cell_type": "markdown",
   "metadata": {
    "colab_type": "text",
    "id": "QFbWzzQHI7wA"
   },
   "source": [
    "Then inspect the gradients"
   ]
  },
  {
   "cell_type": "code",
   "execution_count": null,
   "metadata": {
    "colab": {
     "base_uri": "https://localhost:8080/",
     "height": 136
    },
    "colab_type": "code",
    "id": "9iJACTiJ-fgK",
    "outputId": "19672194-9bc6-4e9d-f1fc-1785c5d1df48"
   },
   "outputs": [
    {
     "data": {
      "text/plain": [
       "tensor([[0., 0., 0.,  ..., 0., 0., 0.],\n",
       "        [0., 0., 0.,  ..., 0., 0., 0.],\n",
       "        [0., 0., 0.,  ..., 0., 0., 0.],\n",
       "        ...,\n",
       "        [0., 0., 0.,  ..., 0., 0., 0.],\n",
       "        [0., 0., 0.,  ..., 0., 0., 0.],\n",
       "        [0., 0., 0.,  ..., 0., 0., 0.]])"
      ]
     },
     "execution_count": 29,
     "metadata": {
      "tags": []
     },
     "output_type": "execute_result"
    }
   ],
   "source": [
    "model.fc1.weight.grad"
   ]
  },
  {
   "cell_type": "markdown",
   "metadata": {
    "colab_type": "text",
    "id": "_an6lKMJJB-Y"
   },
   "source": [
    "As you can see, underflow pushed all of the gradients that are near zero to zero. This causes this specific layer to not learn anything for this minibatch."
   ]
  },
  {
   "cell_type": "code",
   "execution_count": null,
   "metadata": {
    "colab": {},
    "colab_type": "code",
    "id": "WINmuPc79SYj"
   },
   "outputs": [],
   "source": [
    "optimizer.step()"
   ]
  },
  {
   "cell_type": "markdown",
   "metadata": {
    "colab_type": "text",
    "id": "i_K_4xGJJIm-"
   },
   "source": [
    "Let's do another check after that update step."
   ]
  },
  {
   "cell_type": "code",
   "execution_count": null,
   "metadata": {
    "colab": {
     "base_uri": "https://localhost:8080/",
     "height": 34
    },
    "colab_type": "code",
    "id": "lNC3p87y9SVB",
    "outputId": "c9f05c5d-39f1-4a2d-bdfb-655932336e97"
   },
   "outputs": [
    {
     "name": "stdout",
     "output_type": "stream",
     "text": [
      "2.3418242931365967\n"
     ]
    }
   ],
   "source": [
    "out = model(x)\n",
    "loss = criterion(out, y)\n",
    "print(loss.item())"
   ]
  },
  {
   "cell_type": "markdown",
   "metadata": {
    "colab_type": "text",
    "id": "rH_qYf1bJMYa"
   },
   "source": [
    "Now we see a very miniscule change in the gradients. This may be due to features that when multiplied to weights result in values where the sigmoid's gradient is not near zero.\n",
    "\n",
    "While *some* of the weights still learn, we can't deny that most of the weights have stopped learning. To solve the vanishing gradient problem, we introduce a different kind of activation function, the ReLU.\n",
    "\n",
    "$$\\text{ReLU}(x) = \\max(0, x)$$\n",
    "\n",
    "Due to bounding the pre-activations from zero to positive infinity, this ensures that even if the activations become very large, they will not cause the gradients to vanish. If the pre-activation is less than zero, it turns that weight off, causing some level of \"feature selection.\"\n",
    "\n",
    "Let's reimplement our classifier to take any activation we want."
   ]
  },
  {
   "cell_type": "code",
   "execution_count": null,
   "metadata": {
    "colab": {},
    "colab_type": "code",
    "id": "cjpv0ljTB8Ce"
   },
   "outputs": [],
   "source": [
    "fn = getattr(torch, 'relu')"
   ]
  },
  {
   "cell_type": "code",
   "execution_count": null,
   "metadata": {
    "colab": {
     "base_uri": "https://localhost:8080/",
     "height": 34
    },
    "colab_type": "code",
    "id": "pxlTDFE-B8N7",
    "outputId": "5ee46515-8f8c-4b7f-f57b-d4a58a41511c"
   },
   "outputs": [
    {
     "data": {
      "text/plain": [
       "<function _VariableFunctionsClass.relu>"
      ]
     },
     "execution_count": 33,
     "metadata": {
      "tags": []
     },
     "output_type": "execute_result"
    }
   ],
   "source": [
    "fn"
   ]
  },
  {
   "cell_type": "code",
   "execution_count": null,
   "metadata": {
    "colab": {
     "base_uri": "https://localhost:8080/",
     "height": 357
    },
    "colab_type": "code",
    "id": "cxQ4ZbY9B8aD",
    "outputId": "829da6eb-3592-46ac-b478-bc62ac2f1e64"
   },
   "outputs": [
    {
     "data": {
      "text/plain": [
       "tensor([[0.8106, 0.2778, 0.0237, 0.3264, 0.6076, 0.4387, 0.2737, 0.3026, 0.8402,\n",
       "         0.0229],\n",
       "        [0.5996, 0.5519, 0.0750, 0.2495, 0.5378, 0.9661, 0.2393, 0.4775, 0.4872,\n",
       "         0.8691],\n",
       "        [0.3350, 0.9564, 0.9675, 0.7527, 0.0995, 0.9526, 0.7401, 0.8962, 0.7106,\n",
       "         0.3155],\n",
       "        [0.2837, 0.0387, 0.6324, 0.1396, 0.3486, 0.8905, 0.3037, 0.4479, 0.2570,\n",
       "         0.8080],\n",
       "        [0.7167, 0.5765, 0.3893, 0.2680, 0.3339, 0.2481, 0.7888, 0.6254, 0.1747,\n",
       "         0.0563],\n",
       "        [0.0430, 0.7353, 0.7776, 0.2877, 0.4653, 0.5478, 0.7822, 0.3584, 0.7011,\n",
       "         0.8642],\n",
       "        [0.6823, 0.0591, 0.6562, 0.2958, 0.8072, 0.0123, 0.4818, 0.9800, 0.4406,\n",
       "         0.6441],\n",
       "        [0.5488, 0.9565, 0.7668, 0.5523, 0.0247, 0.0232, 0.9730, 0.6204, 0.3875,\n",
       "         0.2019],\n",
       "        [0.5219, 0.5436, 0.8318, 0.0080, 0.2589, 0.8435, 0.0098, 0.9974, 0.7244,\n",
       "         0.8615],\n",
       "        [0.6922, 0.4097, 0.4689, 0.2491, 0.1071, 0.3233, 0.1136, 0.6408, 0.1049,\n",
       "         0.3313]])"
      ]
     },
     "execution_count": 35,
     "metadata": {
      "tags": []
     },
     "output_type": "execute_result"
    }
   ],
   "source": [
    "fn(torch.rand(10, 10))"
   ]
  },
  {
   "cell_type": "code",
   "execution_count": null,
   "metadata": {
    "colab": {},
    "colab_type": "code",
    "id": "_EMqUmCWCCwD"
   },
   "outputs": [],
   "source": []
  },
  {
   "cell_type": "code",
   "execution_count": null,
   "metadata": {
    "colab": {},
    "colab_type": "code",
    "id": "HgAvkSED_PDa"
   },
   "outputs": [],
   "source": [
    "class MLPClassifier(nn.Module):\n",
    "    def __init__(self, input_dim, hidden_dim, output_dim, activation='sigmoid'):\n",
    "        super(MLPClassifier, self).__init__()\n",
    "        self.fc1 = nn.Linear(input_dim, hidden_dim)\n",
    "        self.fc2 = nn.Linear(hidden_dim, output_dim)\n",
    "        self.activation = getattr(torch, activation)\n",
    "    \n",
    "    def forward(self, x):\n",
    "        out = self.fc1(x)\n",
    "        out = self.activation(out)\n",
    "        out = self.fc2(out)\n",
    "        return out"
   ]
  },
  {
   "cell_type": "markdown",
   "metadata": {
    "colab_type": "text",
    "id": "80hfxHIwJ6rT"
   },
   "source": [
    "Instantiate the model."
   ]
  },
  {
   "cell_type": "code",
   "execution_count": null,
   "metadata": {
    "colab": {},
    "colab_type": "code",
    "id": "0InnXWhK_PJH"
   },
   "outputs": [],
   "source": [
    "model = MLPClassifier(input_dim=784, hidden_dim=128, output_dim=10, activation='relu')\n",
    "criterion = nn.CrossEntropyLoss()\n",
    "optimizer = optim.Adam(model.parameters(), lr=3e-4)"
   ]
  },
  {
   "cell_type": "markdown",
   "metadata": {
    "colab_type": "text",
    "id": "3-eDkcqRJ78F"
   },
   "source": [
    "Here's the model's first layer weights for transparency."
   ]
  },
  {
   "cell_type": "code",
   "execution_count": null,
   "metadata": {
    "colab": {
     "base_uri": "https://localhost:8080/",
     "height": 170
    },
    "colab_type": "code",
    "id": "cE9mmZgj_PQj",
    "outputId": "b99dcbc9-de46-41f2-86a4-f9ab27c8268b"
   },
   "outputs": [
    {
     "data": {
      "text/plain": [
       "Parameter containing:\n",
       "tensor([[ 0.0320,  0.0209, -0.0169,  ...,  0.0234, -0.0106, -0.0191],\n",
       "        [-0.0057,  0.0214,  0.0345,  ..., -0.0140, -0.0036, -0.0297],\n",
       "        [-0.0259,  0.0219, -0.0293,  ..., -0.0345, -0.0024, -0.0150],\n",
       "        ...,\n",
       "        [ 0.0164, -0.0285, -0.0310,  ..., -0.0086,  0.0015, -0.0260],\n",
       "        [ 0.0284,  0.0275,  0.0195,  ..., -0.0239, -0.0293,  0.0049],\n",
       "        [ 0.0257, -0.0315, -0.0113,  ...,  0.0119,  0.0101,  0.0088]],\n",
       "       requires_grad=True)"
      ]
     },
     "execution_count": 38,
     "metadata": {
      "tags": []
     },
     "output_type": "execute_result"
    }
   ],
   "source": [
    "model.fc1.weight"
   ]
  },
  {
   "cell_type": "markdown",
   "metadata": {
    "colab_type": "text",
    "id": "Fsqo9fFcKANf"
   },
   "source": [
    "Now let's check the initial loss."
   ]
  },
  {
   "cell_type": "code",
   "execution_count": null,
   "metadata": {
    "colab": {
     "base_uri": "https://localhost:8080/",
     "height": 34
    },
    "colab_type": "code",
    "id": "dgMY6hq3_PPV",
    "outputId": "cfb3f164-dd9f-4e7f-97da-e6479aebf264"
   },
   "outputs": [
    {
     "name": "stdout",
     "output_type": "stream",
     "text": [
      "27.931854248046875\n"
     ]
    }
   ],
   "source": [
    "out = model(x)\n",
    "loss = criterion(out, y)\n",
    "print(loss.item())"
   ]
  },
  {
   "cell_type": "markdown",
   "metadata": {
    "colab_type": "text",
    "id": "L0wlMk6CKCDT"
   },
   "source": [
    "Zeroing out certain values will induce a large loss, which is natural. Let's do one round of gradient descent."
   ]
  },
  {
   "cell_type": "code",
   "execution_count": null,
   "metadata": {
    "colab": {},
    "colab_type": "code",
    "id": "wj9FUTma9ST4"
   },
   "outputs": [],
   "source": [
    "optimizer.zero_grad()\n",
    "loss.backward()\n",
    "optimizer.step()"
   ]
  },
  {
   "cell_type": "markdown",
   "metadata": {
    "colab_type": "text",
    "id": "UpzQEw0nKKJZ"
   },
   "source": [
    "And see the loss on the next iteration."
   ]
  },
  {
   "cell_type": "code",
   "execution_count": null,
   "metadata": {
    "colab": {
     "base_uri": "https://localhost:8080/",
     "height": 34
    },
    "colab_type": "code",
    "id": "epAxLI4S_eqD",
    "outputId": "a6f3922b-9866-4f84-c092-9ec9f9094e14"
   },
   "outputs": [
    {
     "name": "stdout",
     "output_type": "stream",
     "text": [
      "14.564491271972656\n"
     ]
    }
   ],
   "source": [
    "out = model(x)\n",
    "loss = criterion(out, y)\n",
    "print(loss.item())"
   ]
  },
  {
   "cell_type": "markdown",
   "metadata": {
    "colab_type": "text",
    "id": "Qj3r4qI4KM6D"
   },
   "source": [
    "As we can see, the loss diminished very quickly.\n",
    "\n",
    "While ReLUs solve vanishing gradients, they do have one problem, which we call the **dead ReLU problem**. This happens when most of the pre-activations are negative, which cause their gradients to be zero. Anything multiplied to a zero becomes zero. This means that once a weight have been reduced to zero by ReLU, it cannot be used again. Think of it as \"permanent brain damage.\"\n",
    "\n",
    "To illustrate, let's instantiate our model."
   ]
  },
  {
   "cell_type": "code",
   "execution_count": null,
   "metadata": {
    "colab": {},
    "colab_type": "code",
    "id": "4pZSGen7ALD8"
   },
   "outputs": [],
   "source": [
    "model = MLPClassifier(input_dim=784, hidden_dim=128, output_dim=10, activation='relu')\n",
    "criterion = nn.CrossEntropyLoss()\n",
    "optimizer = optim.Adam(model.parameters(), lr=3e-4)"
   ]
  },
  {
   "cell_type": "markdown",
   "metadata": {
    "colab_type": "text",
    "id": "FmI2sgftK9rE"
   },
   "source": [
    "Let's make all the weights zero or negative to turn positive features into negatives or cancel them out."
   ]
  },
  {
   "cell_type": "code",
   "execution_count": null,
   "metadata": {
    "colab": {},
    "colab_type": "code",
    "id": "_sjhGGAvALWs"
   },
   "outputs": [],
   "source": [
    "for param in model.parameters():\n",
    "    param.data.uniform_(-0.95, 0.0)"
   ]
  },
  {
   "cell_type": "markdown",
   "metadata": {
    "colab_type": "text",
    "id": "q7AgKtGBLDWs"
   },
   "source": [
    "Here's the weights for transparency."
   ]
  },
  {
   "cell_type": "code",
   "execution_count": null,
   "metadata": {
    "colab": {
     "base_uri": "https://localhost:8080/",
     "height": 170
    },
    "colab_type": "code",
    "id": "2ls--1_NALeZ",
    "outputId": "e02e8347-a2a5-41a7-a3c3-7e2c4c702b86"
   },
   "outputs": [
    {
     "data": {
      "text/plain": [
       "Parameter containing:\n",
       "tensor([[-0.7589, -0.1574, -0.7725,  ..., -0.1801, -0.7189, -0.6725],\n",
       "        [-0.6133, -0.0948, -0.1728,  ..., -0.1845, -0.3282, -0.5740],\n",
       "        [-0.4391, -0.7236, -0.4287,  ..., -0.4023, -0.3112, -0.3046],\n",
       "        ...,\n",
       "        [-0.9460, -0.2352, -0.5050,  ..., -0.9281, -0.9049, -0.9400],\n",
       "        [-0.1440, -0.9492, -0.8244,  ..., -0.5679, -0.0645, -0.6139],\n",
       "        [-0.0043, -0.6651, -0.0916,  ..., -0.8562, -0.8520, -0.3418]],\n",
       "       requires_grad=True)"
      ]
     },
     "execution_count": 44,
     "metadata": {
      "tags": []
     },
     "output_type": "execute_result"
    }
   ],
   "source": [
    "model.fc1.weight"
   ]
  },
  {
   "cell_type": "markdown",
   "metadata": {
    "colab_type": "text",
    "id": "ZqCdFrH5LFFH"
   },
   "source": [
    "Let's take the initial loss."
   ]
  },
  {
   "cell_type": "code",
   "execution_count": null,
   "metadata": {
    "colab": {
     "base_uri": "https://localhost:8080/",
     "height": 34
    },
    "colab_type": "code",
    "id": "cTtlY99EALdG",
    "outputId": "6684b3f2-17bc-401c-b323-3295a2c935e6"
   },
   "outputs": [
    {
     "name": "stdout",
     "output_type": "stream",
     "text": [
      "2.3071532249450684\n"
     ]
    }
   ],
   "source": [
    "out = model(x)\n",
    "loss = criterion(out, y)\n",
    "print(loss.item())"
   ]
  },
  {
   "cell_type": "markdown",
   "metadata": {
    "colab_type": "text",
    "id": "s2ImS2cXLGp6"
   },
   "source": [
    "Then backpropagate."
   ]
  },
  {
   "cell_type": "code",
   "execution_count": null,
   "metadata": {
    "colab": {},
    "colab_type": "code",
    "id": "Gjlwp7v2AfSA"
   },
   "outputs": [],
   "source": [
    "optimizer.zero_grad()\n",
    "loss.backward()"
   ]
  },
  {
   "cell_type": "markdown",
   "metadata": {
    "colab_type": "text",
    "id": "eKO2EHb3LJVK"
   },
   "source": [
    "Let's check the gradients."
   ]
  },
  {
   "cell_type": "code",
   "execution_count": null,
   "metadata": {
    "colab": {
     "base_uri": "https://localhost:8080/",
     "height": 136
    },
    "colab_type": "code",
    "id": "zRhuGSa_Aaez",
    "outputId": "ad135a0f-279b-4b6c-c92f-ea3d6a659788"
   },
   "outputs": [
    {
     "data": {
      "text/plain": [
       "tensor([[0., 0., 0.,  ..., 0., 0., 0.],\n",
       "        [0., 0., 0.,  ..., 0., 0., 0.],\n",
       "        [0., 0., 0.,  ..., 0., 0., 0.],\n",
       "        ...,\n",
       "        [0., 0., 0.,  ..., 0., 0., 0.],\n",
       "        [0., 0., 0.,  ..., 0., 0., 0.],\n",
       "        [0., 0., 0.,  ..., 0., 0., 0.]])"
      ]
     },
     "execution_count": 47,
     "metadata": {
      "tags": []
     },
     "output_type": "execute_result"
    }
   ],
   "source": [
    "model.fc1.weight.grad"
   ]
  },
  {
   "cell_type": "markdown",
   "metadata": {
    "colab_type": "text",
    "id": "cRgRiMsyLKvk"
   },
   "source": [
    "Now, since the gradients are zero, we can expect our weights to die."
   ]
  },
  {
   "cell_type": "code",
   "execution_count": null,
   "metadata": {
    "colab": {},
    "colab_type": "code",
    "id": "yQpw-KzJAay1"
   },
   "outputs": [],
   "source": [
    "optimizer.step()"
   ]
  },
  {
   "cell_type": "markdown",
   "metadata": {
    "colab_type": "text",
    "id": "h1dfrGonLWz8"
   },
   "source": [
    "Checking on another iteration shows little change in the loss."
   ]
  },
  {
   "cell_type": "code",
   "execution_count": null,
   "metadata": {
    "colab": {
     "base_uri": "https://localhost:8080/",
     "height": 34
    },
    "colab_type": "code",
    "id": "-b1nb_OLAanY",
    "outputId": "0107b0e2-7a2d-4467-f42b-1bd407719052"
   },
   "outputs": [
    {
     "name": "stdout",
     "output_type": "stream",
     "text": [
      "2.3069703578948975\n"
     ]
    }
   ],
   "source": [
    "out = model(x)\n",
    "loss = criterion(out, y)\n",
    "print(loss.item())"
   ]
  },
  {
   "cell_type": "markdown",
   "metadata": {
    "colab_type": "text",
    "id": "BjS3fctvLaWJ"
   },
   "source": [
    "This problem is move obvious once training has progressed significantly. In the earlier stages of training, dead neurons may not be as apparent, especially when using optimizers that use information from previous updates (like Adam).\n",
    "\n",
    "In addition to sigmoid and ReLU, other activation functions exist, like the hyperbolic tangent:"
   ]
  },
  {
   "cell_type": "code",
   "execution_count": null,
   "metadata": {
    "colab": {
     "base_uri": "https://localhost:8080/",
     "height": 136
    },
    "colab_type": "code",
    "id": "UXI4kP5VAvFT",
    "outputId": "2e57ce92-c488-4b8e-b1da-cf62242608b9"
   },
   "outputs": [
    {
     "data": {
      "text/plain": [
       "tensor([[0.6939, 0.6895, 0.6189,  ..., 0.3762, 0.5984, 0.7391],\n",
       "        [0.4039, 0.7081, 0.2623,  ..., 0.1109, 0.5687, 0.2029],\n",
       "        [0.0314, 0.2638, 0.1884,  ..., 0.3660, 0.6329, 0.0872],\n",
       "        ...,\n",
       "        [0.6976, 0.1645, 0.3900,  ..., 0.3329, 0.5385, 0.3594],\n",
       "        [0.6184, 0.5461, 0.2193,  ..., 0.5999, 0.3148, 0.4593],\n",
       "        [0.6282, 0.7393, 0.5304,  ..., 0.5910, 0.6962, 0.6380]])"
      ]
     },
     "execution_count": 50,
     "metadata": {
      "tags": []
     },
     "output_type": "execute_result"
    }
   ],
   "source": [
    "torch.tanh(torch.rand(32, 128))"
   ]
  },
  {
   "cell_type": "markdown",
   "metadata": {
    "colab_type": "text",
    "id": "7P6av8E8Lvn9"
   },
   "source": [
    "Or the scaled exponential linear unit:"
   ]
  },
  {
   "cell_type": "code",
   "execution_count": null,
   "metadata": {
    "colab": {
     "base_uri": "https://localhost:8080/",
     "height": 238
    },
    "colab_type": "code",
    "id": "oZksFmnfA0B4",
    "outputId": "52f0ac2e-bdb2-4c76-ebc3-301383111cba"
   },
   "outputs": [
    {
     "data": {
      "text/plain": [
       "tensor([[7.1843e-01, 9.9903e-01, 2.9602e-02,  ..., 2.1382e-01, 1.0189e-01,\n",
       "         6.3008e-01],\n",
       "        [8.7486e-01, 8.6671e-01, 3.1738e-02,  ..., 3.6255e-04, 7.7438e-01,\n",
       "         2.8898e-01],\n",
       "        [6.9118e-01, 7.5252e-01, 1.0291e+00,  ..., 6.4152e-01, 7.2487e-01,\n",
       "         2.5264e-01],\n",
       "        ...,\n",
       "        [7.1973e-01, 1.6815e-01, 3.8548e-01,  ..., 5.9593e-01, 3.0547e-01,\n",
       "         7.6764e-01],\n",
       "        [2.5948e-02, 4.7135e-01, 6.4959e-01,  ..., 9.6709e-01, 5.2690e-01,\n",
       "         1.0526e-01],\n",
       "        [2.5942e-02, 1.2759e-01, 4.2285e-01,  ..., 2.8810e-01, 5.4804e-01,\n",
       "         9.8794e-01]])"
      ]
     },
     "execution_count": 51,
     "metadata": {
      "tags": []
     },
     "output_type": "execute_result"
    }
   ],
   "source": [
    "torch.selu(torch.rand(32, 128))"
   ]
  },
  {
   "cell_type": "markdown",
   "metadata": {
    "colab_type": "text",
    "id": "7SGD0XSjLzf0"
   },
   "source": [
    "And many more. We'll tackle more advanced activation functions as the need arises."
   ]
  },
  {
   "cell_type": "markdown",
   "metadata": {
    "colab_type": "text",
    "id": "xoEuhD2i79lV"
   },
   "source": [
    "# Regularization for Neural Networks"
   ]
  },
  {
   "cell_type": "markdown",
   "metadata": {
    "colab_type": "text",
    "id": "wwM3Rzo7L37j"
   },
   "source": [
    "Regularization for neural networks, aside from weight decay (L2 normalization), is done through **Dropout** (Srivastava et al., 2014).\n",
    "\n",
    "The idea of dropout is randomly shutting down neurons temporarily during an iteration. This prevents a problem called \"interdependence\" where certain neurons would only improve when nudged by specific other neurons. Interdependence causes a model to overfit by relying on a select (often biased) number of weights. By randomly shutting down neurons during training, any neuron would then be forced to also rely on other neurons for its information.\n",
    "\n",
    "Dropout in PyTorch is simple:"
   ]
  },
  {
   "cell_type": "code",
   "execution_count": null,
   "metadata": {
    "colab": {},
    "colab_type": "code",
    "id": "1e9hNCnI03mY"
   },
   "outputs": [],
   "source": [
    "dropout = nn.Dropout(0.5)"
   ]
  },
  {
   "cell_type": "markdown",
   "metadata": {
    "colab_type": "text",
    "id": "vcySkOOnMfGs"
   },
   "source": [
    "Let's see an example."
   ]
  },
  {
   "cell_type": "code",
   "execution_count": null,
   "metadata": {
    "colab": {
     "base_uri": "https://localhost:8080/",
     "height": 136
    },
    "colab_type": "code",
    "id": "RMYdmmSe8VDY",
    "outputId": "454cc404-df6e-4305-bcdf-8660d8a24b3a"
   },
   "outputs": [
    {
     "name": "stdout",
     "output_type": "stream",
     "text": [
      "tensor([[0.5683, 0.3716, 0.0402,  ..., 0.4963, 0.2983, 0.8306],\n",
      "        [0.2989, 0.4166, 0.0325,  ..., 0.0400, 0.1299, 0.4955],\n",
      "        [0.2415, 0.0788, 0.8703,  ..., 0.3353, 0.6601, 0.4963],\n",
      "        ...,\n",
      "        [0.7047, 0.3866, 0.6453,  ..., 0.2435, 0.6146, 0.3113],\n",
      "        [0.1023, 0.1380, 0.4004,  ..., 0.5660, 0.7226, 0.8818],\n",
      "        [0.3103, 0.3818, 0.5397,  ..., 0.0287, 0.3997, 0.9811]])\n"
     ]
    }
   ],
   "source": [
    "out = torch.rand(32, 128)\n",
    "print(out)"
   ]
  },
  {
   "cell_type": "markdown",
   "metadata": {
    "colab_type": "text",
    "id": "prjQEK8RMiqA"
   },
   "source": [
    "Random values will be turned to zero to a probability set by dropout."
   ]
  },
  {
   "cell_type": "code",
   "execution_count": null,
   "metadata": {
    "colab": {
     "base_uri": "https://localhost:8080/",
     "height": 136
    },
    "colab_type": "code",
    "id": "7A4CgEEW8YMv",
    "outputId": "96561b53-2952-4df5-c0cd-85af30027290"
   },
   "outputs": [
    {
     "name": "stdout",
     "output_type": "stream",
     "text": [
      "tensor([[0.0000, 0.7432, 0.0000,  ..., 0.0000, 0.0000, 1.6612],\n",
      "        [0.5979, 0.0000, 0.0649,  ..., 0.0800, 0.0000, 0.9909],\n",
      "        [0.4831, 0.0000, 0.0000,  ..., 0.6706, 1.3202, 0.9925],\n",
      "        ...,\n",
      "        [1.4093, 0.0000, 0.0000,  ..., 0.4870, 0.0000, 0.6226],\n",
      "        [0.0000, 0.2760, 0.0000,  ..., 0.0000, 1.4453, 1.7637],\n",
      "        [0.0000, 0.0000, 1.0793,  ..., 0.0000, 0.7995, 0.0000]])\n"
     ]
    }
   ],
   "source": [
    "out = dropout(out)\n",
    "print(out)"
   ]
  },
  {
   "cell_type": "markdown",
   "metadata": {
    "colab_type": "text",
    "id": "_cPSEs4XMofF"
   },
   "source": [
    "Let's create a new model that combines all of the techniques we've learned so far. We'll generalize it as well to use more than one hidden layer."
   ]
  },
  {
   "cell_type": "code",
   "execution_count": null,
   "metadata": {
    "colab": {},
    "colab_type": "code",
    "id": "MBGm28W08aE3"
   },
   "outputs": [],
   "source": [
    "class MLPClassifier(nn.Module):\n",
    "    def __init__(self, input_dim, hidden_dim, output_dim, dropout=0.5, activation='sigmoid', n_layers=1):\n",
    "        super(MLPClassifier, self).__init__()\n",
    "        self.fc1 = nn.Linear(input_dim, hidden_dim)\n",
    "        self.layers = [nn.Linear(hidden_dim, output_dim) if n == n_layers - 1 else nn.Linear(hidden_dim, hidden_dim) for n in range(n_layers)]\n",
    "        self.layers = nn.ModuleList(self.layers)\n",
    "\n",
    "        self.dropout = nn.Dropout(dropout)\n",
    "        self.activation = getattr(torch, activation)\n",
    "    \n",
    "    def forward(self, x):\n",
    "        out = self.fc1(x)\n",
    "        out = self.activation(out)\n",
    "        out = self.dropout(out)\n",
    "\n",
    "        for n, layer in enumerate(self.layers):\n",
    "            out = layer(out)\n",
    "            if n != len(self.layers) - 1:\n",
    "                out = self.activation(out)\n",
    "                out = self.dropout(out)\n",
    "        \n",
    "        return out"
   ]
  },
  {
   "cell_type": "markdown",
   "metadata": {
    "colab_type": "text",
    "id": "ENPw9WGOMvNl"
   },
   "source": [
    "Let's instantiate our neural network."
   ]
  },
  {
   "cell_type": "code",
   "execution_count": null,
   "metadata": {
    "colab": {},
    "colab_type": "code",
    "id": "JjF4rvYMEVR-"
   },
   "outputs": [],
   "source": [
    "model = MLPClassifier(input_dim=784, hidden_dim=1024, output_dim=10, \n",
    "                      n_layers=2, activation='relu', dropout=0.5).to(device)\n",
    "criterion = nn.CrossEntropyLoss()\n",
    "optimizer = optim.Adam(model.parameters(), lr=3e-4)"
   ]
  },
  {
   "cell_type": "markdown",
   "metadata": {
    "colab_type": "text",
    "id": "awqPxKypMyA3"
   },
   "source": [
    "We can check the model's \"stack\" by calling it."
   ]
  },
  {
   "cell_type": "code",
   "execution_count": null,
   "metadata": {
    "colab": {
     "base_uri": "https://localhost:8080/"
    },
    "colab_type": "code",
    "id": "nIQ06xJAFCYf",
    "outputId": "9291713e-ea75-465c-8541-24654ce64ff9"
   },
   "outputs": [
    {
     "data": {
      "text/plain": [
       "MLPClassifier(\n",
       "  (fc1): Linear(in_features=784, out_features=1024, bias=True)\n",
       "  (layers): ModuleList(\n",
       "    (0): Linear(in_features=1024, out_features=1024, bias=True)\n",
       "    (1): Linear(in_features=1024, out_features=10, bias=True)\n",
       "  )\n",
       "  (dropout): Dropout(p=0.5, inplace=False)\n",
       ")"
      ]
     },
     "execution_count": 57,
     "metadata": {
      "tags": []
     },
     "output_type": "execute_result"
    }
   ],
   "source": [
    "model"
   ]
  },
  {
   "cell_type": "markdown",
   "metadata": {
    "colab_type": "text",
    "id": "admdbvpsNPSO"
   },
   "source": [
    "Let's check the number of theta parameters in our model:"
   ]
  },
  {
   "cell_type": "code",
   "execution_count": null,
   "metadata": {
    "colab": {
     "base_uri": "https://localhost:8080/"
    },
    "colab_type": "code",
    "id": "1WYY2qX8NCSb",
    "outputId": "00b3a08f-0bbf-43fe-8d81-c2972a19d162"
   },
   "outputs": [
    {
     "name": "stdout",
     "output_type": "stream",
     "text": [
      "Number of parameters: 1,863,690\n"
     ]
    }
   ],
   "source": [
    "num_params = sum([p.numel() for p in model.parameters() if p.requires_grad])\n",
    "print(\"Number of parameters: {:,}\".format(num_params))"
   ]
  },
  {
   "cell_type": "markdown",
   "metadata": {
    "colab_type": "text",
    "id": "9P3C1a14M8F8"
   },
   "source": [
    "We'll add train and eval directives to the model to tell it to switch off dropout during testing."
   ]
  },
  {
   "cell_type": "code",
   "execution_count": null,
   "metadata": {
    "colab": {
     "base_uri": "https://localhost:8080/",
     "height": 697
    },
    "colab_type": "code",
    "id": "H72rZy-OD18i",
    "outputId": "b9068dca-cb23-4b84-aa5b-8431b2b4799c"
   },
   "outputs": [
    {
     "name": "stderr",
     "output_type": "stream",
     "text": [
      "100%|██████████| 1641/1641 [00:06<00:00, 254.75it/s]\n",
      "100%|██████████| 547/547 [00:00<00:00, 795.22it/s]\n",
      "  2%|▏         | 27/1641 [00:00<00:05, 269.23it/s]"
     ]
    },
    {
     "name": "stdout",
     "output_type": "stream",
     "text": [
      "\n",
      "Epoch   1 | Train Loss 0.9393 | Test Loss 0.1787 | Train Acc 85.36% | Test Acc 94.72%\n"
     ]
    },
    {
     "name": "stderr",
     "output_type": "stream",
     "text": [
      "100%|██████████| 1641/1641 [00:06<00:00, 259.61it/s]\n",
      "100%|██████████| 547/547 [00:00<00:00, 802.05it/s]\n",
      "  2%|▏         | 26/1641 [00:00<00:06, 257.36it/s]"
     ]
    },
    {
     "name": "stdout",
     "output_type": "stream",
     "text": [
      "\n",
      "Epoch   2 | Train Loss 0.3028 | Test Loss 0.1524 | Train Acc 91.85% | Test Acc 95.68%\n"
     ]
    },
    {
     "name": "stderr",
     "output_type": "stream",
     "text": [
      "100%|██████████| 1641/1641 [00:06<00:00, 258.23it/s]\n",
      "100%|██████████| 547/547 [00:00<00:00, 823.59it/s]\n",
      "  2%|▏         | 27/1641 [00:00<00:06, 268.89it/s]"
     ]
    },
    {
     "name": "stdout",
     "output_type": "stream",
     "text": [
      "\n",
      "Epoch   3 | Train Loss 0.2706 | Test Loss 0.1506 | Train Acc 92.68% | Test Acc 95.93%\n"
     ]
    },
    {
     "name": "stderr",
     "output_type": "stream",
     "text": [
      "100%|██████████| 1641/1641 [00:06<00:00, 258.76it/s]\n",
      "100%|██████████| 547/547 [00:00<00:00, 826.51it/s]\n",
      "  2%|▏         | 27/1641 [00:00<00:06, 266.11it/s]"
     ]
    },
    {
     "name": "stdout",
     "output_type": "stream",
     "text": [
      "\n",
      "Epoch   4 | Train Loss 0.2586 | Test Loss 0.1494 | Train Acc 93.49% | Test Acc 96.04%\n"
     ]
    },
    {
     "name": "stderr",
     "output_type": "stream",
     "text": [
      "100%|██████████| 1641/1641 [00:06<00:00, 259.94it/s]\n",
      "100%|██████████| 547/547 [00:00<00:00, 796.15it/s]\n",
      "  2%|▏         | 27/1641 [00:00<00:06, 262.92it/s]"
     ]
    },
    {
     "name": "stdout",
     "output_type": "stream",
     "text": [
      "\n",
      "Epoch   5 | Train Loss 0.2589 | Test Loss 0.1279 | Train Acc 93.68% | Test Acc 96.58%\n"
     ]
    },
    {
     "name": "stderr",
     "output_type": "stream",
     "text": [
      "100%|██████████| 1641/1641 [00:06<00:00, 259.56it/s]\n",
      "100%|██████████| 547/547 [00:00<00:00, 805.19it/s]\n",
      "  2%|▏         | 27/1641 [00:00<00:06, 268.74it/s]"
     ]
    },
    {
     "name": "stdout",
     "output_type": "stream",
     "text": [
      "\n",
      "Epoch   6 | Train Loss 0.2489 | Test Loss 0.1478 | Train Acc 94.01% | Test Acc 95.96%\n"
     ]
    },
    {
     "name": "stderr",
     "output_type": "stream",
     "text": [
      "100%|██████████| 1641/1641 [00:06<00:00, 256.84it/s]\n",
      "100%|██████████| 547/547 [00:00<00:00, 786.58it/s]\n",
      "  2%|▏         | 27/1641 [00:00<00:06, 263.41it/s]"
     ]
    },
    {
     "name": "stdout",
     "output_type": "stream",
     "text": [
      "\n",
      "Epoch   7 | Train Loss 0.2399 | Test Loss 0.1313 | Train Acc 94.28% | Test Acc 96.90%\n"
     ]
    },
    {
     "name": "stderr",
     "output_type": "stream",
     "text": [
      "100%|██████████| 1641/1641 [00:06<00:00, 258.58it/s]\n",
      "100%|██████████| 547/547 [00:00<00:00, 787.00it/s]\n",
      "  2%|▏         | 28/1641 [00:00<00:05, 270.34it/s]"
     ]
    },
    {
     "name": "stdout",
     "output_type": "stream",
     "text": [
      "\n",
      "Epoch   8 | Train Loss 0.2348 | Test Loss 0.1406 | Train Acc 94.47% | Test Acc 96.38%\n"
     ]
    },
    {
     "name": "stderr",
     "output_type": "stream",
     "text": [
      "100%|██████████| 1641/1641 [00:06<00:00, 258.32it/s]\n",
      "100%|██████████| 547/547 [00:00<00:00, 820.95it/s]\n",
      "  2%|▏         | 26/1641 [00:00<00:06, 257.77it/s]"
     ]
    },
    {
     "name": "stdout",
     "output_type": "stream",
     "text": [
      "\n",
      "Epoch   9 | Train Loss 0.2226 | Test Loss 0.1404 | Train Acc 94.83% | Test Acc 96.95%\n"
     ]
    },
    {
     "name": "stderr",
     "output_type": "stream",
     "text": [
      "100%|██████████| 1641/1641 [00:06<00:00, 259.31it/s]\n",
      "100%|██████████| 547/547 [00:00<00:00, 822.93it/s]"
     ]
    },
    {
     "name": "stdout",
     "output_type": "stream",
     "text": [
      "\n",
      "Epoch  10 | Train Loss 0.2203 | Test Loss 0.1413 | Train Acc 94.88% | Test Acc 96.69%\n"
     ]
    },
    {
     "name": "stderr",
     "output_type": "stream",
     "text": [
      "\n"
     ]
    }
   ],
   "source": [
    "epochs = 10\n",
    "\n",
    "for e in range(1, epochs + 1):\n",
    "    train_loss, train_acc = 0, 0\n",
    "\n",
    "    model.train()\n",
    "    for x, y in tqdm(train_loader):\n",
    "        x, y = x.to(device), y.to(device)\n",
    "        out = model(x)\n",
    "        loss = criterion(out, y)\n",
    "\n",
    "        optimizer.zero_grad()\n",
    "        loss.backward()\n",
    "        optimizer.step()\n",
    "\n",
    "        train_loss += loss.item()\n",
    "        train_acc += accuracy(out, y)\n",
    "    train_loss /= len(train_loader)\n",
    "    train_acc /= len(train_loader)\n",
    "\n",
    "    model.eval()\n",
    "    test_loss, test_acc = 0, 0\n",
    "    for x, y in tqdm(test_loader):\n",
    "        x, y = x.to(device), y.to(device)\n",
    "        out = model(x)\n",
    "        loss = criterion(out, y)\n",
    "\n",
    "        test_loss += loss.item()\n",
    "        test_acc += accuracy(out, y)\n",
    "    test_loss /= len(test_loader)\n",
    "    test_acc /= len(test_loader)\n",
    "\n",
    "    print(\"\\nEpoch {:3d} | Train Loss {:.4f} | Test Loss {:.4f} | Train Acc {:.2f}% | Test Acc {:.2f}%\".format(e, train_loss, test_loss, train_acc * 100, test_acc * 100))"
   ]
  },
  {
   "cell_type": "markdown",
   "metadata": {
    "colab_type": "text",
    "id": "wRfBZULTOfSi"
   },
   "source": [
    "Great results!"
   ]
  },
  {
   "cell_type": "markdown",
   "metadata": {
    "colab_type": "text",
    "id": "ZPfBtoRHOix-"
   },
   "source": [
    "# Learning Rate Schedulers"
   ]
  },
  {
   "cell_type": "markdown",
   "metadata": {
    "colab_type": "text",
    "id": "B8mkGoFnOpVH"
   },
   "source": [
    "The last thing we'll be adding to our toolbox is what we call a **scheduler**. The idea for this is quite simple. As a neural network reaches convergence, our updates need to be slower and slower in order to prevent our model from overshooting. At the same time, if performance stagnates, this usually means the model has encountered a local minima, and a change in learning rate is needed to get out of it.\n",
    "\n",
    "Schedulers are used to perform these tasks. Let's import PyTorch's scheduler submodule."
   ]
  },
  {
   "cell_type": "code",
   "execution_count": null,
   "metadata": {
    "colab": {},
    "colab_type": "code",
    "id": "tAgx30qUD9QK"
   },
   "outputs": [],
   "source": [
    "import torch.optim.lr_scheduler as lr_scheduler"
   ]
  },
  {
   "cell_type": "markdown",
   "metadata": {
    "colab_type": "text",
    "id": "cVP5piQbPZmG"
   },
   "source": [
    "Let's instantiate another learning setup."
   ]
  },
  {
   "cell_type": "code",
   "execution_count": null,
   "metadata": {
    "colab": {},
    "colab_type": "code",
    "id": "d1ueZXc-PYff"
   },
   "outputs": [],
   "source": [
    "model = MLPClassifier(input_dim=784, hidden_dim=1024, output_dim=10, \n",
    "                      n_layers=2, activation='relu', dropout=0.5).to(device)\n",
    "criterion = nn.CrossEntropyLoss()\n",
    "optimizer = optim.Adam(model.parameters(), lr=3e-4)"
   ]
  },
  {
   "cell_type": "markdown",
   "metadata": {
    "colab_type": "text",
    "id": "56-5WygwPY1b"
   },
   "source": [
    "Let's use a decay scheduler for our learning rate. Cosine Annealing is one popular scheduling method. Let's use it.\n",
    "\n",
    "We'll set the max number of iterations, as well as the lower-bound of the learning rate."
   ]
  },
  {
   "cell_type": "code",
   "execution_count": null,
   "metadata": {
    "colab": {},
    "colab_type": "code",
    "id": "FSFk5-RGPNsS"
   },
   "outputs": [],
   "source": [
    "epochs = 10\n",
    "iters = epochs * len(train_loader)\n",
    "scheduler = lr_scheduler.CosineAnnealingLR(optimizer, T_max=iters, eta_min=0)"
   ]
  },
  {
   "cell_type": "markdown",
   "metadata": {
    "colab_type": "text",
    "id": "mlrWeYPOQHsh"
   },
   "source": [
    "Using the scheduler itself will only add one more line to the training loop."
   ]
  },
  {
   "cell_type": "code",
   "execution_count": null,
   "metadata": {
    "colab": {
     "base_uri": "https://localhost:8080/"
    },
    "colab_type": "code",
    "id": "G9-1BuLuQDAh",
    "outputId": "a3b07d8b-d616-45e1-bb7d-779c5a2841df"
   },
   "outputs": [
    {
     "name": "stderr",
     "output_type": "stream",
     "text": [
      "100%|██████████| 1641/1641 [00:03<00:00, 423.04it/s]\n",
      "100%|██████████| 547/547 [00:00<00:00, 1173.41it/s]\n",
      "  3%|▎         | 43/1641 [00:00<00:03, 426.38it/s]"
     ]
    },
    {
     "name": "stdout",
     "output_type": "stream",
     "text": [
      "\n",
      "Epoch   1 | Train Loss 0.8899 | Test Loss 0.1743 | Train Acc 85.28% | Test Acc 95.06%\n"
     ]
    },
    {
     "name": "stderr",
     "output_type": "stream",
     "text": [
      "100%|██████████| 1641/1641 [00:03<00:00, 424.37it/s]\n",
      "100%|██████████| 547/547 [00:00<00:00, 1140.38it/s]\n",
      "  3%|▎         | 44/1641 [00:00<00:03, 439.39it/s]"
     ]
    },
    {
     "name": "stdout",
     "output_type": "stream",
     "text": [
      "\n",
      "Epoch   2 | Train Loss 0.2991 | Test Loss 0.1449 | Train Acc 91.89% | Test Acc 95.69%\n"
     ]
    },
    {
     "name": "stderr",
     "output_type": "stream",
     "text": [
      "100%|██████████| 1641/1641 [00:03<00:00, 431.13it/s]\n",
      "100%|██████████| 547/547 [00:00<00:00, 1193.95it/s]\n",
      "  3%|▎         | 45/1641 [00:00<00:03, 446.43it/s]"
     ]
    },
    {
     "name": "stdout",
     "output_type": "stream",
     "text": [
      "\n",
      "Epoch   3 | Train Loss 0.2446 | Test Loss 0.1293 | Train Acc 93.39% | Test Acc 96.13%\n"
     ]
    },
    {
     "name": "stderr",
     "output_type": "stream",
     "text": [
      "100%|██████████| 1641/1641 [00:03<00:00, 426.81it/s]\n",
      "100%|██████████| 547/547 [00:00<00:00, 1184.38it/s]\n",
      "  3%|▎         | 45/1641 [00:00<00:03, 443.02it/s]"
     ]
    },
    {
     "name": "stdout",
     "output_type": "stream",
     "text": [
      "\n",
      "Epoch   4 | Train Loss 0.2002 | Test Loss 0.1198 | Train Acc 94.45% | Test Acc 96.53%\n"
     ]
    },
    {
     "name": "stderr",
     "output_type": "stream",
     "text": [
      "100%|██████████| 1641/1641 [00:03<00:00, 432.06it/s]\n",
      "100%|██████████| 547/547 [00:00<00:00, 1205.41it/s]\n",
      "  3%|▎         | 45/1641 [00:00<00:03, 446.53it/s]"
     ]
    },
    {
     "name": "stdout",
     "output_type": "stream",
     "text": [
      "\n",
      "Epoch   5 | Train Loss 0.1609 | Test Loss 0.0987 | Train Acc 95.60% | Test Acc 97.07%\n"
     ]
    },
    {
     "name": "stderr",
     "output_type": "stream",
     "text": [
      "100%|██████████| 1641/1641 [00:03<00:00, 429.18it/s]\n",
      "100%|██████████| 547/547 [00:00<00:00, 1180.65it/s]\n",
      "  3%|▎         | 46/1641 [00:00<00:03, 457.06it/s]"
     ]
    },
    {
     "name": "stdout",
     "output_type": "stream",
     "text": [
      "\n",
      "Epoch   6 | Train Loss 0.1259 | Test Loss 0.0833 | Train Acc 96.45% | Test Acc 97.61%\n"
     ]
    },
    {
     "name": "stderr",
     "output_type": "stream",
     "text": [
      "100%|██████████| 1641/1641 [00:03<00:00, 430.55it/s]\n",
      "100%|██████████| 547/547 [00:00<00:00, 1177.86it/s]\n",
      "  3%|▎         | 43/1641 [00:00<00:03, 425.29it/s]"
     ]
    },
    {
     "name": "stdout",
     "output_type": "stream",
     "text": [
      "\n",
      "Epoch   7 | Train Loss 0.0959 | Test Loss 0.0774 | Train Acc 97.24% | Test Acc 97.88%\n"
     ]
    },
    {
     "name": "stderr",
     "output_type": "stream",
     "text": [
      "100%|██████████| 1641/1641 [00:03<00:00, 430.77it/s]\n",
      "100%|██████████| 547/547 [00:00<00:00, 1180.93it/s]\n",
      "  3%|▎         | 44/1641 [00:00<00:03, 437.38it/s]"
     ]
    },
    {
     "name": "stdout",
     "output_type": "stream",
     "text": [
      "\n",
      "Epoch   8 | Train Loss 0.0704 | Test Loss 0.0738 | Train Acc 97.84% | Test Acc 97.94%\n"
     ]
    },
    {
     "name": "stderr",
     "output_type": "stream",
     "text": [
      "100%|██████████| 1641/1641 [00:03<00:00, 430.12it/s]\n",
      "100%|██████████| 547/547 [00:00<00:00, 1181.93it/s]\n",
      "  3%|▎         | 44/1641 [00:00<00:03, 433.34it/s]"
     ]
    },
    {
     "name": "stdout",
     "output_type": "stream",
     "text": [
      "\n",
      "Epoch   9 | Train Loss 0.0588 | Test Loss 0.0725 | Train Acc 98.16% | Test Acc 98.02%\n"
     ]
    },
    {
     "name": "stderr",
     "output_type": "stream",
     "text": [
      "100%|██████████| 1641/1641 [00:03<00:00, 435.20it/s]\n",
      "100%|██████████| 547/547 [00:00<00:00, 1180.30it/s]"
     ]
    },
    {
     "name": "stdout",
     "output_type": "stream",
     "text": [
      "\n",
      "Epoch  10 | Train Loss 0.0554 | Test Loss 0.0712 | Train Acc 98.34% | Test Acc 98.04%\n"
     ]
    },
    {
     "name": "stderr",
     "output_type": "stream",
     "text": [
      "\n"
     ]
    }
   ],
   "source": [
    "learning_rates = []\n",
    "\n",
    "for e in range(1, epochs + 1):\n",
    "    train_loss, train_acc = 0, 0\n",
    "\n",
    "    model.train()\n",
    "    for x, y in tqdm(train_loader):\n",
    "        x, y = x.to(device), y.to(device)\n",
    "        out = model(x)\n",
    "        loss = criterion(out, y)\n",
    "\n",
    "        optimizer.zero_grad()\n",
    "        loss.backward()\n",
    "        optimizer.step()\n",
    "        scheduler.step()\n",
    "\n",
    "        learning_rates.append(optimizer.param_groups[0]['lr'])\n",
    "        train_loss += loss.item()\n",
    "        train_acc += accuracy(out, y)\n",
    "    train_loss /= len(train_loader)\n",
    "    train_acc /= len(train_loader)\n",
    "\n",
    "    model.eval()\n",
    "    test_loss, test_acc = 0, 0\n",
    "    for x, y in tqdm(test_loader):\n",
    "        x, y = x.to(device), y.to(device)\n",
    "        out = model(x)\n",
    "        loss = criterion(out, y)\n",
    "\n",
    "        test_loss += loss.item()\n",
    "        test_acc += accuracy(out, y)\n",
    "    test_loss /= len(test_loader)\n",
    "    test_acc /= len(test_loader)\n",
    "\n",
    "    print(\"\\nEpoch {:3d} | Train Loss {:.4f} | Test Loss {:.4f} | Train Acc {:.2f}% | Test Acc {:.2f}%\".format(e, train_loss, test_loss, train_acc * 100, test_acc * 100))"
   ]
  },
  {
   "cell_type": "markdown",
   "metadata": {
    "colab_type": "text",
    "id": "krtk6WQbQma-"
   },
   "source": [
    "We see improvements from our use of a scheduler!\n",
    "\n",
    "Let's plot the change in our learning rate."
   ]
  },
  {
   "cell_type": "code",
   "execution_count": null,
   "metadata": {
    "colab": {
     "base_uri": "https://localhost:8080/",
     "height": 282
    },
    "colab_type": "code",
    "id": "mnc3Fe0QQops",
    "outputId": "e25eb752-ca6d-4c0c-f838-dca549f60345"
   },
   "outputs": [
    {
     "data": {
      "text/plain": [
       "<matplotlib.axes._subplots.AxesSubplot at 0x7feea21bde10>"
      ]
     },
     "execution_count": 33,
     "metadata": {
      "tags": []
     },
     "output_type": "execute_result"
    },
    {
     "data": {
      "image/png": "[encoded data removed]",
      "text/plain": [
       "<Figure size 432x288 with 1 Axes>"
      ]
     },
     "metadata": {
      "needs_background": "light",
      "tags": []
     },
     "output_type": "display_data"
    }
   ],
   "source": [
    "import pandas as pd\n",
    "pd.DataFrame(data={'learning_rate': learning_rates}).plot.line()"
   ]
  },
  {
   "cell_type": "markdown",
   "metadata": {
    "colab_type": "text",
    "id": "iUHqtcwoQNWc"
   },
   "source": [
    "Learning rate schedulers make training more stable, they also improve performance on average. While the performance gains in this example may not be as big, the improvements become more apparent the harder the task (and dataset) is.\n",
    "\n",
    "More advanced schedulers will not be shown here as the setup is too simple to warrant their use. They will be discussed as the need arises."
   ]
  },
  {
   "cell_type": "markdown",
   "metadata": {
    "colab_type": "text",
    "id": "AoqKQO09SPXB"
   },
   "source": [
    "# Convergence"
   ]
  },
  {
   "cell_type": "markdown",
   "metadata": {
    "colab_type": "text",
    "id": "0gr8uq6cTL8O"
   },
   "source": [
    "How do I know if my model has converged? Well the only way to find out is to train one. Let's reinstantiate a model."
   ]
  },
  {
   "cell_type": "code",
   "execution_count": null,
   "metadata": {
    "colab": {},
    "colab_type": "code",
    "id": "OHhRuCIgQG4g"
   },
   "outputs": [],
   "source": [
    "model = MLPClassifier(input_dim=784, hidden_dim=1024, output_dim=10, \n",
    "                      n_layers=2, activation='relu', dropout=0.5).to(device)\n",
    "criterion = nn.CrossEntropyLoss()\n",
    "optimizer = optim.Adam(model.parameters(), lr=3e-4)\n",
    "\n",
    "epochs = 50\n",
    "iters = epochs * len(train_loader)\n",
    "scheduler = lr_scheduler.CosineAnnealingLR(optimizer, T_max=iters, eta_min=0)"
   ]
  },
  {
   "cell_type": "markdown",
   "metadata": {
    "colab_type": "text",
    "id": "JPmhRsJuTQpN"
   },
   "source": [
    "We'll be training this for *a lot* of epochs. We'll be taking note of the losses as we'll be plotting the loss curves later. This is the only way we can inspect if our model has converged."
   ]
  },
  {
   "cell_type": "code",
   "execution_count": null,
   "metadata": {
    "colab": {
     "base_uri": "https://localhost:8080/",
     "height": 1000
    },
    "colab_type": "code",
    "id": "QKIwKY4QSUtC",
    "outputId": "a4c2cf30-ca18-47fd-f314-f55cda02decb"
   },
   "outputs": [
    {
     "name": "stderr",
     "output_type": "stream",
     "text": [
      "100%|██████████| 1641/1641 [00:06<00:00, 259.91it/s]\n",
      "100%|██████████| 547/547 [00:00<00:00, 819.02it/s]\n",
      "  2%|▏         | 28/1641 [00:00<00:05, 274.48it/s]"
     ]
    },
    {
     "name": "stdout",
     "output_type": "stream",
     "text": [
      "\n",
      "Epoch   1 | Train Loss 0.9226 | Test Loss 0.1751 | Train Acc 85.32% | Test Acc 94.95%\n"
     ]
    },
    {
     "name": "stderr",
     "output_type": "stream",
     "text": [
      "100%|██████████| 1641/1641 [00:06<00:00, 259.66it/s]\n",
      "100%|██████████| 547/547 [00:00<00:00, 824.64it/s]\n",
      "  2%|▏         | 26/1641 [00:00<00:06, 258.90it/s]"
     ]
    },
    {
     "name": "stdout",
     "output_type": "stream",
     "text": [
      "\n",
      "Epoch   2 | Train Loss 0.3049 | Test Loss 0.1505 | Train Acc 91.86% | Test Acc 95.58%\n"
     ]
    },
    {
     "name": "stderr",
     "output_type": "stream",
     "text": [
      "100%|██████████| 1641/1641 [00:06<00:00, 259.42it/s]\n",
      "100%|██████████| 547/547 [00:00<00:00, 824.06it/s]\n",
      "  2%|▏         | 27/1641 [00:00<00:05, 269.50it/s]"
     ]
    },
    {
     "name": "stdout",
     "output_type": "stream",
     "text": [
      "\n",
      "Epoch   3 | Train Loss 0.2785 | Test Loss 0.1426 | Train Acc 92.65% | Test Acc 96.14%\n"
     ]
    },
    {
     "name": "stderr",
     "output_type": "stream",
     "text": [
      "100%|██████████| 1641/1641 [00:06<00:00, 258.33it/s]\n",
      "100%|██████████| 547/547 [00:00<00:00, 812.10it/s]\n",
      "  2%|▏         | 27/1641 [00:00<00:06, 268.92it/s]"
     ]
    },
    {
     "name": "stdout",
     "output_type": "stream",
     "text": [
      "\n",
      "Epoch   4 | Train Loss 0.2637 | Test Loss 0.1461 | Train Acc 93.31% | Test Acc 95.98%\n"
     ]
    },
    {
     "name": "stderr",
     "output_type": "stream",
     "text": [
      "100%|██████████| 1641/1641 [00:06<00:00, 257.34it/s]\n",
      "100%|██████████| 547/547 [00:00<00:00, 815.96it/s]\n",
      "  2%|▏         | 28/1641 [00:00<00:05, 273.07it/s]"
     ]
    },
    {
     "name": "stdout",
     "output_type": "stream",
     "text": [
      "\n",
      "Epoch   5 | Train Loss 0.2499 | Test Loss 0.1319 | Train Acc 93.79% | Test Acc 96.44%\n"
     ]
    },
    {
     "name": "stderr",
     "output_type": "stream",
     "text": [
      "100%|██████████| 1641/1641 [00:06<00:00, 257.28it/s]\n",
      "100%|██████████| 547/547 [00:00<00:00, 830.24it/s]\n",
      "  2%|▏         | 25/1641 [00:00<00:06, 247.64it/s]"
     ]
    },
    {
     "name": "stdout",
     "output_type": "stream",
     "text": [
      "\n",
      "Epoch   6 | Train Loss 0.2372 | Test Loss 0.1392 | Train Acc 94.16% | Test Acc 96.29%\n"
     ]
    },
    {
     "name": "stderr",
     "output_type": "stream",
     "text": [
      "100%|██████████| 1641/1641 [00:06<00:00, 258.11it/s]\n",
      "100%|██████████| 547/547 [00:00<00:00, 834.73it/s]\n",
      "  2%|▏         | 27/1641 [00:00<00:06, 263.49it/s]"
     ]
    },
    {
     "name": "stdout",
     "output_type": "stream",
     "text": [
      "\n",
      "Epoch   7 | Train Loss 0.2297 | Test Loss 0.1342 | Train Acc 94.50% | Test Acc 96.80%\n"
     ]
    },
    {
     "name": "stderr",
     "output_type": "stream",
     "text": [
      "100%|██████████| 1641/1641 [00:06<00:00, 255.19it/s]\n",
      "100%|██████████| 547/547 [00:00<00:00, 823.93it/s]\n",
      "  2%|▏         | 27/1641 [00:00<00:06, 264.33it/s]"
     ]
    },
    {
     "name": "stdout",
     "output_type": "stream",
     "text": [
      "\n",
      "Epoch   8 | Train Loss 0.2093 | Test Loss 0.1345 | Train Acc 94.96% | Test Acc 96.65%\n"
     ]
    },
    {
     "name": "stderr",
     "output_type": "stream",
     "text": [
      "100%|██████████| 1641/1641 [00:06<00:00, 257.69it/s]\n",
      "100%|██████████| 547/547 [00:00<00:00, 828.97it/s]\n",
      "  2%|▏         | 27/1641 [00:00<00:06, 265.12it/s]"
     ]
    },
    {
     "name": "stdout",
     "output_type": "stream",
     "text": [
      "\n",
      "Epoch   9 | Train Loss 0.2165 | Test Loss 0.1284 | Train Acc 95.02% | Test Acc 96.70%\n"
     ]
    },
    {
     "name": "stderr",
     "output_type": "stream",
     "text": [
      "100%|██████████| 1641/1641 [00:06<00:00, 259.66it/s]\n",
      "100%|██████████| 547/547 [00:00<00:00, 815.06it/s]\n",
      "  2%|▏         | 27/1641 [00:00<00:06, 262.78it/s]"
     ]
    },
    {
     "name": "stdout",
     "output_type": "stream",
     "text": [
      "\n",
      "Epoch  10 | Train Loss 0.2130 | Test Loss 0.1327 | Train Acc 95.15% | Test Acc 96.96%\n"
     ]
    },
    {
     "name": "stderr",
     "output_type": "stream",
     "text": [
      "100%|██████████| 1641/1641 [00:06<00:00, 257.23it/s]\n",
      "100%|██████████| 547/547 [00:00<00:00, 827.63it/s]\n",
      "  2%|▏         | 27/1641 [00:00<00:06, 266.52it/s]"
     ]
    },
    {
     "name": "stdout",
     "output_type": "stream",
     "text": [
      "\n",
      "Epoch  11 | Train Loss 0.1896 | Test Loss 0.1254 | Train Acc 95.58% | Test Acc 97.02%\n"
     ]
    },
    {
     "name": "stderr",
     "output_type": "stream",
     "text": [
      "100%|██████████| 1641/1641 [00:06<00:00, 259.28it/s]\n",
      "100%|██████████| 547/547 [00:00<00:00, 816.54it/s]\n",
      "  2%|▏         | 27/1641 [00:00<00:06, 262.83it/s]"
     ]
    },
    {
     "name": "stdout",
     "output_type": "stream",
     "text": [
      "\n",
      "Epoch  12 | Train Loss 0.1908 | Test Loss 0.1408 | Train Acc 95.65% | Test Acc 97.03%\n"
     ]
    },
    {
     "name": "stderr",
     "output_type": "stream",
     "text": [
      "100%|██████████| 1641/1641 [00:06<00:00, 258.94it/s]\n",
      "100%|██████████| 547/547 [00:00<00:00, 842.94it/s]\n",
      "  2%|▏         | 27/1641 [00:00<00:06, 263.85it/s]"
     ]
    },
    {
     "name": "stdout",
     "output_type": "stream",
     "text": [
      "\n",
      "Epoch  13 | Train Loss 0.1817 | Test Loss 0.1356 | Train Acc 95.82% | Test Acc 97.18%\n"
     ]
    },
    {
     "name": "stderr",
     "output_type": "stream",
     "text": [
      "100%|██████████| 1641/1641 [00:06<00:00, 257.15it/s]\n",
      "100%|██████████| 547/547 [00:00<00:00, 852.35it/s]\n",
      "  2%|▏         | 25/1641 [00:00<00:06, 248.20it/s]"
     ]
    },
    {
     "name": "stdout",
     "output_type": "stream",
     "text": [
      "\n",
      "Epoch  14 | Train Loss 0.1759 | Test Loss 0.1532 | Train Acc 95.98% | Test Acc 97.27%\n"
     ]
    },
    {
     "name": "stderr",
     "output_type": "stream",
     "text": [
      "100%|██████████| 1641/1641 [00:06<00:00, 256.15it/s]\n",
      "100%|██████████| 547/547 [00:00<00:00, 840.97it/s]\n",
      "  2%|▏         | 26/1641 [00:00<00:06, 251.44it/s]"
     ]
    },
    {
     "name": "stdout",
     "output_type": "stream",
     "text": [
      "\n",
      "Epoch  15 | Train Loss 0.1667 | Test Loss 0.1343 | Train Acc 96.21% | Test Acc 97.18%\n"
     ]
    },
    {
     "name": "stderr",
     "output_type": "stream",
     "text": [
      "100%|██████████| 1641/1641 [00:06<00:00, 257.83it/s]\n",
      "100%|██████████| 547/547 [00:00<00:00, 847.37it/s]\n",
      "  2%|▏         | 27/1641 [00:00<00:05, 269.08it/s]"
     ]
    },
    {
     "name": "stdout",
     "output_type": "stream",
     "text": [
      "\n",
      "Epoch  16 | Train Loss 0.1548 | Test Loss 0.1350 | Train Acc 96.33% | Test Acc 97.30%\n"
     ]
    },
    {
     "name": "stderr",
     "output_type": "stream",
     "text": [
      "100%|██████████| 1641/1641 [00:06<00:00, 258.04it/s]\n",
      "100%|██████████| 547/547 [00:00<00:00, 834.19it/s]\n",
      "  2%|▏         | 27/1641 [00:00<00:06, 265.72it/s]"
     ]
    },
    {
     "name": "stdout",
     "output_type": "stream",
     "text": [
      "\n",
      "Epoch  17 | Train Loss 0.1493 | Test Loss 0.1213 | Train Acc 96.51% | Test Acc 97.41%\n"
     ]
    },
    {
     "name": "stderr",
     "output_type": "stream",
     "text": [
      "100%|██████████| 1641/1641 [00:06<00:00, 256.84it/s]\n",
      "100%|██████████| 547/547 [00:00<00:00, 824.91it/s]\n",
      "  2%|▏         | 28/1641 [00:00<00:05, 271.49it/s]"
     ]
    },
    {
     "name": "stdout",
     "output_type": "stream",
     "text": [
      "\n",
      "Epoch  18 | Train Loss 0.1473 | Test Loss 0.1270 | Train Acc 96.66% | Test Acc 97.65%\n"
     ]
    },
    {
     "name": "stderr",
     "output_type": "stream",
     "text": [
      "100%|██████████| 1641/1641 [00:06<00:00, 259.09it/s]\n",
      "100%|██████████| 547/547 [00:00<00:00, 841.41it/s]\n",
      "  2%|▏         | 27/1641 [00:00<00:06, 266.38it/s]"
     ]
    },
    {
     "name": "stdout",
     "output_type": "stream",
     "text": [
      "\n",
      "Epoch  19 | Train Loss 0.1438 | Test Loss 0.1174 | Train Acc 96.88% | Test Acc 97.59%\n"
     ]
    },
    {
     "name": "stderr",
     "output_type": "stream",
     "text": [
      "100%|██████████| 1641/1641 [00:06<00:00, 257.54it/s]\n",
      "100%|██████████| 547/547 [00:00<00:00, 825.97it/s]\n",
      "  1%|▏         | 24/1641 [00:00<00:06, 237.00it/s]"
     ]
    },
    {
     "name": "stdout",
     "output_type": "stream",
     "text": [
      "\n",
      "Epoch  20 | Train Loss 0.1294 | Test Loss 0.1169 | Train Acc 97.10% | Test Acc 97.81%\n"
     ]
    },
    {
     "name": "stderr",
     "output_type": "stream",
     "text": [
      "100%|██████████| 1641/1641 [00:06<00:00, 257.47it/s]\n",
      "100%|██████████| 547/547 [00:00<00:00, 837.93it/s]\n",
      "  2%|▏         | 25/1641 [00:00<00:06, 248.66it/s]"
     ]
    },
    {
     "name": "stdout",
     "output_type": "stream",
     "text": [
      "\n",
      "Epoch  21 | Train Loss 0.1265 | Test Loss 0.1229 | Train Acc 97.18% | Test Acc 97.89%\n"
     ]
    },
    {
     "name": "stderr",
     "output_type": "stream",
     "text": [
      "100%|██████████| 1641/1641 [00:06<00:00, 258.75it/s]\n",
      "100%|██████████| 547/547 [00:00<00:00, 830.08it/s]\n",
      "  2%|▏         | 27/1641 [00:00<00:06, 264.12it/s]"
     ]
    },
    {
     "name": "stdout",
     "output_type": "stream",
     "text": [
      "\n",
      "Epoch  22 | Train Loss 0.1148 | Test Loss 0.1236 | Train Acc 97.41% | Test Acc 97.71%\n"
     ]
    },
    {
     "name": "stderr",
     "output_type": "stream",
     "text": [
      "100%|██████████| 1641/1641 [00:06<00:00, 258.74it/s]\n",
      "100%|██████████| 547/547 [00:00<00:00, 829.82it/s]\n",
      "  2%|▏         | 26/1641 [00:00<00:06, 256.65it/s]"
     ]
    },
    {
     "name": "stdout",
     "output_type": "stream",
     "text": [
      "\n",
      "Epoch  23 | Train Loss 0.1060 | Test Loss 0.1263 | Train Acc 97.60% | Test Acc 97.80%\n"
     ]
    },
    {
     "name": "stderr",
     "output_type": "stream",
     "text": [
      "100%|██████████| 1641/1641 [00:06<00:00, 257.01it/s]\n",
      "100%|██████████| 547/547 [00:00<00:00, 829.79it/s]\n",
      "  2%|▏         | 27/1641 [00:00<00:06, 267.52it/s]"
     ]
    },
    {
     "name": "stdout",
     "output_type": "stream",
     "text": [
      "\n",
      "Epoch  24 | Train Loss 0.1019 | Test Loss 0.1380 | Train Acc 97.61% | Test Acc 97.78%\n"
     ]
    },
    {
     "name": "stderr",
     "output_type": "stream",
     "text": [
      "100%|██████████| 1641/1641 [00:06<00:00, 258.63it/s]\n",
      "100%|██████████| 547/547 [00:00<00:00, 801.69it/s]\n",
      "  2%|▏         | 27/1641 [00:00<00:06, 266.66it/s]"
     ]
    },
    {
     "name": "stdout",
     "output_type": "stream",
     "text": [
      "\n",
      "Epoch  25 | Train Loss 0.1011 | Test Loss 0.1230 | Train Acc 97.71% | Test Acc 97.81%\n"
     ]
    },
    {
     "name": "stderr",
     "output_type": "stream",
     "text": [
      "100%|██████████| 1641/1641 [00:06<00:00, 259.51it/s]\n",
      "100%|██████████| 547/547 [00:00<00:00, 851.89it/s]\n",
      "  2%|▏         | 26/1641 [00:00<00:06, 254.37it/s]"
     ]
    },
    {
     "name": "stdout",
     "output_type": "stream",
     "text": [
      "\n",
      "Epoch  26 | Train Loss 0.0909 | Test Loss 0.1243 | Train Acc 97.92% | Test Acc 97.99%\n"
     ]
    },
    {
     "name": "stderr",
     "output_type": "stream",
     "text": [
      "100%|██████████| 1641/1641 [00:06<00:00, 258.64it/s]\n",
      "100%|██████████| 547/547 [00:00<00:00, 847.83it/s]\n",
      "  2%|▏         | 25/1641 [00:00<00:06, 242.02it/s]"
     ]
    },
    {
     "name": "stdout",
     "output_type": "stream",
     "text": [
      "\n",
      "Epoch  27 | Train Loss 0.0795 | Test Loss 0.1256 | Train Acc 98.10% | Test Acc 97.99%\n"
     ]
    },
    {
     "name": "stderr",
     "output_type": "stream",
     "text": [
      "100%|██████████| 1641/1641 [00:06<00:00, 259.45it/s]\n",
      "100%|██████████| 547/547 [00:00<00:00, 837.74it/s]\n",
      "  2%|▏         | 27/1641 [00:00<00:06, 264.95it/s]"
     ]
    },
    {
     "name": "stdout",
     "output_type": "stream",
     "text": [
      "\n",
      "Epoch  28 | Train Loss 0.0825 | Test Loss 0.1259 | Train Acc 98.11% | Test Acc 97.94%\n"
     ]
    },
    {
     "name": "stderr",
     "output_type": "stream",
     "text": [
      "100%|██████████| 1641/1641 [00:06<00:00, 257.41it/s]\n",
      "100%|██████████| 547/547 [00:00<00:00, 826.74it/s]\n",
      "  2%|▏         | 26/1641 [00:00<00:06, 258.68it/s]"
     ]
    },
    {
     "name": "stdout",
     "output_type": "stream",
     "text": [
      "\n",
      "Epoch  29 | Train Loss 0.0718 | Test Loss 0.1333 | Train Acc 98.24% | Test Acc 98.03%\n"
     ]
    },
    {
     "name": "stderr",
     "output_type": "stream",
     "text": [
      "100%|██████████| 1641/1641 [00:06<00:00, 257.16it/s]\n",
      "100%|██████████| 547/547 [00:00<00:00, 825.12it/s]\n",
      "  2%|▏         | 26/1641 [00:00<00:06, 258.49it/s]"
     ]
    },
    {
     "name": "stdout",
     "output_type": "stream",
     "text": [
      "\n",
      "Epoch  30 | Train Loss 0.0648 | Test Loss 0.1291 | Train Acc 98.43% | Test Acc 98.14%\n"
     ]
    },
    {
     "name": "stderr",
     "output_type": "stream",
     "text": [
      "100%|██████████| 1641/1641 [00:06<00:00, 257.57it/s]\n",
      "100%|██████████| 547/547 [00:00<00:00, 814.84it/s]\n",
      "  2%|▏         | 28/1641 [00:00<00:05, 273.55it/s]"
     ]
    },
    {
     "name": "stdout",
     "output_type": "stream",
     "text": [
      "\n",
      "Epoch  31 | Train Loss 0.0674 | Test Loss 0.1256 | Train Acc 98.34% | Test Acc 98.12%\n"
     ]
    },
    {
     "name": "stderr",
     "output_type": "stream",
     "text": [
      "100%|██████████| 1641/1641 [00:06<00:00, 258.69it/s]\n",
      "100%|██████████| 547/547 [00:00<00:00, 782.98it/s]\n",
      "  2%|▏         | 26/1641 [00:00<00:06, 252.48it/s]"
     ]
    },
    {
     "name": "stdout",
     "output_type": "stream",
     "text": [
      "\n",
      "Epoch  32 | Train Loss 0.0587 | Test Loss 0.1397 | Train Acc 98.53% | Test Acc 98.15%\n"
     ]
    },
    {
     "name": "stderr",
     "output_type": "stream",
     "text": [
      "100%|██████████| 1641/1641 [00:06<00:00, 256.49it/s]\n",
      "100%|██████████| 547/547 [00:00<00:00, 833.44it/s]\n",
      "  2%|▏         | 26/1641 [00:00<00:06, 256.66it/s]"
     ]
    },
    {
     "name": "stdout",
     "output_type": "stream",
     "text": [
      "\n",
      "Epoch  33 | Train Loss 0.0527 | Test Loss 0.1373 | Train Acc 98.76% | Test Acc 98.19%\n"
     ]
    },
    {
     "name": "stderr",
     "output_type": "stream",
     "text": [
      "100%|██████████| 1641/1641 [00:06<00:00, 259.53it/s]\n",
      "100%|██████████| 547/547 [00:00<00:00, 846.26it/s]\n",
      "  2%|▏         | 27/1641 [00:00<00:06, 264.71it/s]"
     ]
    },
    {
     "name": "stdout",
     "output_type": "stream",
     "text": [
      "\n",
      "Epoch  34 | Train Loss 0.0488 | Test Loss 0.1459 | Train Acc 98.82% | Test Acc 98.18%\n"
     ]
    },
    {
     "name": "stderr",
     "output_type": "stream",
     "text": [
      "100%|██████████| 1641/1641 [00:06<00:00, 257.88it/s]\n",
      "100%|██████████| 547/547 [00:00<00:00, 813.76it/s]\n",
      "  2%|▏         | 26/1641 [00:00<00:06, 258.45it/s]"
     ]
    },
    {
     "name": "stdout",
     "output_type": "stream",
     "text": [
      "\n",
      "Epoch  35 | Train Loss 0.0452 | Test Loss 0.1435 | Train Acc 98.87% | Test Acc 98.26%\n"
     ]
    },
    {
     "name": "stderr",
     "output_type": "stream",
     "text": [
      "100%|██████████| 1641/1641 [00:06<00:00, 258.95it/s]\n",
      "100%|██████████| 547/547 [00:00<00:00, 819.46it/s]\n",
      "  2%|▏         | 28/1641 [00:00<00:05, 276.73it/s]"
     ]
    },
    {
     "name": "stdout",
     "output_type": "stream",
     "text": [
      "\n",
      "Epoch  36 | Train Loss 0.0482 | Test Loss 0.1359 | Train Acc 98.91% | Test Acc 98.22%\n"
     ]
    },
    {
     "name": "stderr",
     "output_type": "stream",
     "text": [
      "100%|██████████| 1641/1641 [00:06<00:00, 258.87it/s]\n",
      "100%|██████████| 547/547 [00:00<00:00, 829.45it/s]\n",
      "  2%|▏         | 28/1641 [00:00<00:05, 272.95it/s]"
     ]
    },
    {
     "name": "stdout",
     "output_type": "stream",
     "text": [
      "\n",
      "Epoch  37 | Train Loss 0.0418 | Test Loss 0.1452 | Train Acc 98.95% | Test Acc 98.23%\n"
     ]
    },
    {
     "name": "stderr",
     "output_type": "stream",
     "text": [
      "100%|██████████| 1641/1641 [00:06<00:00, 257.17it/s]\n",
      "100%|██████████| 547/547 [00:00<00:00, 825.85it/s]\n",
      "  2%|▏         | 27/1641 [00:00<00:06, 267.95it/s]"
     ]
    },
    {
     "name": "stdout",
     "output_type": "stream",
     "text": [
      "\n",
      "Epoch  38 | Train Loss 0.0384 | Test Loss 0.1486 | Train Acc 99.04% | Test Acc 98.27%\n"
     ]
    },
    {
     "name": "stderr",
     "output_type": "stream",
     "text": [
      "100%|██████████| 1641/1641 [00:06<00:00, 257.87it/s]\n",
      "100%|██████████| 547/547 [00:00<00:00, 798.84it/s]\n",
      "  2%|▏         | 27/1641 [00:00<00:06, 264.80it/s]"
     ]
    },
    {
     "name": "stdout",
     "output_type": "stream",
     "text": [
      "\n",
      "Epoch  39 | Train Loss 0.0339 | Test Loss 0.1543 | Train Acc 99.15% | Test Acc 98.30%\n"
     ]
    },
    {
     "name": "stderr",
     "output_type": "stream",
     "text": [
      "100%|██████████| 1641/1641 [00:06<00:00, 257.75it/s]\n",
      "100%|██████████| 547/547 [00:00<00:00, 837.18it/s]\n",
      "  2%|▏         | 27/1641 [00:00<00:06, 264.62it/s]"
     ]
    },
    {
     "name": "stdout",
     "output_type": "stream",
     "text": [
      "\n",
      "Epoch  40 | Train Loss 0.0357 | Test Loss 0.1545 | Train Acc 99.09% | Test Acc 98.34%\n"
     ]
    },
    {
     "name": "stderr",
     "output_type": "stream",
     "text": [
      "100%|██████████| 1641/1641 [00:06<00:00, 253.97it/s]\n",
      "100%|██████████| 547/547 [00:00<00:00, 833.81it/s]\n",
      "  2%|▏         | 27/1641 [00:00<00:06, 265.16it/s]"
     ]
    },
    {
     "name": "stdout",
     "output_type": "stream",
     "text": [
      "\n",
      "Epoch  41 | Train Loss 0.0333 | Test Loss 0.1481 | Train Acc 99.13% | Test Acc 98.42%\n"
     ]
    },
    {
     "name": "stderr",
     "output_type": "stream",
     "text": [
      "100%|██████████| 1641/1641 [00:06<00:00, 253.28it/s]\n",
      "100%|██████████| 547/547 [00:00<00:00, 853.99it/s]\n",
      "  2%|▏         | 28/1641 [00:00<00:05, 270.75it/s]"
     ]
    },
    {
     "name": "stdout",
     "output_type": "stream",
     "text": [
      "\n",
      "Epoch  42 | Train Loss 0.0295 | Test Loss 0.1526 | Train Acc 99.22% | Test Acc 98.39%\n"
     ]
    },
    {
     "name": "stderr",
     "output_type": "stream",
     "text": [
      "100%|██████████| 1641/1641 [00:06<00:00, 258.29it/s]\n",
      "100%|██████████| 547/547 [00:00<00:00, 848.72it/s]\n",
      "  2%|▏         | 25/1641 [00:00<00:06, 248.65it/s]"
     ]
    },
    {
     "name": "stdout",
     "output_type": "stream",
     "text": [
      "\n",
      "Epoch  43 | Train Loss 0.0307 | Test Loss 0.1543 | Train Acc 99.27% | Test Acc 98.32%\n"
     ]
    },
    {
     "name": "stderr",
     "output_type": "stream",
     "text": [
      "100%|██████████| 1641/1641 [00:06<00:00, 259.43it/s]\n",
      "100%|██████████| 547/547 [00:00<00:00, 823.31it/s]\n",
      "  2%|▏         | 26/1641 [00:00<00:06, 248.66it/s]"
     ]
    },
    {
     "name": "stdout",
     "output_type": "stream",
     "text": [
      "\n",
      "Epoch  44 | Train Loss 0.0276 | Test Loss 0.1562 | Train Acc 99.29% | Test Acc 98.42%\n"
     ]
    },
    {
     "name": "stderr",
     "output_type": "stream",
     "text": [
      "100%|██████████| 1641/1641 [00:06<00:00, 258.86it/s]\n",
      "100%|██████████| 547/547 [00:00<00:00, 837.17it/s]\n",
      "  2%|▏         | 27/1641 [00:00<00:06, 261.71it/s]"
     ]
    },
    {
     "name": "stdout",
     "output_type": "stream",
     "text": [
      "\n",
      "Epoch  45 | Train Loss 0.0248 | Test Loss 0.1569 | Train Acc 99.32% | Test Acc 98.38%\n"
     ]
    },
    {
     "name": "stderr",
     "output_type": "stream",
     "text": [
      "100%|██████████| 1641/1641 [00:06<00:00, 258.04it/s]\n",
      "100%|██████████| 547/547 [00:00<00:00, 816.81it/s]\n",
      "  2%|▏         | 26/1641 [00:00<00:06, 252.16it/s]"
     ]
    },
    {
     "name": "stdout",
     "output_type": "stream",
     "text": [
      "\n",
      "Epoch  46 | Train Loss 0.0255 | Test Loss 0.1574 | Train Acc 99.33% | Test Acc 98.39%\n"
     ]
    },
    {
     "name": "stderr",
     "output_type": "stream",
     "text": [
      "100%|██████████| 1641/1641 [00:06<00:00, 256.99it/s]\n",
      "100%|██████████| 547/547 [00:00<00:00, 824.77it/s]\n",
      "  2%|▏         | 27/1641 [00:00<00:06, 268.48it/s]"
     ]
    },
    {
     "name": "stdout",
     "output_type": "stream",
     "text": [
      "\n",
      "Epoch  47 | Train Loss 0.0261 | Test Loss 0.1573 | Train Acc 99.30% | Test Acc 98.42%\n"
     ]
    },
    {
     "name": "stderr",
     "output_type": "stream",
     "text": [
      "100%|██████████| 1641/1641 [00:06<00:00, 257.56it/s]\n",
      "100%|██████████| 547/547 [00:00<00:00, 829.38it/s]\n",
      "  2%|▏         | 27/1641 [00:00<00:06, 267.52it/s]"
     ]
    },
    {
     "name": "stdout",
     "output_type": "stream",
     "text": [
      "\n",
      "Epoch  48 | Train Loss 0.0221 | Test Loss 0.1562 | Train Acc 99.38% | Test Acc 98.44%\n"
     ]
    },
    {
     "name": "stderr",
     "output_type": "stream",
     "text": [
      "100%|██████████| 1641/1641 [00:06<00:00, 258.55it/s]\n",
      "100%|██████████| 547/547 [00:00<00:00, 856.57it/s]\n",
      "  2%|▏         | 28/1641 [00:00<00:05, 272.24it/s]"
     ]
    },
    {
     "name": "stdout",
     "output_type": "stream",
     "text": [
      "\n",
      "Epoch  49 | Train Loss 0.0246 | Test Loss 0.1564 | Train Acc 99.34% | Test Acc 98.44%\n"
     ]
    },
    {
     "name": "stderr",
     "output_type": "stream",
     "text": [
      "100%|██████████| 1641/1641 [00:06<00:00, 259.96it/s]\n",
      "100%|██████████| 547/547 [00:00<00:00, 824.90it/s]"
     ]
    },
    {
     "name": "stdout",
     "output_type": "stream",
     "text": [
      "\n",
      "Epoch  50 | Train Loss 0.0265 | Test Loss 0.1564 | Train Acc 99.37% | Test Acc 98.44%\n"
     ]
    },
    {
     "name": "stderr",
     "output_type": "stream",
     "text": [
      "\n"
     ]
    }
   ],
   "source": [
    "train_losses = []\n",
    "test_losses = []\n",
    "\n",
    "for e in range(1, epochs + 1):\n",
    "    train_loss, train_acc = 0, 0\n",
    "\n",
    "    model.train()\n",
    "    for x, y in tqdm(train_loader):\n",
    "        x, y = x.to(device), y.to(device)\n",
    "        out = model(x)\n",
    "        loss = criterion(out, y)\n",
    "\n",
    "        optimizer.zero_grad()\n",
    "        loss.backward()\n",
    "        optimizer.step()\n",
    "        scheduler.step()\n",
    "\n",
    "        train_loss += loss.item()\n",
    "        train_acc += accuracy(out, y)\n",
    "    train_loss /= len(train_loader)\n",
    "    train_acc /= len(train_loader)\n",
    "\n",
    "    model.eval()\n",
    "    test_loss, test_acc = 0, 0\n",
    "    for x, y in tqdm(test_loader):\n",
    "        x, y = x.to(device), y.to(device)\n",
    "        out = model(x)\n",
    "        loss = criterion(out, y)\n",
    "\n",
    "        test_loss += loss.item()\n",
    "        test_acc += accuracy(out, y)\n",
    "    test_loss /= len(test_loader)\n",
    "    test_acc /= len(test_loader)\n",
    "\n",
    "    train_losses.append(train_loss)\n",
    "    test_losses.append(test_loss)\n",
    "\n",
    "    print(\"\\nEpoch {:3d} | Train Loss {:.4f} | Test Loss {:.4f} | Train Acc {:.2f}% | Test Acc {:.2f}%\".format(e, train_loss, test_loss, train_acc * 100, test_acc * 100))"
   ]
  },
  {
   "cell_type": "markdown",
   "metadata": {
    "colab_type": "text",
    "id": "Roho2Y7lUK_b"
   },
   "source": [
    "Let's plot."
   ]
  },
  {
   "cell_type": "code",
   "execution_count": null,
   "metadata": {
    "colab": {
     "base_uri": "https://localhost:8080/",
     "height": 282
    },
    "colab_type": "code",
    "id": "lEb6FDT1Sn9y",
    "outputId": "8a33e80b-a3f1-4dfc-f0ca-c3647e7f1f0c"
   },
   "outputs": [
    {
     "data": {
      "text/plain": [
       "<matplotlib.axes._subplots.AxesSubplot at 0x7feea1ceb9e8>"
      ]
     },
     "execution_count": 38,
     "metadata": {
      "tags": []
     },
     "output_type": "execute_result"
    },
    {
     "data": {
      "image/png": "[encoded data removed]",
      "text/plain": [
       "<Figure size 432x288 with 1 Axes>"
      ]
     },
     "metadata": {
      "needs_background": "light",
      "tags": []
     },
     "output_type": "display_data"
    }
   ],
   "source": [
    "pd.DataFrame(data={'train_loss': train_losses, 'test_loss': test_losses}).plot.line()"
   ]
  },
  {
   "cell_type": "markdown",
   "metadata": {
    "colab_type": "text",
    "id": "4q_LIg11UL3b"
   },
   "source": [
    "Once we see that the testing loss is stable and the training loss has stopped going down, we can say that the model has converged."
   ]
  },
  {
   "cell_type": "code",
   "execution_count": null,
   "metadata": {
    "colab": {},
    "colab_type": "code",
    "id": "e12acJT-UIYb"
   },
   "outputs": [],
   "source": []
  }
 ],
 "metadata": {
  "accelerator": "GPU",
  "colab": {
   "collapsed_sections": [
    "4wMcCWb88G2j",
    "I8MZo2dUhCm6",
    "xFV8za0PjVyF",
    "8v7z5of-oPy1",
    "fMMXmjQTtQWG",
    "I-pslIaWz4PC",
    "wSZN1E5Q9QFu",
    "xoEuhD2i79lV",
    "ZPfBtoRHOix-",
    "AoqKQO09SPXB"
   ],
   "name": "06 - Optimizers, Activation Functions, Regularization, and LR Schedulers",
   "provenance": []
  },
  "kernelspec": {
   "display_name": "Python 3",
   "language": "python",
   "name": "python3"
  },
  "language_info": {
   "codemirror_mode": {
    "name": "ipython",
    "version": 3
   },
   "file_extension": ".py",
   "mimetype": "text/x-python",
   "name": "python",
   "nbconvert_exporter": "python",
   "pygments_lexer": "ipython3",
   "version": "3.8.5"
  }
 },
 "nbformat": 4,
 "nbformat_minor": 4
}
